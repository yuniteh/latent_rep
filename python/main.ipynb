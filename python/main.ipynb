{
 "cells": [
  {
   "cell_type": "code",
   "execution_count": 1,
   "metadata": {},
   "outputs": [
    {
     "name": "stderr",
     "output_type": "stream",
     "text": [
      "Using TensorFlow backend.\n"
     ]
    },
    {
     "name": "stdout",
     "output_type": "stream",
     "text": [
      "Num GPUs Available:  1\n"
     ]
    }
   ],
   "source": [
    "%load_ext autoreload\n",
    "%autoreload 2\n",
    "\n",
    "import numpy as np\n",
    "import pickle\n",
    "\n",
    "from gpu import set_gpu\n",
    "import copy as cp\n",
    "from sklearn.utils import shuffle\n",
    "\n",
    "import tensorflow as tf\n",
    "from sklearn.preprocessing import MinMaxScaler\n",
    "from DL_utils import MLP, MLPbeta, CNN, eval_nn, get_train, get_test\n",
    "import session_new as session\n",
    "\n",
    "import process_data as prd\n",
    "from lda import train_lda, predict, eval_lda, eval_lda_ch\n",
    "\n",
    "set_gpu()"
   ]
  },
  {
   "cell_type": "code",
   "execution_count": 33,
   "metadata": {},
   "outputs": [],
   "source": [
    "sub_type = 'AB'\n",
    "with open('train_data_raw_'  + sub_type + '.p', 'rb') as f:\n",
    "    raw, params,_,_ = pickle.load(f)\n",
    "\n",
    "n_subs = np.max(params[:,0])"
   ]
  },
  {
   "cell_type": "code",
   "execution_count": null,
   "metadata": {},
   "outputs": [],
   "source": [
    "train_sess = {'sub_type':sub_type,'train':'fullallmix4', 'train_grp':2, 'train_scale':5, 'cv_type':'all','scaler_load':False,'feat_type':'feat','epochs':30}\n",
    "test_sess = {'test_grp':4, 'test':'partposrealmixeven14'}\n",
    "sess = session.Sess(**train_sess)\n",
    "sess.update(**test_sess)\n",
    "n_subs = np.max(params[:,0])\n",
    "data_load = True\n",
    "test = True\n",
    "train = False\n",
    "\n",
    "if test and not data_load:\n",
    "    with open('real_noise/all_real_noise.p', 'rb') as f:\n",
    "        real_noise_temp, _ = pickle.load(f)\n",
    "\n",
    "clean_all = np.zeros((n_subs,8))\n",
    "noisy_all = np.zeros((n_subs,8))\n",
    "\n",
    "for sub in range(1,n_subs+1):\n",
    "    print('Running ' + str(sess.sub_type) + str(sub))\n",
    "    sess.sub = sub\n",
    "    tf.keras.backend.clear_session()\n",
    "\n",
    "    train_ind = (params[:,0] == sess.sub) & (params[:,3] == sess.train_grp)\n",
    "    test_ind = (params[:,0] == sess.sub) & (params[:,3] == sess.test_grp)\n",
    "    \n",
    "    if np.sum(train_ind) and np.sum(test_ind):\n",
    "        n_dof = np.max(params[train_ind,4])\n",
    "    \n",
    "        # Train NNs\n",
    "        mlp = MLP(n_class=n_dof)\n",
    "        mlp_beta = MLPbeta(n_class=n_dof)\n",
    "        cnn = CNN(n_class=n_dof)\n",
    "\n",
    "        optimizer = tf.keras.optimizers.Adam()\n",
    "        train_loss = tf.keras.metrics.Mean(name='train_loss')\n",
    "        train_accuracy = tf.keras.metrics.CategoricalAccuracy(name='train_accuracy')\n",
    "\n",
    "        if train:\n",
    "            if data_load:\n",
    "                try:\n",
    "                    with open('train/' + str(sess.sub_type) + str(sub) + '_' + str(sess.feat_type) + '.p', 'rb') as f:\n",
    "                        x_train_cnn, x_train_mlp, x_train_lda, x_train_aug, y_train, y_train_lda, sess.scaler = pickle.load(f)\n",
    "                except:\n",
    "                    print('no training data to load')\n",
    "                    data_load = False\n",
    "                \n",
    "                trainmlp = tf.data.Dataset.from_tensor_slices((x_train_mlp, y_train)).shuffle(x_train_mlp.shape[0],reshuffle_each_iteration=True).batch(128)\n",
    "                traincnn = tf.data.Dataset.from_tensor_slices((x_train_cnn, y_train)).shuffle(x_train_cnn.shape[0],reshuffle_each_iteration=True).batch(128)\n",
    "            \n",
    "            if not data_load:   \n",
    "                trainmlp, _, traincnn, _, y_train, _, x_train_mlp, x_train_cnn, x_train_lda, y_train_lda, x_train_aug = prd.prep_train_data(sess,raw,params)\n",
    "                with open('train/' + str(sess.sub_type) + str(sub) + '_' + str(sess.feat_type) + '.p', 'wb') as f:\n",
    "                    pickle.dump([x_train_cnn, x_train_mlp, x_train_lda, x_train_aug, y_train, y_train_lda, sess.scaler], f)\n",
    "\n",
    "            # Train neural networks\n",
    "            models = [mlp, mlp_beta, cnn]\n",
    "            for model in models:\n",
    "                if isinstance(model,CNN):\n",
    "                    ds = traincnn\n",
    "                else:\n",
    "                    ds = trainmlp\n",
    "                \n",
    "                train_mod = get_train()\n",
    "\n",
    "                for epoch in range(sess.epochs):\n",
    "                    # Reset the metrics at the start of the next epoch\n",
    "                    train_loss.reset_states()\n",
    "                    train_accuracy.reset_states()\n",
    "\n",
    "                    for x, y in ds:\n",
    "                        train_mod(x, y, model, optimizer, train_loss, train_accuracy)\n",
    "\n",
    "                    if epoch == 0 or epoch == sess.epochs-1:\n",
    "                        print(\n",
    "                            f'Epoch {epoch + 1}, '\n",
    "                            f'Loss: {train_loss.result():.2f}, '\n",
    "                            f'Accuracy: {train_accuracy.result() * 100:.2f} '\n",
    "                        )\n",
    "                del train_mod\n",
    "        \n",
    "            # Train aligned LDA\n",
    "            y_train_aug = np.argmax(y_train, axis=1)[...,np.newaxis]\n",
    "\n",
    "            mlp_enc = mlp.get_layer(name='enc')\n",
    "            w_mlp, c_mlp,_, _, _ = train_lda(mlp_enc(x_train_mlp).numpy(),y_train_aug)\n",
    "\n",
    "            mlpbeta_enc = mlp_beta.get_layer(name='enc')\n",
    "            w_mlpbeta, c_mlpbeta,_, _, _ = train_lda(mlpbeta_enc(x_train_mlp).numpy(),y_train_aug)\n",
    "            \n",
    "            cnn_enc = cnn.get_layer(name='enc')\n",
    "            temp = cnn_enc(x_train_cnn[:x_train_cnn.shape[0]//2,...]).numpy()\n",
    "            temp2 = np.vstack((temp,cnn_enc(x_train_cnn[x_train_cnn.shape[0]//2:,...]).numpy()))\n",
    "            w_cnn, c_cnn,_, _, _ = train_lda(temp2,y_train_aug)\n",
    "\n",
    "            # Train LDA\n",
    "            w,c, _, _, _ = train_lda(x_train_lda,y_train_lda)\n",
    "            w_aug,c_aug, _, _, _ = train_lda(x_train_aug,y_train_aug)\n",
    "\n",
    "            mlp_w = mlp.get_weights()\n",
    "            mlpb_w = mlp_beta.get_weights()\n",
    "            cnn_w = cnn.get_weights()\n",
    "\n",
    "            with open('models/' + str(sess.sub_type) + str(sub) + '_' + str(sess.feat_type) + '.p','wb') as f:\n",
    "                pickle.dump([mlp_w, mlpb_w, cnn_w, w_mlp, c_mlp, w_mlpbeta, c_mlpbeta, w_cnn, c_cnn, w, c, w_aug, c_aug, sess.emg_scale, sess.scaler],f)\n",
    "        else:\n",
    "            with open('models/' + str(sess.sub_type) + str(sub) + '_' + str(sess.feat_type) + '.p','rb') as f:\n",
    "                mlp_w, mlpb_w, cnn_w, w_mlp, c_mlp, w_mlpbeta, c_mlpbeta, w_cnn, c_cnn, w, c, w_aug, c_aug, sess.emg_scale, sess.scaler = pickle.load(f)\n",
    "\n",
    "            mlp_enc = mlp.get_layer(name='enc')\n",
    "            mlpbeta_enc = mlp_beta.get_layer(name='enc')\n",
    "            cnn_enc = cnn.get_layer(name='enc')\n",
    "\n",
    "        if test:\n",
    "            # Load test data\n",
    "            if data_load:\n",
    "                try:\n",
    "                    with open('test/' + str(sess.sub_type) + str(sess.sub) + '_' + str(sess.feat_type) + '_' + str(sess.test) + '.p', 'rb') as f:\n",
    "                        x_test_lda, y_test, clean_size = pickle.load(f)\n",
    "                except:\n",
    "                    print('no testing data to load')\n",
    "                    data_load = False\n",
    "\n",
    "                x_temp = np.transpose(x_test_lda.reshape((x_test_lda.shape[0],int(x_test_lda.shape[1]/6),-1)),(0,2,1))[...,np.newaxis]\n",
    "                x_test_cnn = sess.scaler.transform(x_temp.reshape(x_temp.shape[0]*x_temp.shape[1],-1)).reshape(x_temp.shape)\n",
    "                x_test_cnn = x_test_cnn.astype('float32')\n",
    "\n",
    "                # Reshape for nonconvolutional SAE\n",
    "                x_test_mlp = x_test_cnn.reshape(x_test_cnn.shape[0],-1)\n",
    "            if not data_load:\n",
    "                x_test_cnn, x_test_mlp, x_test_lda, y_test, clean_size = prd.prep_test_data(sess, raw, params, real_noise_temp)\n",
    "\n",
    "                with open('test/' + str(sess.sub_type) + str(sess.sub) + '_' + str(sess.feat_type) + '_' + str(sess.test) + '.p', 'wb') as f:\n",
    "                    pickle.dump([x_test_lda, y_test, clean_size],f)\n",
    "\n",
    "            # workaround\n",
    "            mlp(x_test_mlp[:2,...])\n",
    "            mlp_beta(x_test_mlp[:2,...])\n",
    "            cnn(x_test_cnn[:2,...])\n",
    "\n",
    "            mlp.set_weights(mlp_w)\n",
    "            mlp_beta.set_weights(mlpb_w)\n",
    "            cnn.set_weights(cnn_w)\n",
    "        \n",
    "            # Test\n",
    "            mlp_test_aligned = mlp_enc(x_test_mlp).numpy()\n",
    "            mlpbeta_test_aligned = mlpbeta_enc(x_test_mlp).numpy()\n",
    "            cnn_test_aligned = cnn_enc(x_test_cnn).numpy()\n",
    "            y_test_aligned = np.argmax(y_test, axis=1)[...,np.newaxis]\n",
    "\n",
    "            # LDA\n",
    "            clean_lda, noisy_lda = eval_lda(w, c, x_test_lda, y_test_aligned, clean_size)\n",
    "            # AUG-LDA\n",
    "            clean_aug, noisy_aug = eval_lda(w_aug, c_aug, x_test_lda, y_test_aligned, clean_size)\n",
    "            # MLP\n",
    "            clean_mlp, noisy_mlp = eval_nn(x_test_mlp, y_test,mlp,clean_size)\n",
    "            clean_mlplda, noisy_mlplda = eval_lda(w_mlp, c_mlp, mlp_test_aligned, y_test_aligned, clean_size)\n",
    "            # MLP Beta\n",
    "            clean_mlpb, noisy_mlpb = eval_nn(x_test_mlp, y_test,mlp_beta,clean_size)\n",
    "            clean_mlpblda, noisy_mlpblda = eval_lda(w_mlpbeta, c_mlpbeta, mlpbeta_test_aligned, y_test_aligned, clean_size)\n",
    "            # CNN\n",
    "            clean_cnn, noisy_cnn = eval_nn(x_test_cnn, y_test,cnn,clean_size)\n",
    "            clean_cnnlda, noisy_cnnlda = eval_lda(w_cnn, c_cnn, cnn_test_aligned, y_test_aligned, clean_size)\n",
    "\n",
    "            print( \n",
    "                f'LDA ---- '\n",
    "                f'Clean: {clean_lda * 100:.2f}, '\n",
    "                f'Noisy: {noisy_lda * 100:.2f}'\n",
    "                f'\\nAUG ---- '\n",
    "                f'Clean: {clean_aug * 100:.2f}, '\n",
    "                f'Noisy: {noisy_aug * 100:.2f}'\n",
    "                f'\\nMLP ---- '\n",
    "                f'Clean: {clean_mlp * 100:.2f}, '\n",
    "                f'Noisy: {noisy_mlp * 100:.2f}, '\n",
    "                f'LDA Clean: {clean_mlplda * 100:.2f}, '\n",
    "                f'LDA Noisy: {noisy_mlplda * 100:.2f}'\n",
    "                f'\\nMLPB ---- '\n",
    "                f'Clean: {clean_mlpb * 100:.2f}, '\n",
    "                f'Noisy: {noisy_mlpb * 100:.2f}, '\n",
    "                f'LDA Clean: {clean_mlpblda * 100:.2f}, '\n",
    "                f'LDA Noisy: {noisy_mlpblda * 100:.2f}'\n",
    "                f'\\nCNN ---- '\n",
    "                f'Clean: {clean_cnn * 100:.2f}, '\n",
    "                f'Noisy: {noisy_cnn * 100:.2f}, '\n",
    "                f'LDA Clean: {clean_cnnlda * 100:.2f}, '\n",
    "                f'LDA Noisy: {noisy_cnnlda * 100:.2f}'\n",
    "            )\n",
    "\n",
    "            clean_all[sub-1,:] = np.stack((clean_lda,clean_aug,clean_mlp,clean_mlplda,clean_mlpb,clean_mlpblda,clean_cnn,clean_cnnlda))\n",
    "            noisy_all[sub-1,:] = np.stack((noisy_lda,noisy_aug,noisy_mlp,noisy_mlplda,noisy_mlpb,noisy_mlpblda,noisy_cnn,noisy_cnnlda))\n",
    "    else:\n",
    "        print('no training or testing data')"
   ]
  },
  {
   "cell_type": "code",
   "execution_count": 35,
   "metadata": {},
   "outputs": [],
   "source": [
    "clean_mav = cp.deepcopy(clean_all)\n",
    "noisy_mav = cp.deepcopy(noisy_all)"
   ]
  },
  {
   "cell_type": "code",
   "execution_count": 37,
   "metadata": {},
   "outputs": [],
   "source": [
    "clean_mav[:,1] = clean_all[:,0]"
   ]
  },
  {
   "cell_type": "code",
   "execution_count": 103,
   "metadata": {},
   "outputs": [],
   "source": [
    "def dense(x_in, w, fxn = 'relu'):\n",
    "    out = (x_in @ w[0]) + w[1]\n",
    "    if fxn == 'relu':\n",
    "        out *= (out > 0)\n",
    "    elif fxn == 'softmax':\n",
    "        ax = np.argmax(out.shape)\n",
    "        out = np.exp(out) / np.sum(np.exp(out), axis=ax)\n",
    "    return out\n",
    "\n",
    "def bn(x_in, w):\n",
    "    out = ((w[0] * (x_in - w[2])) / np.sqrt(w[3] + 0.001)) + w[1]\n",
    "    return out"
   ]
  },
  {
   "cell_type": "code",
   "execution_count": 96,
   "metadata": {},
   "outputs": [],
   "source": [
    "test2 = mlp_enc.bn1(mlp_enc.dense1(x_test_mlp[[0],:]))"
   ]
  },
  {
   "cell_type": "code",
   "execution_count": 108,
   "metadata": {},
   "outputs": [],
   "source": [
    "arch = ['relu','bn','relu','bn','relu','bn','den','bn','softmax']"
   ]
  },
  {
   "cell_type": "code",
   "execution_count": 109,
   "metadata": {},
   "outputs": [],
   "source": [
    "w = mlp.get_weights()\n",
    "x = x_test_mlp[[0],:]\n",
    "i = 0 \n",
    "for l in arch:\n",
    "    if l == 'bn':\n",
    "        w_layer = w[i:i+4]\n",
    "        x = bn(x, w_layer)\n",
    "        i += 4\n",
    "    else:\n",
    "        w_layer = w[i:i+2]\n",
    "        x = dense(x, w_layer, fxn = l)\n",
    "        i += 2"
   ]
  },
  {
   "cell_type": "code",
   "execution_count": 107,
   "metadata": {},
   "outputs": [],
   "source": [
    "test = mlp(x_test_mlp[[0],:])"
   ]
  },
  {
   "cell_type": "code",
   "execution_count": 95,
   "metadata": {},
   "outputs": [],
   "source": [
    "den_w = mlp_enc.dense1.get_weights()\n",
    "bn_w = mlp_enc.bn1.get_weights()\n",
    "test = bn(dense(x_test_mlp[[0],:], den_w), bn_w)"
   ]
  },
  {
   "cell_type": "code",
   "execution_count": 111,
   "metadata": {},
   "outputs": [
    {
     "data": {
      "text/plain": [
       "0"
      ]
     },
     "execution_count": 111,
     "metadata": {},
     "output_type": "execute_result"
    }
   ],
   "source": [
    "np.argmax(test) - np.argmax(x)"
   ]
  },
  {
   "cell_type": "code",
   "execution_count": null,
   "metadata": {},
   "outputs": [],
   "source": []
  }
 ],
 "metadata": {
  "interpreter": {
   "hash": "1a3b9df806ffb9c99dfd499571232d2e3ccda8a03627b2b254cd16611a407c53"
  },
  "kernelspec": {
   "display_name": "Python 3.7.9 64-bit ('tf-2': conda)",
   "language": "python",
   "name": "python3"
  },
  "language_info": {
   "codemirror_mode": {
    "name": "ipython",
    "version": 3
   },
   "file_extension": ".py",
   "mimetype": "text/x-python",
   "name": "python",
   "nbconvert_exporter": "python",
   "pygments_lexer": "ipython3",
   "version": "3.7.9"
  },
  "orig_nbformat": 4
 },
 "nbformat": 4,
 "nbformat_minor": 2
}
