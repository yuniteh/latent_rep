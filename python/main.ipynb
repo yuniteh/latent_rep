{
 "cells": [
  {
   "cell_type": "code",
   "execution_count": 1,
   "metadata": {},
   "outputs": [
    {
     "name": "stderr",
     "output_type": "stream",
     "text": [
      "Using TensorFlow backend.\n"
     ]
    },
    {
     "name": "stdout",
     "output_type": "stream",
     "text": [
      "Num GPUs Available:  1\n"
     ]
    }
   ],
   "source": [
    "# %load_ext autoreload\n",
    "# %autoreload 2\n",
    "\n",
    "import numpy as np\n",
    "import pickle\n",
    "\n",
    "from gpu import set_gpu\n",
    "import os\n",
    "import copy as cp\n",
    "from sklearn.utils import shuffle\n",
    "\n",
    "import tensorflow as tf\n",
    "from sklearn.preprocessing import MinMaxScaler\n",
    "from DL_utils import MLP, MLPbeta, CNN, eval_nn, train_mlp, test_mlp, train_mlpbeta, test_mlpbeta, train_cnn, test_cnn\n",
    "import session_new as session\n",
    "\n",
    "import process_data as prd\n",
    "from lda import train_lda, predict, eval_lda, eval_lda_ch\n",
    "set_gpu()"
   ]
  },
  {
   "cell_type": "code",
   "execution_count": 2,
   "metadata": {},
   "outputs": [],
   "source": [
    "sub_type = 'AB'\n",
    "with open('train_data_raw_'  + sub_type + '.p', 'rb') as f:\n",
    "    raw, params,feat,feat_sq = pickle.load(f)"
   ]
  },
  {
   "cell_type": "code",
   "execution_count": 3,
   "metadata": {},
   "outputs": [
    {
     "name": "stdout",
     "output_type": "stream",
     "text": [
      "Loading training data: traindata_manual/AB2_traindata_2.p\n"
     ]
    }
   ],
   "source": [
    "sess_in = {'train':'fullallmix4', 'train_grp':2, 'train_scale':5, 'cv_type':'manual','scaler_load':False,'feat_type':'feat','sub':2}\n",
    "\n",
    "sess = session.Sess(**sess_in)\n",
    "\n",
    "ind = (params[:,0] == sess.sub) & (params[:,3] == sess.train_grp)\n",
    "if np.sum(ind):\n",
    "    trainmlp, validmlp, traincnn, validcnn, y_train_clean, y_valid_clean, x_train_noise_mlp, x_train_noise_cnn = prd.prep_train_data(sess,raw,params)"
   ]
  },
  {
   "cell_type": "code",
   "execution_count": 4,
   "metadata": {},
   "outputs": [],
   "source": [
    "mlp = MLP()\n",
    "mlp_beta = MLPbeta()\n",
    "cnn = CNN()\n",
    "\n",
    "loss_fn = tf.keras.losses.CategoricalCrossentropy(from_logits=True)\n",
    "optimizer = tf.keras.optimizers.Adam()\n",
    "\n",
    "train_loss = tf.keras.metrics.Mean(name='train_loss')\n",
    "train_accuracy = tf.keras.metrics.CategoricalAccuracy(name='train_accuracy')\n",
    "\n",
    "test_loss = tf.keras.metrics.Mean(name='test_loss')\n",
    "test_accuracy = tf.keras.metrics.CategoricalAccuracy(name='test_accuracy')"
   ]
  },
  {
   "cell_type": "code",
   "execution_count": 5,
   "metadata": {},
   "outputs": [
    {
     "name": "stdout",
     "output_type": "stream",
     "text": [
      "Training mlp\n",
      "Epoch 1, Loss: 1.9388959407806396, Accuracy: 17.408729553222656, Test Loss: 1.925368309020996, Test Accuracy: 22.69841194152832\n",
      "Epoch 2, Loss: 1.881583571434021, Accuracy: 25.71825408935547, Test Loss: 1.8604031801223755, Test Accuracy: 27.58730125427246\n",
      "Epoch 3, Loss: 1.8358728885650635, Accuracy: 30.809524536132812, Test Loss: 1.8282634019851685, Test Accuracy: 31.555553436279297\n",
      "Epoch 4, Loss: 1.807121992111206, Accuracy: 35.19047546386719, Test Loss: 1.8037445545196533, Test Accuracy: 35.80952453613281\n",
      "Epoch 5, Loss: 1.7826353311538696, Accuracy: 38.05158615112305, Test Loss: 1.7808690071105957, Test Accuracy: 38.269840240478516\n",
      "Epoch 6, Loss: 1.7650784254074097, Accuracy: 39.67856979370117, Test Loss: 1.770175814628601, Test Accuracy: 39.07936477661133\n",
      "Epoch 7, Loss: 1.7516915798187256, Accuracy: 41.130950927734375, Test Loss: 1.7649626731872559, Test Accuracy: 38.93650817871094\n",
      "Epoch 8, Loss: 1.7392101287841797, Accuracy: 42.52777862548828, Test Loss: 1.7578219175338745, Test Accuracy: 40.25396728515625\n",
      "Epoch 9, Loss: 1.7272281646728516, Accuracy: 43.57936477661133, Test Loss: 1.7477110624313354, Test Accuracy: 41.65079116821289\n",
      "Epoch 10, Loss: 1.7146339416503906, Accuracy: 45.05158615112305, Test Loss: 1.7299222946166992, Test Accuracy: 42.80952453613281\n",
      "Training mlpbeta\n",
      "Epoch 1, Loss: 1.8531394004821777, Accuracy: 29.063493728637695, Test Loss: 1.7519066333770752, Test Accuracy: 41.619049072265625\n",
      "Epoch 2, Loss: 1.7135200500488281, Accuracy: 45.337303161621094, Test Loss: 1.6942776441574097, Test Accuracy: 46.73015594482422\n",
      "Epoch 3, Loss: 1.6693406105041504, Accuracy: 49.7023811340332, Test Loss: 1.6718945503234863, Test Accuracy: 48.61904525756836\n",
      "Epoch 4, Loss: 1.638290524482727, Accuracy: 52.92063522338867, Test Loss: 1.635401964187622, Test Accuracy: 52.41270065307617\n",
      "Epoch 5, Loss: 1.6142686605453491, Accuracy: 55.37301254272461, Test Loss: 1.6207475662231445, Test Accuracy: 54.07936477661133\n",
      "Epoch 6, Loss: 1.5971994400024414, Accuracy: 57.0476188659668, Test Loss: 1.6064980030059814, Test Accuracy: 55.23809814453125\n",
      "Epoch 7, Loss: 1.5871483087539673, Accuracy: 57.916664123535156, Test Loss: 1.6125770807266235, Test Accuracy: 54.650794982910156\n",
      "Epoch 8, Loss: 1.572249174118042, Accuracy: 59.476192474365234, Test Loss: 1.6077200174331665, Test Accuracy: 55.253971099853516\n",
      "Epoch 9, Loss: 1.5688047409057617, Accuracy: 59.750003814697266, Test Loss: 1.6201008558273315, Test Accuracy: 53.85714340209961\n",
      "Epoch 10, Loss: 1.5619926452636719, Accuracy: 60.37301254272461, Test Loss: 1.608669400215149, Test Accuracy: 55.222225189208984\n",
      "Training cnn\n",
      "Epoch 1, Loss: 1.8687011003494263, Accuracy: 26.436508178710938, Test Loss: 1.8261631727218628, Test Accuracy: 32.41270065307617\n",
      "Epoch 2, Loss: 1.762607455253601, Accuracy: 39.56746292114258, Test Loss: 1.7864056825637817, Test Accuracy: 37.0\n",
      "Epoch 3, Loss: 1.7018417119979858, Accuracy: 45.72618865966797, Test Loss: 1.7252064943313599, Test Accuracy: 42.74603271484375\n",
      "Epoch 4, Loss: 1.6542609930038452, Accuracy: 50.892860412597656, Test Loss: 1.6768492460250854, Test Accuracy: 47.761905670166016\n",
      "Epoch 5, Loss: 1.617047667503357, Accuracy: 55.0555534362793, Test Loss: 1.6403650045394897, Test Accuracy: 51.634918212890625\n",
      "Epoch 6, Loss: 1.5847655534744263, Accuracy: 58.603172302246094, Test Loss: 1.6127277612686157, Test Accuracy: 54.492061614990234\n",
      "Epoch 7, Loss: 1.5600967407226562, Accuracy: 60.88095474243164, Test Loss: 1.5952242612838745, Test Accuracy: 56.71428298950195\n",
      "Epoch 8, Loss: 1.5382312536239624, Accuracy: 63.119049072265625, Test Loss: 1.5773924589157104, Test Accuracy: 58.20634841918945\n",
      "Epoch 9, Loss: 1.5207902193069458, Accuracy: 64.78174591064453, Test Loss: 1.5568770170211792, Test Accuracy: 60.269840240478516\n",
      "Epoch 10, Loss: 1.5040010213851929, Accuracy: 66.30158996582031, Test Loss: 1.5419403314590454, Test Accuracy: 62.03174591064453\n"
     ]
    }
   ],
   "source": [
    "EPOCHS = 10\n",
    "models = ['mlp','mlpbeta','cnn']\n",
    "\n",
    "for model in models:\n",
    "    print('Training ' + model)\n",
    "    for epoch in range(EPOCHS):\n",
    "        # Reset the metrics at the start of the next epoch\n",
    "        train_loss.reset_states()\n",
    "        train_accuracy.reset_states()\n",
    "        test_loss.reset_states()\n",
    "        test_accuracy.reset_states()\n",
    "\n",
    "        # Train MLP\n",
    "        if model == 'mlp':\n",
    "            for x, y in trainmlp:\n",
    "                train_mlp(x, y, mlp, loss_fn, optimizer, train_loss, train_accuracy)\n",
    "            for x_test, y_test in validmlp:\n",
    "                test_mlp(x_test, y_test, mlp, loss_fn, test_loss, test_accuracy)\n",
    "        # Train MLP Beta\n",
    "        elif model == 'mlpbeta':\n",
    "            for x, y in trainmlp:\n",
    "                train_mlpbeta(x, y, mlp_beta, loss_fn, optimizer, train_loss, train_accuracy)\n",
    "            for x_test, y_test in validmlp:\n",
    "                test_mlpbeta(x_test, y_test, mlp_beta, loss_fn, test_loss, test_accuracy)\n",
    "        # Train CNN\n",
    "        elif model == 'cnn':\n",
    "            for x, y in traincnn:\n",
    "                train_cnn(x, y, cnn, loss_fn, optimizer, train_loss, train_accuracy)\n",
    "            for x_test, y_test in validcnn:\n",
    "                test_cnn(x_test, y_test, cnn, loss_fn, test_loss, test_accuracy)\n",
    "\n",
    "        print(\n",
    "            f'Epoch {epoch + 1}, '\n",
    "            f'Loss: {train_loss.result()}, '\n",
    "            f'Accuracy: {train_accuracy.result() * 100}, '\n",
    "            f'Test Loss: {test_loss.result()}, '\n",
    "            f'Test Accuracy: {test_accuracy.result() * 100}'\n",
    "        )"
   ]
  },
  {
   "cell_type": "code",
   "execution_count": 6,
   "metadata": {},
   "outputs": [],
   "source": [
    "mlp_enc = mlp.get_layer(name='enc')\n",
    "mlpbeta_enc = mlp_beta.get_layer(name='enc')\n",
    "cnn_enc = cnn.get_layer(name='enc')\n",
    "\n",
    "mlp_aligned = mlp_enc(x_train_noise_mlp).numpy()\n",
    "mlp_beta_aligned = mlpbeta_enc(x_train_noise_mlp).numpy()\n",
    "cnn_aligned = cnn_enc(x_train_noise_cnn).numpy()\n",
    "\n",
    "y_train_aligned = np.argmax(y_train_clean, axis=1)[...,np.newaxis]\n",
    "w_mlp, c_mlp,_, _, _ = train_lda(mlp_aligned,y_train_aligned)\n",
    "w_mlpbeta, c_mlpbeta,_, _, _ = train_lda(mlp_beta_aligned,y_train_aligned)\n",
    "w_cnn, c_cnn,_, _, _ = train_lda(cnn_aligned,y_train_aligned)"
   ]
  },
  {
   "cell_type": "code",
   "execution_count": 7,
   "metadata": {},
   "outputs": [
    {
     "name": "stdout",
     "output_type": "stream",
     "text": [
      "Loading training data: traindata_manual/AB2_traindata_4.p\n",
      "MLP ---- Clean Accuracy: 59.37, Noisy Accuracy: 54.83, LDA Clean Accuracy: 55.94, LDA Noisy Accuracy: 56.06\n",
      "MLPB ---- Clean Accuracy: 83.69, Noisy Accuracy: 70.49, LDA Clean Accuracy: 78.40, LDA Noisy Accuracy: 66.91\n",
      "CNN ---- Clean Accuracy: 81.46, Noisy Accuracy: 67.66, LDA Clean Accuracy: 82.51, LDA Noisy Accuracy: 67.54\n"
     ]
    }
   ],
   "source": [
    "test_sess = {'test_grp':4, 'test':'partposrealmixeven24'}\n",
    "sess.update(**test_sess)\n",
    "\n",
    "with open('real_noise/all_real_noise.p', 'rb') as f:\n",
    "    real_noise_temp, _ = pickle.load(f)\n",
    "\n",
    "x_test_cnn, x_test_mlp, y_test_clean, clean_size = prd.prep_test_data(sess, raw, params, real_noise_temp)\n",
    "\n",
    "mlp_test_aligned = mlp_enc(x_test_mlp).numpy()\n",
    "mlpbeta_test_aligned = mlpbeta_enc(x_test_mlp).numpy()\n",
    "cnn_test_aligned = cnn_enc(x_test_cnn).numpy()\n",
    "y_test_aligned = np.argmax(y_test_clean, axis=1)[...,np.newaxis]\n",
    "\n",
    "clean_acc, noisy_acc = eval_nn(x_test_mlp, y_test_clean,mlp,clean_size)\n",
    "clean_lda = eval_lda(w_mlp,c_mlp,mlp_test_aligned[:clean_size,...],y_test_aligned[:clean_size,...])\n",
    "noisy_lda = eval_lda(w_mlp,c_mlp,mlp_test_aligned[clean_size:,...],y_test_aligned[clean_size:,...])\n",
    "print(\n",
    "    f'MLP ---- '\n",
    "    f'Clean Accuracy: {clean_acc * 100:.2f}, '\n",
    "    f'Noisy Accuracy: {noisy_acc * 100:.2f}, '\n",
    "    f'LDA Clean Accuracy: {clean_lda * 100:.2f}, '\n",
    "    f'LDA Noisy Accuracy: {noisy_lda * 100:.2f}'\n",
    ")\n",
    "\n",
    "clean_acc, noisy_acc = eval_nn(x_test_mlp, y_test_clean,mlp_beta,clean_size)\n",
    "clean_lda = eval_lda(w_mlpbeta,c_mlpbeta,mlpbeta_test_aligned[:clean_size,...],y_test_aligned[:clean_size,...])\n",
    "noisy_lda = eval_lda(w_mlpbeta,c_mlpbeta,mlpbeta_test_aligned[clean_size:,...],y_test_aligned[clean_size:,...])\n",
    "print(\n",
    "    f'MLPB ---- '\n",
    "    f'Clean Accuracy: {clean_acc * 100:.2f}, '\n",
    "    f'Noisy Accuracy: {noisy_acc * 100:.2f}, '\n",
    "    f'LDA Clean Accuracy: {clean_lda * 100:.2f}, '\n",
    "    f'LDA Noisy Accuracy: {noisy_lda * 100:.2f}'\n",
    ")\n",
    "\n",
    "clean_acc, noisy_acc = eval_nn(x_test_cnn, y_test_clean,cnn,clean_size)\n",
    "clean_lda = eval_lda(w_cnn,c_cnn,cnn_test_aligned[:clean_size,...],y_test_aligned[:clean_size,...])\n",
    "noisy_lda = eval_lda(w_cnn,c_cnn,cnn_test_aligned[clean_size:,...],y_test_aligned[clean_size:,...])\n",
    "print(\n",
    "    f'CNN ---- '\n",
    "    f'Clean Accuracy: {clean_acc * 100:.2f}, '\n",
    "    f'Noisy Accuracy: {noisy_acc * 100:.2f}, '\n",
    "    f'LDA Clean Accuracy: {clean_lda * 100:.2f}, '\n",
    "    f'LDA Noisy Accuracy: {noisy_lda * 100:.2f}'\n",
    ")"
   ]
  }
 ],
 "metadata": {
  "interpreter": {
   "hash": "1a3b9df806ffb9c99dfd499571232d2e3ccda8a03627b2b254cd16611a407c53"
  },
  "kernelspec": {
   "display_name": "Python 3.7.9 64-bit ('tf-2': conda)",
   "language": "python",
   "name": "python3"
  },
  "language_info": {
   "codemirror_mode": {
    "name": "ipython",
    "version": 3
   },
   "file_extension": ".py",
   "mimetype": "text/x-python",
   "name": "python",
   "nbconvert_exporter": "python",
   "pygments_lexer": "ipython3",
   "version": "3.7.9"
  },
  "orig_nbformat": 4
 },
 "nbformat": 4,
 "nbformat_minor": 2
}
