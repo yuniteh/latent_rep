{
 "metadata": {
  "language_info": {
   "codemirror_mode": {
    "name": "ipython",
    "version": 3
   },
   "file_extension": ".py",
   "mimetype": "text/x-python",
   "name": "python",
   "nbconvert_exporter": "python",
   "pygments_lexer": "ipython3",
   "version": "3.7.9-final"
  },
  "orig_nbformat": 2,
  "kernelspec": {
   "name": "Python 3.7.9 64-bit ('tf-gpu-1': conda)",
   "display_name": "Python 3.7.9 64-bit ('tf-gpu-1': conda)",
   "metadata": {
    "interpreter": {
     "hash": "f346b235aae4bf1eed617d93c95175812ea1c504b547c015e724420a013989e9"
    }
   }
  }
 },
 "nbformat": 4,
 "nbformat_minor": 2,
 "cells": [
  {
   "cell_type": "code",
   "execution_count": 1,
   "metadata": {
    "tags": []
   },
   "outputs": [
    {
     "output_type": "stream",
     "name": "stdout",
     "text": "Num GPUs Available:  1\n"
    }
   ],
   "source": [
    "import tensorflow as tf\n",
    "\n",
    "import tensorflow.keras\n",
    "from tensorflow.keras.layers import Lambda, Input, Dense, Conv2D, Flatten, Conv2DTranspose, Reshape\n",
    "from tensorflow.keras.models import Model\n",
    "from tensorflow.keras.datasets import mnist\n",
    "from tensorflow.keras.losses import mse, binary_crossentropy\n",
    "from tensorflow.keras.utils import plot_model, to_categorical\n",
    "from tensorflow.keras import backend as K\n",
    "\n",
    "from load_data import load_train_data, process_daq, sub_train_test, sub_split\n",
    "from sklearn.utils import shuffle\n",
    "from sklearn.model_selection import train_test_split\n",
    "from sklearn.preprocessing import MinMaxScaler\n",
    "from sVAE_utils import sampling, plot_results, build_vae, eval_vae\n",
    "\n",
    "import numpy as np\n",
    "import matplotlib.pyplot as plt\n",
    "import os\n",
    "from gpu import set_gpu\n",
    "\n",
    "set_gpu()\n",
    "# tf.compat.v1.disable_eager_execution()"
   ]
  },
  {
   "cell_type": "code",
   "execution_count": 2,
   "metadata": {},
   "outputs": [],
   "source": [
    "# Load raw EMG data\n",
    "feat,params,daq = load_train_data('train_data_raw_AB.mat')\n",
    "raw = process_daq(daq,params)\n",
    "\n",
    "# Reshape data for CNN architecture\n",
    "raw = raw[::2,:,:].transpose(2,1,0)\n",
    "feat_sq = feat.reshape(feat.shape[0],6,10)"
   ]
  },
  {
   "cell_type": "code",
   "execution_count": 3,
   "metadata": {},
   "outputs": [],
   "source": [
    "# Index EMG data\n",
    "sub = 14\n",
    "train_grp = 3\n",
    "test_grp = 3\n",
    "x_train, y_train, x_test, y_test = sub_train_test(feat_sq,params,sub,train_grp,test_grp)\n",
    "\n",
    "# Shuffle and split data\n",
    "# x_train, x_test, y_train, y_test = train_test_split(feat_sq_s, label_sq_s, test_size=0.3, random_state=0, stratify=label_sq_s)"
   ]
  },
  {
   "cell_type": "code",
   "execution_count": 4,
   "metadata": {},
   "outputs": [],
   "source": [
    "# Scale data\n",
    "scaler = MinMaxScaler(feature_range=(-1,1))\n",
    "x_train = scaler.fit_transform(x_train.reshape(x_train.shape[0],-1)).reshape(x_train.shape)\n",
    "x_test = scaler.transform(x_test.reshape(x_test.shape[0],-1)).reshape(x_test.shape)"
   ]
  },
  {
   "cell_type": "code",
   "execution_count": 5,
   "metadata": {
    "tags": []
   },
   "outputs": [],
   "source": [
    "batch_size = 64\n",
    "latent_dim = 10\n",
    "epochs = 30\n",
    "\n",
    "vae, encoder, decoder, clf = build_vae(latent_dim, input_type='feat')"
   ]
  },
  {
   "cell_type": "code",
   "execution_count": 6,
   "metadata": {
    "tags": []
   },
   "outputs": [
    {
     "output_type": "stream",
     "name": "stdout",
     "text": "Epoch 1/30\n55/55 [==============================] - 0s 7ms/step - loss: 2.1381 - clf_loss: 2.0112\nEpoch 2/30\n55/55 [==============================] - 0s 4ms/step - loss: 1.0964 - clf_loss: 0.8484\nEpoch 3/30\n55/55 [==============================] - 0s 5ms/step - loss: 0.6737 - clf_loss: 0.4038\nEpoch 4/30\n55/55 [==============================] - 0s 4ms/step - loss: 0.4982 - clf_loss: 0.2419\nEpoch 5/30\n55/55 [==============================] - 0s 4ms/step - loss: 0.3993 - clf_loss: 0.1621\nEpoch 6/30\n55/55 [==============================] - 0s 4ms/step - loss: 0.3406 - clf_loss: 0.1196\nEpoch 7/30\n55/55 [==============================] - 0s 4ms/step - loss: 0.3077 - clf_loss: 0.0993\nEpoch 8/30\n55/55 [==============================] - 0s 4ms/step - loss: 0.2860 - clf_loss: 0.0854\nEpoch 9/30\n55/55 [==============================] - 0s 4ms/step - loss: 0.2681 - clf_loss: 0.0754\nEpoch 10/30\n55/55 [==============================] - 0s 5ms/step - loss: 0.2555 - clf_loss: 0.0681\nEpoch 11/30\n55/55 [==============================] - 0s 4ms/step - loss: 0.2421 - clf_loss: 0.0610\nEpoch 12/30\n55/55 [==============================] - 0s 4ms/step - loss: 0.2330 - clf_loss: 0.0562\nEpoch 13/30\n55/55 [==============================] - 0s 5ms/step - loss: 0.2250 - clf_loss: 0.0517\nEpoch 14/30\n55/55 [==============================] - 0s 4ms/step - loss: 0.2221 - clf_loss: 0.0511\nEpoch 15/30\n55/55 [==============================] - 0s 4ms/step - loss: 0.2133 - clf_loss: 0.0465\nEpoch 16/30\n55/55 [==============================] - 0s 5ms/step - loss: 0.2091 - clf_loss: 0.0459\nEpoch 17/30\n55/55 [==============================] - 0s 4ms/step - loss: 0.2028 - clf_loss: 0.0410\nEpoch 18/30\n55/55 [==============================] - 0s 4ms/step - loss: 0.1993 - clf_loss: 0.0404\nEpoch 19/30\n55/55 [==============================] - 0s 4ms/step - loss: 0.1932 - clf_loss: 0.0370\nEpoch 20/30\n55/55 [==============================] - 0s 4ms/step - loss: 0.1919 - clf_loss: 0.0366\nEpoch 21/30\n55/55 [==============================] - 0s 4ms/step - loss: 0.1883 - clf_loss: 0.0349\nEpoch 22/30\n55/55 [==============================] - 0s 4ms/step - loss: 0.1844 - clf_loss: 0.0335\nEpoch 23/30\n55/55 [==============================] - 0s 4ms/step - loss: 0.1831 - clf_loss: 0.0331\nEpoch 24/30\n55/55 [==============================] - 0s 5ms/step - loss: 0.1827 - clf_loss: 0.0337\nEpoch 25/30\n55/55 [==============================] - 0s 4ms/step - loss: 0.1760 - clf_loss: 0.0289\nEpoch 26/30\n55/55 [==============================] - 0s 4ms/step - loss: 0.1767 - clf_loss: 0.0301\nEpoch 27/30\n55/55 [==============================] - 0s 4ms/step - loss: 0.1733 - clf_loss: 0.0291\nEpoch 28/30\n55/55 [==============================] - 0s 4ms/step - loss: 0.1716 - clf_loss: 0.0275\nEpoch 29/30\n55/55 [==============================] - 0s 4ms/step - loss: 0.1691 - clf_loss: 0.0272\nEpoch 30/30\n55/55 [==============================] - 0s 4ms/step - loss: 0.1687 - clf_loss: 0.0264\n"
    }
   ],
   "source": [
    "vae.fit(x_train, {'clf': y_train},epochs=epochs,batch_size=batch_size)\n",
    "vae.save_weights('vae_feat.h5')"
   ]
  },
  {
   "cell_type": "code",
   "execution_count": 5,
   "metadata": {},
   "outputs": [],
   "source": [
    "vae.load_weights('vae_feat.h5')"
   ]
  },
  {
   "cell_type": "code",
   "execution_count": 17,
   "metadata": {
    "tags": []
   },
   "outputs": [
    {
     "output_type": "stream",
     "name": "stdout",
     "text": "0.8577142857142858\n"
    }
   ],
   "source": [
    "test_grp = 6\n",
    "x_test, y_test = sub_split(feat_sq, params, sub, test_grp)\n",
    "x_test = scaler.transform(x_test.reshape(x_test.shape[0],-1)).reshape(x_test.shape)\n",
    "\n",
    "y_pred, acc = eval_vae(vae, x_test, y_test)\n",
    "print(acc)\n",
    "\n",
    "models = (encoder, decoder)\n",
    "data = (x_test, np.argmax(y_test, axis=1))\n",
    "# plot_results(models,\n",
    "#                 data,\n",
    "#                 batch_size=batch_size,\n",
    "#                 model_name=\"vae_mlp\")"
   ]
  },
  {
   "source": [
    "## LDA"
   ],
   "cell_type": "markdown",
   "metadata": {}
  },
  {
   "cell_type": "code",
   "execution_count": 9,
   "metadata": {},
   "outputs": [],
   "source": [
    "from lda import train_lda, predict\n",
    "\n",
    "# Shuffle and split data\n",
    "# feat_s, label_s = shuffle(feat[ind,:],params[ind,-2,np.newaxis])\n",
    "# x_train_lda = feat_s\n",
    "# y_train_lda = label_s-1\n",
    "x_train_lda, y_train_lda, x_test_lda, y_test_lda = sub_train_test(feat, params, sub, train_grp, test_grp)\n",
    "# x_train, _, y_train, _ = train_test_split(x_feats, y_feats, test_size=0.3, random_state=0, stratify=label_s)\n",
    "\n",
    "w,c = train_lda(x_train_lda,y_train_lda)"
   ]
  },
  {
   "cell_type": "code",
   "execution_count": 18,
   "metadata": {},
   "outputs": [
    {
     "output_type": "execute_result",
     "data": {
      "text/plain": "0.8397142857142857"
     },
     "metadata": {},
     "execution_count": 18
    }
   ],
   "source": [
    "test_grp = 6\n",
    "x_test_lda, y_test_lda = sub_split(feat, params, sub, test_grp)\n",
    "out = predict(x_test_lda,w,c)\n",
    "np.sum(out.reshape(y_test_lda.shape) == y_test_lda)/y_test_lda.shape[0]"
   ]
  },
  {
   "cell_type": "code",
   "execution_count": null,
   "metadata": {},
   "outputs": [],
   "source": []
  }
 ]
}