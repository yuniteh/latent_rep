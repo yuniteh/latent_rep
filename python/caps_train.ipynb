{
 "cells": [
  {
   "cell_type": "code",
   "execution_count": 9,
   "metadata": {},
   "outputs": [
    {
     "name": "stdout",
     "output_type": "stream",
     "text": [
      "The autoreload extension is already loaded. To reload it, use:\n",
      "  %reload_ext autoreload\n",
      "Num GPUs Available:  1\n"
     ]
    }
   ],
   "source": [
    "%load_ext autoreload\n",
    "%autoreload 2\n",
    "\n",
    "import numpy as np\n",
    "import pickle\n",
    "\n",
    "import csv\n",
    "import os\n",
    "\n",
    "from gpu import set_gpu\n",
    "from scipy.stats import mode\n",
    "import tensorflow as tf\n",
    "from latent.ml.dl_subclass import MLP, MLPbeta, CNN, MLPprop, get_train\n",
    "from latent.ml.dl_manual import nn_pass, conv, bn, dense\n",
    "import latent.session_subclass as session\n",
    "import latent.utils.data_utils as prd\n",
    "from latent.ml.lda import train_lda, eval_lda\n",
    "\n",
    "set_gpu()"
   ]
  },
  {
   "cell_type": "code",
   "execution_count": 2,
   "metadata": {},
   "outputs": [],
   "source": [
    "data, params = prd.load_caps_train('traindata.mat')"
   ]
  },
  {
   "cell_type": "code",
   "execution_count": 27,
   "metadata": {},
   "outputs": [
    {
     "name": "stdout",
     "output_type": "stream",
     "text": [
      "Epoch 1, Loss: 1.55, Accuracy: 46.45, MSE: 0.93 \n",
      "Epoch 30, Loss: 0.13, Accuracy: 97.29, MSE: 0.45 \n"
     ]
    }
   ],
   "source": [
    "ep = 30\n",
    "n_dof = np.max(params[:,0])\n",
    "    \n",
    "# Train NNs\n",
    "# mlp = MLP(n_class=n_dof)\n",
    "# mlp_beta = MLPbeta(n_class=n_dof)\n",
    "# cnn = CNN(n_class=n_dof,c1=8,c2=8)\n",
    "mlp_prop = MLPprop(n_class=n_dof,n_prop=7)\n",
    "\n",
    "optimizer = tf.keras.optimizers.Adam()\n",
    "train_loss = tf.keras.metrics.Mean(name='train_loss')\n",
    "train_accuracy = tf.keras.metrics.CategoricalAccuracy(name='train_accuracy')\n",
    "train_prop_accuracy = tf.keras.metrics.MeanSquaredError(name='train_prop_accuracy')\n",
    "\n",
    "# Train neural networks\n",
    "models = [mlp_prop]\n",
    "\n",
    "trainmlp, traincnn, y_train, x_train_mlp, x_train_cnn, x_train_lda, y_train_lda, x_train_aug, emg_scale, scaler, x_min, x_max, prop = prd.prep_train_caps(data, params)\n",
    "\n",
    "for model in models:\n",
    "    if isinstance(model,CNN):\n",
    "        ds = traincnn\n",
    "    else:\n",
    "        ds = trainmlp\n",
    " \n",
    "    prop_b = isinstance(model, MLPprop) or isinstance(model, CNN)\n",
    " \n",
    "    train_mod = get_train(prop = prop_b)\n",
    "\n",
    "    for epoch in range(ep):\n",
    "        # Reset the metrics at the start of the next epoch\n",
    "        train_loss.reset_states()\n",
    "        train_accuracy.reset_states()\n",
    "        train_prop_accuracy.reset_states()\n",
    "\n",
    "        for x, y, y2 in ds:\n",
    "            if prop_b:\n",
    "                train_mod(x, y, model, optimizer, train_loss, train_accuracy, train_prop_accuracy, y2)\n",
    "            else:\n",
    "                train_mod(x, y, model, optimizer, train_loss, train_accuracy)\n",
    "\n",
    "        if epoch == 0 or epoch == ep-1:\n",
    "            print(\n",
    "                f'Epoch {epoch + 1}, '\n",
    "                f'Loss: {train_loss.result():.2f}, '\n",
    "                f'Accuracy: {train_accuracy.result() * 100:.2f}, '\n",
    "                f'MSE: {train_prop_accuracy.result():.2f} '\n",
    "            )\n",
    "            \n",
    "    del train_mod\n",
    "\n",
    "mlpp_w = mlp_prop.get_weights()"
   ]
  },
  {
   "cell_type": "code",
   "execution_count": 26,
   "metadata": {},
   "outputs": [],
   "source": [
    "test2 = prop[np.argmax(y_train, axis=1) == 1]\n",
    "testy, testp = mlp_prop(x_train_mlp)\n",
    "test = testp[np.argmax(testy, axis=1) == 1]\n",
    "if np.abs(np.mean(test[:,0])-0) < 0.00001:\n",
    "    print('help')"
   ]
  },
  {
   "cell_type": "code",
   "execution_count": 7,
   "metadata": {},
   "outputs": [],
   "source": [
    "# Save neural network architectures into csv\n",
    "cnn_arch = ['CONV1','CBN1','CONV2','CBN2','FLAT','CDEN','CBN3','CLIN','CBN4','CSOFTMAX','CPROP']\n",
    "mlp_arch = ['RELU1','BN1','RELU2','BN2','RELU3','BN3','DEN','BN4','SOFTMAX','PROP']\n",
    "arch = mlp_arch\n",
    "w_in = mlpp_w\n",
    "folder = 'mlp_w'\n",
    "nn = ''\n",
    "path = '//192.168.20.2/config/modes/caps/upper_limb/dl_ctrl/DATA/'\n",
    "if not os.path.isdir(path):\n",
    "    path =  ''\n",
    "    print('no embedded')\n",
    "\n",
    "i = 0\n",
    "for l in arch:\n",
    "    w_layer = []\n",
    "    if 'BN' in l:\n",
    "        w_layer = np.vstack((np.vstack((np.vstack((w_in[i],w_in[i+1])),w_in[i+2])),w_in[i+3]))\n",
    "        i += 4\n",
    "    elif 'CONV' in l:\n",
    "        w_layer = np.vstack((w_in[i].reshape((-1,w_in[i].shape[-1])),w_in[i+1]))\n",
    "\n",
    "        with open(path + folder + '/'  + l + '_shape.csv', 'w', newline='') as f:\n",
    "            writer = csv.writer(f)\n",
    "            # write multiple rows\n",
    "            writer.writerow(w_in[i].shape)\n",
    "        i += 2\n",
    "    elif 'FLAT' not in l:\n",
    "        w_layer = np.vstack((w_in[i],w_in[i+1]))\n",
    "        i += 2      \n",
    "    \n",
    "    if 'FLAT' not in l:\n",
    "        # Save to embedded\n",
    "        with open(path + folder + '/'  + l + '.csv', 'w', newline='') as f:\n",
    "            writer = csv.writer(f)\n",
    "            # write multiple rows\n",
    "            writer.writerows(w_layer)\n",
    "\n",
    "fill = len(emg_scale) - len(x_min)\n",
    "temp = np.hstack((np.vstack((x_min[...,np.newaxis],np.zeros((fill,1)))), np.vstack((x_max[...,np.newaxis],np.zeros((fill,1))))))\n",
    "scales = np.hstack((emg_scale,temp))\n",
    "\n",
    "# Save to current folder\n",
    "with open(path + folder + '/' + nn + 'ARCH.csv', 'w', newline='') as f:\n",
    "    writer = csv.writer(f,delimiter=',')\n",
    "    # write multiple rows\n",
    "    for i in arch:\n",
    "        writer.writerow([i])\n",
    "\n",
    "with open(path + folder + '/' + nn + 'scales.csv', 'w', newline='') as f:\n",
    "    writer = csv.writer(f)\n",
    "    # write multiple rows\n",
    "    writer.writerows(scales)"
   ]
  }
 ],
 "metadata": {
  "interpreter": {
   "hash": "1a3b9df806ffb9c99dfd499571232d2e3ccda8a03627b2b254cd16611a407c53"
  },
  "kernelspec": {
   "display_name": "Python 3.7.9 64-bit ('tf-2': conda)",
   "language": "python",
   "name": "python3"
  },
  "language_info": {
   "codemirror_mode": {
    "name": "ipython",
    "version": 3
   },
   "file_extension": ".py",
   "mimetype": "text/x-python",
   "name": "python",
   "nbconvert_exporter": "python",
   "pygments_lexer": "ipython3",
   "version": "3.7.9"
  },
  "orig_nbformat": 4
 },
 "nbformat": 4,
 "nbformat_minor": 2
}
