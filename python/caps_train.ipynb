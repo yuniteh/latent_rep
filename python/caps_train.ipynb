{
 "cells": [
  {
   "cell_type": "code",
   "execution_count": 2,
   "metadata": {},
   "outputs": [
    {
     "name": "stderr",
     "output_type": "stream",
     "text": [
      "Using TensorFlow backend.\n"
     ]
    },
    {
     "name": "stdout",
     "output_type": "stream",
     "text": [
      "Num GPUs Available:  1\n"
     ]
    }
   ],
   "source": [
    "%load_ext autoreload\n",
    "%autoreload 2\n",
    "\n",
    "import numpy as np\n",
    "import pickle\n",
    "\n",
    "import csv\n",
    "import os\n",
    "\n",
    "from gpu import set_gpu\n",
    "\n",
    "import tensorflow as tf\n",
    "from latent.ml.dl_subclass import MLP, MLPbeta, CNN, MLPprop, get_train\n",
    "from latent.ml.dl_manual import nn_pass, conv, bn, dense\n",
    "import latent.session_subclass as session\n",
    "import latent.utils.data_utils as prd\n",
    "from latent.ml.lda import train_lda, eval_lda\n",
    "\n",
    "set_gpu()"
   ]
  },
  {
   "cell_type": "code",
   "execution_count": 3,
   "metadata": {},
   "outputs": [],
   "source": [
    "data, params = prd.load_caps_train('traindata.mat')"
   ]
  },
  {
   "cell_type": "code",
   "execution_count": 4,
   "metadata": {},
   "outputs": [
    {
     "name": "stdout",
     "output_type": "stream",
     "text": [
      "Epoch 1, Loss: 3.80, Accuracy: 38.81, MSE: 21.26 \n",
      "Epoch 30, Loss: 0.45, Accuracy: 90.92, MSE: 1.70 \n",
      "Epoch 1, Loss: 3.07, Accuracy: 54.25, MSE: 17.46 \n",
      "Epoch 30, Loss: 0.21, Accuracy: 96.85, MSE: 1.10 \n"
     ]
    }
   ],
   "source": [
    "ep = 30\n",
    "n_dof = np.max(params[:,0])\n",
    "    \n",
    "# Train NNs\n",
    "mlp = MLP(n_class=n_dof)\n",
    "mlp_beta = MLPbeta(n_class=n_dof)\n",
    "mlp_prop = MLPprop(n_class=n_dof)\n",
    "cnn1 = CNN(n_class=n_dof,c1=16,c2=8)\n",
    "cnn2 = CNN(n_class=n_dof,c1=32,c2=32)\n",
    "cnn = CNN(n_class=n_dof,c1=8,c2=8)\n",
    "\n",
    "optimizer = tf.keras.optimizers.Adam()\n",
    "train_loss = tf.keras.metrics.Mean(name='train_loss')\n",
    "train_accuracy = tf.keras.metrics.CategoricalAccuracy(name='train_accuracy')\n",
    "train_prop_accuracy = tf.keras.metrics.MeanSquaredError(name='train_prop_accuracy')\n",
    "\n",
    "# Train neural networks\n",
    "models = [mlp, mlp_beta, cnn]\n",
    "models = [cnn, mlp_prop]\n",
    "\n",
    "trainmlp, traincnn, y_train, x_train_mlp, x_train_cnn, x_train_lda, y_train_lda, x_train_aug, emg_scale, scaler, x_min, x_max, prop = prd.prep_train_caps(data, params)\n",
    "\n",
    "for model in models:\n",
    "    if isinstance(model,CNN):\n",
    "        ds = traincnn\n",
    "    else:\n",
    "        ds = trainmlp\n",
    " \n",
    "    prop_b = isinstance(model, MLPprop) or isinstance(model, CNN)\n",
    " \n",
    "    train_mod = get_train(prop = prop_b)\n",
    "\n",
    "    for epoch in range(ep):\n",
    "        # Reset the metrics at the start of the next epoch\n",
    "        train_loss.reset_states()\n",
    "        train_accuracy.reset_states()\n",
    "        train_prop_accuracy.reset_states()\n",
    "\n",
    "        for x, y, y2 in ds:\n",
    "            if prop_b:\n",
    "                train_mod(x, y, model, optimizer, train_loss, train_accuracy, train_prop_accuracy, y2)\n",
    "            else:\n",
    "                train_mod(x, y, model, optimizer, train_loss, train_accuracy)\n",
    "\n",
    "        if epoch == 0 or epoch == ep-1:\n",
    "            print(\n",
    "                f'Epoch {epoch + 1}, '\n",
    "                f'Loss: {train_loss.result():.2f}, '\n",
    "                f'Accuracy: {train_accuracy.result() * 100:.2f}, '\n",
    "                f'MSE: {train_prop_accuracy.result():.2f} '\n",
    "            )\n",
    "            \n",
    "    del train_mod\n",
    "\n",
    "# Train aligned LDA\n",
    "# y_train_aug = np.argmax(y_train, axis=1)[...,np.newaxis]\n",
    "\n",
    "# mlp_enc = mlp.get_layer(name='enc')\n",
    "# w_mlp, c_mlp,_, _, _ = train_lda(mlp_enc(x_train_mlp).numpy(),y_train_aug)\n",
    "\n",
    "# mlpbeta_enc = mlp_beta.get_layer(name='enc')\n",
    "# w_mlpbeta, c_mlpbeta,_, _, _ = train_lda(mlpbeta_enc(x_train_mlp).numpy(),y_train_aug)\n",
    "\n",
    "# cnn_enc = cnn.get_layer(name='enc')\n",
    "# temp = cnn_enc(x_train_cnn[:x_train_cnn.shape[0]//2,...]).numpy()\n",
    "# temp2 = np.vstack((temp,cnn_enc(x_train_cnn[x_train_cnn.shape[0]//2:,...]).numpy()))\n",
    "# w_cnn, c_cnn,_, _, _ = train_lda(temp2,y_train_aug)\n",
    "\n",
    "# # Train LDA\n",
    "# w,c, _, _, _ = train_lda(x_train_lda,y_train_lda)\n",
    "# w_aug,c_aug, _, _, _ = train_lda(x_train_aug,y_train_aug)\n",
    "\n",
    "mlp_w = mlp.get_weights()\n",
    "mlpb_w = mlp_beta.get_weights()\n",
    "cnn_w = cnn.get_weights()\n",
    "mlpp_w = mlp_prop.get_weights()"
   ]
  },
  {
   "cell_type": "code",
   "execution_count": 4,
   "metadata": {},
   "outputs": [],
   "source": [
    "x = x_train_cnn[:1,...]\n",
    "cnn_arch = ['conv','bn','conv','bn','flat','relu','bn','dense','bn','softmax']\n",
    "mlp_arch = ['relu','bn','relu','bn','relu','bn','dense','bn','softmax']"
   ]
  },
  {
   "cell_type": "code",
   "execution_count": 15,
   "metadata": {},
   "outputs": [
    {
     "name": "stdout",
     "output_type": "stream",
     "text": [
      "0\n",
      "(3, 3, 1, 8)\n",
      "2\n",
      "6\n",
      "(3, 3, 8, 8)\n",
      "8\n",
      "12\n",
      "12\n",
      "14\n",
      "18\n",
      "20\n",
      "22\n"
     ]
    }
   ],
   "source": [
    "# Save neural network architectures into csv\n",
    "cnn_arch = ['CONV1','CBN1','CONV2','CBN2','FLAT','CDEN','CBN3','CLIN','CSOFTMAX','CPROP']\n",
    "mlp_arch = ['RELU1','BN1','RELU2','BN2','RELU3','BN3','DEN','BN4','SOFTMAX','PROP']\n",
    "arch = cnn_arch\n",
    "w_in = cnn_w\n",
    "folder = 'weights_cnn'\n",
    "path = '//192.168.20.2/config/modes/caps/upper_limb/dl_ctrl/DATA/'\n",
    "if not 1:#os.path.isdir(path):\n",
    "    path =  ''\n",
    "\n",
    "i = 0\n",
    "for l in arch:\n",
    "    w_layer = []\n",
    "    if 'BN' in l:\n",
    "        w_layer = np.vstack((np.vstack((np.vstack((w_in[i],w_in[i+1])),w_in[i+2])),w_in[i+3]))\n",
    "        i += 4\n",
    "    elif 'CONV' in l:\n",
    "        w_layer = np.vstack((w_in[i].reshape((-1,w_in[i].shape[-1])),w_in[i+1]))\n",
    "\n",
    "        with open(path + folder + '/'  + l + '_shape.csv', 'w', newline='') as f:\n",
    "            writer = csv.writer(f)\n",
    "            # write multiple rows\n",
    "            writer.writerow(w_in[i].shape)\n",
    "        \n",
    "        i += 2\n",
    "    elif 'FLAT' not in l:\n",
    "        w_layer = np.vstack((w_in[i],w_in[i+1]))\n",
    "        i += 2      \n",
    "    \n",
    "    # Save to embedded\n",
    "    with open(path + folder + '/'  + l + '.csv', 'w', newline='') as f:\n",
    "        writer = csv.writer(f)\n",
    "        # write multiple rows\n",
    "        writer.writerows(w_layer)\n",
    "\n",
    "fill = len(emg_scale) - len(x_min)\n",
    "temp = np.hstack((np.vstack((x_min[...,np.newaxis],np.zeros((fill,1)))), np.vstack((x_max[...,np.newaxis],np.zeros((fill,1))))))\n",
    "scales = np.hstack((emg_scale,temp))\n",
    "\n",
    "# Save to current folder\n",
    "with open(path + folder + '/ARCH.csv', 'w', newline='') as f:\n",
    "    writer = csv.writer(f,delimiter=',')\n",
    "    # write multiple rows\n",
    "    for i in arch:\n",
    "        writer.writerow([i])\n",
    "\n",
    "with open(path + folder + '/scales.csv', 'w', newline='') as f:\n",
    "    writer = csv.writer(f)\n",
    "    # write multiple rows\n",
    "    writer.writerows(scales)"
   ]
  },
  {
   "cell_type": "code",
   "execution_count": 13,
   "metadata": {},
   "outputs": [],
   "source": [
    "test = cnn_w[0].shape"
   ]
  },
  {
   "cell_type": "code",
   "execution_count": null,
   "metadata": {},
   "outputs": [],
   "source": []
  }
 ],
 "metadata": {
  "interpreter": {
   "hash": "1a3b9df806ffb9c99dfd499571232d2e3ccda8a03627b2b254cd16611a407c53"
  },
  "kernelspec": {
   "display_name": "Python 3.7.9 64-bit ('tf-2': conda)",
   "language": "python",
   "name": "python3"
  },
  "language_info": {
   "codemirror_mode": {
    "name": "ipython",
    "version": 3
   },
   "file_extension": ".py",
   "mimetype": "text/x-python",
   "name": "python",
   "nbconvert_exporter": "python",
   "pygments_lexer": "ipython3",
   "version": "3.7.9"
  },
  "orig_nbformat": 4
 },
 "nbformat": 4,
 "nbformat_minor": 2
}
