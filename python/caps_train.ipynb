{
 "cells": [
  {
   "cell_type": "code",
   "execution_count": 1,
   "metadata": {},
   "outputs": [
    {
     "name": "stderr",
     "output_type": "stream",
     "text": [
      "Using TensorFlow backend.\n"
     ]
    },
    {
     "name": "stdout",
     "output_type": "stream",
     "text": [
      "Num GPUs Available:  1\n"
     ]
    }
   ],
   "source": [
    "%load_ext autoreload\n",
    "%autoreload 2\n",
    "\n",
    "import numpy as np\n",
    "import pickle\n",
    "\n",
    "import csv\n",
    "import os\n",
    "\n",
    "from gpu import set_gpu\n",
    "\n",
    "import tensorflow as tf\n",
    "from latent.ml.dl_subclass import MLP, MLPbeta, CNN, MLPprop, get_train\n",
    "from latent.ml.dl_manual import nn_pass, conv, bn, dense\n",
    "import latent.session_subclass as session\n",
    "import latent.utils.data_utils as prd\n",
    "from latent.ml.lda import train_lda, eval_lda\n",
    "\n",
    "set_gpu()"
   ]
  },
  {
   "cell_type": "code",
   "execution_count": 2,
   "metadata": {},
   "outputs": [],
   "source": [
    "data, params = prd.load_caps_train('traindata.mat')"
   ]
  },
  {
   "cell_type": "code",
   "execution_count": 5,
   "metadata": {},
   "outputs": [
    {
     "ename": "NameError",
     "evalue": "name 'cn2' is not defined",
     "output_type": "error",
     "traceback": [
      "\u001b[1;31m---------------------------------------------------------------------------\u001b[0m",
      "\u001b[1;31mNameError\u001b[0m                                 Traceback (most recent call last)",
      "\u001b[1;32m<ipython-input-5-43c94b17843a>\u001b[0m in \u001b[0;36m<module>\u001b[1;34m\u001b[0m\n\u001b[0;32m     17\u001b[0m \u001b[1;31m# Train neural networks\u001b[0m\u001b[1;33m\u001b[0m\u001b[1;33m\u001b[0m\u001b[1;33m\u001b[0m\u001b[0m\n\u001b[0;32m     18\u001b[0m \u001b[0mmodels\u001b[0m \u001b[1;33m=\u001b[0m \u001b[1;33m[\u001b[0m\u001b[0mmlp\u001b[0m\u001b[1;33m,\u001b[0m \u001b[0mmlp_beta\u001b[0m\u001b[1;33m,\u001b[0m \u001b[0mcnn\u001b[0m\u001b[1;33m]\u001b[0m\u001b[1;33m\u001b[0m\u001b[1;33m\u001b[0m\u001b[0m\n\u001b[1;32m---> 19\u001b[1;33m \u001b[0mmodels\u001b[0m \u001b[1;33m=\u001b[0m \u001b[1;33m[\u001b[0m\u001b[0mcn2\u001b[0m\u001b[1;33m,\u001b[0m \u001b[0mmlp_prop\u001b[0m\u001b[1;33m]\u001b[0m\u001b[1;33m\u001b[0m\u001b[1;33m\u001b[0m\u001b[0m\n\u001b[0m\u001b[0;32m     20\u001b[0m \u001b[1;33m\u001b[0m\u001b[0m\n\u001b[0;32m     21\u001b[0m \u001b[0mtrainmlp\u001b[0m\u001b[1;33m,\u001b[0m \u001b[0mtraincnn\u001b[0m\u001b[1;33m,\u001b[0m \u001b[0my_train\u001b[0m\u001b[1;33m,\u001b[0m \u001b[0mx_train_mlp\u001b[0m\u001b[1;33m,\u001b[0m \u001b[0mx_train_cnn\u001b[0m\u001b[1;33m,\u001b[0m \u001b[0mx_train_lda\u001b[0m\u001b[1;33m,\u001b[0m \u001b[0my_train_lda\u001b[0m\u001b[1;33m,\u001b[0m \u001b[0mx_train_aug\u001b[0m\u001b[1;33m,\u001b[0m \u001b[0memg_scale\u001b[0m\u001b[1;33m,\u001b[0m \u001b[0mscaler\u001b[0m\u001b[1;33m,\u001b[0m \u001b[0mx_min\u001b[0m\u001b[1;33m,\u001b[0m \u001b[0mx_max\u001b[0m\u001b[1;33m,\u001b[0m \u001b[0mprop\u001b[0m \u001b[1;33m=\u001b[0m \u001b[0mprd\u001b[0m\u001b[1;33m.\u001b[0m\u001b[0mprep_train_caps\u001b[0m\u001b[1;33m(\u001b[0m\u001b[0mdata\u001b[0m\u001b[1;33m,\u001b[0m \u001b[0mparams\u001b[0m\u001b[1;33m)\u001b[0m\u001b[1;33m\u001b[0m\u001b[1;33m\u001b[0m\u001b[0m\n",
      "\u001b[1;31mNameError\u001b[0m: name 'cn2' is not defined"
     ]
    }
   ],
   "source": [
    "ep = 30\n",
    "n_dof = np.max(params[:,0])\n",
    "    \n",
    "# Train NNs\n",
    "mlp = MLP(n_class=n_dof)\n",
    "mlp_beta = MLPbeta(n_class=n_dof)\n",
    "mlp_prop = MLPprop(n_class=n_dof)\n",
    "cnn1 = CNN(n_class=n_dof,c1=16,c2=8)\n",
    "cnn2 = CNN(n_class=n_dof,c1=32,c2=32)\n",
    "cnn = CNN(n_class=n_dof,c1=8,c2=8)\n",
    "\n",
    "optimizer = tf.keras.optimizers.Adam()\n",
    "train_loss = tf.keras.metrics.Mean(name='train_loss')\n",
    "train_accuracy = tf.keras.metrics.CategoricalAccuracy(name='train_accuracy')\n",
    "train_prop_accuracy = tf.keras.metrics.MeanSquaredError(name='train_prop_accuracy')\n",
    "\n",
    "# Train neural networks\n",
    "models = [mlp, mlp_beta, cnn]\n",
    "models = [cnn2, mlp_prop]\n",
    "\n",
    "trainmlp, traincnn, y_train, x_train_mlp, x_train_cnn, x_train_lda, y_train_lda, x_train_aug, emg_scale, scaler, x_min, x_max, prop = prd.prep_train_caps(data, params)\n",
    "\n",
    "for model in models:\n",
    "    if isinstance(model,CNN):\n",
    "        ds = traincnn\n",
    "    else:\n",
    "        ds = trainmlp\n",
    " \n",
    "    prop_b = isinstance(model, MLPprop) or isinstance(model, CNN)\n",
    " \n",
    "    train_mod = get_train(prop = prop_b)\n",
    "\n",
    "    for epoch in range(ep):\n",
    "        # Reset the metrics at the start of the next epoch\n",
    "        train_loss.reset_states()\n",
    "        train_accuracy.reset_states()\n",
    "        train_prop_accuracy.reset_states()\n",
    "\n",
    "        for x, y, y2 in ds:\n",
    "            if prop_b:\n",
    "                train_mod(x, y, model, optimizer, train_loss, train_accuracy, train_prop_accuracy, y2)\n",
    "            else:\n",
    "                train_mod(x, y, model, optimizer, train_loss, train_accuracy)\n",
    "\n",
    "        if epoch == 0 or epoch == ep-1:\n",
    "            print(\n",
    "                f'Epoch {epoch + 1}, '\n",
    "                f'Loss: {train_loss.result():.2f}, '\n",
    "                f'Accuracy: {train_accuracy.result() * 100:.2f}, '\n",
    "                f'MSE: {train_prop_accuracy.result():.2f} '\n",
    "            )\n",
    "            \n",
    "    del train_mod\n",
    "\n",
    "# Train aligned LDA\n",
    "# y_train_aug = np.argmax(y_train, axis=1)[...,np.newaxis]\n",
    "\n",
    "# mlp_enc = mlp.get_layer(name='enc')\n",
    "# w_mlp, c_mlp,_, _, _ = train_lda(mlp_enc(x_train_mlp).numpy(),y_train_aug)\n",
    "\n",
    "# mlpbeta_enc = mlp_beta.get_layer(name='enc')\n",
    "# w_mlpbeta, c_mlpbeta,_, _, _ = train_lda(mlpbeta_enc(x_train_mlp).numpy(),y_train_aug)\n",
    "\n",
    "# cnn_enc = cnn.get_layer(name='enc')\n",
    "# temp = cnn_enc(x_train_cnn[:x_train_cnn.shape[0]//2,...]).numpy()\n",
    "# temp2 = np.vstack((temp,cnn_enc(x_train_cnn[x_train_cnn.shape[0]//2:,...]).numpy()))\n",
    "# w_cnn, c_cnn,_, _, _ = train_lda(temp2,y_train_aug)\n",
    "\n",
    "# # Train LDA\n",
    "# w,c, _, _, _ = train_lda(x_train_lda,y_train_lda)\n",
    "# w_aug,c_aug, _, _, _ = train_lda(x_train_aug,y_train_aug)\n",
    "\n",
    "mlp_w = mlp.get_weights()\n",
    "mlpb_w = mlp_beta.get_weights()\n",
    "cnn_w = cnn2.get_weights()\n",
    "mlpp_w = mlp_prop.get_weights()"
   ]
  },
  {
   "cell_type": "code",
   "execution_count": 4,
   "metadata": {},
   "outputs": [],
   "source": [
    "# Save neural network architectures into csv\n",
    "cnn_arch = ['CONV1','CBN1','CONV2','CBN2','FLAT','CDEN','CBN3','CLIN','CSOFTMAX','CPROP']\n",
    "mlp_arch = ['RELU1','BN1','RELU2','BN2','RELU3','BN3','DEN','BN4','SOFTMAX','PROP']\n",
    "arch = cnn_arch\n",
    "w_in = cnn_w\n",
    "folder = 'weights_cnn'\n",
    "nn = 'C'\n",
    "path = '//192.168.20.2/config/modes/caps/upper_limb/dl_ctrl/DATA/'\n",
    "if not os.path.isdir(path):\n",
    "    path =  ''\n",
    "    print('no embedded')\n",
    "\n",
    "i = 0\n",
    "for l in arch:\n",
    "    w_layer = []\n",
    "    if 'BN' in l:\n",
    "        w_layer = np.vstack((np.vstack((np.vstack((w_in[i],w_in[i+1])),w_in[i+2])),w_in[i+3]))\n",
    "        i += 4\n",
    "    elif 'CONV' in l:\n",
    "        w_layer = np.vstack((w_in[i].reshape((-1,w_in[i].shape[-1])),w_in[i+1]))\n",
    "\n",
    "        with open(path + folder + '/'  + l + '_shape.csv', 'w', newline='') as f:\n",
    "            writer = csv.writer(f)\n",
    "            # write multiple rows\n",
    "            writer.writerow(w_in[i].shape)\n",
    "        i += 2\n",
    "    elif 'FLAT' not in l:\n",
    "        w_layer = np.vstack((w_in[i],w_in[i+1]))\n",
    "        i += 2      \n",
    "    \n",
    "    if 'FLAT' not in l:\n",
    "        # Save to embedded\n",
    "        with open(path + folder + '/'  + l + '.csv', 'w', newline='') as f:\n",
    "            writer = csv.writer(f)\n",
    "            # write multiple rows\n",
    "            writer.writerows(w_layer)\n",
    "\n",
    "fill = len(emg_scale) - len(x_min)\n",
    "temp = np.hstack((np.vstack((x_min[...,np.newaxis],np.zeros((fill,1)))), np.vstack((x_max[...,np.newaxis],np.zeros((fill,1))))))\n",
    "scales = np.hstack((emg_scale,temp))\n",
    "\n",
    "# Save to current folder\n",
    "with open(path + folder + '/' + nn + 'ARCH.csv', 'w', newline='') as f:\n",
    "    writer = csv.writer(f,delimiter=',')\n",
    "    # write multiple rows\n",
    "    for i in arch:\n",
    "        writer.writerow([i])\n",
    "\n",
    "with open(path + folder + '/' + nn + 'scales.csv', 'w', newline='') as f:\n",
    "    writer = csv.writer(f)\n",
    "    # write multiple rows\n",
    "    writer.writerows(scales)"
   ]
  }
 ],
 "metadata": {
  "interpreter": {
   "hash": "1a3b9df806ffb9c99dfd499571232d2e3ccda8a03627b2b254cd16611a407c53"
  },
  "kernelspec": {
   "display_name": "Python 3.7.9 64-bit ('tf-2': conda)",
   "language": "python",
   "name": "python3"
  },
  "language_info": {
   "codemirror_mode": {
    "name": "ipython",
    "version": 3
   },
   "file_extension": ".py",
   "mimetype": "text/x-python",
   "name": "python",
   "nbconvert_exporter": "python",
   "pygments_lexer": "ipython3",
   "version": "3.7.9"
  },
  "orig_nbformat": 4
 },
 "nbformat": 4,
 "nbformat_minor": 2
}
