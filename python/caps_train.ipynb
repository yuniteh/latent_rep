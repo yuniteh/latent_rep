{
 "cells": [
  {
   "cell_type": "code",
   "execution_count": 1,
   "metadata": {},
   "outputs": [
    {
     "name": "stderr",
     "output_type": "stream",
     "text": [
      "Using TensorFlow backend.\n"
     ]
    },
    {
     "name": "stdout",
     "output_type": "stream",
     "text": [
      "Num GPUs Available:  1\n"
     ]
    }
   ],
   "source": [
    "%load_ext autoreload\n",
    "%autoreload 2\n",
    "\n",
    "import numpy as np\n",
    "import pickle\n",
    "\n",
    "from gpu import set_gpu\n",
    "import copy as cp\n",
    "from sklearn.utils import shuffle\n",
    "\n",
    "import tensorflow as tf\n",
    "from sklearn.preprocessing import MinMaxScaler\n",
    "from DL_utils import MLP, MLPbeta, CNN, eval_nn, get_train\n",
    "from manual_nn import nn_pass\n",
    "import session_new as session\n",
    "\n",
    "import process_data as prd\n",
    "from lda import train_lda, predict, eval_lda, eval_lda_ch\n",
    "\n",
    "set_gpu()"
   ]
  },
  {
   "cell_type": "code",
   "execution_count": 8,
   "metadata": {},
   "outputs": [],
   "source": [
    "data, params = prd.load_caps_train('traindata.mat')"
   ]
  },
  {
   "cell_type": "code",
   "execution_count": 20,
   "metadata": {},
   "outputs": [],
   "source": [
    "trainmlp, traincnn, y_train, x_train_mlp, x_train_cnn, x_train_lda, y_train_lda, x_train_aug, emg_scale, scaler, x_min, x_max = prd.prep_train_caps(data, params)"
   ]
  },
  {
   "cell_type": "code",
   "execution_count": 10,
   "metadata": {},
   "outputs": [
    {
     "name": "stdout",
     "output_type": "stream",
     "text": [
      "Epoch 1, Loss: 1.96, Accuracy: 20.54 \n",
      "Epoch 30, Loss: 0.50, Accuracy: 82.10 \n",
      "Epoch 1, Loss: 1.16, Accuracy: 58.02 \n",
      "Epoch 30, Loss: 0.13, Accuracy: 95.34 \n",
      "Epoch 1, Loss: 0.93, Accuracy: 70.65 \n",
      "Epoch 30, Loss: 0.10, Accuracy: 96.35 \n"
     ]
    }
   ],
   "source": [
    "ep = 30\n",
    "n_dof = np.max(params[:,0])\n",
    "    \n",
    "# Train NNs\n",
    "mlp = MLP(n_class=n_dof)\n",
    "mlp_beta = MLPbeta(n_class=n_dof)\n",
    "cnn = CNN(n_class=n_dof)\n",
    "\n",
    "optimizer = tf.keras.optimizers.Adam()\n",
    "train_loss = tf.keras.metrics.Mean(name='train_loss')\n",
    "train_accuracy = tf.keras.metrics.CategoricalAccuracy(name='train_accuracy')\n",
    "\n",
    "trainmlp, traincnn, y_train, x_train_mlp, x_train_cnn, x_train_lda, y_train_lda, x_train_aug, emg_scale, scaler = prd.prep_train_caps(data, params)\n",
    "\n",
    "# Train neural networks\n",
    "models = [mlp, mlp_beta, cnn]\n",
    "for model in models:\n",
    "    if isinstance(model,CNN):\n",
    "        ds = traincnn\n",
    "    else:\n",
    "        ds = trainmlp\n",
    "    \n",
    "    train_mod = get_train()\n",
    "\n",
    "    for epoch in range(ep):\n",
    "        # Reset the metrics at the start of the next epoch\n",
    "        train_loss.reset_states()\n",
    "        train_accuracy.reset_states()\n",
    "\n",
    "        for x, y in ds:\n",
    "            train_mod(x, y, model, optimizer, train_loss, train_accuracy)\n",
    "\n",
    "        if epoch == 0 or epoch == ep-1:\n",
    "            print(\n",
    "                f'Epoch {epoch + 1}, '\n",
    "                f'Loss: {train_loss.result():.2f}, '\n",
    "                f'Accuracy: {train_accuracy.result() * 100:.2f} '\n",
    "            )\n",
    "    del train_mod\n",
    "\n",
    "# Train aligned LDA\n",
    "y_train_aug = np.argmax(y_train, axis=1)[...,np.newaxis]\n",
    "\n",
    "mlp_enc = mlp.get_layer(name='enc')\n",
    "w_mlp, c_mlp,_, _, _ = train_lda(mlp_enc(x_train_mlp).numpy(),y_train_aug)\n",
    "\n",
    "mlpbeta_enc = mlp_beta.get_layer(name='enc')\n",
    "w_mlpbeta, c_mlpbeta,_, _, _ = train_lda(mlpbeta_enc(x_train_mlp).numpy(),y_train_aug)\n",
    "\n",
    "cnn_enc = cnn.get_layer(name='enc')\n",
    "temp = cnn_enc(x_train_cnn[:x_train_cnn.shape[0]//2,...]).numpy()\n",
    "temp2 = np.vstack((temp,cnn_enc(x_train_cnn[x_train_cnn.shape[0]//2:,...]).numpy()))\n",
    "w_cnn, c_cnn,_, _, _ = train_lda(temp2,y_train_aug)\n",
    "\n",
    "# Train LDA\n",
    "w,c, _, _, _ = train_lda(x_train_lda,y_train_lda)\n",
    "w_aug,c_aug, _, _, _ = train_lda(x_train_aug,y_train_aug)\n",
    "\n",
    "mlp_w = mlp.get_weights()\n",
    "mlpb_w = mlp_beta.get_weights()\n",
    "cnn_w = cnn.get_weights()"
   ]
  },
  {
   "cell_type": "code",
   "execution_count": null,
   "metadata": {},
   "outputs": [],
   "source": [
    "import csv\n",
    "\n",
    "with open('mlpb_w.csv', 'w', encoding='UTF8', newline='') as f:\n",
    "    writer = csv.writer(f)\n",
    "\n",
    "    # write multiple rows\n",
    "    writer.writerows(mlpb_w)\n",
    "\n",
    "with open('scales.csv', 'w', encoding='UTF8', newline='') as f:\n",
    "    writer = csv.writer(f)\n",
    "\n",
    "    # write multiple rows\n",
    "    writer.writerows(mlpb_w)"
   ]
  }
 ],
 "metadata": {
  "interpreter": {
   "hash": "1a3b9df806ffb9c99dfd499571232d2e3ccda8a03627b2b254cd16611a407c53"
  },
  "kernelspec": {
   "display_name": "Python 3.7.9 64-bit ('tf-2': conda)",
   "language": "python",
   "name": "python3"
  },
  "language_info": {
   "codemirror_mode": {
    "name": "ipython",
    "version": 3
   },
   "file_extension": ".py",
   "mimetype": "text/x-python",
   "name": "python",
   "nbconvert_exporter": "python",
   "pygments_lexer": "ipython3",
   "version": "3.7.9"
  },
  "orig_nbformat": 4
 },
 "nbformat": 4,
 "nbformat_minor": 2
}
