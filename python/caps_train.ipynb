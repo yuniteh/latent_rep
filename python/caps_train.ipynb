{
 "cells": [
  {
   "cell_type": "code",
   "execution_count": 28,
   "metadata": {},
   "outputs": [
    {
     "name": "stdout",
     "output_type": "stream",
     "text": [
      "The autoreload extension is already loaded. To reload it, use:\n",
      "  %reload_ext autoreload\n",
      "Num GPUs Available:  1\n"
     ]
    }
   ],
   "source": [
    "%load_ext autoreload\n",
    "%autoreload 2\n",
    "\n",
    "import numpy as np\n",
    "import pickle\n",
    "import csv\n",
    "\n",
    "from gpu import set_gpu\n",
    "\n",
    "import tensorflow as tf\n",
    "from latent.ml.dl_subclass import MLP, MLPbeta, CNN, MLPprop, get_train\n",
    "from latent.ml.dl_manual import nn_pass, conv\n",
    "import latent.session_subclass as session\n",
    "import latent.utils.data_utils as prd\n",
    "from latent.ml.lda import train_lda, eval_lda\n",
    "\n",
    "set_gpu()"
   ]
  },
  {
   "cell_type": "code",
   "execution_count": 3,
   "metadata": {},
   "outputs": [],
   "source": [
    "data, params = prd.load_caps_train('traindata.mat')"
   ]
  },
  {
   "cell_type": "code",
   "execution_count": 4,
   "metadata": {},
   "outputs": [
    {
     "name": "stdout",
     "output_type": "stream",
     "text": [
      "Epoch 1, Loss: 1.58, Accuracy: 42.12, MSE: 0.00 \n",
      "Epoch 30, Loss: 0.07, Accuracy: 97.69, MSE: 0.00 \n"
     ]
    }
   ],
   "source": [
    "ep = 30\n",
    "n_dof = np.max(params[:,0])\n",
    "    \n",
    "# Train NNs\n",
    "mlp = MLP(n_class=n_dof)\n",
    "mlp_beta = MLPbeta(n_class=n_dof)\n",
    "mlp_prop = MLPprop(n_class=n_dof)\n",
    "cnn = CNN(n_class=n_dof)\n",
    "\n",
    "optimizer = tf.keras.optimizers.Adam()\n",
    "train_loss = tf.keras.metrics.Mean(name='train_loss')\n",
    "train_accuracy = tf.keras.metrics.CategoricalAccuracy(name='train_accuracy')\n",
    "train_prop_accuracy = tf.keras.metrics.MeanSquaredError(name='train_prop_accuracy')\n",
    "\n",
    "# Train neural networks\n",
    "models = [mlp, mlp_beta, cnn]\n",
    "models = [cnn]\n",
    "\n",
    "trainmlp, traincnn, y_train, x_train_mlp, x_train_cnn, x_train_lda, y_train_lda, x_train_aug, emg_scale, scaler, x_min, x_max, prop = prd.prep_train_caps(data, params)\n",
    "\n",
    "for model in models:\n",
    "    if isinstance(model,CNN):\n",
    "        ds = traincnn\n",
    "    else:\n",
    "        ds = trainmlp\n",
    " \n",
    "    prop_b = isinstance(model, MLPprop)\n",
    " \n",
    "    train_mod = get_train(prop = prop_b)\n",
    "\n",
    "    for epoch in range(ep):\n",
    "        # Reset the metrics at the start of the next epoch\n",
    "        train_loss.reset_states()\n",
    "        train_accuracy.reset_states()\n",
    "\n",
    "        for x, y, y2 in ds:\n",
    "            if prop_b:\n",
    "                train_mod(x, y, model, optimizer, train_loss, train_accuracy, train_prop_accuracy, y2)\n",
    "            else:\n",
    "                train_mod(x, y, model, optimizer, train_loss, train_accuracy)\n",
    "\n",
    "        if epoch == 0 or epoch == ep-1:\n",
    "            print(\n",
    "                f'Epoch {epoch + 1}, '\n",
    "                f'Loss: {train_loss.result():.2f}, '\n",
    "                f'Accuracy: {train_accuracy.result() * 100:.2f}, '\n",
    "                f'MSE: {train_prop_accuracy.result():.2f} '\n",
    "            )\n",
    "            \n",
    "    del train_mod\n",
    "\n",
    "# Train aligned LDA\n",
    "# y_train_aug = np.argmax(y_train, axis=1)[...,np.newaxis]\n",
    "\n",
    "# mlp_enc = mlp.get_layer(name='enc')\n",
    "# w_mlp, c_mlp,_, _, _ = train_lda(mlp_enc(x_train_mlp).numpy(),y_train_aug)\n",
    "\n",
    "# mlpbeta_enc = mlp_beta.get_layer(name='enc')\n",
    "# w_mlpbeta, c_mlpbeta,_, _, _ = train_lda(mlpbeta_enc(x_train_mlp).numpy(),y_train_aug)\n",
    "\n",
    "# cnn_enc = cnn.get_layer(name='enc')\n",
    "# temp = cnn_enc(x_train_cnn[:x_train_cnn.shape[0]//2,...]).numpy()\n",
    "# temp2 = np.vstack((temp,cnn_enc(x_train_cnn[x_train_cnn.shape[0]//2:,...]).numpy()))\n",
    "# w_cnn, c_cnn,_, _, _ = train_lda(temp2,y_train_aug)\n",
    "\n",
    "# # Train LDA\n",
    "# w,c, _, _, _ = train_lda(x_train_lda,y_train_lda)\n",
    "# w_aug,c_aug, _, _, _ = train_lda(x_train_aug,y_train_aug)\n",
    "\n",
    "mlp_w = mlp.get_weights()\n",
    "mlpb_w = mlp_beta.get_weights()\n",
    "cnn_w = cnn.get_weights()\n",
    "mlpp_w = mlp_prop.get_weights()"
   ]
  },
  {
   "cell_type": "code",
   "execution_count": 5,
   "metadata": {},
   "outputs": [],
   "source": [
    "enc = cnn.get_layer(name='enc')"
   ]
  },
  {
   "cell_type": "code",
   "execution_count": 37,
   "metadata": {},
   "outputs": [],
   "source": [
    "test = enc.conv2(enc.conv1(x_train_cnn[[0],...]))\n",
    "conv_w = enc.conv1.get_weights()\n",
    "conv2_w = enc.conv2.get_weights()"
   ]
  },
  {
   "cell_type": "code",
   "execution_count": 40,
   "metadata": {},
   "outputs": [
    {
     "data": {
      "text/plain": [
       "(3, 2, 1, 32)"
      ]
     },
     "execution_count": 40,
     "metadata": {},
     "output_type": "execute_result"
    }
   ],
   "source": [
    "conv2_w[0].shape"
   ]
  },
  {
   "cell_type": "code",
   "execution_count": 18,
   "metadata": {},
   "outputs": [
    {
     "data": {
      "text/plain": [
       "array([[0.20118496, 0.17590678, 0.18570808, 0.1550428 ],\n",
       "       [0.        , 0.00675926, 0.08845421, 0.        ],\n",
       "       [0.04442876, 0.11047111, 0.13063185, 0.01857545],\n",
       "       [0.        , 0.08245625, 0.09344479, 0.00084559],\n",
       "       [0.15121415, 0.21976984, 0.17214307, 0.06722967],\n",
       "       [0.16453835, 0.21301997, 0.22192857, 0.00274066]], dtype=float32)"
      ]
     },
     "execution_count": 18,
     "metadata": {},
     "output_type": "execute_result"
    }
   ],
   "source": [
    "np.squeeze(test[:,:,:,0])"
   ]
  },
  {
   "cell_type": "code",
   "execution_count": 30,
   "metadata": {},
   "outputs": [
    {
     "data": {
      "text/plain": [
       "array([[[ 0.20118497,  0.17590676,  0.18570807,  0.1550428 ],\n",
       "        [-0.        ,  0.00675927,  0.0884542 , -0.        ],\n",
       "        [ 0.04442876,  0.11047111,  0.13063185,  0.01857545],\n",
       "        [-0.        ,  0.08245626,  0.09344478,  0.00084559],\n",
       "        [ 0.15121414,  0.21976985,  0.17214307,  0.06722967],\n",
       "        [ 0.16453836,  0.21301996,  0.22192857,  0.00274065]],\n",
       "\n",
       "       [[ 0.018428  ,  0.03588767,  0.11781164,  0.11055478],\n",
       "        [ 0.02309402,  0.09968477,  0.11537892,  0.0110324 ],\n",
       "        [ 0.02093847,  0.11066228,  0.1263625 ,  0.01611886],\n",
       "        [ 0.01968538,  0.12313664,  0.11057556, -0.        ],\n",
       "        [ 0.01744111,  0.09784672,  0.06566927,  0.00204259],\n",
       "        [ 0.01696988,  0.09803   ,  0.1371545 ,  0.02060483]]])"
      ]
     },
     "execution_count": 30,
     "metadata": {},
     "output_type": "execute_result"
    }
   ],
   "source": [
    "np.squeeze(out)"
   ]
  },
  {
   "cell_type": "code",
   "execution_count": 25,
   "metadata": {},
   "outputs": [],
   "source": [
    "x = x_train_cnn[:2,...]"
   ]
  },
  {
   "cell_type": "code",
   "execution_count": 20,
   "metadata": {},
   "outputs": [
    {
     "data": {
      "text/plain": [
       "array([[0.        , 0.        , 0.        , 0.        , 0.        ],\n",
       "       [0.        , 0.68993932, 0.6364814 , 0.67741936, 0.78145695],\n",
       "       [0.        , 0.04369863, 0.02972985, 0.41129032, 0.52317882],\n",
       "       [0.        , 0.13506357, 0.10509808, 0.52419353, 0.57615894],\n",
       "       [0.        , 0.05266867, 0.03941892, 0.51612902, 0.54304636],\n",
       "       [0.        , 0.65596378, 0.6106711 , 0.78225809, 0.87417221],\n",
       "       [0.        , 0.67590499, 0.68101662, 0.83870965, 0.84105963],\n",
       "       [0.        , 0.        , 0.        , 0.        , 0.        ]])"
      ]
     },
     "execution_count": 20,
     "metadata": {},
     "output_type": "execute_result"
    }
   ],
   "source": [
    "np.squeeze(padded)"
   ]
  },
  {
   "cell_type": "code",
   "execution_count": 26,
   "metadata": {},
   "outputs": [],
   "source": [
    "padded = np.zeros((x.shape[0],x.shape[1]+2,x.shape[2]+1,x.shape[3]))\n",
    "padded[:,1:-1,:-1,:] = x\n",
    "out = np.zeros(x.shape)\n",
    "\n",
    "for i in range(padded.shape[1]-2):\n",
    "    for j in range(padded.shape[2]-1):\n",
    "        temp = padded[:,i:i+3,j:j+2,:]\n",
    "        out[:,i,j,:] = np.sum(np.sum(temp*conv_w[0][...,0],axis=1),axis=1) + conv_w[1][0]\n"
   ]
  },
  {
   "cell_type": "code",
   "execution_count": 36,
   "metadata": {},
   "outputs": [],
   "source": [
    "out = conv(x,conv_w,stride=1)"
   ]
  },
  {
   "cell_type": "code",
   "execution_count": 6,
   "metadata": {},
   "outputs": [
    {
     "name": "stdout",
     "output_type": "stream",
     "text": [
      "no embedded\n",
      "no embedded\n",
      "no embedded\n",
      "no embedded\n",
      "no embedded\n",
      "no embedded\n",
      "no embedded\n",
      "no embedded\n",
      "no embedded\n",
      "no embedded\n",
      "no embedded\n"
     ]
    }
   ],
   "source": [
    "# Save neural network architectures into csv\n",
    "arch = ['RELU1','BN1','RELU2','BN2','RELU3','BN3','DEN','BN4','SOFTMAX','PROP']\n",
    "w = {}\n",
    "w_in = mlpp_w\n",
    "folder = 'weights_p'\n",
    "path = 'python/'\n",
    "\n",
    "i = 0\n",
    "for l in arch:\n",
    "    w_layer = []\n",
    "    if 'BN' in l:\n",
    "        w_layer = np.vstack((np.vstack((np.vstack((w_in[i],w_in[i+1])),w_in[i+2])),w_in[i+3]))\n",
    "        i += 4\n",
    "    else:\n",
    "        w_layer = np.vstack((w_in[i],w_in[i+1]))\n",
    "        i += 2\n",
    "    \n",
    "    # Save to current folder\n",
    "    with open(path + folder + '/' + l + '.csv', 'w', newline='') as f:\n",
    "        writer = csv.writer(f)\n",
    "        # write multiple rows\n",
    "        writer.writerows(w_layer)\n",
    "\n",
    "    # Save to embedded\n",
    "    try:\n",
    "        with open('//192.168.20.2/config/modes/caps/upper_limb/dl_ctrl/DATA/' + folder + '/'  + l + '.csv', 'w', newline='') as f:\n",
    "            writer = csv.writer(f)\n",
    "            # write multiple rows\n",
    "            writer.writerows(w_layer)\n",
    "    except:\n",
    "        print('no embedded')\n",
    "    w[l] = w_layer\n",
    "\n",
    "fill = len(emg_scale) - len(x_min)\n",
    "temp = np.hstack((np.vstack((x_min[...,np.newaxis],np.zeros((fill,1)))), np.vstack((x_max[...,np.newaxis],np.zeros((fill,1))))))\n",
    "scales = np.hstack((emg_scale,temp))\n",
    "\n",
    "# Save to current folder\n",
    "with open(path + folder + '/ARCH.csv', 'w', newline='') as f:\n",
    "        writer = csv.writer(f,delimiter=',')\n",
    "        # write multiple rows\n",
    "        for i in arch:\n",
    "            writer.writerow([i])\n",
    "\n",
    "with open(path + folder + '/scales.csv', 'w', newline='') as f:\n",
    "        writer = csv.writer(f)\n",
    "        # write multiple rows\n",
    "        writer.writerows(scales)\n",
    "\n",
    "# Save to embedded\n",
    "try:\n",
    "    with open('//192.168.20.2/config/modes/caps/upper_limb/dl_ctrl/DATA/' + folder + '/ARCH.csv', 'w', newline='') as f:\n",
    "            writer = csv.writer(f,delimiter=',')\n",
    "            # write multiple rows\n",
    "            for i in arch:\n",
    "                writer.writerow([i])\n",
    "\n",
    "    with open('//192.168.20.2/config/modes/caps/upper_limb/dl_ctrl/DATA/' + folder + '/scales.csv', 'w', newline='') as f:\n",
    "            writer = csv.writer(f)\n",
    "            # write multiple rows\n",
    "            writer.writerows(scales)\n",
    "except:\n",
    "    print('no embedded')"
   ]
  },
  {
   "cell_type": "code",
   "execution_count": null,
   "metadata": {},
   "outputs": [],
   "source": []
  }
 ],
 "metadata": {
  "interpreter": {
   "hash": "1a3b9df806ffb9c99dfd499571232d2e3ccda8a03627b2b254cd16611a407c53"
  },
  "kernelspec": {
   "display_name": "Python 3.7.9 64-bit ('tf-2': conda)",
   "language": "python",
   "name": "python3"
  },
  "language_info": {
   "codemirror_mode": {
    "name": "ipython",
    "version": 3
   },
   "file_extension": ".py",
   "mimetype": "text/x-python",
   "name": "python",
   "nbconvert_exporter": "python",
   "pygments_lexer": "ipython3",
   "version": "3.7.9"
  },
  "orig_nbformat": 4
 },
 "nbformat": 4,
 "nbformat_minor": 2
}
