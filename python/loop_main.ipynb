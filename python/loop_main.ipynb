{
 "metadata": {
  "language_info": {
   "codemirror_mode": {
    "name": "ipython",
    "version": 3
   },
   "file_extension": ".py",
   "mimetype": "text/x-python",
   "name": "python",
   "nbconvert_exporter": "python",
   "pygments_lexer": "ipython3",
   "version": 3
  },
  "orig_nbformat": 2
 },
 "nbformat": 4,
 "nbformat_minor": 2,
 "cells": [
  {
   "cell_type": "code",
   "execution_count": null,
   "metadata": {},
   "outputs": [],
   "source": [
    "import numpy as np\n",
    "import pickle\n",
    "\n",
    "from gpu import set_gpu\n",
    "from matplotlib import pyplot as plt\n",
    "import loop as lp\n",
    "\n",
    "set_gpu()"
   ]
  },
  {
   "cell_type": "code",
   "execution_count": null,
   "metadata": {},
   "outputs": [],
   "source": [
    "sub_type = 'TR'\n",
    "with open('train_data_raw_'  + sub_type + '.p', 'rb') as f:\n",
    "    raw, params,feat,feat_sq = pickle.load(f)"
   ]
  },
  {
   "cell_type": "code",
   "execution_count": null,
   "metadata": {},
   "outputs": [],
   "source": [
    "# Loop through noise\n",
    "# acc_all, acc_noise, acc_clean, file_name = lp.loop_sub(raw, params, sub_type, load=False, n_train='gaussflat', train_scale=5, n_test='flat',test_scale=0,epochs=30, sparsity=True,dt='0416',feat_type='raw')\n",
    "acc_all, acc_noise, acc_clean, file_name = lp.loop_noise(raw, params, sub_type, load=True, n_train='gaussflat', train_scale=5, n_test='gauss2',epochs=30, sparsity=True,dt='0416',feat_type='feat')"
   ]
  },
  {
   "cell_type": "code",
   "execution_count": null,
   "metadata": {},
   "outputs": [],
   "source": [
    "# Load noise results\n",
    "train_grp = 2\n",
    "dt = '0416'\n",
    "feat_type = 'feat'\n",
    "latent_dim = 4\n",
    "epochs = 30\n",
    "n_train = 'gaussflat'\n",
    "train_scale = 5\n",
    "n_test = 'gauss'\n",
    "foldername = 'models' + '_' + str(train_grp) + '_' + dt\n",
    "resultsfile = foldername + '/' + sub_type + '_' + feat_type + '_dim_' + str(latent_dim) + '_ep_' + str(epochs) + '_' + n_train + '_' + str(train_scale) + '_' + n_test + '_sparse'\n",
    "with open(resultsfile + '_results.p', 'rb') as f:\n",
    "    acc_all, acc_clean, acc_noise = pickle.load(f)\n",
    "ave_all = np.nanmean(acc_all,axis=0)\n",
    "ave_noise = np.nanmean(acc_noise,axis=0)\n",
    "ave_clean = np.nanmean(acc_clean,axis=0)\n",
    "\n",
    "n_test = 'flat'\n",
    "test_scale = 0\n",
    "resultsfile = foldername + '/' + sub_type + '_' + feat_type + '_dim_' + str(latent_dim) + '_ep_' + str(epochs) + '_' + n_train + '_' + str(train_scale) + '_' + n_test + '_' + str(test_scale) + '_sparse'\n",
    "with open(resultsfile + '_results.p', 'rb') as f:\n",
    "    flat_all, flat_clean, flat_noise = pickle.load(f)\n",
    "flat_ave_all = np.nanmean(flat_all,axis=0)[np.newaxis,...]\n",
    "flat_ave_noise = np.nanmean(flat_noise,axis=0)[np.newaxis,...]\n",
    "flat_ave_clean = np.nanmean(flat_clean,axis=0)[np.newaxis,...]"
   ]
  },
  {
   "cell_type": "code",
   "execution_count": null,
   "metadata": {},
   "outputs": [],
   "source": [
    "# Plot accuracy vs. noise\n",
    "fig,ax = plt.subplots(1,3)\n",
    "for i in range(0,4):\n",
    "    ax[0].plot(np.hstack((flat_ave_noise[0,i],ave_noise[:,i])),'-o')\n",
    "for i in range(4,8):    \n",
    "    ax[1].plot(np.hstack((flat_ave_noise[0,i],ave_noise[:,i])),'-o')\n",
    "for i in range(8,12):    \n",
    "    ax[2].plot(np.hstack((flat_ave_noise[0,i],ave_noise[:,i])),'--o')\n",
    "ax[0].set_ylabel('Accuracy')\n",
    "fig.text(0.5, 0, 'Type of Noise', ha='center')\n",
    "ax[0].legend(['svcnn','sae','cnn','vcnn'])\n",
    "ax[1].legend(['svcnn-lda','sae-lda','cnn-lda','vcnn-lda'])\n",
    "ax[2].legend(['LDA','LDA-corrupt','QDA','QDA-corrupt'])\n",
    "ax[1].set_yticks([])\n",
    "ax[2].set_yticks([])\n",
    "for i in range(0,3):\n",
    "    ax[i].set_ylim(0,1)\n",
    "    ax[i].set_xticks(range(0,6))\n",
    "    ax[i].set_xticklabels(['Flat','1','2','3','4','5'])\n",
    "\n",
    "fig.set_tight_layout(True)"
   ]
  },
  {
   "cell_type": "code",
   "execution_count": null,
   "metadata": {},
   "outputs": [],
   "source": [
    "# loop through latent dimensions\n",
    "sub_all, sub_noise, sub_clean, file_name = lp.loop_alldim(raw, params, sub_type, load=False, n_train='gaussflat', train_scale=3, n_test='gauss', test_scale=1,epochs=30, sparsity=True, dt='0414')"
   ]
  },
  {
   "cell_type": "code",
   "execution_count": null,
   "metadata": {},
   "outputs": [],
   "source": [
    "# load results from latent dimension loop, sparse vs. not sparse\n",
    "sub_all, sub_noise, sub_clean, sparse_all, sparse_noise, sparse_clean = lp.load_results(params, sub_type=sub_type,sparsity=True, dt='0414')\n",
    "sub_all, sub_noise, sub_clean, ave_all, ave_noise, ave_clean = lp.load_results(params, sub_type=sub_type,sparsity=False, dt='0414')"
   ]
  },
  {
   "cell_type": "code",
   "execution_count": null,
   "metadata": {},
   "outputs": [],
   "source": [
    "# Plot accuracy vs. latent dimension\n",
    "fig,ax = plt.subplots(1,2)\n",
    "for i in range(0,4):\n",
    "    ax[0].plot(ave_noise[:,i],'-o')\n",
    "    ax[1].plot(sparse_noise[:,i],'-o')\n",
    "ax[0].set_ylabel('Accuracy')\n",
    "fig.text(0.5, 0.04, 'Latent Dimension', ha='center')\n",
    "ax[0].set_ylim(0.5,1)\n",
    "ax[1].set_ylim(0.5,1)\n",
    "ax[0].legend(['svcnn','sae','cnn','vcnn'])"
   ]
  }
 ]
}