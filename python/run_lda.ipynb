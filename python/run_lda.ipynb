{
 "metadata": {
  "language_info": {
   "codemirror_mode": {
    "name": "ipython",
    "version": 3
   },
   "file_extension": ".py",
   "mimetype": "text/x-python",
   "name": "python",
   "nbconvert_exporter": "python",
   "pygments_lexer": "ipython3",
   "version": "3.7.9-final"
  },
  "orig_nbformat": 2,
  "kernelspec": {
   "name": "python_defaultSpec_1600371018338",
   "display_name": "Python 3.7.9 64-bit ('tf-gpu': conda)"
  }
 },
 "nbformat": 4,
 "nbformat_minor": 2,
 "cells": [
  {
   "cell_type": "code",
   "execution_count": 1,
   "metadata": {},
   "outputs": [],
   "source": [
    "import numpy as np\n",
    "import pandas as pd\n",
    "from load_data import load_train_data\n",
    "from lda import train_lda, predict\n",
    "from sklearn.utils import shuffle\n",
    "from sklearn.model_selection import train_test_split\n",
    "import tensorflow as tf\n",
    "import tensorflow.keras\n",
    "from tensorflow.keras.models import Sequential\n",
    "from tensorflow.keras.layers import Activation, Dense\n",
    "from tensorflow.keras.optimizers import Adam\n",
    "from tensorflow.keras.metrics import categorical_crossentropy\n",
    "from keras.utils import to_categorical\n",
    "from sklearn.preprocessing import MinMaxScaler"
   ]
  },
  {
   "cell_type": "code",
   "execution_count": null,
   "metadata": {},
   "outputs": [],
   "source": [
    "# Load data\n",
    "feat,params,daq = load_train_data('train_data_raw_AB.mat')"
   ]
  },
  {
   "cell_type": "code",
   "execution_count": 3,
   "metadata": {},
   "outputs": [],
   "source": [
    "# Build NN model\n",
    "model = Sequential([\n",
    "    Dense(units=60, input_shape=(60,), activation='relu'),\n",
    "    Dense(units=32, activation='relu'),\n",
    "    Dense(units=7, activation='softmax')\n",
    "])\n",
    "model.compile(optimizer=Adam(learning_rate=0.0001), loss='sparse_categorical_crossentropy', metrics=['accuracy'])\n",
    "model.summary()"
   ]
  },
  {
   "cell_type": "code",
   "execution_count": 32,
   "metadata": {
    "tags": []
   },
   "outputs": [],
   "source": [
    "# Index data\n",
    "# grp = 1 (static), 2 (dynamic), 3 (0g), 4 (400g), 5 (500g), 6 (600g)\n",
    "sub = 15\n",
    "grp = 3\n",
    "ind = (params[:,0] < sub) & (params[:,3] == grp)\n",
    "\n",
    "# Shuffle and split data\n",
    "feat_s, label_s = shuffle(feat[ind,:],params[ind,-2,np.newaxis])\n",
    "X_train, X_test, y_train, y_test = train_test_split(feat_s, label_s, test_size=0.3, random_state=0, stratify=label_s)\n",
    "\n",
    "# Reshape and scale data\n",
    "y_train = np.squeeze(y_train-1)\n",
    "scaler = MinMaxScaler(feature_range=(-1,1))\n",
    "scaler.fit(X_train)\n",
    "X_train_n = scaler.transform(X_train)\n",
    "X_test_n = scaler.transform(X_test)"
   ]
  },
  {
   "cell_type": "code",
   "execution_count": 33,
   "metadata": {
    "tags": []
   },
   "outputs": [
    {
     "output_type": "stream",
     "name": "stdout",
     "text": "Epoch 1/30\n965/965 - 1s - loss: 1.1077 - accuracy: 0.6561 - val_loss: 0.8965 - val_accuracy: 0.6950\nEpoch 2/30\n965/965 - 1s - loss: 0.8095 - accuracy: 0.7223 - val_loss: 0.7701 - val_accuracy: 0.7397\nEpoch 3/30\n965/965 - 1s - loss: 0.7223 - accuracy: 0.7570 - val_loss: 0.7099 - val_accuracy: 0.7612\nEpoch 4/30\n965/965 - 1s - loss: 0.6753 - accuracy: 0.7757 - val_loss: 0.6764 - val_accuracy: 0.7784\nEpoch 5/30\n965/965 - 1s - loss: 0.6441 - accuracy: 0.7873 - val_loss: 0.6502 - val_accuracy: 0.7866\nEpoch 6/30\n965/965 - 1s - loss: 0.6193 - accuracy: 0.7972 - val_loss: 0.6280 - val_accuracy: 0.7956\nEpoch 7/30\n965/965 - 1s - loss: 0.5991 - accuracy: 0.8033 - val_loss: 0.6097 - val_accuracy: 0.8006\nEpoch 8/30\n965/965 - 1s - loss: 0.5819 - accuracy: 0.8090 - val_loss: 0.5942 - val_accuracy: 0.8035\nEpoch 9/30\n965/965 - 1s - loss: 0.5667 - accuracy: 0.8132 - val_loss: 0.5809 - val_accuracy: 0.8087\nEpoch 10/30\n965/965 - 1s - loss: 0.5534 - accuracy: 0.8174 - val_loss: 0.5695 - val_accuracy: 0.8120\nEpoch 11/30\n965/965 - 1s - loss: 0.5419 - accuracy: 0.8221 - val_loss: 0.5614 - val_accuracy: 0.8125\nEpoch 12/30\n965/965 - 1s - loss: 0.5320 - accuracy: 0.8250 - val_loss: 0.5472 - val_accuracy: 0.8155\nEpoch 13/30\n965/965 - 1s - loss: 0.5227 - accuracy: 0.8281 - val_loss: 0.5376 - val_accuracy: 0.8222\nEpoch 14/30\n965/965 - 1s - loss: 0.5144 - accuracy: 0.8307 - val_loss: 0.5308 - val_accuracy: 0.8224\nEpoch 15/30\n965/965 - 1s - loss: 0.5068 - accuracy: 0.8330 - val_loss: 0.5218 - val_accuracy: 0.8280\nEpoch 16/30\n965/965 - 1s - loss: 0.4996 - accuracy: 0.8353 - val_loss: 0.5152 - val_accuracy: 0.8324\nEpoch 17/30\n965/965 - 1s - loss: 0.4931 - accuracy: 0.8372 - val_loss: 0.5090 - val_accuracy: 0.8315\nEpoch 18/30\n965/965 - 1s - loss: 0.4868 - accuracy: 0.8395 - val_loss: 0.5042 - val_accuracy: 0.8318\nEpoch 19/30\n965/965 - 1s - loss: 0.4812 - accuracy: 0.8417 - val_loss: 0.4960 - val_accuracy: 0.8391\nEpoch 20/30\n965/965 - 1s - loss: 0.4752 - accuracy: 0.8421 - val_loss: 0.4900 - val_accuracy: 0.8391\nEpoch 21/30\n965/965 - 1s - loss: 0.4695 - accuracy: 0.8442 - val_loss: 0.4908 - val_accuracy: 0.8388\nEpoch 22/30\n965/965 - 1s - loss: 0.4646 - accuracy: 0.8461 - val_loss: 0.4824 - val_accuracy: 0.8434\nEpoch 23/30\n965/965 - 1s - loss: 0.4596 - accuracy: 0.8476 - val_loss: 0.4761 - val_accuracy: 0.8461\nEpoch 24/30\n965/965 - 1s - loss: 0.4544 - accuracy: 0.8488 - val_loss: 0.4712 - val_accuracy: 0.8484\nEpoch 25/30\n965/965 - 1s - loss: 0.4495 - accuracy: 0.8502 - val_loss: 0.4668 - val_accuracy: 0.8481\nEpoch 26/30\n965/965 - 1s - loss: 0.4456 - accuracy: 0.8529 - val_loss: 0.4618 - val_accuracy: 0.8513\nEpoch 27/30\n965/965 - 1s - loss: 0.4408 - accuracy: 0.8536 - val_loss: 0.4593 - val_accuracy: 0.8478\nEpoch 28/30\n965/965 - 1s - loss: 0.4361 - accuracy: 0.8558 - val_loss: 0.4556 - val_accuracy: 0.8542\nEpoch 29/30\n965/965 - 1s - loss: 0.4320 - accuracy: 0.8573 - val_loss: 0.4511 - val_accuracy: 0.8542\nEpoch 30/30\n965/965 - 1s - loss: 0.4279 - accuracy: 0.8590 - val_loss: 0.4441 - val_accuracy: 0.8557\n"
    },
    {
     "output_type": "execute_result",
     "data": {
      "text/plain": "<tensorflow.python.keras.callbacks.History at 0x255de290cc8>"
     },
     "metadata": {},
     "execution_count": 33
    }
   ],
   "source": [
    "# Fit model\n",
    "model.fit(x=X_train_n, y=y_train, validation_split=0.1, batch_size=32, epochs=30, verbose=2)"
   ]
  },
  {
   "cell_type": "code",
   "execution_count": 34,
   "metadata": {},
   "outputs": [
    {
     "output_type": "execute_result",
     "data": {
      "text/plain": "0.8531292517006803"
     },
     "metadata": {},
     "execution_count": 34
    }
   ],
   "source": [
    "# Evaluate test set\n",
    "out = np.argmax(model.predict(x=X_test_n), axis = 1)\n",
    "np.sum(out.reshape(y_test.shape) == y_test - 1)/y_test.shape[0]"
   ]
  },
  {
   "cell_type": "code",
   "execution_count": 54,
   "metadata": {},
   "outputs": [
    {
     "output_type": "execute_result",
     "data": {
      "text/plain": "0.7724"
     },
     "metadata": {},
     "execution_count": 54
    }
   ],
   "source": [
    "sub = 14\n",
    "grp = 3\n",
    "ind = (params[:,0] == sub) & (params[:,3] != grp)\n",
    "\n",
    "# Shuffle and split data\n",
    "X_test_new, y_test_new = shuffle(feat[ind,:],params[ind,-2,np.newaxis])\n",
    "X_test_new = scaler.transform(X_test_new)\n",
    "out = np.argmax(model.predict(x=X_test_new), axis = 1)\n",
    "np.sum(out.reshape(y_test_new.shape) == y_test_new - 1)/y_test_new.shape[0]"
   ]
  },
  {
   "cell_type": "code",
   "execution_count": 121,
   "metadata": {},
   "outputs": [
    {
     "output_type": "execute_result",
     "data": {
      "text/plain": "0.9933333333333333"
     },
     "metadata": {},
     "execution_count": 121
    }
   ],
   "source": [
    "w,c = train_lda(X_train_n,y_train)\n",
    "X_test_n = scaler.transform(X_test)\n",
    "out = predict(X_test_n,w,c)\n",
    "np.sum(out.reshape(y_test.shape) == y_test-1)/y_test.shape[0]"
   ]
  }
 ]
}