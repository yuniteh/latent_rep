{
 "metadata": {
  "language_info": {
   "codemirror_mode": {
    "name": "ipython",
    "version": 3
   },
   "file_extension": ".py",
   "mimetype": "text/x-python",
   "name": "python",
   "nbconvert_exporter": "python",
   "pygments_lexer": "ipython3",
   "version": "3.7.9-final"
  },
  "orig_nbformat": 2,
  "kernelspec": {
   "name": "python_defaultSpec_1600371018338",
   "display_name": "Python 3.7.9 64-bit ('tf-gpu': conda)"
  }
 },
 "nbformat": 4,
 "nbformat_minor": 2,
 "cells": [
  {
   "cell_type": "code",
   "execution_count": 63,
   "metadata": {},
   "outputs": [],
   "source": [
    "import numpy as np\n",
    "import pandas as pd\n",
    "from load_data import load_train_data\n",
    "from lda import train_lda, predict\n",
    "from sklearn.utils import shuffle\n",
    "from sklearn.model_selection import train_test_split\n",
    "import tensorflow as tf\n",
    "import tensorflow.keras\n",
    "from tensorflow.keras.models import Sequential\n",
    "from tensorflow.keras.layers import Activation, Dense\n",
    "from tensorflow.keras.optimizers import Adam\n",
    "from tensorflow.keras.metrics import categorical_crossentropy\n",
    "\n",
    "feat,params,daq = load_train_data('train_data_raw_AB.mat')"
   ]
  },
  {
   "cell_type": "code",
   "execution_count": 13,
   "metadata": {},
   "outputs": [],
   "source": [
    "# w1,c1 = lda.train_lda(feat,params[:,4,np.newaxis])\n",
    "w,c = train_lda2(feat.T,params[:,4,np.newaxis].T)"
   ]
  },
  {
   "cell_type": "code",
   "execution_count": 14,
   "metadata": {},
   "outputs": [],
   "source": [
    "# out1 = lda.predict(feat,w1,c1)\n",
    "out = predict2(feat.T,w,c)"
   ]
  },
  {
   "cell_type": "code",
   "execution_count": 95,
   "metadata": {},
   "outputs": [],
   "source": [
    "model = Sequential([\n",
    "    Dense(units=60, input_shape=(60,), activation='relu'),\n",
    "    Dense(units=32, activation='relu'),\n",
    "    Dense(units=7, activation='softmax')\n",
    "])"
   ]
  },
  {
   "cell_type": "code",
   "execution_count": 71,
   "metadata": {
    "tags": []
   },
   "outputs": [
    {
     "output_type": "stream",
     "name": "stdout",
     "text": "Model: \"sequential_5\"\n_________________________________________________________________\nLayer (type)                 Output Shape              Param #   \n=================================================================\ndense_15 (Dense)             (None, 60)                3660      \n_________________________________________________________________\ndense_16 (Dense)             (None, 32)                1952      \n_________________________________________________________________\ndense_17 (Dense)             (None, 7)                 231       \n=================================================================\nTotal params: 5,843\nTrainable params: 5,843\nNon-trainable params: 0\n_________________________________________________________________\n"
    }
   ],
   "source": [
    "model.summary()"
   ]
  },
  {
   "cell_type": "code",
   "execution_count": 96,
   "metadata": {},
   "outputs": [],
   "source": [
    "model.compile(optimizer=Adam(learning_rate=0.0001), loss='categorical_crossentropy', metrics=['accuracy'])"
   ]
  },
  {
   "cell_type": "code",
   "execution_count": 97,
   "metadata": {},
   "outputs": [],
   "source": [
    "from keras.utils import to_categorical\n",
    "from sklearn.preprocessing import MinMaxScaler\n",
    "\n",
    "sub = 2\n",
    "grp = 1\n",
    "ind = (params[:,0] < sub) & (params[:,3] == grp)\n",
    "feat_s, label_s = shuffle(feat[ind,:],params[ind,-2,np.newaxis])\n",
    "X_train, X_test, y_train, y_test = train_test_split(feat_s, label_s, test_size=0.3, random_state=0, stratify=label_s)\n",
    "y_cat = to_categorical(y_train-1)\n",
    "scaler = MinMaxScaler(feature_range=(-1,1))\n",
    "scaler.fit(X_train)\n",
    "X_train_n = scaler.transform(X_train)"
   ]
  },
  {
   "cell_type": "code",
   "execution_count": 83,
   "metadata": {},
   "outputs": [
    {
     "output_type": "execute_result",
     "data": {
      "text/plain": "1"
     },
     "metadata": {},
     "execution_count": 83
    }
   ],
   "source": []
  },
  {
   "cell_type": "code",
   "execution_count": 98,
   "metadata": {
    "tags": []
   },
   "outputs": [
    {
     "output_type": "stream",
     "name": "stdout",
     "text": "Epoch 1/30\n69/69 - 0s - loss: 1.9028 - accuracy: 0.2281 - val_loss: 1.8942 - val_accuracy: 0.2816\nEpoch 2/30\n69/69 - 0s - loss: 1.7991 - accuracy: 0.3669 - val_loss: 1.7917 - val_accuracy: 0.4082\nEpoch 3/30\n69/69 - 0s - loss: 1.6939 - accuracy: 0.5002 - val_loss: 1.6800 - val_accuracy: 0.5265\nEpoch 4/30\n69/69 - 0s - loss: 1.5808 - accuracy: 0.6299 - val_loss: 1.5587 - val_accuracy: 0.6204\nEpoch 5/30\n69/69 - 0s - loss: 1.4553 - accuracy: 0.7252 - val_loss: 1.4298 - val_accuracy: 0.7184\nEpoch 6/30\n69/69 - 0s - loss: 1.3173 - accuracy: 0.7973 - val_loss: 1.2921 - val_accuracy: 0.7837\nEpoch 7/30\n69/69 - 0s - loss: 1.1773 - accuracy: 0.8395 - val_loss: 1.1525 - val_accuracy: 0.8571\nEpoch 8/30\n69/69 - 0s - loss: 1.0430 - accuracy: 0.8617 - val_loss: 1.0217 - val_accuracy: 0.8612\nEpoch 9/30\n69/69 - 0s - loss: 0.9208 - accuracy: 0.8830 - val_loss: 0.9041 - val_accuracy: 0.8735\nEpoch 10/30\n69/69 - 0s - loss: 0.8104 - accuracy: 0.9020 - val_loss: 0.7987 - val_accuracy: 0.8939\nEpoch 11/30\n69/69 - 0s - loss: 0.7148 - accuracy: 0.9134 - val_loss: 0.7106 - val_accuracy: 0.9102\nEpoch 12/30\n69/69 - 0s - loss: 0.6327 - accuracy: 0.9329 - val_loss: 0.6312 - val_accuracy: 0.9184\nEpoch 13/30\n69/69 - 0s - loss: 0.5616 - accuracy: 0.9424 - val_loss: 0.5644 - val_accuracy: 0.9306\nEpoch 14/30\n69/69 - 0s - loss: 0.5008 - accuracy: 0.9497 - val_loss: 0.5063 - val_accuracy: 0.9469\nEpoch 15/30\n69/69 - 0s - loss: 0.4478 - accuracy: 0.9556 - val_loss: 0.4547 - val_accuracy: 0.9510\nEpoch 16/30\n69/69 - 0s - loss: 0.4026 - accuracy: 0.9587 - val_loss: 0.4093 - val_accuracy: 0.9551\nEpoch 17/30\n69/69 - 0s - loss: 0.3626 - accuracy: 0.9615 - val_loss: 0.3717 - val_accuracy: 0.9592\nEpoch 18/30\n69/69 - 0s - loss: 0.3272 - accuracy: 0.9628 - val_loss: 0.3364 - val_accuracy: 0.9592\nEpoch 19/30\n69/69 - 0s - loss: 0.2961 - accuracy: 0.9655 - val_loss: 0.3067 - val_accuracy: 0.9633\nEpoch 20/30\n69/69 - 0s - loss: 0.2687 - accuracy: 0.9664 - val_loss: 0.2791 - val_accuracy: 0.9673\nEpoch 21/30\n69/69 - 0s - loss: 0.2444 - accuracy: 0.9692 - val_loss: 0.2551 - val_accuracy: 0.9714\nEpoch 22/30\n69/69 - 0s - loss: 0.2235 - accuracy: 0.9714 - val_loss: 0.2346 - val_accuracy: 0.9755\nEpoch 23/30\n69/69 - 0s - loss: 0.2045 - accuracy: 0.9746 - val_loss: 0.2149 - val_accuracy: 0.9755\nEpoch 24/30\n69/69 - 0s - loss: 0.1882 - accuracy: 0.9751 - val_loss: 0.1996 - val_accuracy: 0.9755\nEpoch 25/30\n69/69 - 0s - loss: 0.1733 - accuracy: 0.9773 - val_loss: 0.1846 - val_accuracy: 0.9755\nEpoch 26/30\n69/69 - 0s - loss: 0.1600 - accuracy: 0.9814 - val_loss: 0.1716 - val_accuracy: 0.9755\nEpoch 27/30\n69/69 - 0s - loss: 0.1484 - accuracy: 0.9814 - val_loss: 0.1607 - val_accuracy: 0.9755\nEpoch 28/30\n69/69 - 0s - loss: 0.1378 - accuracy: 0.9850 - val_loss: 0.1499 - val_accuracy: 0.9796\nEpoch 29/30\n69/69 - 0s - loss: 0.1285 - accuracy: 0.9859 - val_loss: 0.1401 - val_accuracy: 0.9796\nEpoch 30/30\n69/69 - 0s - loss: 0.1201 - accuracy: 0.9859 - val_loss: 0.1323 - val_accuracy: 0.9796\n"
    },
    {
     "output_type": "execute_result",
     "data": {
      "text/plain": "<tensorflow.python.keras.callbacks.History at 0x1ccf28d6c08>"
     },
     "metadata": {},
     "execution_count": 98
    }
   ],
   "source": [
    "model.fit(x=X_train_n, y=y_cat, validation_split=0.1, batch_size=32, epochs=30, verbose=2)"
   ]
  },
  {
   "cell_type": "code",
   "execution_count": 121,
   "metadata": {},
   "outputs": [
    {
     "output_type": "execute_result",
     "data": {
      "text/plain": "0.9933333333333333"
     },
     "metadata": {},
     "execution_count": 121
    }
   ],
   "source": [
    "w,c = train_lda(X_train_n,y_train)\n",
    "X_test_n = scaler.transform(X_test)\n",
    "out = predict(X_test_n,w,c)\n",
    "np.sum(out.reshape(y_test.shape) == y_test-1)/y_test.shape[0]"
   ]
  },
  {
   "cell_type": "code",
   "execution_count": null,
   "metadata": {},
   "outputs": [],
   "source": []
  }
 ]
}