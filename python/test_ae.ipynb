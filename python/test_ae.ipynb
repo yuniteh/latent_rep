{
 "metadata": {
  "language_info": {
   "codemirror_mode": {
    "name": "ipython",
    "version": 3
   },
   "file_extension": ".py",
   "mimetype": "text/x-python",
   "name": "python",
   "nbconvert_exporter": "python",
   "pygments_lexer": "ipython3",
   "version": "3.7.9"
  },
  "orig_nbformat": 2,
  "kernelspec": {
   "name": "python3",
   "display_name": "Python 3",
   "language": "python"
  }
 },
 "nbformat": 4,
 "nbformat_minor": 2,
 "cells": [
  {
   "cell_type": "code",
   "execution_count": 1,
   "metadata": {
    "tags": []
   },
   "outputs": [
    {
     "output_type": "stream",
     "name": "stdout",
     "text": [
      "Num GPUs Available:  1\n"
     ]
    }
   ],
   "source": [
    "import numpy as np\n",
    "import pickle\n",
    "\n",
    "from gpu import set_gpu\n",
    "from matplotlib import pyplot as plt\n",
    "import loop as lp\n",
    "\n",
    "set_gpu()"
   ]
  },
  {
   "source": [
    "# Load and Process Data"
   ],
   "cell_type": "markdown",
   "metadata": {}
  },
  {
   "cell_type": "code",
   "execution_count": 2,
   "metadata": {},
   "outputs": [],
   "source": [
    "sub_type = 'AB'"
   ]
  },
  {
   "cell_type": "code",
   "execution_count": 3,
   "metadata": {},
   "outputs": [],
   "source": [
    "with open('train_data_raw_'  + sub_type + '.p', 'rb') as f:\n",
    "    raw, params,feat,feat_sq = pickle.load(f)"
   ]
  },
  {
   "source": [
    "# Single Subject Analysis "
   ],
   "cell_type": "markdown",
   "metadata": {}
  },
  {
   "cell_type": "code",
   "execution_count": 4,
   "metadata": {},
   "outputs": [],
   "source": [
    "from sklearn.model_selection import train_test_split\n",
    "from sklearn.preprocessing import MinMaxScaler\n",
    "from lda import train_lda, predict, eval_lda\n",
    "import sVAE_utils as svae\n",
    "import process_data as prd\n",
    "import copy as cp"
   ]
  },
  {
   "cell_type": "code",
   "execution_count": 5,
   "metadata": {},
   "outputs": [],
   "source": [
    "# Initialize variables\n",
    "mod = 'vae'\n",
    "load = False\n",
    "batch_size = 128\n",
    "latent_dim = 6\n",
    "epochs = 30\n",
    "train_scale = 5\n",
    "test_scale = 5\n",
    "noise = True\n",
    "n_train = 'flat'\n",
    "n_test = 'flat'\n",
    "feat_type =  'feat'\n",
    "sub = 1\n",
    "train_grp = 2\n",
    "\n",
    "acc_all = np.zeros([1,4])\n",
    "acc_clean = np.zeros([1,4])\n",
    "acc_noise = np.zeros([1,4])\n",
    "\n",
    "if n_train == 'flat':\n",
    "    train_scale = 0\n",
    "if n_test == 'flat':\n",
    "    test_scale = 0\n",
    "\n",
    "ind = (params[:,0] == sub) & (params[:,3] == train_grp)\n",
    "\n",
    "enc_w = 0\n",
    "dec_w = 0\n",
    "clf_w = 0"
   ]
  },
  {
   "cell_type": "code",
   "execution_count": 6,
   "metadata": {},
   "outputs": [
    {
     "output_type": "stream",
     "name": "stdout",
     "text": [
      "Running sub 1, model 2\n",
      "Train on 16415 samples\n",
      "Epoch 1/30\n",
      "16415/16415 [==============================] - 6s 361us/sample - loss: 0.0311\n",
      "Epoch 2/30\n",
      "16415/16415 [==============================] - 1s 32us/sample - loss: 0.0193\n",
      "Epoch 3/30\n",
      "16415/16415 [==============================] - 0s 30us/sample - loss: 0.0189\n",
      "Epoch 4/30\n",
      "16415/16415 [==============================] - 0s 30us/sample - loss: 0.0187\n",
      "Epoch 5/30\n",
      "16415/16415 [==============================] - 1s 33us/sample - loss: 0.0186\n",
      "Epoch 6/30\n",
      "16415/16415 [==============================] - 0s 30us/sample - loss: 0.0187\n",
      "Epoch 7/30\n",
      "16415/16415 [==============================] - 0s 30us/sample - loss: 0.0185\n",
      "Epoch 8/30\n",
      "16415/16415 [==============================] - 1s 32us/sample - loss: 0.0185\n",
      "Epoch 9/30\n",
      "16415/16415 [==============================] - 1s 31us/sample - loss: 0.0185\n",
      "Epoch 10/30\n",
      "16415/16415 [==============================] - 0s 30us/sample - loss: 0.0185\n",
      "Epoch 11/30\n",
      "16415/16415 [==============================] - 1s 33us/sample - loss: 0.0184\n",
      "Epoch 12/30\n",
      "16415/16415 [==============================] - 1s 31us/sample - loss: 0.0184\n",
      "Epoch 13/30\n",
      "16415/16415 [==============================] - 0s 30us/sample - loss: 0.0183\n",
      "Epoch 14/30\n",
      "16415/16415 [==============================] - 1s 31us/sample - loss: 0.0183\n",
      "Epoch 15/30\n",
      "16415/16415 [==============================] - 0s 30us/sample - loss: 0.0182\n",
      "Epoch 16/30\n",
      "16415/16415 [==============================] - 0s 30us/sample - loss: 0.0183\n",
      "Epoch 17/30\n",
      "16415/16415 [==============================] - 0s 29us/sample - loss: 0.0183\n",
      "Epoch 18/30\n",
      "16415/16415 [==============================] - 1s 31us/sample - loss: 0.0182\n",
      "Epoch 19/30\n",
      "16415/16415 [==============================] - 0s 30us/sample - loss: 0.0182\n",
      "Epoch 20/30\n",
      "16415/16415 [==============================] - 0s 30us/sample - loss: 0.0182\n",
      "Epoch 21/30\n",
      "16415/16415 [==============================] - 1s 31us/sample - loss: 0.0182\n",
      "Epoch 22/30\n",
      "16415/16415 [==============================] - 0s 30us/sample - loss: 0.0182\n",
      "Epoch 23/30\n",
      "16415/16415 [==============================] - 0s 30us/sample - loss: 0.0183\n",
      "Epoch 24/30\n",
      "16415/16415 [==============================] - 0s 30us/sample - loss: 0.0182\n",
      "Epoch 25/30\n",
      "16415/16415 [==============================] - 1s 31us/sample - loss: 0.0182\n",
      "Epoch 26/30\n",
      "16415/16415 [==============================] - 1s 33us/sample - loss: 0.0182\n",
      "Epoch 27/30\n",
      "16415/16415 [==============================] - 1s 35us/sample - loss: 0.0182\n",
      "Epoch 28/30\n",
      "16415/16415 [==============================] - 1s 33us/sample - loss: 0.0182\n",
      "Epoch 29/30\n",
      "16415/16415 [==============================] - 1s 34us/sample - loss: 0.0181\n",
      "Epoch 30/30\n",
      "16415/16415 [==============================] - 1s 34us/sample - loss: 0.0182\n"
     ]
    }
   ],
   "source": [
    "# Check if training data exists\n",
    "if np.sum(ind):\n",
    "    print('Running sub ' + str(sub) + ', model ' + str(train_grp))\n",
    "    # Set folder and file names\n",
    "    foldername = 'models' + '_' + str(train_grp)\n",
    "    if not os.path.exists(foldername):\n",
    "        os.makedirs(foldername)\n",
    "    filename = foldername + '/sub_' + mod + '_' + feat_type +'_dim_' + str(latent_dim) + '_ep_' + str(epochs) + '_' + n_train + '_' + str(train_scale) + '_'  + sub_type\n",
    "\n",
    "    # Load saved data\n",
    "    if load:\n",
    "        with open(filename + str(sub) + '.p', 'rb') as f:\n",
    "            scaler, vae_w, enc_w, dec_w, clf_w, w, c, w_noise, c_noise, w_aligned, c_aligned, x_train, x_test, p_train, p_test = pickle.load(f)   \n",
    "    else:\n",
    "        # Split training and testing data\n",
    "        x_train, x_test, p_train, p_test = train_test_split(raw[ind,:,:], params[ind,:], test_size = 0.33, stratify=params[ind,4])\n",
    "        # # Initialize scaler\n",
    "        scaler = MinMaxScaler(feature_range=(-1,1))\n",
    "    \n",
    "    # Get ground truth\n",
    "    y_train = p_train[:,4]\n",
    "    y_test = p_test[:,4]\n",
    "\n",
    "    # Add noise and index EMG data\n",
    "    x_train_noise, x_train_clean, y_train_clean = prd.add_noise(x_train, p_train, sub, n_train, train_scale)\n",
    "    x_test_noise, x_test_clean, y_test_clean = prd.add_noise(x_test, p_test, sub, n_test, test_scale)\n",
    "    clean_size = int(np.size(x_test_clean,axis=0)/(np.size(x_test_clean,axis=1)+1))\n",
    "    if not noise:\n",
    "        x_train_noise = cp.deepcopy(x_train_clean)\n",
    "        x_test_noise = cp.deepcopy(x_test_clean)\n",
    "\n",
    "    # Extract features\n",
    "    if feat_type == 'feat':\n",
    "        x_train_noise_temp = prd.extract_feats(x_train_noise).reshape((x_train_noise.shape[0],6,-1))[...,np.newaxis]\n",
    "        x_test_noise_temp = prd.extract_feats(x_test_noise).reshape((x_test_noise.shape[0],6,-1))[...,np.newaxis]\n",
    "        x_train_clean_temp = prd.extract_feats(x_train_clean).reshape((x_train_clean.shape[0],6,-1))[...,np.newaxis]\n",
    "        x_test_clean_temp = prd.extract_feats(x_test_clean).reshape((x_test_clean.shape[0],6,-1))[...,np.newaxis]\n",
    "    else:\n",
    "        x_train_noise_temp = cp.deepcopy(x_train_noise)\n",
    "        x_test_noise_temp = cp.deepcopy(x_test_noise)\n",
    "        x_train_clean_temp = cp.deepcopy(x_train_clean)\n",
    "        x_test_clean_temp = cp.deepcopy(x_test_clean)\n",
    "        \n",
    "    ## SUBJECT SPECIFIC SUPERVISED VAE\n",
    "    # Scale data\n",
    "    if load:\n",
    "        x_train_noise_vae = scaler.transform(x_train_noise_temp.reshape(x_train_noise_temp.shape[0],-1)).reshape(x_train_noise_temp.shape)\n",
    "        # x_train_noise_vae = x_train_noise_temp\n",
    "        # x_train_noise_vae = x_train_noise_temp/5\n",
    "    else:\n",
    "        x_train_noise_vae = scaler.fit_transform(x_train_noise_temp.reshape(x_train_noise_temp.shape[0],-1)).reshape(x_train_noise_temp.shape)\n",
    "        # x_train_noise_vae = x_train_noise_temp/5\n",
    "        # x_train_noise_vae = x_train_noise_temp\n",
    "    \n",
    "    x_train_vae = scaler.transform(x_train_clean_temp.reshape(x_train_clean_temp.shape[0],-1)).reshape(x_train_clean_temp.shape)\n",
    "    x_test_vae = scaler.transform(x_test_noise_temp.reshape(x_test_noise_temp.shape[0],-1)).reshape(x_test_noise_temp.shape)\n",
    "    # x_train_vae = x_train_clean_temp\n",
    "    # x_test_vae = x_test_noise_temp\n",
    "\n",
    "    # Build VAE\n",
    "    if mod == 'svae':\n",
    "        vae, encoder, decoder,clf = svae.build_svae(latent_dim, y_train_clean.shape[1], input_type=feat_type)\n",
    "        y_fit = [x_train_vae,y_train_clean]\n",
    "    elif mod == 'vae':\n",
    "        vae, encoder, decoder = svae.build_vae(latent_dim, input_type=feat_type)\n",
    "        y_fit = x_train_vae\n",
    "    elif mod == 'sae':\n",
    "        vae, encoder, clf = svae.build_sae(latent_dim, y_train_clean.shape[1], input_type=feat_type)\n",
    "        y_fit = y_train_clean\n",
    "\n",
    "    # Fit sVAE and get weights\n",
    "    if not load:\n",
    "        vae.fit(x_train_noise_vae, y_fit,epochs=epochs,batch_size=batch_size)\n",
    "        vae_w = vae.get_weights()\n",
    "        enc_w = encoder.get_weights()\n",
    "        dec_w = decoder.get_weights()\n",
    "        if mod != 'vae':\n",
    "            clf_w = clf.get_weights()\n",
    "\n",
    "    # Load and set weights\n",
    "    if load:\n",
    "        vae.set_weights(vae_w)\n",
    "        encoder.set_weights(enc_w)\n",
    "        decoder.set_weights(dec_w)\n",
    "        if mod != 'vae':\n",
    "            clf.set_weights(clf_w)\n",
    "\n",
    "    # Test full VAE\n",
    "    # y_pred, acc_all[0,0] = svae.eval_vae(vae, x_test_vae, y_test_clean)\n",
    "    # _, acc_noise[0,0] = svae.eval_vae(vae,x_test_vae[clean_size:,:,:,:], y_test_clean[clean_size:,:])\n",
    "    # _, acc_clean[0,0] = svae.eval_vae(vae,x_test_vae[:clean_size,:,:,:], y_test_clean[:clean_size,:])\n",
    "\n",
    "    # Test encoder-LDA combo\n",
    "    _, _, x_train_aligned = encoder.predict(x_train_noise_vae)\n",
    "    _,_, x_test_aligned = encoder.predict(x_test_vae)\n",
    "    y_train_aligned = np.argmax(y_train_clean, axis=1)[...,np.newaxis]\n",
    "    y_test_aligned = np.argmax(y_test_clean, axis=1)[...,np.newaxis]\n",
    "    w_aligned, c_aligned = train_lda(x_train_aligned,y_train_aligned)\n",
    "    acc_all[0,1] = eval_lda(w_aligned, c_aligned, x_test_aligned, y_test_aligned)\n",
    "    acc_noise[0,1] = eval_lda(w_aligned, c_aligned, x_test_aligned[clean_size:,:], y_test_aligned[clean_size:,:])\n",
    "    acc_clean[0,1] = eval_lda(w_aligned, c_aligned, x_test_aligned[:clean_size,:], y_test_aligned[:clean_size,:])\n",
    "\n",
    "    # Baseline LDA\n",
    "    x_train_lda = prd.extract_feats(x_train)\n",
    "    x_test_lda = prd.extract_feats(x_test_noise)\n",
    "    y_train_lda = y_train[...,np.newaxis] - 1\n",
    "    y_test_lda = np.argmax(y_test_clean, axis=1)[...,np.newaxis]\n",
    "    w,c = train_lda(x_train_lda,y_train_lda)\n",
    "    acc_all[0,2] = eval_lda(w, c, x_test_lda, y_test_lda)\n",
    "    acc_noise[0,2] = eval_lda(w, c, x_test_lda[clean_size:,:], y_test_lda[clean_size:,:])\n",
    "    acc_clean[0,2] = eval_lda(w, c, x_test_lda[:clean_size,:], y_test_lda[:clean_size,:])\n",
    "\n",
    "    # LDA trained with corrupted data\n",
    "    x_train_lda2 = prd.extract_feats(x_train_noise)\n",
    "    y_train_lda2 = np.argmax(y_train_clean, axis=1)[...,np.newaxis]\n",
    "    w_noise,c_noise = train_lda(x_train_lda2,y_train_lda2)\n",
    "    acc_all[0,3] = eval_lda(w_noise, c_noise, x_test_lda, y_test_lda)\n",
    "    acc_noise[0,3] = eval_lda(w_noise, c_noise, x_test_lda[clean_size:,:], y_test_lda[clean_size:,:])\n",
    "    acc_clean[0,3] = eval_lda(w_noise, c_noise, x_test_lda[:clean_size,:], y_test_lda[:clean_size,:])\n",
    "\n",
    "    # Pickle variables\n",
    "    with open(filename + str(sub) + '.p', 'wb') as f:\n",
    "        pickle.dump([scaler, vae_w, enc_w, dec_w, clf_w, w, c, w_noise, c_noise, w_aligned, c_aligned, x_train, x_test, p_train, p_test],f)"
   ]
  },
  {
   "cell_type": "code",
   "execution_count": 7,
   "metadata": {},
   "outputs": [],
   "source": [
    "# Reconstruct\n",
    "x_pred_vae = svae.recon_vae(vae, x_train_vae)"
   ]
  },
  {
   "cell_type": "code",
   "execution_count": 18,
   "metadata": {},
   "outputs": [],
   "source": [
    "x_pred = scaler.inverse_transform(x_pred_vae.reshape(x_pred_vae.shape[0],-1)).reshape(x_pred_vae.shape)\n",
    "x_inv = scaler.inverse_transform(x_train_noise_vae.reshape(x_train_noise_vae.shape[0],-1)).reshape(x_train_noise_vae.shape)"
   ]
  },
  {
   "cell_type": "code",
   "execution_count": 26,
   "metadata": {},
   "outputs": [
    {
     "output_type": "display_data",
     "data": {
      "text/plain": "<Figure size 432x288 with 6 Axes>",
      "image/svg+xml": "<?xml version=\"1.0\" encoding=\"utf-8\" standalone=\"no\"?>\r\n<!DOCTYPE svg PUBLIC \"-//W3C//DTD SVG 1.1//EN\"\r\n  \"http://www.w3.org/Graphics/SVG/1.1/DTD/svg11.dtd\">\r\n<!-- Created with matplotlib (https://matplotlib.org/) -->\r\n<svg height=\"251.966281pt\" version=\"1.1\" viewBox=\"0 0 380.482813 251.966281\" width=\"380.482813pt\" xmlns=\"http://www.w3.org/2000/svg\" xmlns:xlink=\"http://www.w3.org/1999/xlink\">\r\n <metadata>\r\n  <rdf:RDF xmlns:cc=\"http://creativecommons.org/ns#\" xmlns:dc=\"http://purl.org/dc/elements/1.1/\" xmlns:rdf=\"http://www.w3.org/1999/02/22-rdf-syntax-ns#\">\r\n   <cc:Work>\r\n    <dc:type rdf:resource=\"http://purl.org/dc/dcmitype/StillImage\"/>\r\n    <dc:date>2021-03-18T20:49:07.054789</dc:date>\r\n    <dc:format>image/svg+xml</dc:format>\r\n    <dc:creator>\r\n     <cc:Agent>\r\n      <dc:title>Matplotlib v3.3.2, https://matplotlib.org/</dc:title>\r\n     </cc:Agent>\r\n    </dc:creator>\r\n   </cc:Work>\r\n  </rdf:RDF>\r\n </metadata>\r\n <defs>\r\n  <style type=\"text/css\">*{stroke-linecap:butt;stroke-linejoin:round;}</style>\r\n </defs>\r\n <g id=\"figure_1\">\r\n  <g id=\"patch_1\">\r\n   <path d=\"M -0 251.966281 \r\nL 380.482813 251.966281 \r\nL 380.482813 0 \r\nL -0 0 \r\nz\r\n\" style=\"fill:none;\"/>\r\n  </g>\r\n  <g id=\"axes_1\">\r\n   <g id=\"patch_2\">\r\n    <path d=\"M 38.482813 41.711013 \r\nL 373.282813 41.711013 \r\nL 373.282813 10.648156 \r\nL 38.482813 10.648156 \r\nz\r\n\" style=\"fill:#ffffff;\"/>\r\n   </g>\r\n   <g id=\"matplotlib.axis_1\">\r\n    <g id=\"xtick_1\">\r\n     <g id=\"line2d_1\">\r\n      <defs>\r\n       <path d=\"M 0 0 \r\nL 0 3.5 \r\n\" id=\"m2038a2bee5\" style=\"stroke:#000000;stroke-width:0.8;\"/>\r\n      </defs>\r\n      <g>\r\n       <use style=\"stroke:#000000;stroke-width:0.8;\" x=\"53.700994\" xlink:href=\"#m2038a2bee5\" y=\"41.711013\"/>\r\n      </g>\r\n     </g>\r\n     <g id=\"text_1\">\r\n      <!-- 0.0 -->\r\n      <g transform=\"translate(45.749432 56.309451)scale(0.1 -0.1)\">\r\n       <defs>\r\n        <path d=\"M 31.78125 66.40625 \r\nQ 24.171875 66.40625 20.328125 58.90625 \r\nQ 16.5 51.421875 16.5 36.375 \r\nQ 16.5 21.390625 20.328125 13.890625 \r\nQ 24.171875 6.390625 31.78125 6.390625 \r\nQ 39.453125 6.390625 43.28125 13.890625 \r\nQ 47.125 21.390625 47.125 36.375 \r\nQ 47.125 51.421875 43.28125 58.90625 \r\nQ 39.453125 66.40625 31.78125 66.40625 \r\nz\r\nM 31.78125 74.21875 \r\nQ 44.046875 74.21875 50.515625 64.515625 \r\nQ 56.984375 54.828125 56.984375 36.375 \r\nQ 56.984375 17.96875 50.515625 8.265625 \r\nQ 44.046875 -1.421875 31.78125 -1.421875 \r\nQ 19.53125 -1.421875 13.0625 8.265625 \r\nQ 6.59375 17.96875 6.59375 36.375 \r\nQ 6.59375 54.828125 13.0625 64.515625 \r\nQ 19.53125 74.21875 31.78125 74.21875 \r\nz\r\n\" id=\"DejaVuSans-48\"/>\r\n        <path d=\"M 10.6875 12.40625 \r\nL 21 12.40625 \r\nL 21 0 \r\nL 10.6875 0 \r\nz\r\n\" id=\"DejaVuSans-46\"/>\r\n       </defs>\r\n       <use xlink:href=\"#DejaVuSans-48\"/>\r\n       <use x=\"63.623047\" xlink:href=\"#DejaVuSans-46\"/>\r\n       <use x=\"95.410156\" xlink:href=\"#DejaVuSans-48\"/>\r\n      </g>\r\n     </g>\r\n    </g>\r\n    <g id=\"xtick_2\">\r\n     <g id=\"line2d_2\">\r\n      <g>\r\n       <use style=\"stroke:#000000;stroke-width:0.8;\" x=\"104.428267\" xlink:href=\"#m2038a2bee5\" y=\"41.711013\"/>\r\n      </g>\r\n     </g>\r\n     <g id=\"text_2\">\r\n      <!-- 0.5 -->\r\n      <g transform=\"translate(96.476705 56.309451)scale(0.1 -0.1)\">\r\n       <defs>\r\n        <path d=\"M 10.796875 72.90625 \r\nL 49.515625 72.90625 \r\nL 49.515625 64.59375 \r\nL 19.828125 64.59375 \r\nL 19.828125 46.734375 \r\nQ 21.96875 47.46875 24.109375 47.828125 \r\nQ 26.265625 48.1875 28.421875 48.1875 \r\nQ 40.625 48.1875 47.75 41.5 \r\nQ 54.890625 34.8125 54.890625 23.390625 \r\nQ 54.890625 11.625 47.5625 5.09375 \r\nQ 40.234375 -1.421875 26.90625 -1.421875 \r\nQ 22.3125 -1.421875 17.546875 -0.640625 \r\nQ 12.796875 0.140625 7.71875 1.703125 \r\nL 7.71875 11.625 \r\nQ 12.109375 9.234375 16.796875 8.0625 \r\nQ 21.484375 6.890625 26.703125 6.890625 \r\nQ 35.15625 6.890625 40.078125 11.328125 \r\nQ 45.015625 15.765625 45.015625 23.390625 \r\nQ 45.015625 31 40.078125 35.4375 \r\nQ 35.15625 39.890625 26.703125 39.890625 \r\nQ 22.75 39.890625 18.8125 39.015625 \r\nQ 14.890625 38.140625 10.796875 36.28125 \r\nz\r\n\" id=\"DejaVuSans-53\"/>\r\n       </defs>\r\n       <use xlink:href=\"#DejaVuSans-48\"/>\r\n       <use x=\"63.623047\" xlink:href=\"#DejaVuSans-46\"/>\r\n       <use x=\"95.410156\" xlink:href=\"#DejaVuSans-53\"/>\r\n      </g>\r\n     </g>\r\n    </g>\r\n    <g id=\"xtick_3\">\r\n     <g id=\"line2d_3\">\r\n      <g>\r\n       <use style=\"stroke:#000000;stroke-width:0.8;\" x=\"155.15554\" xlink:href=\"#m2038a2bee5\" y=\"41.711013\"/>\r\n      </g>\r\n     </g>\r\n     <g id=\"text_3\">\r\n      <!-- 1.0 -->\r\n      <g transform=\"translate(147.203977 56.309451)scale(0.1 -0.1)\">\r\n       <defs>\r\n        <path d=\"M 12.40625 8.296875 \r\nL 28.515625 8.296875 \r\nL 28.515625 63.921875 \r\nL 10.984375 60.40625 \r\nL 10.984375 69.390625 \r\nL 28.421875 72.90625 \r\nL 38.28125 72.90625 \r\nL 38.28125 8.296875 \r\nL 54.390625 8.296875 \r\nL 54.390625 0 \r\nL 12.40625 0 \r\nz\r\n\" id=\"DejaVuSans-49\"/>\r\n       </defs>\r\n       <use xlink:href=\"#DejaVuSans-49\"/>\r\n       <use x=\"63.623047\" xlink:href=\"#DejaVuSans-46\"/>\r\n       <use x=\"95.410156\" xlink:href=\"#DejaVuSans-48\"/>\r\n      </g>\r\n     </g>\r\n    </g>\r\n    <g id=\"xtick_4\">\r\n     <g id=\"line2d_4\">\r\n      <g>\r\n       <use style=\"stroke:#000000;stroke-width:0.8;\" x=\"205.882812\" xlink:href=\"#m2038a2bee5\" y=\"41.711013\"/>\r\n      </g>\r\n     </g>\r\n     <g id=\"text_4\">\r\n      <!-- 1.5 -->\r\n      <g transform=\"translate(197.93125 56.309451)scale(0.1 -0.1)\">\r\n       <use xlink:href=\"#DejaVuSans-49\"/>\r\n       <use x=\"63.623047\" xlink:href=\"#DejaVuSans-46\"/>\r\n       <use x=\"95.410156\" xlink:href=\"#DejaVuSans-53\"/>\r\n      </g>\r\n     </g>\r\n    </g>\r\n    <g id=\"xtick_5\">\r\n     <g id=\"line2d_5\">\r\n      <g>\r\n       <use style=\"stroke:#000000;stroke-width:0.8;\" x=\"256.610085\" xlink:href=\"#m2038a2bee5\" y=\"41.711013\"/>\r\n      </g>\r\n     </g>\r\n     <g id=\"text_5\">\r\n      <!-- 2.0 -->\r\n      <g transform=\"translate(248.658523 56.309451)scale(0.1 -0.1)\">\r\n       <defs>\r\n        <path d=\"M 19.1875 8.296875 \r\nL 53.609375 8.296875 \r\nL 53.609375 0 \r\nL 7.328125 0 \r\nL 7.328125 8.296875 \r\nQ 12.9375 14.109375 22.625 23.890625 \r\nQ 32.328125 33.6875 34.8125 36.53125 \r\nQ 39.546875 41.84375 41.421875 45.53125 \r\nQ 43.3125 49.21875 43.3125 52.78125 \r\nQ 43.3125 58.59375 39.234375 62.25 \r\nQ 35.15625 65.921875 28.609375 65.921875 \r\nQ 23.96875 65.921875 18.8125 64.3125 \r\nQ 13.671875 62.703125 7.8125 59.421875 \r\nL 7.8125 69.390625 \r\nQ 13.765625 71.78125 18.9375 73 \r\nQ 24.125 74.21875 28.421875 74.21875 \r\nQ 39.75 74.21875 46.484375 68.546875 \r\nQ 53.21875 62.890625 53.21875 53.421875 \r\nQ 53.21875 48.921875 51.53125 44.890625 \r\nQ 49.859375 40.875 45.40625 35.40625 \r\nQ 44.1875 33.984375 37.640625 27.21875 \r\nQ 31.109375 20.453125 19.1875 8.296875 \r\nz\r\n\" id=\"DejaVuSans-50\"/>\r\n       </defs>\r\n       <use xlink:href=\"#DejaVuSans-50\"/>\r\n       <use x=\"63.623047\" xlink:href=\"#DejaVuSans-46\"/>\r\n       <use x=\"95.410156\" xlink:href=\"#DejaVuSans-48\"/>\r\n      </g>\r\n     </g>\r\n    </g>\r\n    <g id=\"xtick_6\">\r\n     <g id=\"line2d_6\">\r\n      <g>\r\n       <use style=\"stroke:#000000;stroke-width:0.8;\" x=\"307.337358\" xlink:href=\"#m2038a2bee5\" y=\"41.711013\"/>\r\n      </g>\r\n     </g>\r\n     <g id=\"text_6\">\r\n      <!-- 2.5 -->\r\n      <g transform=\"translate(299.385795 56.309451)scale(0.1 -0.1)\">\r\n       <use xlink:href=\"#DejaVuSans-50\"/>\r\n       <use x=\"63.623047\" xlink:href=\"#DejaVuSans-46\"/>\r\n       <use x=\"95.410156\" xlink:href=\"#DejaVuSans-53\"/>\r\n      </g>\r\n     </g>\r\n    </g>\r\n    <g id=\"xtick_7\">\r\n     <g id=\"line2d_7\">\r\n      <g>\r\n       <use style=\"stroke:#000000;stroke-width:0.8;\" x=\"358.064631\" xlink:href=\"#m2038a2bee5\" y=\"41.711013\"/>\r\n      </g>\r\n     </g>\r\n     <g id=\"text_7\">\r\n      <!-- 3.0 -->\r\n      <g transform=\"translate(350.113068 56.309451)scale(0.1 -0.1)\">\r\n       <defs>\r\n        <path d=\"M 40.578125 39.3125 \r\nQ 47.65625 37.796875 51.625 33 \r\nQ 55.609375 28.21875 55.609375 21.1875 \r\nQ 55.609375 10.40625 48.1875 4.484375 \r\nQ 40.765625 -1.421875 27.09375 -1.421875 \r\nQ 22.515625 -1.421875 17.65625 -0.515625 \r\nQ 12.796875 0.390625 7.625 2.203125 \r\nL 7.625 11.71875 \r\nQ 11.71875 9.328125 16.59375 8.109375 \r\nQ 21.484375 6.890625 26.8125 6.890625 \r\nQ 36.078125 6.890625 40.9375 10.546875 \r\nQ 45.796875 14.203125 45.796875 21.1875 \r\nQ 45.796875 27.640625 41.28125 31.265625 \r\nQ 36.765625 34.90625 28.71875 34.90625 \r\nL 20.21875 34.90625 \r\nL 20.21875 43.015625 \r\nL 29.109375 43.015625 \r\nQ 36.375 43.015625 40.234375 45.921875 \r\nQ 44.09375 48.828125 44.09375 54.296875 \r\nQ 44.09375 59.90625 40.109375 62.90625 \r\nQ 36.140625 65.921875 28.71875 65.921875 \r\nQ 24.65625 65.921875 20.015625 65.03125 \r\nQ 15.375 64.15625 9.8125 62.3125 \r\nL 9.8125 71.09375 \r\nQ 15.4375 72.65625 20.34375 73.4375 \r\nQ 25.25 74.21875 29.59375 74.21875 \r\nQ 40.828125 74.21875 47.359375 69.109375 \r\nQ 53.90625 64.015625 53.90625 55.328125 \r\nQ 53.90625 49.265625 50.4375 45.09375 \r\nQ 46.96875 40.921875 40.578125 39.3125 \r\nz\r\n\" id=\"DejaVuSans-51\"/>\r\n       </defs>\r\n       <use xlink:href=\"#DejaVuSans-51\"/>\r\n       <use x=\"63.623047\" xlink:href=\"#DejaVuSans-46\"/>\r\n       <use x=\"95.410156\" xlink:href=\"#DejaVuSans-48\"/>\r\n      </g>\r\n     </g>\r\n    </g>\r\n   </g>\r\n   <g id=\"matplotlib.axis_2\">\r\n    <g id=\"ytick_1\">\r\n     <g id=\"line2d_8\">\r\n      <defs>\r\n       <path d=\"M 0 0 \r\nL -3.5 0 \r\n\" id=\"md212a1b23b\" style=\"stroke:#000000;stroke-width:0.8;\"/>\r\n      </defs>\r\n      <g>\r\n       <use style=\"stroke:#000000;stroke-width:0.8;\" x=\"38.482813\" xlink:href=\"#md212a1b23b\" y=\"30.671983\"/>\r\n      </g>\r\n     </g>\r\n     <g id=\"text_8\">\r\n      <!-- −0.8 -->\r\n      <g transform=\"translate(7.2 34.471201)scale(0.1 -0.1)\">\r\n       <defs>\r\n        <path d=\"M 10.59375 35.5 \r\nL 73.1875 35.5 \r\nL 73.1875 27.203125 \r\nL 10.59375 27.203125 \r\nz\r\n\" id=\"DejaVuSans-8722\"/>\r\n        <path d=\"M 31.78125 34.625 \r\nQ 24.75 34.625 20.71875 30.859375 \r\nQ 16.703125 27.09375 16.703125 20.515625 \r\nQ 16.703125 13.921875 20.71875 10.15625 \r\nQ 24.75 6.390625 31.78125 6.390625 \r\nQ 38.8125 6.390625 42.859375 10.171875 \r\nQ 46.921875 13.96875 46.921875 20.515625 \r\nQ 46.921875 27.09375 42.890625 30.859375 \r\nQ 38.875 34.625 31.78125 34.625 \r\nz\r\nM 21.921875 38.8125 \r\nQ 15.578125 40.375 12.03125 44.71875 \r\nQ 8.5 49.078125 8.5 55.328125 \r\nQ 8.5 64.0625 14.71875 69.140625 \r\nQ 20.953125 74.21875 31.78125 74.21875 \r\nQ 42.671875 74.21875 48.875 69.140625 \r\nQ 55.078125 64.0625 55.078125 55.328125 \r\nQ 55.078125 49.078125 51.53125 44.71875 \r\nQ 48 40.375 41.703125 38.8125 \r\nQ 48.828125 37.15625 52.796875 32.3125 \r\nQ 56.78125 27.484375 56.78125 20.515625 \r\nQ 56.78125 9.90625 50.3125 4.234375 \r\nQ 43.84375 -1.421875 31.78125 -1.421875 \r\nQ 19.734375 -1.421875 13.25 4.234375 \r\nQ 6.78125 9.90625 6.78125 20.515625 \r\nQ 6.78125 27.484375 10.78125 32.3125 \r\nQ 14.796875 37.15625 21.921875 38.8125 \r\nz\r\nM 18.3125 54.390625 \r\nQ 18.3125 48.734375 21.84375 45.5625 \r\nQ 25.390625 42.390625 31.78125 42.390625 \r\nQ 38.140625 42.390625 41.71875 45.5625 \r\nQ 45.3125 48.734375 45.3125 54.390625 \r\nQ 45.3125 60.0625 41.71875 63.234375 \r\nQ 38.140625 66.40625 31.78125 66.40625 \r\nQ 25.390625 66.40625 21.84375 63.234375 \r\nQ 18.3125 60.0625 18.3125 54.390625 \r\nz\r\n\" id=\"DejaVuSans-56\"/>\r\n       </defs>\r\n       <use xlink:href=\"#DejaVuSans-8722\"/>\r\n       <use x=\"83.789062\" xlink:href=\"#DejaVuSans-48\"/>\r\n       <use x=\"147.412109\" xlink:href=\"#DejaVuSans-46\"/>\r\n       <use x=\"179.199219\" xlink:href=\"#DejaVuSans-56\"/>\r\n      </g>\r\n     </g>\r\n    </g>\r\n    <g id=\"ytick_2\">\r\n     <g id=\"line2d_9\">\r\n      <g>\r\n       <use style=\"stroke:#000000;stroke-width:0.8;\" x=\"38.482813\" xlink:href=\"#md212a1b23b\" y=\"10.999219\"/>\r\n      </g>\r\n     </g>\r\n     <g id=\"text_9\">\r\n      <!-- −0.6 -->\r\n      <g transform=\"translate(7.2 14.798438)scale(0.1 -0.1)\">\r\n       <defs>\r\n        <path d=\"M 33.015625 40.375 \r\nQ 26.375 40.375 22.484375 35.828125 \r\nQ 18.609375 31.296875 18.609375 23.390625 \r\nQ 18.609375 15.53125 22.484375 10.953125 \r\nQ 26.375 6.390625 33.015625 6.390625 \r\nQ 39.65625 6.390625 43.53125 10.953125 \r\nQ 47.40625 15.53125 47.40625 23.390625 \r\nQ 47.40625 31.296875 43.53125 35.828125 \r\nQ 39.65625 40.375 33.015625 40.375 \r\nz\r\nM 52.59375 71.296875 \r\nL 52.59375 62.3125 \r\nQ 48.875 64.0625 45.09375 64.984375 \r\nQ 41.3125 65.921875 37.59375 65.921875 \r\nQ 27.828125 65.921875 22.671875 59.328125 \r\nQ 17.53125 52.734375 16.796875 39.40625 \r\nQ 19.671875 43.65625 24.015625 45.921875 \r\nQ 28.375 48.1875 33.59375 48.1875 \r\nQ 44.578125 48.1875 50.953125 41.515625 \r\nQ 57.328125 34.859375 57.328125 23.390625 \r\nQ 57.328125 12.15625 50.6875 5.359375 \r\nQ 44.046875 -1.421875 33.015625 -1.421875 \r\nQ 20.359375 -1.421875 13.671875 8.265625 \r\nQ 6.984375 17.96875 6.984375 36.375 \r\nQ 6.984375 53.65625 15.1875 63.9375 \r\nQ 23.390625 74.21875 37.203125 74.21875 \r\nQ 40.921875 74.21875 44.703125 73.484375 \r\nQ 48.484375 72.75 52.59375 71.296875 \r\nz\r\n\" id=\"DejaVuSans-54\"/>\r\n       </defs>\r\n       <use xlink:href=\"#DejaVuSans-8722\"/>\r\n       <use x=\"83.789062\" xlink:href=\"#DejaVuSans-48\"/>\r\n       <use x=\"147.412109\" xlink:href=\"#DejaVuSans-46\"/>\r\n       <use x=\"179.199219\" xlink:href=\"#DejaVuSans-54\"/>\r\n      </g>\r\n     </g>\r\n    </g>\r\n   </g>\r\n   <g id=\"line2d_10\">\r\n    <path clip-path=\"url(#pbfff6d6490)\" d=\"M 53.700994 22.523169 \r\nL 155.15554 12.53641 \r\nL 256.610085 40.299065 \r\nL 358.064631 12.060104 \r\n\" style=\"fill:none;stroke:#1f77b4;stroke-linecap:square;stroke-width:1.5;\"/>\r\n   </g>\r\n   <g id=\"line2d_11\">\r\n    <path clip-path=\"url(#pbfff6d6490)\" d=\"M 53.700994 17.482338 \r\nL 155.15554 20.49739 \r\nL 256.610085 23.360223 \r\nL 358.064631 13.7647 \r\n\" style=\"fill:none;stroke:#ff7f0e;stroke-linecap:square;stroke-width:1.5;\"/>\r\n   </g>\r\n   <g id=\"patch_3\">\r\n    <path d=\"M 38.482813 41.711013 \r\nL 38.482813 10.648156 \r\n\" style=\"fill:none;stroke:#000000;stroke-linecap:square;stroke-linejoin:miter;stroke-width:0.8;\"/>\r\n   </g>\r\n   <g id=\"patch_4\">\r\n    <path d=\"M 373.282813 41.711013 \r\nL 373.282813 10.648156 \r\n\" style=\"fill:none;stroke:#000000;stroke-linecap:square;stroke-linejoin:miter;stroke-width:0.8;\"/>\r\n   </g>\r\n   <g id=\"patch_5\">\r\n    <path d=\"M 38.482813 41.711013 \r\nL 373.282813 41.711013 \r\n\" style=\"fill:none;stroke:#000000;stroke-linecap:square;stroke-linejoin:miter;stroke-width:0.8;\"/>\r\n   </g>\r\n   <g id=\"patch_6\">\r\n    <path d=\"M 38.482813 10.648156 \r\nL 373.282813 10.648156 \r\n\" style=\"fill:none;stroke:#000000;stroke-linecap:square;stroke-linejoin:miter;stroke-width:0.8;\"/>\r\n   </g>\r\n  </g>\r\n  <g id=\"axes_2\">\r\n   <g id=\"patch_7\">\r\n    <path d=\"M 38.482813 78.986442 \r\nL 373.282813 78.986442 \r\nL 373.282813 47.923584 \r\nL 38.482813 47.923584 \r\nz\r\n\" style=\"fill:#ffffff;\"/>\r\n   </g>\r\n   <g id=\"matplotlib.axis_3\">\r\n    <g id=\"xtick_8\">\r\n     <g id=\"line2d_12\">\r\n      <g>\r\n       <use style=\"stroke:#000000;stroke-width:0.8;\" x=\"53.700994\" xlink:href=\"#m2038a2bee5\" y=\"78.986442\"/>\r\n      </g>\r\n     </g>\r\n     <g id=\"text_10\">\r\n      <!-- 0.0 -->\r\n      <g transform=\"translate(45.749432 93.584879)scale(0.1 -0.1)\">\r\n       <use xlink:href=\"#DejaVuSans-48\"/>\r\n       <use x=\"63.623047\" xlink:href=\"#DejaVuSans-46\"/>\r\n       <use x=\"95.410156\" xlink:href=\"#DejaVuSans-48\"/>\r\n      </g>\r\n     </g>\r\n    </g>\r\n    <g id=\"xtick_9\">\r\n     <g id=\"line2d_13\">\r\n      <g>\r\n       <use style=\"stroke:#000000;stroke-width:0.8;\" x=\"104.428267\" xlink:href=\"#m2038a2bee5\" y=\"78.986442\"/>\r\n      </g>\r\n     </g>\r\n     <g id=\"text_11\">\r\n      <!-- 0.5 -->\r\n      <g transform=\"translate(96.476705 93.584879)scale(0.1 -0.1)\">\r\n       <use xlink:href=\"#DejaVuSans-48\"/>\r\n       <use x=\"63.623047\" xlink:href=\"#DejaVuSans-46\"/>\r\n       <use x=\"95.410156\" xlink:href=\"#DejaVuSans-53\"/>\r\n      </g>\r\n     </g>\r\n    </g>\r\n    <g id=\"xtick_10\">\r\n     <g id=\"line2d_14\">\r\n      <g>\r\n       <use style=\"stroke:#000000;stroke-width:0.8;\" x=\"155.15554\" xlink:href=\"#m2038a2bee5\" y=\"78.986442\"/>\r\n      </g>\r\n     </g>\r\n     <g id=\"text_12\">\r\n      <!-- 1.0 -->\r\n      <g transform=\"translate(147.203977 93.584879)scale(0.1 -0.1)\">\r\n       <use xlink:href=\"#DejaVuSans-49\"/>\r\n       <use x=\"63.623047\" xlink:href=\"#DejaVuSans-46\"/>\r\n       <use x=\"95.410156\" xlink:href=\"#DejaVuSans-48\"/>\r\n      </g>\r\n     </g>\r\n    </g>\r\n    <g id=\"xtick_11\">\r\n     <g id=\"line2d_15\">\r\n      <g>\r\n       <use style=\"stroke:#000000;stroke-width:0.8;\" x=\"205.882812\" xlink:href=\"#m2038a2bee5\" y=\"78.986442\"/>\r\n      </g>\r\n     </g>\r\n     <g id=\"text_13\">\r\n      <!-- 1.5 -->\r\n      <g transform=\"translate(197.93125 93.584879)scale(0.1 -0.1)\">\r\n       <use xlink:href=\"#DejaVuSans-49\"/>\r\n       <use x=\"63.623047\" xlink:href=\"#DejaVuSans-46\"/>\r\n       <use x=\"95.410156\" xlink:href=\"#DejaVuSans-53\"/>\r\n      </g>\r\n     </g>\r\n    </g>\r\n    <g id=\"xtick_12\">\r\n     <g id=\"line2d_16\">\r\n      <g>\r\n       <use style=\"stroke:#000000;stroke-width:0.8;\" x=\"256.610085\" xlink:href=\"#m2038a2bee5\" y=\"78.986442\"/>\r\n      </g>\r\n     </g>\r\n     <g id=\"text_14\">\r\n      <!-- 2.0 -->\r\n      <g transform=\"translate(248.658523 93.584879)scale(0.1 -0.1)\">\r\n       <use xlink:href=\"#DejaVuSans-50\"/>\r\n       <use x=\"63.623047\" xlink:href=\"#DejaVuSans-46\"/>\r\n       <use x=\"95.410156\" xlink:href=\"#DejaVuSans-48\"/>\r\n      </g>\r\n     </g>\r\n    </g>\r\n    <g id=\"xtick_13\">\r\n     <g id=\"line2d_17\">\r\n      <g>\r\n       <use style=\"stroke:#000000;stroke-width:0.8;\" x=\"307.337358\" xlink:href=\"#m2038a2bee5\" y=\"78.986442\"/>\r\n      </g>\r\n     </g>\r\n     <g id=\"text_15\">\r\n      <!-- 2.5 -->\r\n      <g transform=\"translate(299.385795 93.584879)scale(0.1 -0.1)\">\r\n       <use xlink:href=\"#DejaVuSans-50\"/>\r\n       <use x=\"63.623047\" xlink:href=\"#DejaVuSans-46\"/>\r\n       <use x=\"95.410156\" xlink:href=\"#DejaVuSans-53\"/>\r\n      </g>\r\n     </g>\r\n    </g>\r\n    <g id=\"xtick_14\">\r\n     <g id=\"line2d_18\">\r\n      <g>\r\n       <use style=\"stroke:#000000;stroke-width:0.8;\" x=\"358.064631\" xlink:href=\"#m2038a2bee5\" y=\"78.986442\"/>\r\n      </g>\r\n     </g>\r\n     <g id=\"text_16\">\r\n      <!-- 3.0 -->\r\n      <g transform=\"translate(350.113068 93.584879)scale(0.1 -0.1)\">\r\n       <use xlink:href=\"#DejaVuSans-51\"/>\r\n       <use x=\"63.623047\" xlink:href=\"#DejaVuSans-46\"/>\r\n       <use x=\"95.410156\" xlink:href=\"#DejaVuSans-48\"/>\r\n      </g>\r\n     </g>\r\n    </g>\r\n   </g>\r\n   <g id=\"matplotlib.axis_4\">\r\n    <g id=\"ytick_3\">\r\n     <g id=\"line2d_19\">\r\n      <g>\r\n       <use style=\"stroke:#000000;stroke-width:0.8;\" x=\"38.482813\" xlink:href=\"#md212a1b23b\" y=\"73.791875\"/>\r\n      </g>\r\n     </g>\r\n     <g id=\"text_17\">\r\n      <!-- −0.5 -->\r\n      <g transform=\"translate(7.2 77.591094)scale(0.1 -0.1)\">\r\n       <use xlink:href=\"#DejaVuSans-8722\"/>\r\n       <use x=\"83.789062\" xlink:href=\"#DejaVuSans-48\"/>\r\n       <use x=\"147.412109\" xlink:href=\"#DejaVuSans-46\"/>\r\n       <use x=\"179.199219\" xlink:href=\"#DejaVuSans-53\"/>\r\n      </g>\r\n     </g>\r\n    </g>\r\n    <g id=\"ytick_4\">\r\n     <g id=\"line2d_20\">\r\n      <g>\r\n       <use style=\"stroke:#000000;stroke-width:0.8;\" x=\"38.482813\" xlink:href=\"#md212a1b23b\" y=\"61.375578\"/>\r\n      </g>\r\n     </g>\r\n     <g id=\"text_18\">\r\n      <!-- 0.0 -->\r\n      <g transform=\"translate(15.579688 65.174797)scale(0.1 -0.1)\">\r\n       <use xlink:href=\"#DejaVuSans-48\"/>\r\n       <use x=\"63.623047\" xlink:href=\"#DejaVuSans-46\"/>\r\n       <use x=\"95.410156\" xlink:href=\"#DejaVuSans-48\"/>\r\n      </g>\r\n     </g>\r\n    </g>\r\n    <g id=\"ytick_5\">\r\n     <g id=\"line2d_21\">\r\n      <g>\r\n       <use style=\"stroke:#000000;stroke-width:0.8;\" x=\"38.482813\" xlink:href=\"#md212a1b23b\" y=\"48.959281\"/>\r\n      </g>\r\n     </g>\r\n     <g id=\"text_19\">\r\n      <!-- 0.5 -->\r\n      <g transform=\"translate(15.579688 52.7585)scale(0.1 -0.1)\">\r\n       <use xlink:href=\"#DejaVuSans-48\"/>\r\n       <use x=\"63.623047\" xlink:href=\"#DejaVuSans-46\"/>\r\n       <use x=\"95.410156\" xlink:href=\"#DejaVuSans-53\"/>\r\n      </g>\r\n     </g>\r\n    </g>\r\n   </g>\r\n   <g id=\"line2d_22\">\r\n    <path clip-path=\"url(#p424e370f15)\" d=\"M 53.700994 71.091098 \r\nL 155.15554 49.41548 \r\nL 256.610085 49.335533 \r\nL 358.064631 53.95805 \r\n\" style=\"fill:none;stroke:#1f77b4;stroke-linecap:square;stroke-width:1.5;\"/>\r\n   </g>\r\n   <g id=\"line2d_23\">\r\n    <path clip-path=\"url(#p424e370f15)\" d=\"M 53.700994 77.574494 \r\nL 155.15554 74.470681 \r\nL 256.610085 50.71699 \r\nL 358.064631 54.698191 \r\n\" style=\"fill:none;stroke:#ff7f0e;stroke-linecap:square;stroke-width:1.5;\"/>\r\n   </g>\r\n   <g id=\"patch_8\">\r\n    <path d=\"M 38.482813 78.986442 \r\nL 38.482813 47.923584 \r\n\" style=\"fill:none;stroke:#000000;stroke-linecap:square;stroke-linejoin:miter;stroke-width:0.8;\"/>\r\n   </g>\r\n   <g id=\"patch_9\">\r\n    <path d=\"M 373.282813 78.986442 \r\nL 373.282813 47.923584 \r\n\" style=\"fill:none;stroke:#000000;stroke-linecap:square;stroke-linejoin:miter;stroke-width:0.8;\"/>\r\n   </g>\r\n   <g id=\"patch_10\">\r\n    <path d=\"M 38.482813 78.986442 \r\nL 373.282813 78.986442 \r\n\" style=\"fill:none;stroke:#000000;stroke-linecap:square;stroke-linejoin:miter;stroke-width:0.8;\"/>\r\n   </g>\r\n   <g id=\"patch_11\">\r\n    <path d=\"M 38.482813 47.923584 \r\nL 373.282813 47.923584 \r\n\" style=\"fill:none;stroke:#000000;stroke-linecap:square;stroke-linejoin:miter;stroke-width:0.8;\"/>\r\n   </g>\r\n  </g>\r\n  <g id=\"axes_3\">\r\n   <g id=\"patch_12\">\r\n    <path d=\"M 38.482813 116.26187 \r\nL 373.282813 116.26187 \r\nL 373.282813 85.199013 \r\nL 38.482813 85.199013 \r\nz\r\n\" style=\"fill:#ffffff;\"/>\r\n   </g>\r\n   <g id=\"matplotlib.axis_5\">\r\n    <g id=\"xtick_15\">\r\n     <g id=\"line2d_24\">\r\n      <g>\r\n       <use style=\"stroke:#000000;stroke-width:0.8;\" x=\"53.700994\" xlink:href=\"#m2038a2bee5\" y=\"116.26187\"/>\r\n      </g>\r\n     </g>\r\n     <g id=\"text_20\">\r\n      <!-- 0.0 -->\r\n      <g transform=\"translate(45.749432 130.860308)scale(0.1 -0.1)\">\r\n       <use xlink:href=\"#DejaVuSans-48\"/>\r\n       <use x=\"63.623047\" xlink:href=\"#DejaVuSans-46\"/>\r\n       <use x=\"95.410156\" xlink:href=\"#DejaVuSans-48\"/>\r\n      </g>\r\n     </g>\r\n    </g>\r\n    <g id=\"xtick_16\">\r\n     <g id=\"line2d_25\">\r\n      <g>\r\n       <use style=\"stroke:#000000;stroke-width:0.8;\" x=\"104.428267\" xlink:href=\"#m2038a2bee5\" y=\"116.26187\"/>\r\n      </g>\r\n     </g>\r\n     <g id=\"text_21\">\r\n      <!-- 0.5 -->\r\n      <g transform=\"translate(96.476705 130.860308)scale(0.1 -0.1)\">\r\n       <use xlink:href=\"#DejaVuSans-48\"/>\r\n       <use x=\"63.623047\" xlink:href=\"#DejaVuSans-46\"/>\r\n       <use x=\"95.410156\" xlink:href=\"#DejaVuSans-53\"/>\r\n      </g>\r\n     </g>\r\n    </g>\r\n    <g id=\"xtick_17\">\r\n     <g id=\"line2d_26\">\r\n      <g>\r\n       <use style=\"stroke:#000000;stroke-width:0.8;\" x=\"155.15554\" xlink:href=\"#m2038a2bee5\" y=\"116.26187\"/>\r\n      </g>\r\n     </g>\r\n     <g id=\"text_22\">\r\n      <!-- 1.0 -->\r\n      <g transform=\"translate(147.203977 130.860308)scale(0.1 -0.1)\">\r\n       <use xlink:href=\"#DejaVuSans-49\"/>\r\n       <use x=\"63.623047\" xlink:href=\"#DejaVuSans-46\"/>\r\n       <use x=\"95.410156\" xlink:href=\"#DejaVuSans-48\"/>\r\n      </g>\r\n     </g>\r\n    </g>\r\n    <g id=\"xtick_18\">\r\n     <g id=\"line2d_27\">\r\n      <g>\r\n       <use style=\"stroke:#000000;stroke-width:0.8;\" x=\"205.882812\" xlink:href=\"#m2038a2bee5\" y=\"116.26187\"/>\r\n      </g>\r\n     </g>\r\n     <g id=\"text_23\">\r\n      <!-- 1.5 -->\r\n      <g transform=\"translate(197.93125 130.860308)scale(0.1 -0.1)\">\r\n       <use xlink:href=\"#DejaVuSans-49\"/>\r\n       <use x=\"63.623047\" xlink:href=\"#DejaVuSans-46\"/>\r\n       <use x=\"95.410156\" xlink:href=\"#DejaVuSans-53\"/>\r\n      </g>\r\n     </g>\r\n    </g>\r\n    <g id=\"xtick_19\">\r\n     <g id=\"line2d_28\">\r\n      <g>\r\n       <use style=\"stroke:#000000;stroke-width:0.8;\" x=\"256.610085\" xlink:href=\"#m2038a2bee5\" y=\"116.26187\"/>\r\n      </g>\r\n     </g>\r\n     <g id=\"text_24\">\r\n      <!-- 2.0 -->\r\n      <g transform=\"translate(248.658523 130.860308)scale(0.1 -0.1)\">\r\n       <use xlink:href=\"#DejaVuSans-50\"/>\r\n       <use x=\"63.623047\" xlink:href=\"#DejaVuSans-46\"/>\r\n       <use x=\"95.410156\" xlink:href=\"#DejaVuSans-48\"/>\r\n      </g>\r\n     </g>\r\n    </g>\r\n    <g id=\"xtick_20\">\r\n     <g id=\"line2d_29\">\r\n      <g>\r\n       <use style=\"stroke:#000000;stroke-width:0.8;\" x=\"307.337358\" xlink:href=\"#m2038a2bee5\" y=\"116.26187\"/>\r\n      </g>\r\n     </g>\r\n     <g id=\"text_25\">\r\n      <!-- 2.5 -->\r\n      <g transform=\"translate(299.385795 130.860308)scale(0.1 -0.1)\">\r\n       <use xlink:href=\"#DejaVuSans-50\"/>\r\n       <use x=\"63.623047\" xlink:href=\"#DejaVuSans-46\"/>\r\n       <use x=\"95.410156\" xlink:href=\"#DejaVuSans-53\"/>\r\n      </g>\r\n     </g>\r\n    </g>\r\n    <g id=\"xtick_21\">\r\n     <g id=\"line2d_30\">\r\n      <g>\r\n       <use style=\"stroke:#000000;stroke-width:0.8;\" x=\"358.064631\" xlink:href=\"#m2038a2bee5\" y=\"116.26187\"/>\r\n      </g>\r\n     </g>\r\n     <g id=\"text_26\">\r\n      <!-- 3.0 -->\r\n      <g transform=\"translate(350.113068 130.860308)scale(0.1 -0.1)\">\r\n       <use xlink:href=\"#DejaVuSans-51\"/>\r\n       <use x=\"63.623047\" xlink:href=\"#DejaVuSans-46\"/>\r\n       <use x=\"95.410156\" xlink:href=\"#DejaVuSans-48\"/>\r\n      </g>\r\n     </g>\r\n    </g>\r\n   </g>\r\n   <g id=\"matplotlib.axis_6\">\r\n    <g id=\"ytick_6\">\r\n     <g id=\"line2d_31\">\r\n      <g>\r\n       <use style=\"stroke:#000000;stroke-width:0.8;\" x=\"38.482813\" xlink:href=\"#md212a1b23b\" y=\"113.425216\"/>\r\n      </g>\r\n     </g>\r\n     <g id=\"text_27\">\r\n      <!-- 0.25 -->\r\n      <g transform=\"translate(9.217188 117.224434)scale(0.1 -0.1)\">\r\n       <use xlink:href=\"#DejaVuSans-48\"/>\r\n       <use x=\"63.623047\" xlink:href=\"#DejaVuSans-46\"/>\r\n       <use x=\"95.410156\" xlink:href=\"#DejaVuSans-50\"/>\r\n       <use x=\"159.033203\" xlink:href=\"#DejaVuSans-53\"/>\r\n      </g>\r\n     </g>\r\n    </g>\r\n    <g id=\"ytick_7\">\r\n     <g id=\"line2d_32\">\r\n      <g>\r\n       <use style=\"stroke:#000000;stroke-width:0.8;\" x=\"38.482813\" xlink:href=\"#md212a1b23b\" y=\"94.904029\"/>\r\n      </g>\r\n     </g>\r\n     <g id=\"text_28\">\r\n      <!-- 0.50 -->\r\n      <g transform=\"translate(9.217188 98.703248)scale(0.1 -0.1)\">\r\n       <use xlink:href=\"#DejaVuSans-48\"/>\r\n       <use x=\"63.623047\" xlink:href=\"#DejaVuSans-46\"/>\r\n       <use x=\"95.410156\" xlink:href=\"#DejaVuSans-53\"/>\r\n       <use x=\"159.033203\" xlink:href=\"#DejaVuSans-48\"/>\r\n      </g>\r\n     </g>\r\n    </g>\r\n   </g>\r\n   <g id=\"line2d_33\">\r\n    <path clip-path=\"url(#pf018242e8a)\" d=\"M 53.700994 107.947118 \r\nL 155.15554 86.610961 \r\nL 256.610085 108.72581 \r\nL 358.064631 114.849922 \r\n\" style=\"fill:none;stroke:#1f77b4;stroke-linecap:square;stroke-width:1.5;\"/>\r\n   </g>\r\n   <g id=\"line2d_34\">\r\n    <path clip-path=\"url(#pf018242e8a)\" d=\"M 53.700994 102.080175 \r\nL 155.15554 92.149117 \r\nL 256.610085 95.066606 \r\nL 358.064631 98.935085 \r\n\" style=\"fill:none;stroke:#ff7f0e;stroke-linecap:square;stroke-width:1.5;\"/>\r\n   </g>\r\n   <g id=\"patch_13\">\r\n    <path d=\"M 38.482813 116.26187 \r\nL 38.482813 85.199013 \r\n\" style=\"fill:none;stroke:#000000;stroke-linecap:square;stroke-linejoin:miter;stroke-width:0.8;\"/>\r\n   </g>\r\n   <g id=\"patch_14\">\r\n    <path d=\"M 373.282813 116.26187 \r\nL 373.282813 85.199013 \r\n\" style=\"fill:none;stroke:#000000;stroke-linecap:square;stroke-linejoin:miter;stroke-width:0.8;\"/>\r\n   </g>\r\n   <g id=\"patch_15\">\r\n    <path d=\"M 38.482813 116.26187 \r\nL 373.282813 116.26187 \r\n\" style=\"fill:none;stroke:#000000;stroke-linecap:square;stroke-linejoin:miter;stroke-width:0.8;\"/>\r\n   </g>\r\n   <g id=\"patch_16\">\r\n    <path d=\"M 38.482813 85.199013 \r\nL 373.282813 85.199013 \r\n\" style=\"fill:none;stroke:#000000;stroke-linecap:square;stroke-linejoin:miter;stroke-width:0.8;\"/>\r\n   </g>\r\n  </g>\r\n  <g id=\"axes_4\">\r\n   <g id=\"patch_17\">\r\n    <path d=\"M 38.482813 153.537299 \r\nL 373.282813 153.537299 \r\nL 373.282813 122.474442 \r\nL 38.482813 122.474442 \r\nz\r\n\" style=\"fill:#ffffff;\"/>\r\n   </g>\r\n   <g id=\"matplotlib.axis_7\">\r\n    <g id=\"xtick_22\">\r\n     <g id=\"line2d_35\">\r\n      <g>\r\n       <use style=\"stroke:#000000;stroke-width:0.8;\" x=\"53.700994\" xlink:href=\"#m2038a2bee5\" y=\"153.537299\"/>\r\n      </g>\r\n     </g>\r\n     <g id=\"text_29\">\r\n      <!-- 0.0 -->\r\n      <g transform=\"translate(45.749432 168.135736)scale(0.1 -0.1)\">\r\n       <use xlink:href=\"#DejaVuSans-48\"/>\r\n       <use x=\"63.623047\" xlink:href=\"#DejaVuSans-46\"/>\r\n       <use x=\"95.410156\" xlink:href=\"#DejaVuSans-48\"/>\r\n      </g>\r\n     </g>\r\n    </g>\r\n    <g id=\"xtick_23\">\r\n     <g id=\"line2d_36\">\r\n      <g>\r\n       <use style=\"stroke:#000000;stroke-width:0.8;\" x=\"104.428267\" xlink:href=\"#m2038a2bee5\" y=\"153.537299\"/>\r\n      </g>\r\n     </g>\r\n     <g id=\"text_30\">\r\n      <!-- 0.5 -->\r\n      <g transform=\"translate(96.476705 168.135736)scale(0.1 -0.1)\">\r\n       <use xlink:href=\"#DejaVuSans-48\"/>\r\n       <use x=\"63.623047\" xlink:href=\"#DejaVuSans-46\"/>\r\n       <use x=\"95.410156\" xlink:href=\"#DejaVuSans-53\"/>\r\n      </g>\r\n     </g>\r\n    </g>\r\n    <g id=\"xtick_24\">\r\n     <g id=\"line2d_37\">\r\n      <g>\r\n       <use style=\"stroke:#000000;stroke-width:0.8;\" x=\"155.15554\" xlink:href=\"#m2038a2bee5\" y=\"153.537299\"/>\r\n      </g>\r\n     </g>\r\n     <g id=\"text_31\">\r\n      <!-- 1.0 -->\r\n      <g transform=\"translate(147.203977 168.135736)scale(0.1 -0.1)\">\r\n       <use xlink:href=\"#DejaVuSans-49\"/>\r\n       <use x=\"63.623047\" xlink:href=\"#DejaVuSans-46\"/>\r\n       <use x=\"95.410156\" xlink:href=\"#DejaVuSans-48\"/>\r\n      </g>\r\n     </g>\r\n    </g>\r\n    <g id=\"xtick_25\">\r\n     <g id=\"line2d_38\">\r\n      <g>\r\n       <use style=\"stroke:#000000;stroke-width:0.8;\" x=\"205.882812\" xlink:href=\"#m2038a2bee5\" y=\"153.537299\"/>\r\n      </g>\r\n     </g>\r\n     <g id=\"text_32\">\r\n      <!-- 1.5 -->\r\n      <g transform=\"translate(197.93125 168.135736)scale(0.1 -0.1)\">\r\n       <use xlink:href=\"#DejaVuSans-49\"/>\r\n       <use x=\"63.623047\" xlink:href=\"#DejaVuSans-46\"/>\r\n       <use x=\"95.410156\" xlink:href=\"#DejaVuSans-53\"/>\r\n      </g>\r\n     </g>\r\n    </g>\r\n    <g id=\"xtick_26\">\r\n     <g id=\"line2d_39\">\r\n      <g>\r\n       <use style=\"stroke:#000000;stroke-width:0.8;\" x=\"256.610085\" xlink:href=\"#m2038a2bee5\" y=\"153.537299\"/>\r\n      </g>\r\n     </g>\r\n     <g id=\"text_33\">\r\n      <!-- 2.0 -->\r\n      <g transform=\"translate(248.658523 168.135736)scale(0.1 -0.1)\">\r\n       <use xlink:href=\"#DejaVuSans-50\"/>\r\n       <use x=\"63.623047\" xlink:href=\"#DejaVuSans-46\"/>\r\n       <use x=\"95.410156\" xlink:href=\"#DejaVuSans-48\"/>\r\n      </g>\r\n     </g>\r\n    </g>\r\n    <g id=\"xtick_27\">\r\n     <g id=\"line2d_40\">\r\n      <g>\r\n       <use style=\"stroke:#000000;stroke-width:0.8;\" x=\"307.337358\" xlink:href=\"#m2038a2bee5\" y=\"153.537299\"/>\r\n      </g>\r\n     </g>\r\n     <g id=\"text_34\">\r\n      <!-- 2.5 -->\r\n      <g transform=\"translate(299.385795 168.135736)scale(0.1 -0.1)\">\r\n       <use xlink:href=\"#DejaVuSans-50\"/>\r\n       <use x=\"63.623047\" xlink:href=\"#DejaVuSans-46\"/>\r\n       <use x=\"95.410156\" xlink:href=\"#DejaVuSans-53\"/>\r\n      </g>\r\n     </g>\r\n    </g>\r\n    <g id=\"xtick_28\">\r\n     <g id=\"line2d_41\">\r\n      <g>\r\n       <use style=\"stroke:#000000;stroke-width:0.8;\" x=\"358.064631\" xlink:href=\"#m2038a2bee5\" y=\"153.537299\"/>\r\n      </g>\r\n     </g>\r\n     <g id=\"text_35\">\r\n      <!-- 3.0 -->\r\n      <g transform=\"translate(350.113068 168.135736)scale(0.1 -0.1)\">\r\n       <use xlink:href=\"#DejaVuSans-51\"/>\r\n       <use x=\"63.623047\" xlink:href=\"#DejaVuSans-46\"/>\r\n       <use x=\"95.410156\" xlink:href=\"#DejaVuSans-48\"/>\r\n      </g>\r\n     </g>\r\n    </g>\r\n   </g>\r\n   <g id=\"matplotlib.axis_8\">\r\n    <g id=\"ytick_8\">\r\n     <g id=\"line2d_42\">\r\n      <g>\r\n       <use style=\"stroke:#000000;stroke-width:0.8;\" x=\"38.482813\" xlink:href=\"#md212a1b23b\" y=\"140.529727\"/>\r\n      </g>\r\n     </g>\r\n     <g id=\"text_36\">\r\n      <!-- 0.4 -->\r\n      <g transform=\"translate(15.579688 144.328946)scale(0.1 -0.1)\">\r\n       <defs>\r\n        <path d=\"M 37.796875 64.3125 \r\nL 12.890625 25.390625 \r\nL 37.796875 25.390625 \r\nz\r\nM 35.203125 72.90625 \r\nL 47.609375 72.90625 \r\nL 47.609375 25.390625 \r\nL 58.015625 25.390625 \r\nL 58.015625 17.1875 \r\nL 47.609375 17.1875 \r\nL 47.609375 0 \r\nL 37.796875 0 \r\nL 37.796875 17.1875 \r\nL 4.890625 17.1875 \r\nL 4.890625 26.703125 \r\nz\r\n\" id=\"DejaVuSans-52\"/>\r\n       </defs>\r\n       <use xlink:href=\"#DejaVuSans-48\"/>\r\n       <use x=\"63.623047\" xlink:href=\"#DejaVuSans-46\"/>\r\n       <use x=\"95.410156\" xlink:href=\"#DejaVuSans-52\"/>\r\n      </g>\r\n     </g>\r\n    </g>\r\n    <g id=\"ytick_9\">\r\n     <g id=\"line2d_43\">\r\n      <g>\r\n       <use style=\"stroke:#000000;stroke-width:0.8;\" x=\"38.482813\" xlink:href=\"#md212a1b23b\" y=\"122.921559\"/>\r\n      </g>\r\n     </g>\r\n     <g id=\"text_37\">\r\n      <!-- 0.6 -->\r\n      <g transform=\"translate(15.579688 126.720777)scale(0.1 -0.1)\">\r\n       <use xlink:href=\"#DejaVuSans-48\"/>\r\n       <use x=\"63.623047\" xlink:href=\"#DejaVuSans-46\"/>\r\n       <use x=\"95.410156\" xlink:href=\"#DejaVuSans-54\"/>\r\n      </g>\r\n     </g>\r\n    </g>\r\n   </g>\r\n   <g id=\"line2d_44\">\r\n    <path clip-path=\"url(#p482eb84acf)\" d=\"M 53.700994 143.04518 \r\nL 155.15554 152.125351 \r\nL 256.610085 151.290275 \r\nL 358.064631 123.88639 \r\n\" style=\"fill:none;stroke:#1f77b4;stroke-linecap:square;stroke-width:1.5;\"/>\r\n   </g>\r\n   <g id=\"line2d_45\">\r\n    <path clip-path=\"url(#p482eb84acf)\" d=\"M 53.700994 139.944376 \r\nL 155.15554 149.133136 \r\nL 256.610085 141.576689 \r\nL 358.064631 137.749213 \r\n\" style=\"fill:none;stroke:#ff7f0e;stroke-linecap:square;stroke-width:1.5;\"/>\r\n   </g>\r\n   <g id=\"patch_18\">\r\n    <path d=\"M 38.482813 153.537299 \r\nL 38.482813 122.474442 \r\n\" style=\"fill:none;stroke:#000000;stroke-linecap:square;stroke-linejoin:miter;stroke-width:0.8;\"/>\r\n   </g>\r\n   <g id=\"patch_19\">\r\n    <path d=\"M 373.282813 153.537299 \r\nL 373.282813 122.474442 \r\n\" style=\"fill:none;stroke:#000000;stroke-linecap:square;stroke-linejoin:miter;stroke-width:0.8;\"/>\r\n   </g>\r\n   <g id=\"patch_20\">\r\n    <path d=\"M 38.482813 153.537299 \r\nL 373.282813 153.537299 \r\n\" style=\"fill:none;stroke:#000000;stroke-linecap:square;stroke-linejoin:miter;stroke-width:0.8;\"/>\r\n   </g>\r\n   <g id=\"patch_21\">\r\n    <path d=\"M 38.482813 122.474442 \r\nL 373.282813 122.474442 \r\n\" style=\"fill:none;stroke:#000000;stroke-linecap:square;stroke-linejoin:miter;stroke-width:0.8;\"/>\r\n   </g>\r\n  </g>\r\n  <g id=\"axes_5\">\r\n   <g id=\"patch_22\">\r\n    <path d=\"M 38.482813 190.812727 \r\nL 373.282813 190.812727 \r\nL 373.282813 159.74987 \r\nL 38.482813 159.74987 \r\nz\r\n\" style=\"fill:#ffffff;\"/>\r\n   </g>\r\n   <g id=\"matplotlib.axis_9\">\r\n    <g id=\"xtick_29\">\r\n     <g id=\"line2d_46\">\r\n      <g>\r\n       <use style=\"stroke:#000000;stroke-width:0.8;\" x=\"53.700994\" xlink:href=\"#m2038a2bee5\" y=\"190.812727\"/>\r\n      </g>\r\n     </g>\r\n     <g id=\"text_38\">\r\n      <!-- 0.0 -->\r\n      <g transform=\"translate(45.749432 205.411165)scale(0.1 -0.1)\">\r\n       <use xlink:href=\"#DejaVuSans-48\"/>\r\n       <use x=\"63.623047\" xlink:href=\"#DejaVuSans-46\"/>\r\n       <use x=\"95.410156\" xlink:href=\"#DejaVuSans-48\"/>\r\n      </g>\r\n     </g>\r\n    </g>\r\n    <g id=\"xtick_30\">\r\n     <g id=\"line2d_47\">\r\n      <g>\r\n       <use style=\"stroke:#000000;stroke-width:0.8;\" x=\"104.428267\" xlink:href=\"#m2038a2bee5\" y=\"190.812727\"/>\r\n      </g>\r\n     </g>\r\n     <g id=\"text_39\">\r\n      <!-- 0.5 -->\r\n      <g transform=\"translate(96.476705 205.411165)scale(0.1 -0.1)\">\r\n       <use xlink:href=\"#DejaVuSans-48\"/>\r\n       <use x=\"63.623047\" xlink:href=\"#DejaVuSans-46\"/>\r\n       <use x=\"95.410156\" xlink:href=\"#DejaVuSans-53\"/>\r\n      </g>\r\n     </g>\r\n    </g>\r\n    <g id=\"xtick_31\">\r\n     <g id=\"line2d_48\">\r\n      <g>\r\n       <use style=\"stroke:#000000;stroke-width:0.8;\" x=\"155.15554\" xlink:href=\"#m2038a2bee5\" y=\"190.812727\"/>\r\n      </g>\r\n     </g>\r\n     <g id=\"text_40\">\r\n      <!-- 1.0 -->\r\n      <g transform=\"translate(147.203977 205.411165)scale(0.1 -0.1)\">\r\n       <use xlink:href=\"#DejaVuSans-49\"/>\r\n       <use x=\"63.623047\" xlink:href=\"#DejaVuSans-46\"/>\r\n       <use x=\"95.410156\" xlink:href=\"#DejaVuSans-48\"/>\r\n      </g>\r\n     </g>\r\n    </g>\r\n    <g id=\"xtick_32\">\r\n     <g id=\"line2d_49\">\r\n      <g>\r\n       <use style=\"stroke:#000000;stroke-width:0.8;\" x=\"205.882812\" xlink:href=\"#m2038a2bee5\" y=\"190.812727\"/>\r\n      </g>\r\n     </g>\r\n     <g id=\"text_41\">\r\n      <!-- 1.5 -->\r\n      <g transform=\"translate(197.93125 205.411165)scale(0.1 -0.1)\">\r\n       <use xlink:href=\"#DejaVuSans-49\"/>\r\n       <use x=\"63.623047\" xlink:href=\"#DejaVuSans-46\"/>\r\n       <use x=\"95.410156\" xlink:href=\"#DejaVuSans-53\"/>\r\n      </g>\r\n     </g>\r\n    </g>\r\n    <g id=\"xtick_33\">\r\n     <g id=\"line2d_50\">\r\n      <g>\r\n       <use style=\"stroke:#000000;stroke-width:0.8;\" x=\"256.610085\" xlink:href=\"#m2038a2bee5\" y=\"190.812727\"/>\r\n      </g>\r\n     </g>\r\n     <g id=\"text_42\">\r\n      <!-- 2.0 -->\r\n      <g transform=\"translate(248.658523 205.411165)scale(0.1 -0.1)\">\r\n       <use xlink:href=\"#DejaVuSans-50\"/>\r\n       <use x=\"63.623047\" xlink:href=\"#DejaVuSans-46\"/>\r\n       <use x=\"95.410156\" xlink:href=\"#DejaVuSans-48\"/>\r\n      </g>\r\n     </g>\r\n    </g>\r\n    <g id=\"xtick_34\">\r\n     <g id=\"line2d_51\">\r\n      <g>\r\n       <use style=\"stroke:#000000;stroke-width:0.8;\" x=\"307.337358\" xlink:href=\"#m2038a2bee5\" y=\"190.812727\"/>\r\n      </g>\r\n     </g>\r\n     <g id=\"text_43\">\r\n      <!-- 2.5 -->\r\n      <g transform=\"translate(299.385795 205.411165)scale(0.1 -0.1)\">\r\n       <use xlink:href=\"#DejaVuSans-50\"/>\r\n       <use x=\"63.623047\" xlink:href=\"#DejaVuSans-46\"/>\r\n       <use x=\"95.410156\" xlink:href=\"#DejaVuSans-53\"/>\r\n      </g>\r\n     </g>\r\n    </g>\r\n    <g id=\"xtick_35\">\r\n     <g id=\"line2d_52\">\r\n      <g>\r\n       <use style=\"stroke:#000000;stroke-width:0.8;\" x=\"358.064631\" xlink:href=\"#m2038a2bee5\" y=\"190.812727\"/>\r\n      </g>\r\n     </g>\r\n     <g id=\"text_44\">\r\n      <!-- 3.0 -->\r\n      <g transform=\"translate(350.113068 205.411165)scale(0.1 -0.1)\">\r\n       <use xlink:href=\"#DejaVuSans-51\"/>\r\n       <use x=\"63.623047\" xlink:href=\"#DejaVuSans-46\"/>\r\n       <use x=\"95.410156\" xlink:href=\"#DejaVuSans-48\"/>\r\n      </g>\r\n     </g>\r\n    </g>\r\n   </g>\r\n   <g id=\"matplotlib.axis_10\">\r\n    <g id=\"ytick_10\">\r\n     <g id=\"line2d_53\">\r\n      <g>\r\n       <use style=\"stroke:#000000;stroke-width:0.8;\" x=\"38.482813\" xlink:href=\"#md212a1b23b\" y=\"183.043729\"/>\r\n      </g>\r\n     </g>\r\n     <g id=\"text_45\">\r\n      <!-- −0.5 -->\r\n      <g transform=\"translate(7.2 186.842947)scale(0.1 -0.1)\">\r\n       <use xlink:href=\"#DejaVuSans-8722\"/>\r\n       <use x=\"83.789062\" xlink:href=\"#DejaVuSans-48\"/>\r\n       <use x=\"147.412109\" xlink:href=\"#DejaVuSans-46\"/>\r\n       <use x=\"179.199219\" xlink:href=\"#DejaVuSans-53\"/>\r\n      </g>\r\n     </g>\r\n    </g>\r\n    <g id=\"ytick_11\">\r\n     <g id=\"line2d_54\">\r\n      <g>\r\n       <use style=\"stroke:#000000;stroke-width:0.8;\" x=\"38.482813\" xlink:href=\"#md212a1b23b\" y=\"171.34633\"/>\r\n      </g>\r\n     </g>\r\n     <g id=\"text_46\">\r\n      <!-- 0.0 -->\r\n      <g transform=\"translate(15.579688 175.145548)scale(0.1 -0.1)\">\r\n       <use xlink:href=\"#DejaVuSans-48\"/>\r\n       <use x=\"63.623047\" xlink:href=\"#DejaVuSans-46\"/>\r\n       <use x=\"95.410156\" xlink:href=\"#DejaVuSans-48\"/>\r\n      </g>\r\n     </g>\r\n    </g>\r\n   </g>\r\n   <g id=\"line2d_55\">\r\n    <path clip-path=\"url(#pced95b5dcb)\" d=\"M 53.700994 161.861952 \r\nL 155.15554 163.767733 \r\nL 256.610085 189.174679 \r\nL 358.064631 187.887431 \r\n\" style=\"fill:none;stroke:#1f77b4;stroke-linecap:square;stroke-width:1.5;\"/>\r\n   </g>\r\n   <g id=\"line2d_56\">\r\n    <path clip-path=\"url(#pced95b5dcb)\" d=\"M 53.700994 161.572577 \r\nL 155.15554 161.161818 \r\nL 256.610085 187.724314 \r\nL 358.064631 189.400779 \r\n\" style=\"fill:none;stroke:#ff7f0e;stroke-linecap:square;stroke-width:1.5;\"/>\r\n   </g>\r\n   <g id=\"patch_23\">\r\n    <path d=\"M 38.482813 190.812727 \r\nL 38.482813 159.74987 \r\n\" style=\"fill:none;stroke:#000000;stroke-linecap:square;stroke-linejoin:miter;stroke-width:0.8;\"/>\r\n   </g>\r\n   <g id=\"patch_24\">\r\n    <path d=\"M 373.282813 190.812727 \r\nL 373.282813 159.74987 \r\n\" style=\"fill:none;stroke:#000000;stroke-linecap:square;stroke-linejoin:miter;stroke-width:0.8;\"/>\r\n   </g>\r\n   <g id=\"patch_25\">\r\n    <path d=\"M 38.482813 190.812727 \r\nL 373.282813 190.812727 \r\n\" style=\"fill:none;stroke:#000000;stroke-linecap:square;stroke-linejoin:miter;stroke-width:0.8;\"/>\r\n   </g>\r\n   <g id=\"patch_26\">\r\n    <path d=\"M 38.482813 159.74987 \r\nL 373.282813 159.74987 \r\n\" style=\"fill:none;stroke:#000000;stroke-linecap:square;stroke-linejoin:miter;stroke-width:0.8;\"/>\r\n   </g>\r\n  </g>\r\n  <g id=\"axes_6\">\r\n   <g id=\"patch_27\">\r\n    <path d=\"M 38.482813 228.088156 \r\nL 373.282813 228.088156 \r\nL 373.282813 197.025299 \r\nL 38.482813 197.025299 \r\nz\r\n\" style=\"fill:#ffffff;\"/>\r\n   </g>\r\n   <g id=\"matplotlib.axis_11\">\r\n    <g id=\"xtick_36\">\r\n     <g id=\"line2d_57\">\r\n      <g>\r\n       <use style=\"stroke:#000000;stroke-width:0.8;\" x=\"53.700994\" xlink:href=\"#m2038a2bee5\" y=\"228.088156\"/>\r\n      </g>\r\n     </g>\r\n     <g id=\"text_47\">\r\n      <!-- 0.0 -->\r\n      <g transform=\"translate(45.749432 242.686593)scale(0.1 -0.1)\">\r\n       <use xlink:href=\"#DejaVuSans-48\"/>\r\n       <use x=\"63.623047\" xlink:href=\"#DejaVuSans-46\"/>\r\n       <use x=\"95.410156\" xlink:href=\"#DejaVuSans-48\"/>\r\n      </g>\r\n     </g>\r\n    </g>\r\n    <g id=\"xtick_37\">\r\n     <g id=\"line2d_58\">\r\n      <g>\r\n       <use style=\"stroke:#000000;stroke-width:0.8;\" x=\"104.428267\" xlink:href=\"#m2038a2bee5\" y=\"228.088156\"/>\r\n      </g>\r\n     </g>\r\n     <g id=\"text_48\">\r\n      <!-- 0.5 -->\r\n      <g transform=\"translate(96.476705 242.686593)scale(0.1 -0.1)\">\r\n       <use xlink:href=\"#DejaVuSans-48\"/>\r\n       <use x=\"63.623047\" xlink:href=\"#DejaVuSans-46\"/>\r\n       <use x=\"95.410156\" xlink:href=\"#DejaVuSans-53\"/>\r\n      </g>\r\n     </g>\r\n    </g>\r\n    <g id=\"xtick_38\">\r\n     <g id=\"line2d_59\">\r\n      <g>\r\n       <use style=\"stroke:#000000;stroke-width:0.8;\" x=\"155.15554\" xlink:href=\"#m2038a2bee5\" y=\"228.088156\"/>\r\n      </g>\r\n     </g>\r\n     <g id=\"text_49\">\r\n      <!-- 1.0 -->\r\n      <g transform=\"translate(147.203977 242.686593)scale(0.1 -0.1)\">\r\n       <use xlink:href=\"#DejaVuSans-49\"/>\r\n       <use x=\"63.623047\" xlink:href=\"#DejaVuSans-46\"/>\r\n       <use x=\"95.410156\" xlink:href=\"#DejaVuSans-48\"/>\r\n      </g>\r\n     </g>\r\n    </g>\r\n    <g id=\"xtick_39\">\r\n     <g id=\"line2d_60\">\r\n      <g>\r\n       <use style=\"stroke:#000000;stroke-width:0.8;\" x=\"205.882812\" xlink:href=\"#m2038a2bee5\" y=\"228.088156\"/>\r\n      </g>\r\n     </g>\r\n     <g id=\"text_50\">\r\n      <!-- 1.5 -->\r\n      <g transform=\"translate(197.93125 242.686593)scale(0.1 -0.1)\">\r\n       <use xlink:href=\"#DejaVuSans-49\"/>\r\n       <use x=\"63.623047\" xlink:href=\"#DejaVuSans-46\"/>\r\n       <use x=\"95.410156\" xlink:href=\"#DejaVuSans-53\"/>\r\n      </g>\r\n     </g>\r\n    </g>\r\n    <g id=\"xtick_40\">\r\n     <g id=\"line2d_61\">\r\n      <g>\r\n       <use style=\"stroke:#000000;stroke-width:0.8;\" x=\"256.610085\" xlink:href=\"#m2038a2bee5\" y=\"228.088156\"/>\r\n      </g>\r\n     </g>\r\n     <g id=\"text_51\">\r\n      <!-- 2.0 -->\r\n      <g transform=\"translate(248.658523 242.686593)scale(0.1 -0.1)\">\r\n       <use xlink:href=\"#DejaVuSans-50\"/>\r\n       <use x=\"63.623047\" xlink:href=\"#DejaVuSans-46\"/>\r\n       <use x=\"95.410156\" xlink:href=\"#DejaVuSans-48\"/>\r\n      </g>\r\n     </g>\r\n    </g>\r\n    <g id=\"xtick_41\">\r\n     <g id=\"line2d_62\">\r\n      <g>\r\n       <use style=\"stroke:#000000;stroke-width:0.8;\" x=\"307.337358\" xlink:href=\"#m2038a2bee5\" y=\"228.088156\"/>\r\n      </g>\r\n     </g>\r\n     <g id=\"text_52\">\r\n      <!-- 2.5 -->\r\n      <g transform=\"translate(299.385795 242.686593)scale(0.1 -0.1)\">\r\n       <use xlink:href=\"#DejaVuSans-50\"/>\r\n       <use x=\"63.623047\" xlink:href=\"#DejaVuSans-46\"/>\r\n       <use x=\"95.410156\" xlink:href=\"#DejaVuSans-53\"/>\r\n      </g>\r\n     </g>\r\n    </g>\r\n    <g id=\"xtick_42\">\r\n     <g id=\"line2d_63\">\r\n      <g>\r\n       <use style=\"stroke:#000000;stroke-width:0.8;\" x=\"358.064631\" xlink:href=\"#m2038a2bee5\" y=\"228.088156\"/>\r\n      </g>\r\n     </g>\r\n     <g id=\"text_53\">\r\n      <!-- 3.0 -->\r\n      <g transform=\"translate(350.113068 242.686593)scale(0.1 -0.1)\">\r\n       <use xlink:href=\"#DejaVuSans-51\"/>\r\n       <use x=\"63.623047\" xlink:href=\"#DejaVuSans-46\"/>\r\n       <use x=\"95.410156\" xlink:href=\"#DejaVuSans-48\"/>\r\n      </g>\r\n     </g>\r\n    </g>\r\n   </g>\r\n   <g id=\"matplotlib.axis_12\">\r\n    <g id=\"ytick_12\">\r\n     <g id=\"line2d_64\">\r\n      <g>\r\n       <use style=\"stroke:#000000;stroke-width:0.8;\" x=\"38.482813\" xlink:href=\"#md212a1b23b\" y=\"217.671651\"/>\r\n      </g>\r\n     </g>\r\n     <g id=\"text_54\">\r\n      <!-- −0.5 -->\r\n      <g transform=\"translate(7.2 221.47087)scale(0.1 -0.1)\">\r\n       <use xlink:href=\"#DejaVuSans-8722\"/>\r\n       <use x=\"83.789062\" xlink:href=\"#DejaVuSans-48\"/>\r\n       <use x=\"147.412109\" xlink:href=\"#DejaVuSans-46\"/>\r\n       <use x=\"179.199219\" xlink:href=\"#DejaVuSans-53\"/>\r\n      </g>\r\n     </g>\r\n    </g>\r\n    <g id=\"ytick_13\">\r\n     <g id=\"line2d_65\">\r\n      <g>\r\n       <use style=\"stroke:#000000;stroke-width:0.8;\" x=\"38.482813\" xlink:href=\"#md212a1b23b\" y=\"206.871675\"/>\r\n      </g>\r\n     </g>\r\n     <g id=\"text_55\">\r\n      <!-- 0.0 -->\r\n      <g transform=\"translate(15.579688 210.670894)scale(0.1 -0.1)\">\r\n       <use xlink:href=\"#DejaVuSans-48\"/>\r\n       <use x=\"63.623047\" xlink:href=\"#DejaVuSans-46\"/>\r\n       <use x=\"95.410156\" xlink:href=\"#DejaVuSans-48\"/>\r\n      </g>\r\n     </g>\r\n    </g>\r\n   </g>\r\n   <g id=\"line2d_66\">\r\n    <path clip-path=\"url(#p9882604055)\" d=\"M 53.700994 226.676208 \r\nL 155.15554 220.289133 \r\nL 256.610085 215.248416 \r\nL 358.064631 198.437247 \r\n\" style=\"fill:none;stroke:#1f77b4;stroke-linecap:square;stroke-width:1.5;\"/>\r\n   </g>\r\n   <g id=\"line2d_67\">\r\n    <path clip-path=\"url(#p9882604055)\" d=\"M 53.700994 223.436388 \r\nL 155.15554 220.296739 \r\nL 256.610085 220.339747 \r\nL 358.064631 217.413928 \r\n\" style=\"fill:none;stroke:#ff7f0e;stroke-linecap:square;stroke-width:1.5;\"/>\r\n   </g>\r\n   <g id=\"patch_28\">\r\n    <path d=\"M 38.482813 228.088156 \r\nL 38.482813 197.025299 \r\n\" style=\"fill:none;stroke:#000000;stroke-linecap:square;stroke-linejoin:miter;stroke-width:0.8;\"/>\r\n   </g>\r\n   <g id=\"patch_29\">\r\n    <path d=\"M 373.282813 228.088156 \r\nL 373.282813 197.025299 \r\n\" style=\"fill:none;stroke:#000000;stroke-linecap:square;stroke-linejoin:miter;stroke-width:0.8;\"/>\r\n   </g>\r\n   <g id=\"patch_30\">\r\n    <path d=\"M 38.482813 228.088156 \r\nL 373.282813 228.088156 \r\n\" style=\"fill:none;stroke:#000000;stroke-linecap:square;stroke-linejoin:miter;stroke-width:0.8;\"/>\r\n   </g>\r\n   <g id=\"patch_31\">\r\n    <path d=\"M 38.482813 197.025299 \r\nL 373.282813 197.025299 \r\n\" style=\"fill:none;stroke:#000000;stroke-linecap:square;stroke-linejoin:miter;stroke-width:0.8;\"/>\r\n   </g>\r\n  </g>\r\n </g>\r\n <defs>\r\n  <clipPath id=\"pbfff6d6490\">\r\n   <rect height=\"31.062857\" width=\"334.8\" x=\"38.482813\" y=\"10.648156\"/>\r\n  </clipPath>\r\n  <clipPath id=\"p424e370f15\">\r\n   <rect height=\"31.062857\" width=\"334.8\" x=\"38.482813\" y=\"47.923584\"/>\r\n  </clipPath>\r\n  <clipPath id=\"pf018242e8a\">\r\n   <rect height=\"31.062857\" width=\"334.8\" x=\"38.482813\" y=\"85.199013\"/>\r\n  </clipPath>\r\n  <clipPath id=\"p482eb84acf\">\r\n   <rect height=\"31.062857\" width=\"334.8\" x=\"38.482813\" y=\"122.474442\"/>\r\n  </clipPath>\r\n  <clipPath id=\"pced95b5dcb\">\r\n   <rect height=\"31.062857\" width=\"334.8\" x=\"38.482813\" y=\"159.74987\"/>\r\n  </clipPath>\r\n  <clipPath id=\"p9882604055\">\r\n   <rect height=\"31.062857\" width=\"334.8\" x=\"38.482813\" y=\"197.025299\"/>\r\n  </clipPath>\r\n </defs>\r\n</svg>\r\n",
      "image/png": "[encoded data removed]"
     },
     "metadata": {
      "needs_background": "light"
     }
    }
   ],
   "source": [
    "from matplotlib import pyplot as plt\n",
    "import matplotlib.style as style\n",
    "\n",
    "for i in range(0,6):\n",
    "    plt.subplot(6,1,i+1)\n",
    "    plt.plot(x_train_vae[0,i,:,0])\n",
    "    # plt.plot(x_train_noise_vae[0,i,:,0])\n",
    "    plt.plot(x_pred_vae[0,i,:,0])"
   ]
  },
  {
   "cell_type": "code",
   "execution_count": 29,
   "metadata": {},
   "outputs": [
    {
     "output_type": "display_data",
     "data": {
      "text/plain": "<Figure size 432x288 with 6 Axes>",
      "image/svg+xml": "<?xml version=\"1.0\" encoding=\"utf-8\" standalone=\"no\"?>\r\n<!DOCTYPE svg PUBLIC \"-//W3C//DTD SVG 1.1//EN\"\r\n  \"http://www.w3.org/Graphics/SVG/1.1/DTD/svg11.dtd\">\r\n<!-- Created with matplotlib (https://matplotlib.org/) -->\r\n<svg height=\"250.612156pt\" version=\"1.1\" viewBox=\"0 0 372.103125 250.612156\" width=\"372.103125pt\" xmlns=\"http://www.w3.org/2000/svg\" xmlns:xlink=\"http://www.w3.org/1999/xlink\">\r\n <metadata>\r\n  <rdf:RDF xmlns:cc=\"http://creativecommons.org/ns#\" xmlns:dc=\"http://purl.org/dc/elements/1.1/\" xmlns:rdf=\"http://www.w3.org/1999/02/22-rdf-syntax-ns#\">\r\n   <cc:Work>\r\n    <dc:type rdf:resource=\"http://purl.org/dc/dcmitype/StillImage\"/>\r\n    <dc:date>2021-03-18T20:49:32.827733</dc:date>\r\n    <dc:format>image/svg+xml</dc:format>\r\n    <dc:creator>\r\n     <cc:Agent>\r\n      <dc:title>Matplotlib v3.3.2, https://matplotlib.org/</dc:title>\r\n     </cc:Agent>\r\n    </dc:creator>\r\n   </cc:Work>\r\n  </rdf:RDF>\r\n </metadata>\r\n <defs>\r\n  <style type=\"text/css\">*{stroke-linecap:butt;stroke-linejoin:round;}</style>\r\n </defs>\r\n <g id=\"figure_1\">\r\n  <g id=\"patch_1\">\r\n   <path d=\"M 0 250.612156 \r\nL 372.103125 250.612156 \r\nL 372.103125 0 \r\nL 0 0 \r\nz\r\n\" style=\"fill:none;\"/>\r\n  </g>\r\n  <g id=\"axes_1\">\r\n   <g id=\"patch_2\">\r\n    <path d=\"M 30.103125 40.356888 \r\nL 364.903125 40.356888 \r\nL 364.903125 9.294031 \r\nL 30.103125 9.294031 \r\nz\r\n\" style=\"fill:#ffffff;\"/>\r\n   </g>\r\n   <g id=\"matplotlib.axis_1\">\r\n    <g id=\"xtick_1\">\r\n     <g id=\"line2d_1\">\r\n      <defs>\r\n       <path d=\"M 0 0 \r\nL 0 3.5 \r\n\" id=\"m1b621bb6f1\" style=\"stroke:#000000;stroke-width:0.8;\"/>\r\n      </defs>\r\n      <g>\r\n       <use style=\"stroke:#000000;stroke-width:0.8;\" x=\"45.321307\" xlink:href=\"#m1b621bb6f1\" y=\"40.356888\"/>\r\n      </g>\r\n     </g>\r\n     <g id=\"text_1\">\r\n      <!-- 0.0 -->\r\n      <g transform=\"translate(37.369744 54.955325)scale(0.1 -0.1)\">\r\n       <defs>\r\n        <path d=\"M 31.78125 66.40625 \r\nQ 24.171875 66.40625 20.328125 58.90625 \r\nQ 16.5 51.421875 16.5 36.375 \r\nQ 16.5 21.390625 20.328125 13.890625 \r\nQ 24.171875 6.390625 31.78125 6.390625 \r\nQ 39.453125 6.390625 43.28125 13.890625 \r\nQ 47.125 21.390625 47.125 36.375 \r\nQ 47.125 51.421875 43.28125 58.90625 \r\nQ 39.453125 66.40625 31.78125 66.40625 \r\nz\r\nM 31.78125 74.21875 \r\nQ 44.046875 74.21875 50.515625 64.515625 \r\nQ 56.984375 54.828125 56.984375 36.375 \r\nQ 56.984375 17.96875 50.515625 8.265625 \r\nQ 44.046875 -1.421875 31.78125 -1.421875 \r\nQ 19.53125 -1.421875 13.0625 8.265625 \r\nQ 6.59375 17.96875 6.59375 36.375 \r\nQ 6.59375 54.828125 13.0625 64.515625 \r\nQ 19.53125 74.21875 31.78125 74.21875 \r\nz\r\n\" id=\"DejaVuSans-48\"/>\r\n        <path d=\"M 10.6875 12.40625 \r\nL 21 12.40625 \r\nL 21 0 \r\nL 10.6875 0 \r\nz\r\n\" id=\"DejaVuSans-46\"/>\r\n       </defs>\r\n       <use xlink:href=\"#DejaVuSans-48\"/>\r\n       <use x=\"63.623047\" xlink:href=\"#DejaVuSans-46\"/>\r\n       <use x=\"95.410156\" xlink:href=\"#DejaVuSans-48\"/>\r\n      </g>\r\n     </g>\r\n    </g>\r\n    <g id=\"xtick_2\">\r\n     <g id=\"line2d_2\">\r\n      <g>\r\n       <use style=\"stroke:#000000;stroke-width:0.8;\" x=\"96.04858\" xlink:href=\"#m1b621bb6f1\" y=\"40.356888\"/>\r\n      </g>\r\n     </g>\r\n     <g id=\"text_2\">\r\n      <!-- 0.5 -->\r\n      <g transform=\"translate(88.097017 54.955325)scale(0.1 -0.1)\">\r\n       <defs>\r\n        <path d=\"M 10.796875 72.90625 \r\nL 49.515625 72.90625 \r\nL 49.515625 64.59375 \r\nL 19.828125 64.59375 \r\nL 19.828125 46.734375 \r\nQ 21.96875 47.46875 24.109375 47.828125 \r\nQ 26.265625 48.1875 28.421875 48.1875 \r\nQ 40.625 48.1875 47.75 41.5 \r\nQ 54.890625 34.8125 54.890625 23.390625 \r\nQ 54.890625 11.625 47.5625 5.09375 \r\nQ 40.234375 -1.421875 26.90625 -1.421875 \r\nQ 22.3125 -1.421875 17.546875 -0.640625 \r\nQ 12.796875 0.140625 7.71875 1.703125 \r\nL 7.71875 11.625 \r\nQ 12.109375 9.234375 16.796875 8.0625 \r\nQ 21.484375 6.890625 26.703125 6.890625 \r\nQ 35.15625 6.890625 40.078125 11.328125 \r\nQ 45.015625 15.765625 45.015625 23.390625 \r\nQ 45.015625 31 40.078125 35.4375 \r\nQ 35.15625 39.890625 26.703125 39.890625 \r\nQ 22.75 39.890625 18.8125 39.015625 \r\nQ 14.890625 38.140625 10.796875 36.28125 \r\nz\r\n\" id=\"DejaVuSans-53\"/>\r\n       </defs>\r\n       <use xlink:href=\"#DejaVuSans-48\"/>\r\n       <use x=\"63.623047\" xlink:href=\"#DejaVuSans-46\"/>\r\n       <use x=\"95.410156\" xlink:href=\"#DejaVuSans-53\"/>\r\n      </g>\r\n     </g>\r\n    </g>\r\n    <g id=\"xtick_3\">\r\n     <g id=\"line2d_3\">\r\n      <g>\r\n       <use style=\"stroke:#000000;stroke-width:0.8;\" x=\"146.775852\" xlink:href=\"#m1b621bb6f1\" y=\"40.356888\"/>\r\n      </g>\r\n     </g>\r\n     <g id=\"text_3\">\r\n      <!-- 1.0 -->\r\n      <g transform=\"translate(138.82429 54.955325)scale(0.1 -0.1)\">\r\n       <defs>\r\n        <path d=\"M 12.40625 8.296875 \r\nL 28.515625 8.296875 \r\nL 28.515625 63.921875 \r\nL 10.984375 60.40625 \r\nL 10.984375 69.390625 \r\nL 28.421875 72.90625 \r\nL 38.28125 72.90625 \r\nL 38.28125 8.296875 \r\nL 54.390625 8.296875 \r\nL 54.390625 0 \r\nL 12.40625 0 \r\nz\r\n\" id=\"DejaVuSans-49\"/>\r\n       </defs>\r\n       <use xlink:href=\"#DejaVuSans-49\"/>\r\n       <use x=\"63.623047\" xlink:href=\"#DejaVuSans-46\"/>\r\n       <use x=\"95.410156\" xlink:href=\"#DejaVuSans-48\"/>\r\n      </g>\r\n     </g>\r\n    </g>\r\n    <g id=\"xtick_4\">\r\n     <g id=\"line2d_4\">\r\n      <g>\r\n       <use style=\"stroke:#000000;stroke-width:0.8;\" x=\"197.503125\" xlink:href=\"#m1b621bb6f1\" y=\"40.356888\"/>\r\n      </g>\r\n     </g>\r\n     <g id=\"text_4\">\r\n      <!-- 1.5 -->\r\n      <g transform=\"translate(189.551563 54.955325)scale(0.1 -0.1)\">\r\n       <use xlink:href=\"#DejaVuSans-49\"/>\r\n       <use x=\"63.623047\" xlink:href=\"#DejaVuSans-46\"/>\r\n       <use x=\"95.410156\" xlink:href=\"#DejaVuSans-53\"/>\r\n      </g>\r\n     </g>\r\n    </g>\r\n    <g id=\"xtick_5\">\r\n     <g id=\"line2d_5\">\r\n      <g>\r\n       <use style=\"stroke:#000000;stroke-width:0.8;\" x=\"248.230398\" xlink:href=\"#m1b621bb6f1\" y=\"40.356888\"/>\r\n      </g>\r\n     </g>\r\n     <g id=\"text_5\">\r\n      <!-- 2.0 -->\r\n      <g transform=\"translate(240.278835 54.955325)scale(0.1 -0.1)\">\r\n       <defs>\r\n        <path d=\"M 19.1875 8.296875 \r\nL 53.609375 8.296875 \r\nL 53.609375 0 \r\nL 7.328125 0 \r\nL 7.328125 8.296875 \r\nQ 12.9375 14.109375 22.625 23.890625 \r\nQ 32.328125 33.6875 34.8125 36.53125 \r\nQ 39.546875 41.84375 41.421875 45.53125 \r\nQ 43.3125 49.21875 43.3125 52.78125 \r\nQ 43.3125 58.59375 39.234375 62.25 \r\nQ 35.15625 65.921875 28.609375 65.921875 \r\nQ 23.96875 65.921875 18.8125 64.3125 \r\nQ 13.671875 62.703125 7.8125 59.421875 \r\nL 7.8125 69.390625 \r\nQ 13.765625 71.78125 18.9375 73 \r\nQ 24.125 74.21875 28.421875 74.21875 \r\nQ 39.75 74.21875 46.484375 68.546875 \r\nQ 53.21875 62.890625 53.21875 53.421875 \r\nQ 53.21875 48.921875 51.53125 44.890625 \r\nQ 49.859375 40.875 45.40625 35.40625 \r\nQ 44.1875 33.984375 37.640625 27.21875 \r\nQ 31.109375 20.453125 19.1875 8.296875 \r\nz\r\n\" id=\"DejaVuSans-50\"/>\r\n       </defs>\r\n       <use xlink:href=\"#DejaVuSans-50\"/>\r\n       <use x=\"63.623047\" xlink:href=\"#DejaVuSans-46\"/>\r\n       <use x=\"95.410156\" xlink:href=\"#DejaVuSans-48\"/>\r\n      </g>\r\n     </g>\r\n    </g>\r\n    <g id=\"xtick_6\">\r\n     <g id=\"line2d_6\">\r\n      <g>\r\n       <use style=\"stroke:#000000;stroke-width:0.8;\" x=\"298.95767\" xlink:href=\"#m1b621bb6f1\" y=\"40.356888\"/>\r\n      </g>\r\n     </g>\r\n     <g id=\"text_6\">\r\n      <!-- 2.5 -->\r\n      <g transform=\"translate(291.006108 54.955325)scale(0.1 -0.1)\">\r\n       <use xlink:href=\"#DejaVuSans-50\"/>\r\n       <use x=\"63.623047\" xlink:href=\"#DejaVuSans-46\"/>\r\n       <use x=\"95.410156\" xlink:href=\"#DejaVuSans-53\"/>\r\n      </g>\r\n     </g>\r\n    </g>\r\n    <g id=\"xtick_7\">\r\n     <g id=\"line2d_7\">\r\n      <g>\r\n       <use style=\"stroke:#000000;stroke-width:0.8;\" x=\"349.684943\" xlink:href=\"#m1b621bb6f1\" y=\"40.356888\"/>\r\n      </g>\r\n     </g>\r\n     <g id=\"text_7\">\r\n      <!-- 3.0 -->\r\n      <g transform=\"translate(341.733381 54.955325)scale(0.1 -0.1)\">\r\n       <defs>\r\n        <path d=\"M 40.578125 39.3125 \r\nQ 47.65625 37.796875 51.625 33 \r\nQ 55.609375 28.21875 55.609375 21.1875 \r\nQ 55.609375 10.40625 48.1875 4.484375 \r\nQ 40.765625 -1.421875 27.09375 -1.421875 \r\nQ 22.515625 -1.421875 17.65625 -0.515625 \r\nQ 12.796875 0.390625 7.625 2.203125 \r\nL 7.625 11.71875 \r\nQ 11.71875 9.328125 16.59375 8.109375 \r\nQ 21.484375 6.890625 26.8125 6.890625 \r\nQ 36.078125 6.890625 40.9375 10.546875 \r\nQ 45.796875 14.203125 45.796875 21.1875 \r\nQ 45.796875 27.640625 41.28125 31.265625 \r\nQ 36.765625 34.90625 28.71875 34.90625 \r\nL 20.21875 34.90625 \r\nL 20.21875 43.015625 \r\nL 29.109375 43.015625 \r\nQ 36.375 43.015625 40.234375 45.921875 \r\nQ 44.09375 48.828125 44.09375 54.296875 \r\nQ 44.09375 59.90625 40.109375 62.90625 \r\nQ 36.140625 65.921875 28.71875 65.921875 \r\nQ 24.65625 65.921875 20.015625 65.03125 \r\nQ 15.375 64.15625 9.8125 62.3125 \r\nL 9.8125 71.09375 \r\nQ 15.4375 72.65625 20.34375 73.4375 \r\nQ 25.25 74.21875 29.59375 74.21875 \r\nQ 40.828125 74.21875 47.359375 69.109375 \r\nQ 53.90625 64.015625 53.90625 55.328125 \r\nQ 53.90625 49.265625 50.4375 45.09375 \r\nQ 46.96875 40.921875 40.578125 39.3125 \r\nz\r\n\" id=\"DejaVuSans-51\"/>\r\n       </defs>\r\n       <use xlink:href=\"#DejaVuSans-51\"/>\r\n       <use x=\"63.623047\" xlink:href=\"#DejaVuSans-46\"/>\r\n       <use x=\"95.410156\" xlink:href=\"#DejaVuSans-48\"/>\r\n      </g>\r\n     </g>\r\n    </g>\r\n   </g>\r\n   <g id=\"matplotlib.axis_2\">\r\n    <g id=\"ytick_1\">\r\n     <g id=\"line2d_8\">\r\n      <defs>\r\n       <path d=\"M 0 0 \r\nL -3.5 0 \r\n\" id=\"mc2250cf24c\" style=\"stroke:#000000;stroke-width:0.8;\"/>\r\n      </defs>\r\n      <g>\r\n       <use style=\"stroke:#000000;stroke-width:0.8;\" x=\"30.103125\" xlink:href=\"#mc2250cf24c\" y=\"33.239799\"/>\r\n      </g>\r\n     </g>\r\n     <g id=\"text_8\">\r\n      <!-- 0.1 -->\r\n      <g transform=\"translate(7.2 37.039018)scale(0.1 -0.1)\">\r\n       <use xlink:href=\"#DejaVuSans-48\"/>\r\n       <use x=\"63.623047\" xlink:href=\"#DejaVuSans-46\"/>\r\n       <use x=\"95.410156\" xlink:href=\"#DejaVuSans-49\"/>\r\n      </g>\r\n     </g>\r\n    </g>\r\n    <g id=\"ytick_2\">\r\n     <g id=\"line2d_9\">\r\n      <g>\r\n       <use style=\"stroke:#000000;stroke-width:0.8;\" x=\"30.103125\" xlink:href=\"#mc2250cf24c\" y=\"22.119509\"/>\r\n      </g>\r\n     </g>\r\n     <g id=\"text_9\">\r\n      <!-- 0.2 -->\r\n      <g transform=\"translate(7.2 25.918728)scale(0.1 -0.1)\">\r\n       <use xlink:href=\"#DejaVuSans-48\"/>\r\n       <use x=\"63.623047\" xlink:href=\"#DejaVuSans-46\"/>\r\n       <use x=\"95.410156\" xlink:href=\"#DejaVuSans-50\"/>\r\n      </g>\r\n     </g>\r\n    </g>\r\n    <g id=\"ytick_3\">\r\n     <g id=\"line2d_10\">\r\n      <g>\r\n       <use style=\"stroke:#000000;stroke-width:0.8;\" x=\"30.103125\" xlink:href=\"#mc2250cf24c\" y=\"10.999219\"/>\r\n      </g>\r\n     </g>\r\n     <g id=\"text_10\">\r\n      <!-- 0.3 -->\r\n      <g transform=\"translate(7.2 14.798437)scale(0.1 -0.1)\">\r\n       <use xlink:href=\"#DejaVuSans-48\"/>\r\n       <use x=\"63.623047\" xlink:href=\"#DejaVuSans-46\"/>\r\n       <use x=\"95.410156\" xlink:href=\"#DejaVuSans-51\"/>\r\n      </g>\r\n     </g>\r\n    </g>\r\n   </g>\r\n   <g id=\"line2d_11\">\r\n    <path clip-path=\"url(#p5f75a6955d)\" d=\"M 45.321307 35.437047 \r\nL 146.775852 14.483525 \r\nL 248.230398 38.94494 \r\nL 349.684943 33.576623 \r\n\" style=\"fill:none;stroke:#1f77b4;stroke-linecap:square;stroke-width:1.5;\"/>\r\n   </g>\r\n   <g id=\"line2d_12\">\r\n    <path clip-path=\"url(#p5f75a6955d)\" d=\"M 45.321307 30.50745 \r\nL 146.775852 10.705979 \r\nL 248.230398 19.578492 \r\nL 349.684943 26.939163 \r\n\" style=\"fill:none;stroke:#ff7f0e;stroke-linecap:square;stroke-width:1.5;\"/>\r\n   </g>\r\n   <g id=\"patch_3\">\r\n    <path d=\"M 30.103125 40.356888 \r\nL 30.103125 9.294031 \r\n\" style=\"fill:none;stroke:#000000;stroke-linecap:square;stroke-linejoin:miter;stroke-width:0.8;\"/>\r\n   </g>\r\n   <g id=\"patch_4\">\r\n    <path d=\"M 364.903125 40.356888 \r\nL 364.903125 9.294031 \r\n\" style=\"fill:none;stroke:#000000;stroke-linecap:square;stroke-linejoin:miter;stroke-width:0.8;\"/>\r\n   </g>\r\n   <g id=\"patch_5\">\r\n    <path d=\"M 30.103125 40.356888 \r\nL 364.903125 40.356888 \r\n\" style=\"fill:none;stroke:#000000;stroke-linecap:square;stroke-linejoin:miter;stroke-width:0.8;\"/>\r\n   </g>\r\n   <g id=\"patch_6\">\r\n    <path d=\"M 30.103125 9.294031 \r\nL 364.903125 9.294031 \r\n\" style=\"fill:none;stroke:#000000;stroke-linecap:square;stroke-linejoin:miter;stroke-width:0.8;\"/>\r\n   </g>\r\n  </g>\r\n  <g id=\"axes_2\">\r\n   <g id=\"patch_7\">\r\n    <path d=\"M 30.103125 77.632316 \r\nL 364.903125 77.632316 \r\nL 364.903125 46.569459 \r\nL 30.103125 46.569459 \r\nz\r\n\" style=\"fill:#ffffff;\"/>\r\n   </g>\r\n   <g id=\"matplotlib.axis_3\">\r\n    <g id=\"xtick_8\">\r\n     <g id=\"line2d_13\">\r\n      <g>\r\n       <use style=\"stroke:#000000;stroke-width:0.8;\" x=\"45.321307\" xlink:href=\"#m1b621bb6f1\" y=\"77.632316\"/>\r\n      </g>\r\n     </g>\r\n     <g id=\"text_11\">\r\n      <!-- 0.0 -->\r\n      <g transform=\"translate(37.369744 92.230754)scale(0.1 -0.1)\">\r\n       <use xlink:href=\"#DejaVuSans-48\"/>\r\n       <use x=\"63.623047\" xlink:href=\"#DejaVuSans-46\"/>\r\n       <use x=\"95.410156\" xlink:href=\"#DejaVuSans-48\"/>\r\n      </g>\r\n     </g>\r\n    </g>\r\n    <g id=\"xtick_9\">\r\n     <g id=\"line2d_14\">\r\n      <g>\r\n       <use style=\"stroke:#000000;stroke-width:0.8;\" x=\"96.04858\" xlink:href=\"#m1b621bb6f1\" y=\"77.632316\"/>\r\n      </g>\r\n     </g>\r\n     <g id=\"text_12\">\r\n      <!-- 0.5 -->\r\n      <g transform=\"translate(88.097017 92.230754)scale(0.1 -0.1)\">\r\n       <use xlink:href=\"#DejaVuSans-48\"/>\r\n       <use x=\"63.623047\" xlink:href=\"#DejaVuSans-46\"/>\r\n       <use x=\"95.410156\" xlink:href=\"#DejaVuSans-53\"/>\r\n      </g>\r\n     </g>\r\n    </g>\r\n    <g id=\"xtick_10\">\r\n     <g id=\"line2d_15\">\r\n      <g>\r\n       <use style=\"stroke:#000000;stroke-width:0.8;\" x=\"146.775852\" xlink:href=\"#m1b621bb6f1\" y=\"77.632316\"/>\r\n      </g>\r\n     </g>\r\n     <g id=\"text_13\">\r\n      <!-- 1.0 -->\r\n      <g transform=\"translate(138.82429 92.230754)scale(0.1 -0.1)\">\r\n       <use xlink:href=\"#DejaVuSans-49\"/>\r\n       <use x=\"63.623047\" xlink:href=\"#DejaVuSans-46\"/>\r\n       <use x=\"95.410156\" xlink:href=\"#DejaVuSans-48\"/>\r\n      </g>\r\n     </g>\r\n    </g>\r\n    <g id=\"xtick_11\">\r\n     <g id=\"line2d_16\">\r\n      <g>\r\n       <use style=\"stroke:#000000;stroke-width:0.8;\" x=\"197.503125\" xlink:href=\"#m1b621bb6f1\" y=\"77.632316\"/>\r\n      </g>\r\n     </g>\r\n     <g id=\"text_14\">\r\n      <!-- 1.5 -->\r\n      <g transform=\"translate(189.551563 92.230754)scale(0.1 -0.1)\">\r\n       <use xlink:href=\"#DejaVuSans-49\"/>\r\n       <use x=\"63.623047\" xlink:href=\"#DejaVuSans-46\"/>\r\n       <use x=\"95.410156\" xlink:href=\"#DejaVuSans-53\"/>\r\n      </g>\r\n     </g>\r\n    </g>\r\n    <g id=\"xtick_12\">\r\n     <g id=\"line2d_17\">\r\n      <g>\r\n       <use style=\"stroke:#000000;stroke-width:0.8;\" x=\"248.230398\" xlink:href=\"#m1b621bb6f1\" y=\"77.632316\"/>\r\n      </g>\r\n     </g>\r\n     <g id=\"text_15\">\r\n      <!-- 2.0 -->\r\n      <g transform=\"translate(240.278835 92.230754)scale(0.1 -0.1)\">\r\n       <use xlink:href=\"#DejaVuSans-50\"/>\r\n       <use x=\"63.623047\" xlink:href=\"#DejaVuSans-46\"/>\r\n       <use x=\"95.410156\" xlink:href=\"#DejaVuSans-48\"/>\r\n      </g>\r\n     </g>\r\n    </g>\r\n    <g id=\"xtick_13\">\r\n     <g id=\"line2d_18\">\r\n      <g>\r\n       <use style=\"stroke:#000000;stroke-width:0.8;\" x=\"298.95767\" xlink:href=\"#m1b621bb6f1\" y=\"77.632316\"/>\r\n      </g>\r\n     </g>\r\n     <g id=\"text_16\">\r\n      <!-- 2.5 -->\r\n      <g transform=\"translate(291.006108 92.230754)scale(0.1 -0.1)\">\r\n       <use xlink:href=\"#DejaVuSans-50\"/>\r\n       <use x=\"63.623047\" xlink:href=\"#DejaVuSans-46\"/>\r\n       <use x=\"95.410156\" xlink:href=\"#DejaVuSans-53\"/>\r\n      </g>\r\n     </g>\r\n    </g>\r\n    <g id=\"xtick_14\">\r\n     <g id=\"line2d_19\">\r\n      <g>\r\n       <use style=\"stroke:#000000;stroke-width:0.8;\" x=\"349.684943\" xlink:href=\"#m1b621bb6f1\" y=\"77.632316\"/>\r\n      </g>\r\n     </g>\r\n     <g id=\"text_17\">\r\n      <!-- 3.0 -->\r\n      <g transform=\"translate(341.733381 92.230754)scale(0.1 -0.1)\">\r\n       <use xlink:href=\"#DejaVuSans-51\"/>\r\n       <use x=\"63.623047\" xlink:href=\"#DejaVuSans-46\"/>\r\n       <use x=\"95.410156\" xlink:href=\"#DejaVuSans-48\"/>\r\n      </g>\r\n     </g>\r\n    </g>\r\n   </g>\r\n   <g id=\"matplotlib.axis_4\">\r\n    <g id=\"ytick_4\">\r\n     <g id=\"line2d_20\">\r\n      <g>\r\n       <use style=\"stroke:#000000;stroke-width:0.8;\" x=\"30.103125\" xlink:href=\"#mc2250cf24c\" y=\"76.392224\"/>\r\n      </g>\r\n     </g>\r\n     <g id=\"text_18\">\r\n      <!-- 0 -->\r\n      <g transform=\"translate(16.740625 80.191443)scale(0.1 -0.1)\">\r\n       <use xlink:href=\"#DejaVuSans-48\"/>\r\n      </g>\r\n     </g>\r\n    </g>\r\n    <g id=\"ytick_5\">\r\n     <g id=\"line2d_21\">\r\n      <g>\r\n       <use style=\"stroke:#000000;stroke-width:0.8;\" x=\"30.103125\" xlink:href=\"#mc2250cf24c\" y=\"47.981407\"/>\r\n      </g>\r\n     </g>\r\n     <g id=\"text_19\">\r\n      <!-- 50 -->\r\n      <g transform=\"translate(10.378125 51.780626)scale(0.1 -0.1)\">\r\n       <use xlink:href=\"#DejaVuSans-53\"/>\r\n       <use x=\"63.623047\" xlink:href=\"#DejaVuSans-48\"/>\r\n      </g>\r\n     </g>\r\n    </g>\r\n   </g>\r\n   <g id=\"line2d_22\">\r\n    <path clip-path=\"url(#p89f3972c65)\" d=\"M 45.321307 76.220368 \r\nL 146.775852 75.958831 \r\nL 248.230398 48.549624 \r\nL 349.684943 47.981407 \r\n\" style=\"fill:none;stroke:#1f77b4;stroke-linecap:square;stroke-width:1.5;\"/>\r\n   </g>\r\n   <g id=\"line2d_23\">\r\n    <path clip-path=\"url(#p89f3972c65)\" d=\"M 45.321307 76.214803 \r\nL 146.775852 76.15538 \r\nL 248.230398 48.990391 \r\nL 349.684943 48.910802 \r\n\" style=\"fill:none;stroke:#ff7f0e;stroke-linecap:square;stroke-width:1.5;\"/>\r\n   </g>\r\n   <g id=\"patch_8\">\r\n    <path d=\"M 30.103125 77.632316 \r\nL 30.103125 46.569459 \r\n\" style=\"fill:none;stroke:#000000;stroke-linecap:square;stroke-linejoin:miter;stroke-width:0.8;\"/>\r\n   </g>\r\n   <g id=\"patch_9\">\r\n    <path d=\"M 364.903125 77.632316 \r\nL 364.903125 46.569459 \r\n\" style=\"fill:none;stroke:#000000;stroke-linecap:square;stroke-linejoin:miter;stroke-width:0.8;\"/>\r\n   </g>\r\n   <g id=\"patch_10\">\r\n    <path d=\"M 30.103125 77.632316 \r\nL 364.903125 77.632316 \r\n\" style=\"fill:none;stroke:#000000;stroke-linecap:square;stroke-linejoin:miter;stroke-width:0.8;\"/>\r\n   </g>\r\n   <g id=\"patch_11\">\r\n    <path d=\"M 30.103125 46.569459 \r\nL 364.903125 46.569459 \r\n\" style=\"fill:none;stroke:#000000;stroke-linecap:square;stroke-linejoin:miter;stroke-width:0.8;\"/>\r\n   </g>\r\n  </g>\r\n  <g id=\"axes_3\">\r\n   <g id=\"patch_12\">\r\n    <path d=\"M 30.103125 114.907745 \r\nL 364.903125 114.907745 \r\nL 364.903125 83.844888 \r\nL 30.103125 83.844888 \r\nz\r\n\" style=\"fill:#ffffff;\"/>\r\n   </g>\r\n   <g id=\"matplotlib.axis_5\">\r\n    <g id=\"xtick_15\">\r\n     <g id=\"line2d_24\">\r\n      <g>\r\n       <use style=\"stroke:#000000;stroke-width:0.8;\" x=\"45.321307\" xlink:href=\"#m1b621bb6f1\" y=\"114.907745\"/>\r\n      </g>\r\n     </g>\r\n     <g id=\"text_20\">\r\n      <!-- 0.0 -->\r\n      <g transform=\"translate(37.369744 129.506183)scale(0.1 -0.1)\">\r\n       <use xlink:href=\"#DejaVuSans-48\"/>\r\n       <use x=\"63.623047\" xlink:href=\"#DejaVuSans-46\"/>\r\n       <use x=\"95.410156\" xlink:href=\"#DejaVuSans-48\"/>\r\n      </g>\r\n     </g>\r\n    </g>\r\n    <g id=\"xtick_16\">\r\n     <g id=\"line2d_25\">\r\n      <g>\r\n       <use style=\"stroke:#000000;stroke-width:0.8;\" x=\"96.04858\" xlink:href=\"#m1b621bb6f1\" y=\"114.907745\"/>\r\n      </g>\r\n     </g>\r\n     <g id=\"text_21\">\r\n      <!-- 0.5 -->\r\n      <g transform=\"translate(88.097017 129.506183)scale(0.1 -0.1)\">\r\n       <use xlink:href=\"#DejaVuSans-48\"/>\r\n       <use x=\"63.623047\" xlink:href=\"#DejaVuSans-46\"/>\r\n       <use x=\"95.410156\" xlink:href=\"#DejaVuSans-53\"/>\r\n      </g>\r\n     </g>\r\n    </g>\r\n    <g id=\"xtick_17\">\r\n     <g id=\"line2d_26\">\r\n      <g>\r\n       <use style=\"stroke:#000000;stroke-width:0.8;\" x=\"146.775852\" xlink:href=\"#m1b621bb6f1\" y=\"114.907745\"/>\r\n      </g>\r\n     </g>\r\n     <g id=\"text_22\">\r\n      <!-- 1.0 -->\r\n      <g transform=\"translate(138.82429 129.506183)scale(0.1 -0.1)\">\r\n       <use xlink:href=\"#DejaVuSans-49\"/>\r\n       <use x=\"63.623047\" xlink:href=\"#DejaVuSans-46\"/>\r\n       <use x=\"95.410156\" xlink:href=\"#DejaVuSans-48\"/>\r\n      </g>\r\n     </g>\r\n    </g>\r\n    <g id=\"xtick_18\">\r\n     <g id=\"line2d_27\">\r\n      <g>\r\n       <use style=\"stroke:#000000;stroke-width:0.8;\" x=\"197.503125\" xlink:href=\"#m1b621bb6f1\" y=\"114.907745\"/>\r\n      </g>\r\n     </g>\r\n     <g id=\"text_23\">\r\n      <!-- 1.5 -->\r\n      <g transform=\"translate(189.551563 129.506183)scale(0.1 -0.1)\">\r\n       <use xlink:href=\"#DejaVuSans-49\"/>\r\n       <use x=\"63.623047\" xlink:href=\"#DejaVuSans-46\"/>\r\n       <use x=\"95.410156\" xlink:href=\"#DejaVuSans-53\"/>\r\n      </g>\r\n     </g>\r\n    </g>\r\n    <g id=\"xtick_19\">\r\n     <g id=\"line2d_28\">\r\n      <g>\r\n       <use style=\"stroke:#000000;stroke-width:0.8;\" x=\"248.230398\" xlink:href=\"#m1b621bb6f1\" y=\"114.907745\"/>\r\n      </g>\r\n     </g>\r\n     <g id=\"text_24\">\r\n      <!-- 2.0 -->\r\n      <g transform=\"translate(240.278835 129.506183)scale(0.1 -0.1)\">\r\n       <use xlink:href=\"#DejaVuSans-50\"/>\r\n       <use x=\"63.623047\" xlink:href=\"#DejaVuSans-46\"/>\r\n       <use x=\"95.410156\" xlink:href=\"#DejaVuSans-48\"/>\r\n      </g>\r\n     </g>\r\n    </g>\r\n    <g id=\"xtick_20\">\r\n     <g id=\"line2d_29\">\r\n      <g>\r\n       <use style=\"stroke:#000000;stroke-width:0.8;\" x=\"298.95767\" xlink:href=\"#m1b621bb6f1\" y=\"114.907745\"/>\r\n      </g>\r\n     </g>\r\n     <g id=\"text_25\">\r\n      <!-- 2.5 -->\r\n      <g transform=\"translate(291.006108 129.506183)scale(0.1 -0.1)\">\r\n       <use xlink:href=\"#DejaVuSans-50\"/>\r\n       <use x=\"63.623047\" xlink:href=\"#DejaVuSans-46\"/>\r\n       <use x=\"95.410156\" xlink:href=\"#DejaVuSans-53\"/>\r\n      </g>\r\n     </g>\r\n    </g>\r\n    <g id=\"xtick_21\">\r\n     <g id=\"line2d_30\">\r\n      <g>\r\n       <use style=\"stroke:#000000;stroke-width:0.8;\" x=\"349.684943\" xlink:href=\"#m1b621bb6f1\" y=\"114.907745\"/>\r\n      </g>\r\n     </g>\r\n     <g id=\"text_26\">\r\n      <!-- 3.0 -->\r\n      <g transform=\"translate(341.733381 129.506183)scale(0.1 -0.1)\">\r\n       <use xlink:href=\"#DejaVuSans-51\"/>\r\n       <use x=\"63.623047\" xlink:href=\"#DejaVuSans-46\"/>\r\n       <use x=\"95.410156\" xlink:href=\"#DejaVuSans-48\"/>\r\n      </g>\r\n     </g>\r\n    </g>\r\n   </g>\r\n   <g id=\"matplotlib.axis_6\">\r\n    <g id=\"ytick_6\">\r\n     <g id=\"line2d_31\">\r\n      <g>\r\n       <use style=\"stroke:#000000;stroke-width:0.8;\" x=\"30.103125\" xlink:href=\"#mc2250cf24c\" y=\"113.495797\"/>\r\n      </g>\r\n     </g>\r\n     <g id=\"text_27\">\r\n      <!-- 40 -->\r\n      <g transform=\"translate(10.378125 117.295016)scale(0.1 -0.1)\">\r\n       <defs>\r\n        <path d=\"M 37.796875 64.3125 \r\nL 12.890625 25.390625 \r\nL 37.796875 25.390625 \r\nz\r\nM 35.203125 72.90625 \r\nL 47.609375 72.90625 \r\nL 47.609375 25.390625 \r\nL 58.015625 25.390625 \r\nL 58.015625 17.1875 \r\nL 47.609375 17.1875 \r\nL 47.609375 0 \r\nL 37.796875 0 \r\nL 37.796875 17.1875 \r\nL 4.890625 17.1875 \r\nL 4.890625 26.703125 \r\nz\r\n\" id=\"DejaVuSans-52\"/>\r\n       </defs>\r\n       <use xlink:href=\"#DejaVuSans-52\"/>\r\n       <use x=\"63.623047\" xlink:href=\"#DejaVuSans-48\"/>\r\n      </g>\r\n     </g>\r\n    </g>\r\n    <g id=\"ytick_7\">\r\n     <g id=\"line2d_32\">\r\n      <g>\r\n       <use style=\"stroke:#000000;stroke-width:0.8;\" x=\"30.103125\" xlink:href=\"#mc2250cf24c\" y=\"93.325111\"/>\r\n      </g>\r\n     </g>\r\n     <g id=\"text_28\">\r\n      <!-- 50 -->\r\n      <g transform=\"translate(10.378125 97.124329)scale(0.1 -0.1)\">\r\n       <use xlink:href=\"#DejaVuSans-53\"/>\r\n       <use x=\"63.623047\" xlink:href=\"#DejaVuSans-48\"/>\r\n      </g>\r\n     </g>\r\n    </g>\r\n   </g>\r\n   <g id=\"line2d_33\">\r\n    <path clip-path=\"url(#pc8221da74a)\" d=\"M 45.321307 99.376316 \r\nL 146.775852 85.256836 \r\nL 248.230398 105.427522 \r\nL 349.684943 113.495797 \r\n\" style=\"fill:none;stroke:#1f77b4;stroke-linecap:square;stroke-width:1.5;\"/>\r\n   </g>\r\n   <g id=\"line2d_34\">\r\n    <path clip-path=\"url(#pc8221da74a)\" d=\"M 45.321307 95.640818 \r\nL 146.775852 89.167076 \r\nL 248.230398 91.400968 \r\nL 349.684943 98.627964 \r\n\" style=\"fill:none;stroke:#ff7f0e;stroke-linecap:square;stroke-width:1.5;\"/>\r\n   </g>\r\n   <g id=\"patch_13\">\r\n    <path d=\"M 30.103125 114.907745 \r\nL 30.103125 83.844888 \r\n\" style=\"fill:none;stroke:#000000;stroke-linecap:square;stroke-linejoin:miter;stroke-width:0.8;\"/>\r\n   </g>\r\n   <g id=\"patch_14\">\r\n    <path d=\"M 364.903125 114.907745 \r\nL 364.903125 83.844888 \r\n\" style=\"fill:none;stroke:#000000;stroke-linecap:square;stroke-linejoin:miter;stroke-width:0.8;\"/>\r\n   </g>\r\n   <g id=\"patch_15\">\r\n    <path d=\"M 30.103125 114.907745 \r\nL 364.903125 114.907745 \r\n\" style=\"fill:none;stroke:#000000;stroke-linecap:square;stroke-linejoin:miter;stroke-width:0.8;\"/>\r\n   </g>\r\n   <g id=\"patch_16\">\r\n    <path d=\"M 30.103125 83.844888 \r\nL 364.903125 83.844888 \r\n\" style=\"fill:none;stroke:#000000;stroke-linecap:square;stroke-linejoin:miter;stroke-width:0.8;\"/>\r\n   </g>\r\n  </g>\r\n  <g id=\"axes_4\">\r\n   <g id=\"patch_17\">\r\n    <path d=\"M 30.103125 152.183174 \r\nL 364.903125 152.183174 \r\nL 364.903125 121.120316 \r\nL 30.103125 121.120316 \r\nz\r\n\" style=\"fill:#ffffff;\"/>\r\n   </g>\r\n   <g id=\"matplotlib.axis_7\">\r\n    <g id=\"xtick_22\">\r\n     <g id=\"line2d_35\">\r\n      <g>\r\n       <use style=\"stroke:#000000;stroke-width:0.8;\" x=\"45.321307\" xlink:href=\"#m1b621bb6f1\" y=\"152.183174\"/>\r\n      </g>\r\n     </g>\r\n     <g id=\"text_29\">\r\n      <!-- 0.0 -->\r\n      <g transform=\"translate(37.369744 166.781611)scale(0.1 -0.1)\">\r\n       <use xlink:href=\"#DejaVuSans-48\"/>\r\n       <use x=\"63.623047\" xlink:href=\"#DejaVuSans-46\"/>\r\n       <use x=\"95.410156\" xlink:href=\"#DejaVuSans-48\"/>\r\n      </g>\r\n     </g>\r\n    </g>\r\n    <g id=\"xtick_23\">\r\n     <g id=\"line2d_36\">\r\n      <g>\r\n       <use style=\"stroke:#000000;stroke-width:0.8;\" x=\"96.04858\" xlink:href=\"#m1b621bb6f1\" y=\"152.183174\"/>\r\n      </g>\r\n     </g>\r\n     <g id=\"text_30\">\r\n      <!-- 0.5 -->\r\n      <g transform=\"translate(88.097017 166.781611)scale(0.1 -0.1)\">\r\n       <use xlink:href=\"#DejaVuSans-48\"/>\r\n       <use x=\"63.623047\" xlink:href=\"#DejaVuSans-46\"/>\r\n       <use x=\"95.410156\" xlink:href=\"#DejaVuSans-53\"/>\r\n      </g>\r\n     </g>\r\n    </g>\r\n    <g id=\"xtick_24\">\r\n     <g id=\"line2d_37\">\r\n      <g>\r\n       <use style=\"stroke:#000000;stroke-width:0.8;\" x=\"146.775852\" xlink:href=\"#m1b621bb6f1\" y=\"152.183174\"/>\r\n      </g>\r\n     </g>\r\n     <g id=\"text_31\">\r\n      <!-- 1.0 -->\r\n      <g transform=\"translate(138.82429 166.781611)scale(0.1 -0.1)\">\r\n       <use xlink:href=\"#DejaVuSans-49\"/>\r\n       <use x=\"63.623047\" xlink:href=\"#DejaVuSans-46\"/>\r\n       <use x=\"95.410156\" xlink:href=\"#DejaVuSans-48\"/>\r\n      </g>\r\n     </g>\r\n    </g>\r\n    <g id=\"xtick_25\">\r\n     <g id=\"line2d_38\">\r\n      <g>\r\n       <use style=\"stroke:#000000;stroke-width:0.8;\" x=\"197.503125\" xlink:href=\"#m1b621bb6f1\" y=\"152.183174\"/>\r\n      </g>\r\n     </g>\r\n     <g id=\"text_32\">\r\n      <!-- 1.5 -->\r\n      <g transform=\"translate(189.551563 166.781611)scale(0.1 -0.1)\">\r\n       <use xlink:href=\"#DejaVuSans-49\"/>\r\n       <use x=\"63.623047\" xlink:href=\"#DejaVuSans-46\"/>\r\n       <use x=\"95.410156\" xlink:href=\"#DejaVuSans-53\"/>\r\n      </g>\r\n     </g>\r\n    </g>\r\n    <g id=\"xtick_26\">\r\n     <g id=\"line2d_39\">\r\n      <g>\r\n       <use style=\"stroke:#000000;stroke-width:0.8;\" x=\"248.230398\" xlink:href=\"#m1b621bb6f1\" y=\"152.183174\"/>\r\n      </g>\r\n     </g>\r\n     <g id=\"text_33\">\r\n      <!-- 2.0 -->\r\n      <g transform=\"translate(240.278835 166.781611)scale(0.1 -0.1)\">\r\n       <use xlink:href=\"#DejaVuSans-50\"/>\r\n       <use x=\"63.623047\" xlink:href=\"#DejaVuSans-46\"/>\r\n       <use x=\"95.410156\" xlink:href=\"#DejaVuSans-48\"/>\r\n      </g>\r\n     </g>\r\n    </g>\r\n    <g id=\"xtick_27\">\r\n     <g id=\"line2d_40\">\r\n      <g>\r\n       <use style=\"stroke:#000000;stroke-width:0.8;\" x=\"298.95767\" xlink:href=\"#m1b621bb6f1\" y=\"152.183174\"/>\r\n      </g>\r\n     </g>\r\n     <g id=\"text_34\">\r\n      <!-- 2.5 -->\r\n      <g transform=\"translate(291.006108 166.781611)scale(0.1 -0.1)\">\r\n       <use xlink:href=\"#DejaVuSans-50\"/>\r\n       <use x=\"63.623047\" xlink:href=\"#DejaVuSans-46\"/>\r\n       <use x=\"95.410156\" xlink:href=\"#DejaVuSans-53\"/>\r\n      </g>\r\n     </g>\r\n    </g>\r\n    <g id=\"xtick_28\">\r\n     <g id=\"line2d_41\">\r\n      <g>\r\n       <use style=\"stroke:#000000;stroke-width:0.8;\" x=\"349.684943\" xlink:href=\"#m1b621bb6f1\" y=\"152.183174\"/>\r\n      </g>\r\n     </g>\r\n     <g id=\"text_35\">\r\n      <!-- 3.0 -->\r\n      <g transform=\"translate(341.733381 166.781611)scale(0.1 -0.1)\">\r\n       <use xlink:href=\"#DejaVuSans-51\"/>\r\n       <use x=\"63.623047\" xlink:href=\"#DejaVuSans-46\"/>\r\n       <use x=\"95.410156\" xlink:href=\"#DejaVuSans-48\"/>\r\n      </g>\r\n     </g>\r\n    </g>\r\n   </g>\r\n   <g id=\"matplotlib.axis_8\">\r\n    <g id=\"ytick_8\">\r\n     <g id=\"line2d_42\">\r\n      <g>\r\n       <use style=\"stroke:#000000;stroke-width:0.8;\" x=\"30.103125\" xlink:href=\"#mc2250cf24c\" y=\"141.358239\"/>\r\n      </g>\r\n     </g>\r\n     <g id=\"text_36\">\r\n      <!-- 50 -->\r\n      <g transform=\"translate(10.378125 145.157457)scale(0.1 -0.1)\">\r\n       <use xlink:href=\"#DejaVuSans-53\"/>\r\n       <use x=\"63.623047\" xlink:href=\"#DejaVuSans-48\"/>\r\n      </g>\r\n     </g>\r\n    </g>\r\n    <g id=\"ytick_9\">\r\n     <g id=\"line2d_43\">\r\n      <g>\r\n       <use style=\"stroke:#000000;stroke-width:0.8;\" x=\"30.103125\" xlink:href=\"#mc2250cf24c\" y=\"129.592005\"/>\r\n      </g>\r\n     </g>\r\n     <g id=\"text_37\">\r\n      <!-- 55 -->\r\n      <g transform=\"translate(10.378125 133.391224)scale(0.1 -0.1)\">\r\n       <use xlink:href=\"#DejaVuSans-53\"/>\r\n       <use x=\"63.623047\" xlink:href=\"#DejaVuSans-53\"/>\r\n      </g>\r\n     </g>\r\n    </g>\r\n   </g>\r\n   <g id=\"line2d_44\">\r\n    <path clip-path=\"url(#p434ca895ad)\" d=\"M 45.321307 146.064732 \r\nL 146.775852 136.651745 \r\nL 248.230398 150.771226 \r\nL 349.684943 122.532265 \r\n\" style=\"fill:none;stroke:#1f77b4;stroke-linecap:square;stroke-width:1.5;\"/>\r\n   </g>\r\n   <g id=\"line2d_45\">\r\n    <path clip-path=\"url(#p434ca895ad)\" d=\"M 45.321307 138.19425 \r\nL 146.775852 131.746781 \r\nL 248.230398 137.362026 \r\nL 349.684943 126.83994 \r\n\" style=\"fill:none;stroke:#ff7f0e;stroke-linecap:square;stroke-width:1.5;\"/>\r\n   </g>\r\n   <g id=\"patch_18\">\r\n    <path d=\"M 30.103125 152.183174 \r\nL 30.103125 121.120316 \r\n\" style=\"fill:none;stroke:#000000;stroke-linecap:square;stroke-linejoin:miter;stroke-width:0.8;\"/>\r\n   </g>\r\n   <g id=\"patch_19\">\r\n    <path d=\"M 364.903125 152.183174 \r\nL 364.903125 121.120316 \r\n\" style=\"fill:none;stroke:#000000;stroke-linecap:square;stroke-linejoin:miter;stroke-width:0.8;\"/>\r\n   </g>\r\n   <g id=\"patch_20\">\r\n    <path d=\"M 30.103125 152.183174 \r\nL 364.903125 152.183174 \r\n\" style=\"fill:none;stroke:#000000;stroke-linecap:square;stroke-linejoin:miter;stroke-width:0.8;\"/>\r\n   </g>\r\n   <g id=\"patch_21\">\r\n    <path d=\"M 30.103125 121.120316 \r\nL 364.903125 121.120316 \r\n\" style=\"fill:none;stroke:#000000;stroke-linecap:square;stroke-linejoin:miter;stroke-width:0.8;\"/>\r\n   </g>\r\n  </g>\r\n  <g id=\"axes_5\">\r\n   <g id=\"patch_22\">\r\n    <path d=\"M 30.103125 189.458602 \r\nL 364.903125 189.458602 \r\nL 364.903125 158.395745 \r\nL 30.103125 158.395745 \r\nz\r\n\" style=\"fill:#ffffff;\"/>\r\n   </g>\r\n   <g id=\"matplotlib.axis_9\">\r\n    <g id=\"xtick_29\">\r\n     <g id=\"line2d_46\">\r\n      <g>\r\n       <use style=\"stroke:#000000;stroke-width:0.8;\" x=\"45.321307\" xlink:href=\"#m1b621bb6f1\" y=\"189.458602\"/>\r\n      </g>\r\n     </g>\r\n     <g id=\"text_38\">\r\n      <!-- 0.0 -->\r\n      <g transform=\"translate(37.369744 204.05704)scale(0.1 -0.1)\">\r\n       <use xlink:href=\"#DejaVuSans-48\"/>\r\n       <use x=\"63.623047\" xlink:href=\"#DejaVuSans-46\"/>\r\n       <use x=\"95.410156\" xlink:href=\"#DejaVuSans-48\"/>\r\n      </g>\r\n     </g>\r\n    </g>\r\n    <g id=\"xtick_30\">\r\n     <g id=\"line2d_47\">\r\n      <g>\r\n       <use style=\"stroke:#000000;stroke-width:0.8;\" x=\"96.04858\" xlink:href=\"#m1b621bb6f1\" y=\"189.458602\"/>\r\n      </g>\r\n     </g>\r\n     <g id=\"text_39\">\r\n      <!-- 0.5 -->\r\n      <g transform=\"translate(88.097017 204.05704)scale(0.1 -0.1)\">\r\n       <use xlink:href=\"#DejaVuSans-48\"/>\r\n       <use x=\"63.623047\" xlink:href=\"#DejaVuSans-46\"/>\r\n       <use x=\"95.410156\" xlink:href=\"#DejaVuSans-53\"/>\r\n      </g>\r\n     </g>\r\n    </g>\r\n    <g id=\"xtick_31\">\r\n     <g id=\"line2d_48\">\r\n      <g>\r\n       <use style=\"stroke:#000000;stroke-width:0.8;\" x=\"146.775852\" xlink:href=\"#m1b621bb6f1\" y=\"189.458602\"/>\r\n      </g>\r\n     </g>\r\n     <g id=\"text_40\">\r\n      <!-- 1.0 -->\r\n      <g transform=\"translate(138.82429 204.05704)scale(0.1 -0.1)\">\r\n       <use xlink:href=\"#DejaVuSans-49\"/>\r\n       <use x=\"63.623047\" xlink:href=\"#DejaVuSans-46\"/>\r\n       <use x=\"95.410156\" xlink:href=\"#DejaVuSans-48\"/>\r\n      </g>\r\n     </g>\r\n    </g>\r\n    <g id=\"xtick_32\">\r\n     <g id=\"line2d_49\">\r\n      <g>\r\n       <use style=\"stroke:#000000;stroke-width:0.8;\" x=\"197.503125\" xlink:href=\"#m1b621bb6f1\" y=\"189.458602\"/>\r\n      </g>\r\n     </g>\r\n     <g id=\"text_41\">\r\n      <!-- 1.5 -->\r\n      <g transform=\"translate(189.551563 204.05704)scale(0.1 -0.1)\">\r\n       <use xlink:href=\"#DejaVuSans-49\"/>\r\n       <use x=\"63.623047\" xlink:href=\"#DejaVuSans-46\"/>\r\n       <use x=\"95.410156\" xlink:href=\"#DejaVuSans-53\"/>\r\n      </g>\r\n     </g>\r\n    </g>\r\n    <g id=\"xtick_33\">\r\n     <g id=\"line2d_50\">\r\n      <g>\r\n       <use style=\"stroke:#000000;stroke-width:0.8;\" x=\"248.230398\" xlink:href=\"#m1b621bb6f1\" y=\"189.458602\"/>\r\n      </g>\r\n     </g>\r\n     <g id=\"text_42\">\r\n      <!-- 2.0 -->\r\n      <g transform=\"translate(240.278835 204.05704)scale(0.1 -0.1)\">\r\n       <use xlink:href=\"#DejaVuSans-50\"/>\r\n       <use x=\"63.623047\" xlink:href=\"#DejaVuSans-46\"/>\r\n       <use x=\"95.410156\" xlink:href=\"#DejaVuSans-48\"/>\r\n      </g>\r\n     </g>\r\n    </g>\r\n    <g id=\"xtick_34\">\r\n     <g id=\"line2d_51\">\r\n      <g>\r\n       <use style=\"stroke:#000000;stroke-width:0.8;\" x=\"298.95767\" xlink:href=\"#m1b621bb6f1\" y=\"189.458602\"/>\r\n      </g>\r\n     </g>\r\n     <g id=\"text_43\">\r\n      <!-- 2.5 -->\r\n      <g transform=\"translate(291.006108 204.05704)scale(0.1 -0.1)\">\r\n       <use xlink:href=\"#DejaVuSans-50\"/>\r\n       <use x=\"63.623047\" xlink:href=\"#DejaVuSans-46\"/>\r\n       <use x=\"95.410156\" xlink:href=\"#DejaVuSans-53\"/>\r\n      </g>\r\n     </g>\r\n    </g>\r\n    <g id=\"xtick_35\">\r\n     <g id=\"line2d_52\">\r\n      <g>\r\n       <use style=\"stroke:#000000;stroke-width:0.8;\" x=\"349.684943\" xlink:href=\"#m1b621bb6f1\" y=\"189.458602\"/>\r\n      </g>\r\n     </g>\r\n     <g id=\"text_44\">\r\n      <!-- 3.0 -->\r\n      <g transform=\"translate(341.733381 204.05704)scale(0.1 -0.1)\">\r\n       <use xlink:href=\"#DejaVuSans-51\"/>\r\n       <use x=\"63.623047\" xlink:href=\"#DejaVuSans-46\"/>\r\n       <use x=\"95.410156\" xlink:href=\"#DejaVuSans-48\"/>\r\n      </g>\r\n     </g>\r\n    </g>\r\n   </g>\r\n   <g id=\"matplotlib.axis_10\">\r\n    <g id=\"ytick_10\">\r\n     <g id=\"line2d_53\">\r\n      <g>\r\n       <use style=\"stroke:#000000;stroke-width:0.8;\" x=\"30.103125\" xlink:href=\"#mc2250cf24c\" y=\"178.795797\"/>\r\n      </g>\r\n     </g>\r\n     <g id=\"text_45\">\r\n      <!-- 25 -->\r\n      <g transform=\"translate(10.378125 182.595016)scale(0.1 -0.1)\">\r\n       <use xlink:href=\"#DejaVuSans-50\"/>\r\n       <use x=\"63.623047\" xlink:href=\"#DejaVuSans-53\"/>\r\n      </g>\r\n     </g>\r\n    </g>\r\n    <g id=\"ytick_11\">\r\n     <g id=\"line2d_54\">\r\n      <g>\r\n       <use style=\"stroke:#000000;stroke-width:0.8;\" x=\"30.103125\" xlink:href=\"#mc2250cf24c\" y=\"162.872979\"/>\r\n      </g>\r\n     </g>\r\n     <g id=\"text_46\">\r\n      <!-- 50 -->\r\n      <g transform=\"translate(10.378125 166.672198)scale(0.1 -0.1)\">\r\n       <use xlink:href=\"#DejaVuSans-53\"/>\r\n       <use x=\"63.623047\" xlink:href=\"#DejaVuSans-48\"/>\r\n      </g>\r\n     </g>\r\n    </g>\r\n   </g>\r\n   <g id=\"line2d_55\">\r\n    <path clip-path=\"url(#pb642539c7e)\" d=\"M 45.321307 161.599153 \r\nL 146.775852 164.783717 \r\nL 248.230398 188.046654 \r\nL 349.684943 170.228551 \r\n\" style=\"fill:none;stroke:#1f77b4;stroke-linecap:square;stroke-width:1.5;\"/>\r\n   </g>\r\n   <g id=\"line2d_56\">\r\n    <path clip-path=\"url(#pb642539c7e)\" d=\"M 45.321307 159.807693 \r\nL 146.775852 161.443839 \r\nL 248.230398 184.205266 \r\nL 349.684943 170.454263 \r\n\" style=\"fill:none;stroke:#ff7f0e;stroke-linecap:square;stroke-width:1.5;\"/>\r\n   </g>\r\n   <g id=\"patch_23\">\r\n    <path d=\"M 30.103125 189.458602 \r\nL 30.103125 158.395745 \r\n\" style=\"fill:none;stroke:#000000;stroke-linecap:square;stroke-linejoin:miter;stroke-width:0.8;\"/>\r\n   </g>\r\n   <g id=\"patch_24\">\r\n    <path d=\"M 364.903125 189.458602 \r\nL 364.903125 158.395745 \r\n\" style=\"fill:none;stroke:#000000;stroke-linecap:square;stroke-linejoin:miter;stroke-width:0.8;\"/>\r\n   </g>\r\n   <g id=\"patch_25\">\r\n    <path d=\"M 30.103125 189.458602 \r\nL 364.903125 189.458602 \r\n\" style=\"fill:none;stroke:#000000;stroke-linecap:square;stroke-linejoin:miter;stroke-width:0.8;\"/>\r\n   </g>\r\n   <g id=\"patch_26\">\r\n    <path d=\"M 30.103125 158.395745 \r\nL 364.903125 158.395745 \r\n\" style=\"fill:none;stroke:#000000;stroke-linecap:square;stroke-linejoin:miter;stroke-width:0.8;\"/>\r\n   </g>\r\n  </g>\r\n  <g id=\"axes_6\">\r\n   <g id=\"patch_27\">\r\n    <path d=\"M 30.103125 226.734031 \r\nL 364.903125 226.734031 \r\nL 364.903125 195.671174 \r\nL 30.103125 195.671174 \r\nz\r\n\" style=\"fill:#ffffff;\"/>\r\n   </g>\r\n   <g id=\"matplotlib.axis_11\">\r\n    <g id=\"xtick_36\">\r\n     <g id=\"line2d_57\">\r\n      <g>\r\n       <use style=\"stroke:#000000;stroke-width:0.8;\" x=\"45.321307\" xlink:href=\"#m1b621bb6f1\" y=\"226.734031\"/>\r\n      </g>\r\n     </g>\r\n     <g id=\"text_47\">\r\n      <!-- 0.0 -->\r\n      <g transform=\"translate(37.369744 241.332468)scale(0.1 -0.1)\">\r\n       <use xlink:href=\"#DejaVuSans-48\"/>\r\n       <use x=\"63.623047\" xlink:href=\"#DejaVuSans-46\"/>\r\n       <use x=\"95.410156\" xlink:href=\"#DejaVuSans-48\"/>\r\n      </g>\r\n     </g>\r\n    </g>\r\n    <g id=\"xtick_37\">\r\n     <g id=\"line2d_58\">\r\n      <g>\r\n       <use style=\"stroke:#000000;stroke-width:0.8;\" x=\"96.04858\" xlink:href=\"#m1b621bb6f1\" y=\"226.734031\"/>\r\n      </g>\r\n     </g>\r\n     <g id=\"text_48\">\r\n      <!-- 0.5 -->\r\n      <g transform=\"translate(88.097017 241.332468)scale(0.1 -0.1)\">\r\n       <use xlink:href=\"#DejaVuSans-48\"/>\r\n       <use x=\"63.623047\" xlink:href=\"#DejaVuSans-46\"/>\r\n       <use x=\"95.410156\" xlink:href=\"#DejaVuSans-53\"/>\r\n      </g>\r\n     </g>\r\n    </g>\r\n    <g id=\"xtick_38\">\r\n     <g id=\"line2d_59\">\r\n      <g>\r\n       <use style=\"stroke:#000000;stroke-width:0.8;\" x=\"146.775852\" xlink:href=\"#m1b621bb6f1\" y=\"226.734031\"/>\r\n      </g>\r\n     </g>\r\n     <g id=\"text_49\">\r\n      <!-- 1.0 -->\r\n      <g transform=\"translate(138.82429 241.332468)scale(0.1 -0.1)\">\r\n       <use xlink:href=\"#DejaVuSans-49\"/>\r\n       <use x=\"63.623047\" xlink:href=\"#DejaVuSans-46\"/>\r\n       <use x=\"95.410156\" xlink:href=\"#DejaVuSans-48\"/>\r\n      </g>\r\n     </g>\r\n    </g>\r\n    <g id=\"xtick_39\">\r\n     <g id=\"line2d_60\">\r\n      <g>\r\n       <use style=\"stroke:#000000;stroke-width:0.8;\" x=\"197.503125\" xlink:href=\"#m1b621bb6f1\" y=\"226.734031\"/>\r\n      </g>\r\n     </g>\r\n     <g id=\"text_50\">\r\n      <!-- 1.5 -->\r\n      <g transform=\"translate(189.551563 241.332468)scale(0.1 -0.1)\">\r\n       <use xlink:href=\"#DejaVuSans-49\"/>\r\n       <use x=\"63.623047\" xlink:href=\"#DejaVuSans-46\"/>\r\n       <use x=\"95.410156\" xlink:href=\"#DejaVuSans-53\"/>\r\n      </g>\r\n     </g>\r\n    </g>\r\n    <g id=\"xtick_40\">\r\n     <g id=\"line2d_61\">\r\n      <g>\r\n       <use style=\"stroke:#000000;stroke-width:0.8;\" x=\"248.230398\" xlink:href=\"#m1b621bb6f1\" y=\"226.734031\"/>\r\n      </g>\r\n     </g>\r\n     <g id=\"text_51\">\r\n      <!-- 2.0 -->\r\n      <g transform=\"translate(240.278835 241.332468)scale(0.1 -0.1)\">\r\n       <use xlink:href=\"#DejaVuSans-50\"/>\r\n       <use x=\"63.623047\" xlink:href=\"#DejaVuSans-46\"/>\r\n       <use x=\"95.410156\" xlink:href=\"#DejaVuSans-48\"/>\r\n      </g>\r\n     </g>\r\n    </g>\r\n    <g id=\"xtick_41\">\r\n     <g id=\"line2d_62\">\r\n      <g>\r\n       <use style=\"stroke:#000000;stroke-width:0.8;\" x=\"298.95767\" xlink:href=\"#m1b621bb6f1\" y=\"226.734031\"/>\r\n      </g>\r\n     </g>\r\n     <g id=\"text_52\">\r\n      <!-- 2.5 -->\r\n      <g transform=\"translate(291.006108 241.332468)scale(0.1 -0.1)\">\r\n       <use xlink:href=\"#DejaVuSans-50\"/>\r\n       <use x=\"63.623047\" xlink:href=\"#DejaVuSans-46\"/>\r\n       <use x=\"95.410156\" xlink:href=\"#DejaVuSans-53\"/>\r\n      </g>\r\n     </g>\r\n    </g>\r\n    <g id=\"xtick_42\">\r\n     <g id=\"line2d_63\">\r\n      <g>\r\n       <use style=\"stroke:#000000;stroke-width:0.8;\" x=\"349.684943\" xlink:href=\"#m1b621bb6f1\" y=\"226.734031\"/>\r\n      </g>\r\n     </g>\r\n     <g id=\"text_53\">\r\n      <!-- 3.0 -->\r\n      <g transform=\"translate(341.733381 241.332468)scale(0.1 -0.1)\">\r\n       <use xlink:href=\"#DejaVuSans-51\"/>\r\n       <use x=\"63.623047\" xlink:href=\"#DejaVuSans-46\"/>\r\n       <use x=\"95.410156\" xlink:href=\"#DejaVuSans-48\"/>\r\n      </g>\r\n     </g>\r\n    </g>\r\n   </g>\r\n   <g id=\"matplotlib.axis_12\">\r\n    <g id=\"ytick_12\">\r\n     <g id=\"line2d_64\">\r\n      <g>\r\n       <use style=\"stroke:#000000;stroke-width:0.8;\" x=\"30.103125\" xlink:href=\"#mc2250cf24c\" y=\"219.242392\"/>\r\n      </g>\r\n     </g>\r\n     <g id=\"text_54\">\r\n      <!-- 25 -->\r\n      <g transform=\"translate(10.378125 223.04161)scale(0.1 -0.1)\">\r\n       <use xlink:href=\"#DejaVuSans-50\"/>\r\n       <use x=\"63.623047\" xlink:href=\"#DejaVuSans-53\"/>\r\n      </g>\r\n     </g>\r\n    </g>\r\n    <g id=\"ytick_13\">\r\n     <g id=\"line2d_65\">\r\n      <g>\r\n       <use style=\"stroke:#000000;stroke-width:0.8;\" x=\"30.103125\" xlink:href=\"#mc2250cf24c\" y=\"210.980236\"/>\r\n      </g>\r\n     </g>\r\n     <g id=\"text_55\">\r\n      <!-- 50 -->\r\n      <g transform=\"translate(10.378125 214.779454)scale(0.1 -0.1)\">\r\n       <use xlink:href=\"#DejaVuSans-53\"/>\r\n       <use x=\"63.623047\" xlink:href=\"#DejaVuSans-48\"/>\r\n      </g>\r\n     </g>\r\n    </g>\r\n    <g id=\"ytick_14\">\r\n     <g id=\"line2d_66\">\r\n      <g>\r\n       <use style=\"stroke:#000000;stroke-width:0.8;\" x=\"30.103125\" xlink:href=\"#mc2250cf24c\" y=\"202.71808\"/>\r\n      </g>\r\n     </g>\r\n     <g id=\"text_56\">\r\n      <!-- 75 -->\r\n      <g transform=\"translate(10.378125 206.517298)scale(0.1 -0.1)\">\r\n       <defs>\r\n        <path d=\"M 8.203125 72.90625 \r\nL 55.078125 72.90625 \r\nL 55.078125 68.703125 \r\nL 28.609375 0 \r\nL 18.3125 0 \r\nL 43.21875 64.59375 \r\nL 8.203125 64.59375 \r\nz\r\n\" id=\"DejaVuSans-55\"/>\r\n       </defs>\r\n       <use xlink:href=\"#DejaVuSans-55\"/>\r\n       <use x=\"63.623047\" xlink:href=\"#DejaVuSans-53\"/>\r\n      </g>\r\n     </g>\r\n    </g>\r\n   </g>\r\n   <g id=\"line2d_67\">\r\n    <path clip-path=\"url(#p6c167a6283)\" d=\"M 45.321307 225.322083 \r\nL 146.775852 222.823378 \r\nL 248.230398 214.03613 \r\nL 349.684943 197.083122 \r\n\" style=\"fill:none;stroke:#1f77b4;stroke-linecap:square;stroke-width:1.5;\"/>\r\n   </g>\r\n   <g id=\"line2d_68\">\r\n    <path clip-path=\"url(#p6c167a6283)\" d=\"M 45.321307 217.697533 \r\nL 146.775852 220.115368 \r\nL 248.230398 212.939369 \r\nL 349.684943 209.371347 \r\n\" style=\"fill:none;stroke:#ff7f0e;stroke-linecap:square;stroke-width:1.5;\"/>\r\n   </g>\r\n   <g id=\"patch_28\">\r\n    <path d=\"M 30.103125 226.734031 \r\nL 30.103125 195.671174 \r\n\" style=\"fill:none;stroke:#000000;stroke-linecap:square;stroke-linejoin:miter;stroke-width:0.8;\"/>\r\n   </g>\r\n   <g id=\"patch_29\">\r\n    <path d=\"M 364.903125 226.734031 \r\nL 364.903125 195.671174 \r\n\" style=\"fill:none;stroke:#000000;stroke-linecap:square;stroke-linejoin:miter;stroke-width:0.8;\"/>\r\n   </g>\r\n   <g id=\"patch_30\">\r\n    <path d=\"M 30.103125 226.734031 \r\nL 364.903125 226.734031 \r\n\" style=\"fill:none;stroke:#000000;stroke-linecap:square;stroke-linejoin:miter;stroke-width:0.8;\"/>\r\n   </g>\r\n   <g id=\"patch_31\">\r\n    <path d=\"M 30.103125 195.671174 \r\nL 364.903125 195.671174 \r\n\" style=\"fill:none;stroke:#000000;stroke-linecap:square;stroke-linejoin:miter;stroke-width:0.8;\"/>\r\n   </g>\r\n  </g>\r\n </g>\r\n <defs>\r\n  <clipPath id=\"p5f75a6955d\">\r\n   <rect height=\"31.062857\" width=\"334.8\" x=\"30.103125\" y=\"9.294031\"/>\r\n  </clipPath>\r\n  <clipPath id=\"p89f3972c65\">\r\n   <rect height=\"31.062857\" width=\"334.8\" x=\"30.103125\" y=\"46.569459\"/>\r\n  </clipPath>\r\n  <clipPath id=\"pc8221da74a\">\r\n   <rect height=\"31.062857\" width=\"334.8\" x=\"30.103125\" y=\"83.844888\"/>\r\n  </clipPath>\r\n  <clipPath id=\"p434ca895ad\">\r\n   <rect height=\"31.062857\" width=\"334.8\" x=\"30.103125\" y=\"121.120316\"/>\r\n  </clipPath>\r\n  <clipPath id=\"pb642539c7e\">\r\n   <rect height=\"31.062857\" width=\"334.8\" x=\"30.103125\" y=\"158.395745\"/>\r\n  </clipPath>\r\n  <clipPath id=\"p6c167a6283\">\r\n   <rect height=\"31.062857\" width=\"334.8\" x=\"30.103125\" y=\"195.671174\"/>\r\n  </clipPath>\r\n </defs>\r\n</svg>\r\n",
      "image/png": "[encoded data removed]"
     },
     "metadata": {
      "needs_background": "light"
     }
    }
   ],
   "source": [
    "for i in range(0,6):\n",
    "    plt.subplot(6,1,i+1)\n",
    "    # plt.plot(x_inv[2345,i,:,0])\n",
    "    # plt.plot(x_train_noise_temp[2345,i,:,0])\n",
    "    plt.plot(x_train_clean_temp[2345,i,:,0])\n",
    "    # plt.plot(x_train_clean_temp[2345,i,:,0])\n",
    "    plt.plot(x_pred[2345,i,:,0])"
   ]
  },
  {
   "source": [
    "# Denoising Supervised VAE Loop"
   ],
   "cell_type": "markdown",
   "metadata": {}
  },
  {
   "cell_type": "code",
   "execution_count": null,
   "metadata": {
    "tags": [
     "outputPrepend"
    ]
   },
   "outputs": [],
   "source": [
    "acc_all, acc_noise, acc_clean, file_name = lp.run_loop(raw, params, sub_type, load=False, n_train='flat', train_scale = 5, n_test='flat',test_scale=1)"
   ]
  },
  {
   "cell_type": "code",
   "execution_count": null,
   "metadata": {},
   "outputs": [],
   "source": [
    "acc_all, acc_clean, acc_noise, ave_all, ave_clean, ave_noise = lp.compile_acc(acc_all, acc_noise, acc_clean, file_name, test_scale=1)"
   ]
  },
  {
   "source": [
    "# Plot Reconstruction"
   ],
   "cell_type": "markdown",
   "metadata": {}
  },
  {
   "cell_type": "code",
   "execution_count": 1,
   "metadata": {},
   "outputs": [],
   "source": [
    "import sVAE_utils as svae\n",
    "import process_data as prd"
   ]
  },
  {
   "cell_type": "code",
   "execution_count": 5,
   "metadata": {},
   "outputs": [],
   "source": [
    "sub_type = 'AB'\n",
    "n_train = 'flat'\n",
    "train_scale = 0\n",
    "n_test= 'flat'\n",
    "test_scale = 0\n",
    "feat_type = 'feat'\n",
    "latent_dim = 3\n",
    "epochs = 30\n",
    "train_grp = 2\n",
    "sub = 1\n",
    "foldername = 'models' + '_' + str(train_grp)\n",
    "filename = foldername + '/vae_clean' + n_train + '_' + str(train_scale) + '_' + feat_type + '_dim_' + str(latent_dim) + '_ep_' + str(epochs) + '_' + sub_type \n",
    "# filename = foldername + '/svae_' + feat_type + '_dim_' + str(latent_dim) + '_' + sub_type\n",
    "with open(filename + str(sub) + '.p', 'rb') as f:\n",
    "    # scaler, vae_w, enc_w, dec_w, clf_w, w, c, w_aligned, c_aligned, x_train, x_test, p_train, p_test = pickle.load(f)  \n",
    "    scaler, vae_w, enc_w, dec_w, w, c, w_aligned, c_aligned, x_train, x_test, p_train, p_test = pickle.load(f)"
   ]
  },
  {
   "cell_type": "code",
   "execution_count": 6,
   "metadata": {},
   "outputs": [],
   "source": [
    "# Get ground truth\n",
    "y_train = p_train[:,4]\n",
    "y_test = p_test[:,4]\n",
    "\n",
    "# Add noise and index EMG data\n",
    "x_train_noise, x_train_clean, y_train_clean = prd.add_noise(x_train, p_train, sub, n_train, train_scale)\n",
    "x_test_noise, x_test_clean, y_test_clean = prd.add_noise(x_test, p_test, sub, n_test, test_scale)\n",
    "\n",
    "# vae, encoder, decoder, clf = svae.build_svae_corrupt(latent_dim, y_train_clean.shape[1], input_type=feat_type)\n",
    "vae, encoder, decoder = svae.build_vae_corrupt(latent_dim, input_type=feat_type)\n",
    "\n",
    "vae.set_weights(vae_w)\n",
    "encoder.set_weights(enc_w)\n",
    "decoder.set_weights(dec_w)\n",
    "# clf.set_weights(clf_w)"
   ]
  },
  {
   "cell_type": "code",
   "execution_count": 7,
   "metadata": {},
   "outputs": [],
   "source": [
    "x_train_noise_temp = prd.extract_feats(x_train_noise).reshape((x_train_noise.shape[0],6,-1))[...,np.newaxis]\n",
    "x_test_noise_temp = prd.extract_feats(x_test_noise).reshape((x_test_noise.shape[0],6,-1))[...,np.newaxis]\n",
    "x_train_clean_temp = prd.extract_feats(x_train_clean).reshape((x_train_clean.shape[0],6,-1))[...,np.newaxis]\n",
    "x_test_clean_temp = prd.extract_feats(x_test_clean).reshape((x_test_clean.shape[0],6,-1))[...,np.newaxis]\n",
    "\n",
    "x_train_noise_vae = scaler.transform(x_train_noise_temp.reshape(x_train_noise_temp.shape[0],-1)).reshape(x_train_noise_temp.shape)\n",
    "x_train_vae = scaler.transform(x_train_clean_temp.reshape(x_train_clean_temp.shape[0],-1)).reshape(x_train_clean_temp.shape)\n",
    "x_test_vae = scaler.transform(x_test_noise_temp.reshape(x_test_noise_temp.shape[0],-1)).reshape(x_test_noise_temp.shape)\n",
    "x_test_clean_vae = scaler.transform(x_test_clean_temp.reshape(x_test_clean_temp.shape[0],-1)).reshape(x_test_clean_temp.shape)\n",
    "clean_size = int(np.size(x_test_clean,axis=0)/(np.size(x_test_clean,axis=1)+1))"
   ]
  },
  {
   "cell_type": "code",
   "execution_count": 12,
   "metadata": {},
   "outputs": [],
   "source": [
    "x_recon_vae = svae.recon_vae(vae, x_train_vae[0:2,:,:,0:2])\n",
    "# x_recon = scaler.inverse_transform(x_recon_vae.reshape(x_recon_vae.shape[0],-1)).reshape(x_recon_vae.shape)"
   ]
  },
  {
   "cell_type": "code",
   "execution_count": 14,
   "metadata": {},
   "outputs": [
    {
     "output_type": "display_data",
     "data": {
      "text/plain": "<Figure size 432x288 with 6 Axes>",
      "image/svg+xml": "<?xml version=\"1.0\" encoding=\"utf-8\" standalone=\"no\"?>\r\n<!DOCTYPE svg PUBLIC \"-//W3C//DTD SVG 1.1//EN\"\r\n  \"http://www.w3.org/Graphics/SVG/1.1/DTD/svg11.dtd\">\r\n<!-- Created with matplotlib (https://matplotlib.org/) -->\r\n<svg height=\"249.772063pt\" version=\"1.1\" viewBox=\"0 0 386.845313 249.772063\" width=\"386.845313pt\" xmlns=\"http://www.w3.org/2000/svg\" xmlns:xlink=\"http://www.w3.org/1999/xlink\">\r\n <metadata>\r\n  <rdf:RDF xmlns:cc=\"http://creativecommons.org/ns#\" xmlns:dc=\"http://purl.org/dc/elements/1.1/\" xmlns:rdf=\"http://www.w3.org/1999/02/22-rdf-syntax-ns#\">\r\n   <cc:Work>\r\n    <dc:type rdf:resource=\"http://purl.org/dc/dcmitype/StillImage\"/>\r\n    <dc:date>2021-03-03T14:38:28.356179</dc:date>\r\n    <dc:format>image/svg+xml</dc:format>\r\n    <dc:creator>\r\n     <cc:Agent>\r\n      <dc:title>Matplotlib v3.3.2, https://matplotlib.org/</dc:title>\r\n     </cc:Agent>\r\n    </dc:creator>\r\n   </cc:Work>\r\n  </rdf:RDF>\r\n </metadata>\r\n <defs>\r\n  <style type=\"text/css\">*{stroke-linecap:butt;stroke-linejoin:round;}</style>\r\n </defs>\r\n <g id=\"figure_1\">\r\n  <g id=\"patch_1\">\r\n   <path d=\"M 0 249.772063 \r\nL 386.845313 249.772063 \r\nL 386.845313 0 \r\nL 0 0 \r\nz\r\n\" style=\"fill:none;\"/>\r\n  </g>\r\n  <g id=\"axes_1\">\r\n   <g id=\"patch_2\">\r\n    <path d=\"M 44.845313 39.516795 \r\nL 379.645313 39.516795 \r\nL 379.645313 8.453938 \r\nL 44.845313 8.453938 \r\nz\r\n\" style=\"fill:#ffffff;\"/>\r\n   </g>\r\n   <g id=\"matplotlib.axis_1\">\r\n    <g id=\"xtick_1\">\r\n     <g id=\"line2d_1\">\r\n      <defs>\r\n       <path d=\"M 0 0 \r\nL 0 3.5 \r\n\" id=\"m69d84d775d\" style=\"stroke:#000000;stroke-width:0.8;\"/>\r\n      </defs>\r\n      <g>\r\n       <use style=\"stroke:#000000;stroke-width:0.8;\" x=\"60.063494\" xlink:href=\"#m69d84d775d\" y=\"39.516795\"/>\r\n      </g>\r\n     </g>\r\n     <g id=\"text_1\">\r\n      <!-- 0.0 -->\r\n      <g transform=\"translate(52.111932 54.115233)scale(0.1 -0.1)\">\r\n       <defs>\r\n        <path d=\"M 31.78125 66.40625 \r\nQ 24.171875 66.40625 20.328125 58.90625 \r\nQ 16.5 51.421875 16.5 36.375 \r\nQ 16.5 21.390625 20.328125 13.890625 \r\nQ 24.171875 6.390625 31.78125 6.390625 \r\nQ 39.453125 6.390625 43.28125 13.890625 \r\nQ 47.125 21.390625 47.125 36.375 \r\nQ 47.125 51.421875 43.28125 58.90625 \r\nQ 39.453125 66.40625 31.78125 66.40625 \r\nz\r\nM 31.78125 74.21875 \r\nQ 44.046875 74.21875 50.515625 64.515625 \r\nQ 56.984375 54.828125 56.984375 36.375 \r\nQ 56.984375 17.96875 50.515625 8.265625 \r\nQ 44.046875 -1.421875 31.78125 -1.421875 \r\nQ 19.53125 -1.421875 13.0625 8.265625 \r\nQ 6.59375 17.96875 6.59375 36.375 \r\nQ 6.59375 54.828125 13.0625 64.515625 \r\nQ 19.53125 74.21875 31.78125 74.21875 \r\nz\r\n\" id=\"DejaVuSans-48\"/>\r\n        <path d=\"M 10.6875 12.40625 \r\nL 21 12.40625 \r\nL 21 0 \r\nL 10.6875 0 \r\nz\r\n\" id=\"DejaVuSans-46\"/>\r\n       </defs>\r\n       <use xlink:href=\"#DejaVuSans-48\"/>\r\n       <use x=\"63.623047\" xlink:href=\"#DejaVuSans-46\"/>\r\n       <use x=\"95.410156\" xlink:href=\"#DejaVuSans-48\"/>\r\n      </g>\r\n     </g>\r\n    </g>\r\n    <g id=\"xtick_2\">\r\n     <g id=\"line2d_2\">\r\n      <g>\r\n       <use style=\"stroke:#000000;stroke-width:0.8;\" x=\"110.790767\" xlink:href=\"#m69d84d775d\" y=\"39.516795\"/>\r\n      </g>\r\n     </g>\r\n     <g id=\"text_2\">\r\n      <!-- 0.5 -->\r\n      <g transform=\"translate(102.839205 54.115233)scale(0.1 -0.1)\">\r\n       <defs>\r\n        <path d=\"M 10.796875 72.90625 \r\nL 49.515625 72.90625 \r\nL 49.515625 64.59375 \r\nL 19.828125 64.59375 \r\nL 19.828125 46.734375 \r\nQ 21.96875 47.46875 24.109375 47.828125 \r\nQ 26.265625 48.1875 28.421875 48.1875 \r\nQ 40.625 48.1875 47.75 41.5 \r\nQ 54.890625 34.8125 54.890625 23.390625 \r\nQ 54.890625 11.625 47.5625 5.09375 \r\nQ 40.234375 -1.421875 26.90625 -1.421875 \r\nQ 22.3125 -1.421875 17.546875 -0.640625 \r\nQ 12.796875 0.140625 7.71875 1.703125 \r\nL 7.71875 11.625 \r\nQ 12.109375 9.234375 16.796875 8.0625 \r\nQ 21.484375 6.890625 26.703125 6.890625 \r\nQ 35.15625 6.890625 40.078125 11.328125 \r\nQ 45.015625 15.765625 45.015625 23.390625 \r\nQ 45.015625 31 40.078125 35.4375 \r\nQ 35.15625 39.890625 26.703125 39.890625 \r\nQ 22.75 39.890625 18.8125 39.015625 \r\nQ 14.890625 38.140625 10.796875 36.28125 \r\nz\r\n\" id=\"DejaVuSans-53\"/>\r\n       </defs>\r\n       <use xlink:href=\"#DejaVuSans-48\"/>\r\n       <use x=\"63.623047\" xlink:href=\"#DejaVuSans-46\"/>\r\n       <use x=\"95.410156\" xlink:href=\"#DejaVuSans-53\"/>\r\n      </g>\r\n     </g>\r\n    </g>\r\n    <g id=\"xtick_3\">\r\n     <g id=\"line2d_3\">\r\n      <g>\r\n       <use style=\"stroke:#000000;stroke-width:0.8;\" x=\"161.51804\" xlink:href=\"#m69d84d775d\" y=\"39.516795\"/>\r\n      </g>\r\n     </g>\r\n     <g id=\"text_3\">\r\n      <!-- 1.0 -->\r\n      <g transform=\"translate(153.566477 54.115233)scale(0.1 -0.1)\">\r\n       <defs>\r\n        <path d=\"M 12.40625 8.296875 \r\nL 28.515625 8.296875 \r\nL 28.515625 63.921875 \r\nL 10.984375 60.40625 \r\nL 10.984375 69.390625 \r\nL 28.421875 72.90625 \r\nL 38.28125 72.90625 \r\nL 38.28125 8.296875 \r\nL 54.390625 8.296875 \r\nL 54.390625 0 \r\nL 12.40625 0 \r\nz\r\n\" id=\"DejaVuSans-49\"/>\r\n       </defs>\r\n       <use xlink:href=\"#DejaVuSans-49\"/>\r\n       <use x=\"63.623047\" xlink:href=\"#DejaVuSans-46\"/>\r\n       <use x=\"95.410156\" xlink:href=\"#DejaVuSans-48\"/>\r\n      </g>\r\n     </g>\r\n    </g>\r\n    <g id=\"xtick_4\">\r\n     <g id=\"line2d_4\">\r\n      <g>\r\n       <use style=\"stroke:#000000;stroke-width:0.8;\" x=\"212.245313\" xlink:href=\"#m69d84d775d\" y=\"39.516795\"/>\r\n      </g>\r\n     </g>\r\n     <g id=\"text_4\">\r\n      <!-- 1.5 -->\r\n      <g transform=\"translate(204.29375 54.115233)scale(0.1 -0.1)\">\r\n       <use xlink:href=\"#DejaVuSans-49\"/>\r\n       <use x=\"63.623047\" xlink:href=\"#DejaVuSans-46\"/>\r\n       <use x=\"95.410156\" xlink:href=\"#DejaVuSans-53\"/>\r\n      </g>\r\n     </g>\r\n    </g>\r\n    <g id=\"xtick_5\">\r\n     <g id=\"line2d_5\">\r\n      <g>\r\n       <use style=\"stroke:#000000;stroke-width:0.8;\" x=\"262.972585\" xlink:href=\"#m69d84d775d\" y=\"39.516795\"/>\r\n      </g>\r\n     </g>\r\n     <g id=\"text_5\">\r\n      <!-- 2.0 -->\r\n      <g transform=\"translate(255.021023 54.115233)scale(0.1 -0.1)\">\r\n       <defs>\r\n        <path d=\"M 19.1875 8.296875 \r\nL 53.609375 8.296875 \r\nL 53.609375 0 \r\nL 7.328125 0 \r\nL 7.328125 8.296875 \r\nQ 12.9375 14.109375 22.625 23.890625 \r\nQ 32.328125 33.6875 34.8125 36.53125 \r\nQ 39.546875 41.84375 41.421875 45.53125 \r\nQ 43.3125 49.21875 43.3125 52.78125 \r\nQ 43.3125 58.59375 39.234375 62.25 \r\nQ 35.15625 65.921875 28.609375 65.921875 \r\nQ 23.96875 65.921875 18.8125 64.3125 \r\nQ 13.671875 62.703125 7.8125 59.421875 \r\nL 7.8125 69.390625 \r\nQ 13.765625 71.78125 18.9375 73 \r\nQ 24.125 74.21875 28.421875 74.21875 \r\nQ 39.75 74.21875 46.484375 68.546875 \r\nQ 53.21875 62.890625 53.21875 53.421875 \r\nQ 53.21875 48.921875 51.53125 44.890625 \r\nQ 49.859375 40.875 45.40625 35.40625 \r\nQ 44.1875 33.984375 37.640625 27.21875 \r\nQ 31.109375 20.453125 19.1875 8.296875 \r\nz\r\n\" id=\"DejaVuSans-50\"/>\r\n       </defs>\r\n       <use xlink:href=\"#DejaVuSans-50\"/>\r\n       <use x=\"63.623047\" xlink:href=\"#DejaVuSans-46\"/>\r\n       <use x=\"95.410156\" xlink:href=\"#DejaVuSans-48\"/>\r\n      </g>\r\n     </g>\r\n    </g>\r\n    <g id=\"xtick_6\">\r\n     <g id=\"line2d_6\">\r\n      <g>\r\n       <use style=\"stroke:#000000;stroke-width:0.8;\" x=\"313.699858\" xlink:href=\"#m69d84d775d\" y=\"39.516795\"/>\r\n      </g>\r\n     </g>\r\n     <g id=\"text_6\">\r\n      <!-- 2.5 -->\r\n      <g transform=\"translate(305.748295 54.115233)scale(0.1 -0.1)\">\r\n       <use xlink:href=\"#DejaVuSans-50\"/>\r\n       <use x=\"63.623047\" xlink:href=\"#DejaVuSans-46\"/>\r\n       <use x=\"95.410156\" xlink:href=\"#DejaVuSans-53\"/>\r\n      </g>\r\n     </g>\r\n    </g>\r\n    <g id=\"xtick_7\">\r\n     <g id=\"line2d_7\">\r\n      <g>\r\n       <use style=\"stroke:#000000;stroke-width:0.8;\" x=\"364.427131\" xlink:href=\"#m69d84d775d\" y=\"39.516795\"/>\r\n      </g>\r\n     </g>\r\n     <g id=\"text_7\">\r\n      <!-- 3.0 -->\r\n      <g transform=\"translate(356.475568 54.115233)scale(0.1 -0.1)\">\r\n       <defs>\r\n        <path d=\"M 40.578125 39.3125 \r\nQ 47.65625 37.796875 51.625 33 \r\nQ 55.609375 28.21875 55.609375 21.1875 \r\nQ 55.609375 10.40625 48.1875 4.484375 \r\nQ 40.765625 -1.421875 27.09375 -1.421875 \r\nQ 22.515625 -1.421875 17.65625 -0.515625 \r\nQ 12.796875 0.390625 7.625 2.203125 \r\nL 7.625 11.71875 \r\nQ 11.71875 9.328125 16.59375 8.109375 \r\nQ 21.484375 6.890625 26.8125 6.890625 \r\nQ 36.078125 6.890625 40.9375 10.546875 \r\nQ 45.796875 14.203125 45.796875 21.1875 \r\nQ 45.796875 27.640625 41.28125 31.265625 \r\nQ 36.765625 34.90625 28.71875 34.90625 \r\nL 20.21875 34.90625 \r\nL 20.21875 43.015625 \r\nL 29.109375 43.015625 \r\nQ 36.375 43.015625 40.234375 45.921875 \r\nQ 44.09375 48.828125 44.09375 54.296875 \r\nQ 44.09375 59.90625 40.109375 62.90625 \r\nQ 36.140625 65.921875 28.71875 65.921875 \r\nQ 24.65625 65.921875 20.015625 65.03125 \r\nQ 15.375 64.15625 9.8125 62.3125 \r\nL 9.8125 71.09375 \r\nQ 15.4375 72.65625 20.34375 73.4375 \r\nQ 25.25 74.21875 29.59375 74.21875 \r\nQ 40.828125 74.21875 47.359375 69.109375 \r\nQ 53.90625 64.015625 53.90625 55.328125 \r\nQ 53.90625 49.265625 50.4375 45.09375 \r\nQ 46.96875 40.921875 40.578125 39.3125 \r\nz\r\n\" id=\"DejaVuSans-51\"/>\r\n       </defs>\r\n       <use xlink:href=\"#DejaVuSans-51\"/>\r\n       <use x=\"63.623047\" xlink:href=\"#DejaVuSans-46\"/>\r\n       <use x=\"95.410156\" xlink:href=\"#DejaVuSans-48\"/>\r\n      </g>\r\n     </g>\r\n    </g>\r\n   </g>\r\n   <g id=\"matplotlib.axis_2\">\r\n    <g id=\"ytick_1\">\r\n     <g id=\"line2d_8\">\r\n      <defs>\r\n       <path d=\"M 0 0 \r\nL -3.5 0 \r\n\" id=\"m0083e99ab3\" style=\"stroke:#000000;stroke-width:0.8;\"/>\r\n      </defs>\r\n      <g>\r\n       <use style=\"stroke:#000000;stroke-width:0.8;\" x=\"44.845313\" xlink:href=\"#m0083e99ab3\" y=\"27.0163\"/>\r\n      </g>\r\n     </g>\r\n     <g id=\"text_8\">\r\n      <!-- −0.50 -->\r\n      <g transform=\"translate(7.2 30.815519)scale(0.1 -0.1)\">\r\n       <defs>\r\n        <path d=\"M 10.59375 35.5 \r\nL 73.1875 35.5 \r\nL 73.1875 27.203125 \r\nL 10.59375 27.203125 \r\nz\r\n\" id=\"DejaVuSans-8722\"/>\r\n       </defs>\r\n       <use xlink:href=\"#DejaVuSans-8722\"/>\r\n       <use x=\"83.789062\" xlink:href=\"#DejaVuSans-48\"/>\r\n       <use x=\"147.412109\" xlink:href=\"#DejaVuSans-46\"/>\r\n       <use x=\"179.199219\" xlink:href=\"#DejaVuSans-53\"/>\r\n       <use x=\"242.822266\" xlink:href=\"#DejaVuSans-48\"/>\r\n      </g>\r\n     </g>\r\n    </g>\r\n    <g id=\"ytick_2\">\r\n     <g id=\"line2d_9\">\r\n      <g>\r\n       <use style=\"stroke:#000000;stroke-width:0.8;\" x=\"44.845313\" xlink:href=\"#m0083e99ab3\" y=\"10.999219\"/>\r\n      </g>\r\n     </g>\r\n     <g id=\"text_9\">\r\n      <!-- −0.25 -->\r\n      <g transform=\"translate(7.2 14.798437)scale(0.1 -0.1)\">\r\n       <use xlink:href=\"#DejaVuSans-8722\"/>\r\n       <use x=\"83.789062\" xlink:href=\"#DejaVuSans-48\"/>\r\n       <use x=\"147.412109\" xlink:href=\"#DejaVuSans-46\"/>\r\n       <use x=\"179.199219\" xlink:href=\"#DejaVuSans-50\"/>\r\n       <use x=\"242.822266\" xlink:href=\"#DejaVuSans-53\"/>\r\n      </g>\r\n     </g>\r\n    </g>\r\n   </g>\r\n   <g id=\"line2d_10\">\r\n    <path clip-path=\"url(#pe3da283c47)\" d=\"M 60.063494 38.104847 \r\nL 161.51804 37.567935 \r\nL 262.972585 14.782119 \r\nL 364.427131 9.865886 \r\n\" style=\"fill:none;stroke:#1f77b4;stroke-linecap:square;stroke-width:1.5;\"/>\r\n   </g>\r\n   <g id=\"line2d_11\">\r\n    <path clip-path=\"url(#pe3da283c47)\" d=\"M 60.063494 34.098973 \r\nL 161.51804 35.541872 \r\nL 262.972585 36.38165 \r\nL 364.427131 28.967524 \r\n\" style=\"fill:none;stroke:#ff7f0e;stroke-linecap:square;stroke-width:1.5;\"/>\r\n   </g>\r\n   <g id=\"patch_3\">\r\n    <path d=\"M 44.845313 39.516795 \r\nL 44.845313 8.453938 \r\n\" style=\"fill:none;stroke:#000000;stroke-linecap:square;stroke-linejoin:miter;stroke-width:0.8;\"/>\r\n   </g>\r\n   <g id=\"patch_4\">\r\n    <path d=\"M 379.645313 39.516795 \r\nL 379.645313 8.453938 \r\n\" style=\"fill:none;stroke:#000000;stroke-linecap:square;stroke-linejoin:miter;stroke-width:0.8;\"/>\r\n   </g>\r\n   <g id=\"patch_5\">\r\n    <path d=\"M 44.845313 39.516795 \r\nL 379.645313 39.516795 \r\n\" style=\"fill:none;stroke:#000000;stroke-linecap:square;stroke-linejoin:miter;stroke-width:0.8;\"/>\r\n   </g>\r\n   <g id=\"patch_6\">\r\n    <path d=\"M 44.845313 8.453938 \r\nL 379.645313 8.453938 \r\n\" style=\"fill:none;stroke:#000000;stroke-linecap:square;stroke-linejoin:miter;stroke-width:0.8;\"/>\r\n   </g>\r\n  </g>\r\n  <g id=\"axes_2\">\r\n   <g id=\"patch_7\">\r\n    <path d=\"M 44.845313 76.792224 \r\nL 379.645313 76.792224 \r\nL 379.645313 45.729367 \r\nL 44.845313 45.729367 \r\nz\r\n\" style=\"fill:#ffffff;\"/>\r\n   </g>\r\n   <g id=\"matplotlib.axis_3\">\r\n    <g id=\"xtick_8\">\r\n     <g id=\"line2d_12\">\r\n      <g>\r\n       <use style=\"stroke:#000000;stroke-width:0.8;\" x=\"60.063494\" xlink:href=\"#m69d84d775d\" y=\"76.792224\"/>\r\n      </g>\r\n     </g>\r\n     <g id=\"text_10\">\r\n      <!-- 0.0 -->\r\n      <g transform=\"translate(52.111932 91.390661)scale(0.1 -0.1)\">\r\n       <use xlink:href=\"#DejaVuSans-48\"/>\r\n       <use x=\"63.623047\" xlink:href=\"#DejaVuSans-46\"/>\r\n       <use x=\"95.410156\" xlink:href=\"#DejaVuSans-48\"/>\r\n      </g>\r\n     </g>\r\n    </g>\r\n    <g id=\"xtick_9\">\r\n     <g id=\"line2d_13\">\r\n      <g>\r\n       <use style=\"stroke:#000000;stroke-width:0.8;\" x=\"110.790767\" xlink:href=\"#m69d84d775d\" y=\"76.792224\"/>\r\n      </g>\r\n     </g>\r\n     <g id=\"text_11\">\r\n      <!-- 0.5 -->\r\n      <g transform=\"translate(102.839205 91.390661)scale(0.1 -0.1)\">\r\n       <use xlink:href=\"#DejaVuSans-48\"/>\r\n       <use x=\"63.623047\" xlink:href=\"#DejaVuSans-46\"/>\r\n       <use x=\"95.410156\" xlink:href=\"#DejaVuSans-53\"/>\r\n      </g>\r\n     </g>\r\n    </g>\r\n    <g id=\"xtick_10\">\r\n     <g id=\"line2d_14\">\r\n      <g>\r\n       <use style=\"stroke:#000000;stroke-width:0.8;\" x=\"161.51804\" xlink:href=\"#m69d84d775d\" y=\"76.792224\"/>\r\n      </g>\r\n     </g>\r\n     <g id=\"text_12\">\r\n      <!-- 1.0 -->\r\n      <g transform=\"translate(153.566477 91.390661)scale(0.1 -0.1)\">\r\n       <use xlink:href=\"#DejaVuSans-49\"/>\r\n       <use x=\"63.623047\" xlink:href=\"#DejaVuSans-46\"/>\r\n       <use x=\"95.410156\" xlink:href=\"#DejaVuSans-48\"/>\r\n      </g>\r\n     </g>\r\n    </g>\r\n    <g id=\"xtick_11\">\r\n     <g id=\"line2d_15\">\r\n      <g>\r\n       <use style=\"stroke:#000000;stroke-width:0.8;\" x=\"212.245313\" xlink:href=\"#m69d84d775d\" y=\"76.792224\"/>\r\n      </g>\r\n     </g>\r\n     <g id=\"text_13\">\r\n      <!-- 1.5 -->\r\n      <g transform=\"translate(204.29375 91.390661)scale(0.1 -0.1)\">\r\n       <use xlink:href=\"#DejaVuSans-49\"/>\r\n       <use x=\"63.623047\" xlink:href=\"#DejaVuSans-46\"/>\r\n       <use x=\"95.410156\" xlink:href=\"#DejaVuSans-53\"/>\r\n      </g>\r\n     </g>\r\n    </g>\r\n    <g id=\"xtick_12\">\r\n     <g id=\"line2d_16\">\r\n      <g>\r\n       <use style=\"stroke:#000000;stroke-width:0.8;\" x=\"262.972585\" xlink:href=\"#m69d84d775d\" y=\"76.792224\"/>\r\n      </g>\r\n     </g>\r\n     <g id=\"text_14\">\r\n      <!-- 2.0 -->\r\n      <g transform=\"translate(255.021023 91.390661)scale(0.1 -0.1)\">\r\n       <use xlink:href=\"#DejaVuSans-50\"/>\r\n       <use x=\"63.623047\" xlink:href=\"#DejaVuSans-46\"/>\r\n       <use x=\"95.410156\" xlink:href=\"#DejaVuSans-48\"/>\r\n      </g>\r\n     </g>\r\n    </g>\r\n    <g id=\"xtick_13\">\r\n     <g id=\"line2d_17\">\r\n      <g>\r\n       <use style=\"stroke:#000000;stroke-width:0.8;\" x=\"313.699858\" xlink:href=\"#m69d84d775d\" y=\"76.792224\"/>\r\n      </g>\r\n     </g>\r\n     <g id=\"text_15\">\r\n      <!-- 2.5 -->\r\n      <g transform=\"translate(305.748295 91.390661)scale(0.1 -0.1)\">\r\n       <use xlink:href=\"#DejaVuSans-50\"/>\r\n       <use x=\"63.623047\" xlink:href=\"#DejaVuSans-46\"/>\r\n       <use x=\"95.410156\" xlink:href=\"#DejaVuSans-53\"/>\r\n      </g>\r\n     </g>\r\n    </g>\r\n    <g id=\"xtick_14\">\r\n     <g id=\"line2d_18\">\r\n      <g>\r\n       <use style=\"stroke:#000000;stroke-width:0.8;\" x=\"364.427131\" xlink:href=\"#m69d84d775d\" y=\"76.792224\"/>\r\n      </g>\r\n     </g>\r\n     <g id=\"text_16\">\r\n      <!-- 3.0 -->\r\n      <g transform=\"translate(356.475568 91.390661)scale(0.1 -0.1)\">\r\n       <use xlink:href=\"#DejaVuSans-51\"/>\r\n       <use x=\"63.623047\" xlink:href=\"#DejaVuSans-46\"/>\r\n       <use x=\"95.410156\" xlink:href=\"#DejaVuSans-48\"/>\r\n      </g>\r\n     </g>\r\n    </g>\r\n   </g>\r\n   <g id=\"matplotlib.axis_4\">\r\n    <g id=\"ytick_3\">\r\n     <g id=\"line2d_19\">\r\n      <g>\r\n       <use style=\"stroke:#000000;stroke-width:0.8;\" x=\"44.845313\" xlink:href=\"#m0083e99ab3\" y=\"74.760334\"/>\r\n      </g>\r\n     </g>\r\n     <g id=\"text_17\">\r\n      <!-- −0.5 -->\r\n      <g transform=\"translate(13.5625 78.559552)scale(0.1 -0.1)\">\r\n       <use xlink:href=\"#DejaVuSans-8722\"/>\r\n       <use x=\"83.789062\" xlink:href=\"#DejaVuSans-48\"/>\r\n       <use x=\"147.412109\" xlink:href=\"#DejaVuSans-46\"/>\r\n       <use x=\"179.199219\" xlink:href=\"#DejaVuSans-53\"/>\r\n      </g>\r\n     </g>\r\n    </g>\r\n    <g id=\"ytick_4\">\r\n     <g id=\"line2d_20\">\r\n      <g>\r\n       <use style=\"stroke:#000000;stroke-width:0.8;\" x=\"44.845313\" xlink:href=\"#m0083e99ab3\" y=\"60.338273\"/>\r\n      </g>\r\n     </g>\r\n     <g id=\"text_18\">\r\n      <!-- 0.0 -->\r\n      <g transform=\"translate(21.942188 64.137491)scale(0.1 -0.1)\">\r\n       <use xlink:href=\"#DejaVuSans-48\"/>\r\n       <use x=\"63.623047\" xlink:href=\"#DejaVuSans-46\"/>\r\n       <use x=\"95.410156\" xlink:href=\"#DejaVuSans-48\"/>\r\n      </g>\r\n     </g>\r\n    </g>\r\n    <g id=\"ytick_5\">\r\n     <g id=\"line2d_21\">\r\n      <g>\r\n       <use style=\"stroke:#000000;stroke-width:0.8;\" x=\"44.845313\" xlink:href=\"#m0083e99ab3\" y=\"45.916212\"/>\r\n      </g>\r\n     </g>\r\n     <g id=\"text_19\">\r\n      <!-- 0.5 -->\r\n      <g transform=\"translate(21.942188 49.71543)scale(0.1 -0.1)\">\r\n       <use xlink:href=\"#DejaVuSans-48\"/>\r\n       <use x=\"63.623047\" xlink:href=\"#DejaVuSans-46\"/>\r\n       <use x=\"95.410156\" xlink:href=\"#DejaVuSans-53\"/>\r\n      </g>\r\n     </g>\r\n    </g>\r\n   </g>\r\n   <g id=\"line2d_22\">\r\n    <path clip-path=\"url(#pb99b0481d0)\" d=\"M 60.063494 65.687274 \r\nL 161.51804 59.36723 \r\nL 262.972585 50.131891 \r\nL 364.427131 59.579217 \r\n\" style=\"fill:none;stroke:#1f77b4;stroke-linecap:square;stroke-width:1.5;\"/>\r\n   </g>\r\n   <g id=\"line2d_23\">\r\n    <path clip-path=\"url(#pb99b0481d0)\" d=\"M 60.063494 75.380276 \r\nL 161.51804 70.826283 \r\nL 262.972585 47.141315 \r\nL 364.427131 51.998216 \r\n\" style=\"fill:none;stroke:#ff7f0e;stroke-linecap:square;stroke-width:1.5;\"/>\r\n   </g>\r\n   <g id=\"patch_8\">\r\n    <path d=\"M 44.845313 76.792224 \r\nL 44.845313 45.729367 \r\n\" style=\"fill:none;stroke:#000000;stroke-linecap:square;stroke-linejoin:miter;stroke-width:0.8;\"/>\r\n   </g>\r\n   <g id=\"patch_9\">\r\n    <path d=\"M 379.645313 76.792224 \r\nL 379.645313 45.729367 \r\n\" style=\"fill:none;stroke:#000000;stroke-linecap:square;stroke-linejoin:miter;stroke-width:0.8;\"/>\r\n   </g>\r\n   <g id=\"patch_10\">\r\n    <path d=\"M 44.845313 76.792224 \r\nL 379.645313 76.792224 \r\n\" style=\"fill:none;stroke:#000000;stroke-linecap:square;stroke-linejoin:miter;stroke-width:0.8;\"/>\r\n   </g>\r\n   <g id=\"patch_11\">\r\n    <path d=\"M 44.845313 45.729367 \r\nL 379.645313 45.729367 \r\n\" style=\"fill:none;stroke:#000000;stroke-linecap:square;stroke-linejoin:miter;stroke-width:0.8;\"/>\r\n   </g>\r\n  </g>\r\n  <g id=\"axes_3\">\r\n   <g id=\"patch_12\">\r\n    <path d=\"M 44.845313 114.067652 \r\nL 379.645313 114.067652 \r\nL 379.645313 83.004795 \r\nL 44.845313 83.004795 \r\nz\r\n\" style=\"fill:#ffffff;\"/>\r\n   </g>\r\n   <g id=\"matplotlib.axis_5\">\r\n    <g id=\"xtick_15\">\r\n     <g id=\"line2d_24\">\r\n      <g>\r\n       <use style=\"stroke:#000000;stroke-width:0.8;\" x=\"60.063494\" xlink:href=\"#m69d84d775d\" y=\"114.067652\"/>\r\n      </g>\r\n     </g>\r\n     <g id=\"text_20\">\r\n      <!-- 0.0 -->\r\n      <g transform=\"translate(52.111932 128.66609)scale(0.1 -0.1)\">\r\n       <use xlink:href=\"#DejaVuSans-48\"/>\r\n       <use x=\"63.623047\" xlink:href=\"#DejaVuSans-46\"/>\r\n       <use x=\"95.410156\" xlink:href=\"#DejaVuSans-48\"/>\r\n      </g>\r\n     </g>\r\n    </g>\r\n    <g id=\"xtick_16\">\r\n     <g id=\"line2d_25\">\r\n      <g>\r\n       <use style=\"stroke:#000000;stroke-width:0.8;\" x=\"110.790767\" xlink:href=\"#m69d84d775d\" y=\"114.067652\"/>\r\n      </g>\r\n     </g>\r\n     <g id=\"text_21\">\r\n      <!-- 0.5 -->\r\n      <g transform=\"translate(102.839205 128.66609)scale(0.1 -0.1)\">\r\n       <use xlink:href=\"#DejaVuSans-48\"/>\r\n       <use x=\"63.623047\" xlink:href=\"#DejaVuSans-46\"/>\r\n       <use x=\"95.410156\" xlink:href=\"#DejaVuSans-53\"/>\r\n      </g>\r\n     </g>\r\n    </g>\r\n    <g id=\"xtick_17\">\r\n     <g id=\"line2d_26\">\r\n      <g>\r\n       <use style=\"stroke:#000000;stroke-width:0.8;\" x=\"161.51804\" xlink:href=\"#m69d84d775d\" y=\"114.067652\"/>\r\n      </g>\r\n     </g>\r\n     <g id=\"text_22\">\r\n      <!-- 1.0 -->\r\n      <g transform=\"translate(153.566477 128.66609)scale(0.1 -0.1)\">\r\n       <use xlink:href=\"#DejaVuSans-49\"/>\r\n       <use x=\"63.623047\" xlink:href=\"#DejaVuSans-46\"/>\r\n       <use x=\"95.410156\" xlink:href=\"#DejaVuSans-48\"/>\r\n      </g>\r\n     </g>\r\n    </g>\r\n    <g id=\"xtick_18\">\r\n     <g id=\"line2d_27\">\r\n      <g>\r\n       <use style=\"stroke:#000000;stroke-width:0.8;\" x=\"212.245313\" xlink:href=\"#m69d84d775d\" y=\"114.067652\"/>\r\n      </g>\r\n     </g>\r\n     <g id=\"text_23\">\r\n      <!-- 1.5 -->\r\n      <g transform=\"translate(204.29375 128.66609)scale(0.1 -0.1)\">\r\n       <use xlink:href=\"#DejaVuSans-49\"/>\r\n       <use x=\"63.623047\" xlink:href=\"#DejaVuSans-46\"/>\r\n       <use x=\"95.410156\" xlink:href=\"#DejaVuSans-53\"/>\r\n      </g>\r\n     </g>\r\n    </g>\r\n    <g id=\"xtick_19\">\r\n     <g id=\"line2d_28\">\r\n      <g>\r\n       <use style=\"stroke:#000000;stroke-width:0.8;\" x=\"262.972585\" xlink:href=\"#m69d84d775d\" y=\"114.067652\"/>\r\n      </g>\r\n     </g>\r\n     <g id=\"text_24\">\r\n      <!-- 2.0 -->\r\n      <g transform=\"translate(255.021023 128.66609)scale(0.1 -0.1)\">\r\n       <use xlink:href=\"#DejaVuSans-50\"/>\r\n       <use x=\"63.623047\" xlink:href=\"#DejaVuSans-46\"/>\r\n       <use x=\"95.410156\" xlink:href=\"#DejaVuSans-48\"/>\r\n      </g>\r\n     </g>\r\n    </g>\r\n    <g id=\"xtick_20\">\r\n     <g id=\"line2d_29\">\r\n      <g>\r\n       <use style=\"stroke:#000000;stroke-width:0.8;\" x=\"313.699858\" xlink:href=\"#m69d84d775d\" y=\"114.067652\"/>\r\n      </g>\r\n     </g>\r\n     <g id=\"text_25\">\r\n      <!-- 2.5 -->\r\n      <g transform=\"translate(305.748295 128.66609)scale(0.1 -0.1)\">\r\n       <use xlink:href=\"#DejaVuSans-50\"/>\r\n       <use x=\"63.623047\" xlink:href=\"#DejaVuSans-46\"/>\r\n       <use x=\"95.410156\" xlink:href=\"#DejaVuSans-53\"/>\r\n      </g>\r\n     </g>\r\n    </g>\r\n    <g id=\"xtick_21\">\r\n     <g id=\"line2d_30\">\r\n      <g>\r\n       <use style=\"stroke:#000000;stroke-width:0.8;\" x=\"364.427131\" xlink:href=\"#m69d84d775d\" y=\"114.067652\"/>\r\n      </g>\r\n     </g>\r\n     <g id=\"text_26\">\r\n      <!-- 3.0 -->\r\n      <g transform=\"translate(356.475568 128.66609)scale(0.1 -0.1)\">\r\n       <use xlink:href=\"#DejaVuSans-51\"/>\r\n       <use x=\"63.623047\" xlink:href=\"#DejaVuSans-46\"/>\r\n       <use x=\"95.410156\" xlink:href=\"#DejaVuSans-48\"/>\r\n      </g>\r\n     </g>\r\n    </g>\r\n   </g>\r\n   <g id=\"matplotlib.axis_6\">\r\n    <g id=\"ytick_6\">\r\n     <g id=\"line2d_31\">\r\n      <g>\r\n       <use style=\"stroke:#000000;stroke-width:0.8;\" x=\"44.845313\" xlink:href=\"#m0083e99ab3\" y=\"105.194548\"/>\r\n      </g>\r\n     </g>\r\n     <g id=\"text_27\">\r\n      <!-- 0.25 -->\r\n      <g transform=\"translate(15.579688 108.993767)scale(0.1 -0.1)\">\r\n       <use xlink:href=\"#DejaVuSans-48\"/>\r\n       <use x=\"63.623047\" xlink:href=\"#DejaVuSans-46\"/>\r\n       <use x=\"95.410156\" xlink:href=\"#DejaVuSans-50\"/>\r\n       <use x=\"159.033203\" xlink:href=\"#DejaVuSans-53\"/>\r\n      </g>\r\n     </g>\r\n    </g>\r\n    <g id=\"ytick_7\">\r\n     <g id=\"line2d_32\">\r\n      <g>\r\n       <use style=\"stroke:#000000;stroke-width:0.8;\" x=\"44.845313\" xlink:href=\"#m0083e99ab3\" y=\"92.874965\"/>\r\n      </g>\r\n     </g>\r\n     <g id=\"text_28\">\r\n      <!-- 0.50 -->\r\n      <g transform=\"translate(15.579688 96.674183)scale(0.1 -0.1)\">\r\n       <use xlink:href=\"#DejaVuSans-48\"/>\r\n       <use x=\"63.623047\" xlink:href=\"#DejaVuSans-46\"/>\r\n       <use x=\"95.410156\" xlink:href=\"#DejaVuSans-53\"/>\r\n       <use x=\"159.033203\" xlink:href=\"#DejaVuSans-48\"/>\r\n      </g>\r\n     </g>\r\n    </g>\r\n   </g>\r\n   <g id=\"line2d_33\">\r\n    <path clip-path=\"url(#p8b727d14bf)\" d=\"M 60.063494 112.655704 \r\nL 161.51804 101.571141 \r\nL 262.972585 84.416743 \r\nL 364.427131 95.114889 \r\n\" style=\"fill:none;stroke:#1f77b4;stroke-linecap:square;stroke-width:1.5;\"/>\r\n   </g>\r\n   <g id=\"line2d_34\">\r\n    <path clip-path=\"url(#p8b727d14bf)\" d=\"M 60.063494 98.409968 \r\nL 161.51804 91.58965 \r\nL 262.972585 93.09907 \r\nL 364.427131 97.743507 \r\n\" style=\"fill:none;stroke:#ff7f0e;stroke-linecap:square;stroke-width:1.5;\"/>\r\n   </g>\r\n   <g id=\"patch_13\">\r\n    <path d=\"M 44.845313 114.067652 \r\nL 44.845313 83.004795 \r\n\" style=\"fill:none;stroke:#000000;stroke-linecap:square;stroke-linejoin:miter;stroke-width:0.8;\"/>\r\n   </g>\r\n   <g id=\"patch_14\">\r\n    <path d=\"M 379.645313 114.067652 \r\nL 379.645313 83.004795 \r\n\" style=\"fill:none;stroke:#000000;stroke-linecap:square;stroke-linejoin:miter;stroke-width:0.8;\"/>\r\n   </g>\r\n   <g id=\"patch_15\">\r\n    <path d=\"M 44.845313 114.067652 \r\nL 379.645313 114.067652 \r\n\" style=\"fill:none;stroke:#000000;stroke-linecap:square;stroke-linejoin:miter;stroke-width:0.8;\"/>\r\n   </g>\r\n   <g id=\"patch_16\">\r\n    <path d=\"M 44.845313 83.004795 \r\nL 379.645313 83.004795 \r\n\" style=\"fill:none;stroke:#000000;stroke-linecap:square;stroke-linejoin:miter;stroke-width:0.8;\"/>\r\n   </g>\r\n  </g>\r\n  <g id=\"axes_4\">\r\n   <g id=\"patch_17\">\r\n    <path d=\"M 44.845313 151.343081 \r\nL 379.645313 151.343081 \r\nL 379.645313 120.280224 \r\nL 44.845313 120.280224 \r\nz\r\n\" style=\"fill:#ffffff;\"/>\r\n   </g>\r\n   <g id=\"matplotlib.axis_7\">\r\n    <g id=\"xtick_22\">\r\n     <g id=\"line2d_35\">\r\n      <g>\r\n       <use style=\"stroke:#000000;stroke-width:0.8;\" x=\"60.063494\" xlink:href=\"#m69d84d775d\" y=\"151.343081\"/>\r\n      </g>\r\n     </g>\r\n     <g id=\"text_29\">\r\n      <!-- 0.0 -->\r\n      <g transform=\"translate(52.111932 165.941518)scale(0.1 -0.1)\">\r\n       <use xlink:href=\"#DejaVuSans-48\"/>\r\n       <use x=\"63.623047\" xlink:href=\"#DejaVuSans-46\"/>\r\n       <use x=\"95.410156\" xlink:href=\"#DejaVuSans-48\"/>\r\n      </g>\r\n     </g>\r\n    </g>\r\n    <g id=\"xtick_23\">\r\n     <g id=\"line2d_36\">\r\n      <g>\r\n       <use style=\"stroke:#000000;stroke-width:0.8;\" x=\"110.790767\" xlink:href=\"#m69d84d775d\" y=\"151.343081\"/>\r\n      </g>\r\n     </g>\r\n     <g id=\"text_30\">\r\n      <!-- 0.5 -->\r\n      <g transform=\"translate(102.839205 165.941518)scale(0.1 -0.1)\">\r\n       <use xlink:href=\"#DejaVuSans-48\"/>\r\n       <use x=\"63.623047\" xlink:href=\"#DejaVuSans-46\"/>\r\n       <use x=\"95.410156\" xlink:href=\"#DejaVuSans-53\"/>\r\n      </g>\r\n     </g>\r\n    </g>\r\n    <g id=\"xtick_24\">\r\n     <g id=\"line2d_37\">\r\n      <g>\r\n       <use style=\"stroke:#000000;stroke-width:0.8;\" x=\"161.51804\" xlink:href=\"#m69d84d775d\" y=\"151.343081\"/>\r\n      </g>\r\n     </g>\r\n     <g id=\"text_31\">\r\n      <!-- 1.0 -->\r\n      <g transform=\"translate(153.566477 165.941518)scale(0.1 -0.1)\">\r\n       <use xlink:href=\"#DejaVuSans-49\"/>\r\n       <use x=\"63.623047\" xlink:href=\"#DejaVuSans-46\"/>\r\n       <use x=\"95.410156\" xlink:href=\"#DejaVuSans-48\"/>\r\n      </g>\r\n     </g>\r\n    </g>\r\n    <g id=\"xtick_25\">\r\n     <g id=\"line2d_38\">\r\n      <g>\r\n       <use style=\"stroke:#000000;stroke-width:0.8;\" x=\"212.245313\" xlink:href=\"#m69d84d775d\" y=\"151.343081\"/>\r\n      </g>\r\n     </g>\r\n     <g id=\"text_32\">\r\n      <!-- 1.5 -->\r\n      <g transform=\"translate(204.29375 165.941518)scale(0.1 -0.1)\">\r\n       <use xlink:href=\"#DejaVuSans-49\"/>\r\n       <use x=\"63.623047\" xlink:href=\"#DejaVuSans-46\"/>\r\n       <use x=\"95.410156\" xlink:href=\"#DejaVuSans-53\"/>\r\n      </g>\r\n     </g>\r\n    </g>\r\n    <g id=\"xtick_26\">\r\n     <g id=\"line2d_39\">\r\n      <g>\r\n       <use style=\"stroke:#000000;stroke-width:0.8;\" x=\"262.972585\" xlink:href=\"#m69d84d775d\" y=\"151.343081\"/>\r\n      </g>\r\n     </g>\r\n     <g id=\"text_33\">\r\n      <!-- 2.0 -->\r\n      <g transform=\"translate(255.021023 165.941518)scale(0.1 -0.1)\">\r\n       <use xlink:href=\"#DejaVuSans-50\"/>\r\n       <use x=\"63.623047\" xlink:href=\"#DejaVuSans-46\"/>\r\n       <use x=\"95.410156\" xlink:href=\"#DejaVuSans-48\"/>\r\n      </g>\r\n     </g>\r\n    </g>\r\n    <g id=\"xtick_27\">\r\n     <g id=\"line2d_40\">\r\n      <g>\r\n       <use style=\"stroke:#000000;stroke-width:0.8;\" x=\"313.699858\" xlink:href=\"#m69d84d775d\" y=\"151.343081\"/>\r\n      </g>\r\n     </g>\r\n     <g id=\"text_34\">\r\n      <!-- 2.5 -->\r\n      <g transform=\"translate(305.748295 165.941518)scale(0.1 -0.1)\">\r\n       <use xlink:href=\"#DejaVuSans-50\"/>\r\n       <use x=\"63.623047\" xlink:href=\"#DejaVuSans-46\"/>\r\n       <use x=\"95.410156\" xlink:href=\"#DejaVuSans-53\"/>\r\n      </g>\r\n     </g>\r\n    </g>\r\n    <g id=\"xtick_28\">\r\n     <g id=\"line2d_41\">\r\n      <g>\r\n       <use style=\"stroke:#000000;stroke-width:0.8;\" x=\"364.427131\" xlink:href=\"#m69d84d775d\" y=\"151.343081\"/>\r\n      </g>\r\n     </g>\r\n     <g id=\"text_35\">\r\n      <!-- 3.0 -->\r\n      <g transform=\"translate(356.475568 165.941518)scale(0.1 -0.1)\">\r\n       <use xlink:href=\"#DejaVuSans-51\"/>\r\n       <use x=\"63.623047\" xlink:href=\"#DejaVuSans-46\"/>\r\n       <use x=\"95.410156\" xlink:href=\"#DejaVuSans-48\"/>\r\n      </g>\r\n     </g>\r\n    </g>\r\n   </g>\r\n   <g id=\"matplotlib.axis_8\">\r\n    <g id=\"ytick_8\">\r\n     <g id=\"line2d_42\">\r\n      <g>\r\n       <use style=\"stroke:#000000;stroke-width:0.8;\" x=\"44.845313\" xlink:href=\"#m0083e99ab3\" y=\"144.544955\"/>\r\n      </g>\r\n     </g>\r\n     <g id=\"text_36\">\r\n      <!-- 0.25 -->\r\n      <g transform=\"translate(15.579688 148.344174)scale(0.1 -0.1)\">\r\n       <use xlink:href=\"#DejaVuSans-48\"/>\r\n       <use x=\"63.623047\" xlink:href=\"#DejaVuSans-46\"/>\r\n       <use x=\"95.410156\" xlink:href=\"#DejaVuSans-50\"/>\r\n       <use x=\"159.033203\" xlink:href=\"#DejaVuSans-53\"/>\r\n      </g>\r\n     </g>\r\n    </g>\r\n    <g id=\"ytick_9\">\r\n     <g id=\"line2d_43\">\r\n      <g>\r\n       <use style=\"stroke:#000000;stroke-width:0.8;\" x=\"44.845313\" xlink:href=\"#m0083e99ab3\" y=\"120.307155\"/>\r\n      </g>\r\n     </g>\r\n     <g id=\"text_37\">\r\n      <!-- 0.50 -->\r\n      <g transform=\"translate(15.579688 124.106373)scale(0.1 -0.1)\">\r\n       <use xlink:href=\"#DejaVuSans-48\"/>\r\n       <use x=\"63.623047\" xlink:href=\"#DejaVuSans-46\"/>\r\n       <use x=\"95.410156\" xlink:href=\"#DejaVuSans-53\"/>\r\n       <use x=\"159.033203\" xlink:href=\"#DejaVuSans-48\"/>\r\n      </g>\r\n     </g>\r\n    </g>\r\n   </g>\r\n   <g id=\"line2d_44\">\r\n    <path clip-path=\"url(#p9f4fb313bc)\" d=\"M 60.063494 121.692172 \r\nL 161.51804 146.80715 \r\nL 262.972585 149.931133 \r\nL 364.427131 124.9555 \r\n\" style=\"fill:none;stroke:#1f77b4;stroke-linecap:square;stroke-width:1.5;\"/>\r\n   </g>\r\n   <g id=\"line2d_45\">\r\n    <path clip-path=\"url(#p9f4fb313bc)\" d=\"M 60.063494 125.817792 \r\nL 161.51804 127.760608 \r\nL 262.972585 130.469422 \r\nL 364.427131 122.636216 \r\n\" style=\"fill:none;stroke:#ff7f0e;stroke-linecap:square;stroke-width:1.5;\"/>\r\n   </g>\r\n   <g id=\"patch_18\">\r\n    <path d=\"M 44.845313 151.343081 \r\nL 44.845313 120.280224 \r\n\" style=\"fill:none;stroke:#000000;stroke-linecap:square;stroke-linejoin:miter;stroke-width:0.8;\"/>\r\n   </g>\r\n   <g id=\"patch_19\">\r\n    <path d=\"M 379.645313 151.343081 \r\nL 379.645313 120.280224 \r\n\" style=\"fill:none;stroke:#000000;stroke-linecap:square;stroke-linejoin:miter;stroke-width:0.8;\"/>\r\n   </g>\r\n   <g id=\"patch_20\">\r\n    <path d=\"M 44.845313 151.343081 \r\nL 379.645313 151.343081 \r\n\" style=\"fill:none;stroke:#000000;stroke-linecap:square;stroke-linejoin:miter;stroke-width:0.8;\"/>\r\n   </g>\r\n   <g id=\"patch_21\">\r\n    <path d=\"M 44.845313 120.280224 \r\nL 379.645313 120.280224 \r\n\" style=\"fill:none;stroke:#000000;stroke-linecap:square;stroke-linejoin:miter;stroke-width:0.8;\"/>\r\n   </g>\r\n  </g>\r\n  <g id=\"axes_5\">\r\n   <g id=\"patch_22\">\r\n    <path d=\"M 44.845313 188.618509 \r\nL 379.645313 188.618509 \r\nL 379.645313 157.555652 \r\nL 44.845313 157.555652 \r\nz\r\n\" style=\"fill:#ffffff;\"/>\r\n   </g>\r\n   <g id=\"matplotlib.axis_9\">\r\n    <g id=\"xtick_29\">\r\n     <g id=\"line2d_46\">\r\n      <g>\r\n       <use style=\"stroke:#000000;stroke-width:0.8;\" x=\"60.063494\" xlink:href=\"#m69d84d775d\" y=\"188.618509\"/>\r\n      </g>\r\n     </g>\r\n     <g id=\"text_38\">\r\n      <!-- 0.0 -->\r\n      <g transform=\"translate(52.111932 203.216947)scale(0.1 -0.1)\">\r\n       <use xlink:href=\"#DejaVuSans-48\"/>\r\n       <use x=\"63.623047\" xlink:href=\"#DejaVuSans-46\"/>\r\n       <use x=\"95.410156\" xlink:href=\"#DejaVuSans-48\"/>\r\n      </g>\r\n     </g>\r\n    </g>\r\n    <g id=\"xtick_30\">\r\n     <g id=\"line2d_47\">\r\n      <g>\r\n       <use style=\"stroke:#000000;stroke-width:0.8;\" x=\"110.790767\" xlink:href=\"#m69d84d775d\" y=\"188.618509\"/>\r\n      </g>\r\n     </g>\r\n     <g id=\"text_39\">\r\n      <!-- 0.5 -->\r\n      <g transform=\"translate(102.839205 203.216947)scale(0.1 -0.1)\">\r\n       <use xlink:href=\"#DejaVuSans-48\"/>\r\n       <use x=\"63.623047\" xlink:href=\"#DejaVuSans-46\"/>\r\n       <use x=\"95.410156\" xlink:href=\"#DejaVuSans-53\"/>\r\n      </g>\r\n     </g>\r\n    </g>\r\n    <g id=\"xtick_31\">\r\n     <g id=\"line2d_48\">\r\n      <g>\r\n       <use style=\"stroke:#000000;stroke-width:0.8;\" x=\"161.51804\" xlink:href=\"#m69d84d775d\" y=\"188.618509\"/>\r\n      </g>\r\n     </g>\r\n     <g id=\"text_40\">\r\n      <!-- 1.0 -->\r\n      <g transform=\"translate(153.566477 203.216947)scale(0.1 -0.1)\">\r\n       <use xlink:href=\"#DejaVuSans-49\"/>\r\n       <use x=\"63.623047\" xlink:href=\"#DejaVuSans-46\"/>\r\n       <use x=\"95.410156\" xlink:href=\"#DejaVuSans-48\"/>\r\n      </g>\r\n     </g>\r\n    </g>\r\n    <g id=\"xtick_32\">\r\n     <g id=\"line2d_49\">\r\n      <g>\r\n       <use style=\"stroke:#000000;stroke-width:0.8;\" x=\"212.245313\" xlink:href=\"#m69d84d775d\" y=\"188.618509\"/>\r\n      </g>\r\n     </g>\r\n     <g id=\"text_41\">\r\n      <!-- 1.5 -->\r\n      <g transform=\"translate(204.29375 203.216947)scale(0.1 -0.1)\">\r\n       <use xlink:href=\"#DejaVuSans-49\"/>\r\n       <use x=\"63.623047\" xlink:href=\"#DejaVuSans-46\"/>\r\n       <use x=\"95.410156\" xlink:href=\"#DejaVuSans-53\"/>\r\n      </g>\r\n     </g>\r\n    </g>\r\n    <g id=\"xtick_33\">\r\n     <g id=\"line2d_50\">\r\n      <g>\r\n       <use style=\"stroke:#000000;stroke-width:0.8;\" x=\"262.972585\" xlink:href=\"#m69d84d775d\" y=\"188.618509\"/>\r\n      </g>\r\n     </g>\r\n     <g id=\"text_42\">\r\n      <!-- 2.0 -->\r\n      <g transform=\"translate(255.021023 203.216947)scale(0.1 -0.1)\">\r\n       <use xlink:href=\"#DejaVuSans-50\"/>\r\n       <use x=\"63.623047\" xlink:href=\"#DejaVuSans-46\"/>\r\n       <use x=\"95.410156\" xlink:href=\"#DejaVuSans-48\"/>\r\n      </g>\r\n     </g>\r\n    </g>\r\n    <g id=\"xtick_34\">\r\n     <g id=\"line2d_51\">\r\n      <g>\r\n       <use style=\"stroke:#000000;stroke-width:0.8;\" x=\"313.699858\" xlink:href=\"#m69d84d775d\" y=\"188.618509\"/>\r\n      </g>\r\n     </g>\r\n     <g id=\"text_43\">\r\n      <!-- 2.5 -->\r\n      <g transform=\"translate(305.748295 203.216947)scale(0.1 -0.1)\">\r\n       <use xlink:href=\"#DejaVuSans-50\"/>\r\n       <use x=\"63.623047\" xlink:href=\"#DejaVuSans-46\"/>\r\n       <use x=\"95.410156\" xlink:href=\"#DejaVuSans-53\"/>\r\n      </g>\r\n     </g>\r\n    </g>\r\n    <g id=\"xtick_35\">\r\n     <g id=\"line2d_52\">\r\n      <g>\r\n       <use style=\"stroke:#000000;stroke-width:0.8;\" x=\"364.427131\" xlink:href=\"#m69d84d775d\" y=\"188.618509\"/>\r\n      </g>\r\n     </g>\r\n     <g id=\"text_44\">\r\n      <!-- 3.0 -->\r\n      <g transform=\"translate(356.475568 203.216947)scale(0.1 -0.1)\">\r\n       <use xlink:href=\"#DejaVuSans-51\"/>\r\n       <use x=\"63.623047\" xlink:href=\"#DejaVuSans-46\"/>\r\n       <use x=\"95.410156\" xlink:href=\"#DejaVuSans-48\"/>\r\n      </g>\r\n     </g>\r\n    </g>\r\n   </g>\r\n   <g id=\"matplotlib.axis_10\">\r\n    <g id=\"ytick_10\">\r\n     <g id=\"line2d_53\">\r\n      <g>\r\n       <use style=\"stroke:#000000;stroke-width:0.8;\" x=\"44.845313\" xlink:href=\"#m0083e99ab3\" y=\"182.262011\"/>\r\n      </g>\r\n     </g>\r\n     <g id=\"text_45\">\r\n      <!-- −0.5 -->\r\n      <g transform=\"translate(13.5625 186.06123)scale(0.1 -0.1)\">\r\n       <use xlink:href=\"#DejaVuSans-8722\"/>\r\n       <use x=\"83.789062\" xlink:href=\"#DejaVuSans-48\"/>\r\n       <use x=\"147.412109\" xlink:href=\"#DejaVuSans-46\"/>\r\n       <use x=\"179.199219\" xlink:href=\"#DejaVuSans-53\"/>\r\n      </g>\r\n     </g>\r\n    </g>\r\n    <g id=\"ytick_11\">\r\n     <g id=\"line2d_54\">\r\n      <g>\r\n       <use style=\"stroke:#000000;stroke-width:0.8;\" x=\"44.845313\" xlink:href=\"#m0083e99ab3\" y=\"172.355193\"/>\r\n      </g>\r\n     </g>\r\n     <g id=\"text_46\">\r\n      <!-- 0.0 -->\r\n      <g transform=\"translate(21.942188 176.154411)scale(0.1 -0.1)\">\r\n       <use xlink:href=\"#DejaVuSans-48\"/>\r\n       <use x=\"63.623047\" xlink:href=\"#DejaVuSans-46\"/>\r\n       <use x=\"95.410156\" xlink:href=\"#DejaVuSans-48\"/>\r\n      </g>\r\n     </g>\r\n    </g>\r\n    <g id=\"ytick_12\">\r\n     <g id=\"line2d_55\">\r\n      <g>\r\n       <use style=\"stroke:#000000;stroke-width:0.8;\" x=\"44.845313\" xlink:href=\"#m0083e99ab3\" y=\"162.448374\"/>\r\n      </g>\r\n     </g>\r\n     <g id=\"text_47\">\r\n      <!-- 0.5 -->\r\n      <g transform=\"translate(21.942188 166.247593)scale(0.1 -0.1)\">\r\n       <use xlink:href=\"#DejaVuSans-48\"/>\r\n       <use x=\"63.623047\" xlink:href=\"#DejaVuSans-46\"/>\r\n       <use x=\"95.410156\" xlink:href=\"#DejaVuSans-53\"/>\r\n      </g>\r\n     </g>\r\n    </g>\r\n   </g>\r\n   <g id=\"line2d_56\">\r\n    <path clip-path=\"url(#pc2b335e6a1)\" d=\"M 60.063494 158.9676 \r\nL 161.51804 162.165322 \r\nL 262.972585 187.206561 \r\nL 364.427131 186.986507 \r\n\" style=\"fill:none;stroke:#1f77b4;stroke-linecap:square;stroke-width:1.5;\"/>\r\n   </g>\r\n   <g id=\"line2d_57\">\r\n    <path clip-path=\"url(#pc2b335e6a1)\" d=\"M 60.063494 163.470385 \r\nL 161.51804 163.176766 \r\nL 262.972585 185.512376 \r\nL 364.427131 186.23635 \r\n\" style=\"fill:none;stroke:#ff7f0e;stroke-linecap:square;stroke-width:1.5;\"/>\r\n   </g>\r\n   <g id=\"patch_23\">\r\n    <path d=\"M 44.845313 188.618509 \r\nL 44.845313 157.555652 \r\n\" style=\"fill:none;stroke:#000000;stroke-linecap:square;stroke-linejoin:miter;stroke-width:0.8;\"/>\r\n   </g>\r\n   <g id=\"patch_24\">\r\n    <path d=\"M 379.645313 188.618509 \r\nL 379.645313 157.555652 \r\n\" style=\"fill:none;stroke:#000000;stroke-linecap:square;stroke-linejoin:miter;stroke-width:0.8;\"/>\r\n   </g>\r\n   <g id=\"patch_25\">\r\n    <path d=\"M 44.845313 188.618509 \r\nL 379.645313 188.618509 \r\n\" style=\"fill:none;stroke:#000000;stroke-linecap:square;stroke-linejoin:miter;stroke-width:0.8;\"/>\r\n   </g>\r\n   <g id=\"patch_26\">\r\n    <path d=\"M 44.845313 157.555652 \r\nL 379.645313 157.555652 \r\n\" style=\"fill:none;stroke:#000000;stroke-linecap:square;stroke-linejoin:miter;stroke-width:0.8;\"/>\r\n   </g>\r\n  </g>\r\n  <g id=\"axes_6\">\r\n   <g id=\"patch_27\">\r\n    <path d=\"M 44.845313 225.893938 \r\nL 379.645313 225.893938 \r\nL 379.645313 194.831081 \r\nL 44.845313 194.831081 \r\nz\r\n\" style=\"fill:#ffffff;\"/>\r\n   </g>\r\n   <g id=\"matplotlib.axis_11\">\r\n    <g id=\"xtick_36\">\r\n     <g id=\"line2d_58\">\r\n      <g>\r\n       <use style=\"stroke:#000000;stroke-width:0.8;\" x=\"60.063494\" xlink:href=\"#m69d84d775d\" y=\"225.893938\"/>\r\n      </g>\r\n     </g>\r\n     <g id=\"text_48\">\r\n      <!-- 0.0 -->\r\n      <g transform=\"translate(52.111932 240.492375)scale(0.1 -0.1)\">\r\n       <use xlink:href=\"#DejaVuSans-48\"/>\r\n       <use x=\"63.623047\" xlink:href=\"#DejaVuSans-46\"/>\r\n       <use x=\"95.410156\" xlink:href=\"#DejaVuSans-48\"/>\r\n      </g>\r\n     </g>\r\n    </g>\r\n    <g id=\"xtick_37\">\r\n     <g id=\"line2d_59\">\r\n      <g>\r\n       <use style=\"stroke:#000000;stroke-width:0.8;\" x=\"110.790767\" xlink:href=\"#m69d84d775d\" y=\"225.893938\"/>\r\n      </g>\r\n     </g>\r\n     <g id=\"text_49\">\r\n      <!-- 0.5 -->\r\n      <g transform=\"translate(102.839205 240.492375)scale(0.1 -0.1)\">\r\n       <use xlink:href=\"#DejaVuSans-48\"/>\r\n       <use x=\"63.623047\" xlink:href=\"#DejaVuSans-46\"/>\r\n       <use x=\"95.410156\" xlink:href=\"#DejaVuSans-53\"/>\r\n      </g>\r\n     </g>\r\n    </g>\r\n    <g id=\"xtick_38\">\r\n     <g id=\"line2d_60\">\r\n      <g>\r\n       <use style=\"stroke:#000000;stroke-width:0.8;\" x=\"161.51804\" xlink:href=\"#m69d84d775d\" y=\"225.893938\"/>\r\n      </g>\r\n     </g>\r\n     <g id=\"text_50\">\r\n      <!-- 1.0 -->\r\n      <g transform=\"translate(153.566477 240.492375)scale(0.1 -0.1)\">\r\n       <use xlink:href=\"#DejaVuSans-49\"/>\r\n       <use x=\"63.623047\" xlink:href=\"#DejaVuSans-46\"/>\r\n       <use x=\"95.410156\" xlink:href=\"#DejaVuSans-48\"/>\r\n      </g>\r\n     </g>\r\n    </g>\r\n    <g id=\"xtick_39\">\r\n     <g id=\"line2d_61\">\r\n      <g>\r\n       <use style=\"stroke:#000000;stroke-width:0.8;\" x=\"212.245313\" xlink:href=\"#m69d84d775d\" y=\"225.893938\"/>\r\n      </g>\r\n     </g>\r\n     <g id=\"text_51\">\r\n      <!-- 1.5 -->\r\n      <g transform=\"translate(204.29375 240.492375)scale(0.1 -0.1)\">\r\n       <use xlink:href=\"#DejaVuSans-49\"/>\r\n       <use x=\"63.623047\" xlink:href=\"#DejaVuSans-46\"/>\r\n       <use x=\"95.410156\" xlink:href=\"#DejaVuSans-53\"/>\r\n      </g>\r\n     </g>\r\n    </g>\r\n    <g id=\"xtick_40\">\r\n     <g id=\"line2d_62\">\r\n      <g>\r\n       <use style=\"stroke:#000000;stroke-width:0.8;\" x=\"262.972585\" xlink:href=\"#m69d84d775d\" y=\"225.893938\"/>\r\n      </g>\r\n     </g>\r\n     <g id=\"text_52\">\r\n      <!-- 2.0 -->\r\n      <g transform=\"translate(255.021023 240.492375)scale(0.1 -0.1)\">\r\n       <use xlink:href=\"#DejaVuSans-50\"/>\r\n       <use x=\"63.623047\" xlink:href=\"#DejaVuSans-46\"/>\r\n       <use x=\"95.410156\" xlink:href=\"#DejaVuSans-48\"/>\r\n      </g>\r\n     </g>\r\n    </g>\r\n    <g id=\"xtick_41\">\r\n     <g id=\"line2d_63\">\r\n      <g>\r\n       <use style=\"stroke:#000000;stroke-width:0.8;\" x=\"313.699858\" xlink:href=\"#m69d84d775d\" y=\"225.893938\"/>\r\n      </g>\r\n     </g>\r\n     <g id=\"text_53\">\r\n      <!-- 2.5 -->\r\n      <g transform=\"translate(305.748295 240.492375)scale(0.1 -0.1)\">\r\n       <use xlink:href=\"#DejaVuSans-50\"/>\r\n       <use x=\"63.623047\" xlink:href=\"#DejaVuSans-46\"/>\r\n       <use x=\"95.410156\" xlink:href=\"#DejaVuSans-53\"/>\r\n      </g>\r\n     </g>\r\n    </g>\r\n    <g id=\"xtick_42\">\r\n     <g id=\"line2d_64\">\r\n      <g>\r\n       <use style=\"stroke:#000000;stroke-width:0.8;\" x=\"364.427131\" xlink:href=\"#m69d84d775d\" y=\"225.893938\"/>\r\n      </g>\r\n     </g>\r\n     <g id=\"text_54\">\r\n      <!-- 3.0 -->\r\n      <g transform=\"translate(356.475568 240.492375)scale(0.1 -0.1)\">\r\n       <use xlink:href=\"#DejaVuSans-51\"/>\r\n       <use x=\"63.623047\" xlink:href=\"#DejaVuSans-46\"/>\r\n       <use x=\"95.410156\" xlink:href=\"#DejaVuSans-48\"/>\r\n      </g>\r\n     </g>\r\n    </g>\r\n   </g>\r\n   <g id=\"matplotlib.axis_12\">\r\n    <g id=\"ytick_13\">\r\n     <g id=\"line2d_65\">\r\n      <g>\r\n       <use style=\"stroke:#000000;stroke-width:0.8;\" x=\"44.845313\" xlink:href=\"#m0083e99ab3\" y=\"217.109431\"/>\r\n      </g>\r\n     </g>\r\n     <g id=\"text_55\">\r\n      <!-- −0.5 -->\r\n      <g transform=\"translate(13.5625 220.90865)scale(0.1 -0.1)\">\r\n       <use xlink:href=\"#DejaVuSans-8722\"/>\r\n       <use x=\"83.789062\" xlink:href=\"#DejaVuSans-48\"/>\r\n       <use x=\"147.412109\" xlink:href=\"#DejaVuSans-46\"/>\r\n       <use x=\"179.199219\" xlink:href=\"#DejaVuSans-53\"/>\r\n      </g>\r\n     </g>\r\n    </g>\r\n    <g id=\"ytick_14\">\r\n     <g id=\"line2d_66\">\r\n      <g>\r\n       <use style=\"stroke:#000000;stroke-width:0.8;\" x=\"44.845313\" xlink:href=\"#m0083e99ab3\" y=\"196.776926\"/>\r\n      </g>\r\n     </g>\r\n     <g id=\"text_56\">\r\n      <!-- 0.0 -->\r\n      <g transform=\"translate(21.942188 200.576144)scale(0.1 -0.1)\">\r\n       <use xlink:href=\"#DejaVuSans-48\"/>\r\n       <use x=\"63.623047\" xlink:href=\"#DejaVuSans-46\"/>\r\n       <use x=\"95.410156\" xlink:href=\"#DejaVuSans-48\"/>\r\n      </g>\r\n     </g>\r\n    </g>\r\n   </g>\r\n   <g id=\"line2d_67\">\r\n    <path clip-path=\"url(#p91d4f1e45f)\" d=\"M 60.063494 217.57865 \r\nL 161.51804 208.22741 \r\nL 262.972585 198.862775 \r\nL 364.427131 196.243029 \r\n\" style=\"fill:none;stroke:#1f77b4;stroke-linecap:square;stroke-width:1.5;\"/>\r\n   </g>\r\n   <g id=\"line2d_68\">\r\n    <path clip-path=\"url(#p91d4f1e45f)\" d=\"M 60.063494 224.48199 \r\nL 161.51804 217.68874 \r\nL 262.972585 216.246291 \r\nL 364.427131 210.396883 \r\n\" style=\"fill:none;stroke:#ff7f0e;stroke-linecap:square;stroke-width:1.5;\"/>\r\n   </g>\r\n   <g id=\"patch_28\">\r\n    <path d=\"M 44.845313 225.893938 \r\nL 44.845313 194.831081 \r\n\" style=\"fill:none;stroke:#000000;stroke-linecap:square;stroke-linejoin:miter;stroke-width:0.8;\"/>\r\n   </g>\r\n   <g id=\"patch_29\">\r\n    <path d=\"M 379.645313 225.893938 \r\nL 379.645313 194.831081 \r\n\" style=\"fill:none;stroke:#000000;stroke-linecap:square;stroke-linejoin:miter;stroke-width:0.8;\"/>\r\n   </g>\r\n   <g id=\"patch_30\">\r\n    <path d=\"M 44.845313 225.893938 \r\nL 379.645313 225.893938 \r\n\" style=\"fill:none;stroke:#000000;stroke-linecap:square;stroke-linejoin:miter;stroke-width:0.8;\"/>\r\n   </g>\r\n   <g id=\"patch_31\">\r\n    <path d=\"M 44.845313 194.831081 \r\nL 379.645313 194.831081 \r\n\" style=\"fill:none;stroke:#000000;stroke-linecap:square;stroke-linejoin:miter;stroke-width:0.8;\"/>\r\n   </g>\r\n  </g>\r\n </g>\r\n <defs>\r\n  <clipPath id=\"pe3da283c47\">\r\n   <rect height=\"31.062857\" width=\"334.8\" x=\"44.845313\" y=\"8.453938\"/>\r\n  </clipPath>\r\n  <clipPath id=\"pb99b0481d0\">\r\n   <rect height=\"31.062857\" width=\"334.8\" x=\"44.845313\" y=\"45.729367\"/>\r\n  </clipPath>\r\n  <clipPath id=\"p8b727d14bf\">\r\n   <rect height=\"31.062857\" width=\"334.8\" x=\"44.845313\" y=\"83.004795\"/>\r\n  </clipPath>\r\n  <clipPath id=\"p9f4fb313bc\">\r\n   <rect height=\"31.062857\" width=\"334.8\" x=\"44.845313\" y=\"120.280224\"/>\r\n  </clipPath>\r\n  <clipPath id=\"pc2b335e6a1\">\r\n   <rect height=\"31.062857\" width=\"334.8\" x=\"44.845313\" y=\"157.555652\"/>\r\n  </clipPath>\r\n  <clipPath id=\"p91d4f1e45f\">\r\n   <rect height=\"31.062857\" width=\"334.8\" x=\"44.845313\" y=\"194.831081\"/>\r\n  </clipPath>\r\n </defs>\r\n</svg>\r\n",
      "image/png": "[encoded data removed]"
     },
     "metadata": {
      "needs_background": "light"
     }
    }
   ],
   "source": [
    "from matplotlib import pyplot as plt\n",
    "import matplotlib.style as style\n",
    "\n",
    "for i in range(0,6):\n",
    "    plt.subplot(6,1,i+1)\n",
    "    # plt.plot(x_test_clean_temp[1156,i,:,0])\n",
    "    plt.plot(x_train_vae[1,i,:,0])\n",
    "    plt.plot(x_recon_vae[1,i,:,0])"
   ]
  },
  {
   "cell_type": "code",
   "execution_count": null,
   "metadata": {},
   "outputs": [],
   "source": []
  },
  {
   "source": [
    "# Load and Plot NER"
   ],
   "cell_type": "markdown",
   "metadata": {}
  },
  {
   "cell_type": "code",
   "execution_count": null,
   "metadata": {},
   "outputs": [],
   "source": [
    "# LOAD RESULTS FILE\n",
    "sub_type = 'AB'\n",
    "n_type = 'flat'\n",
    "epochs = 30\n",
    "n_scale = 5\n",
    "test_scale = 1\n",
    "train_grp = 2\n",
    "latent_dim = 3\n",
    "feat_type = 'feat'\n",
    "foldername = 'models' + '_' + str(train_grp)\n",
    "filename = foldername + '/sae_' + n_type + '_' + str(n_scale) + '_' + feat_type + '_dim_' + str(latent_dim) + '_ep_' + str(epochs) + '_' + sub_type + '_' + str(test_scale)\n",
    "filename = foldername + '/svae_' + feat_type + '_dim_' + str(latent_dim) + '_' + sub_type\n",
    "results_file = filename + '_results.p'\n",
    "\n",
    "with open(results_file, 'rb') as f:\n",
    "    acc_all, acc_clean, acc_noise, ave_all, ave_clean, ave_noise = pickle.load(f)  "
   ]
  },
  {
   "cell_type": "code",
   "execution_count": null,
   "metadata": {},
   "outputs": [],
   "source": [
    "se = sem(acc_clean,axis=0)*100"
   ]
  },
  {
   "cell_type": "code",
   "execution_count": null,
   "metadata": {},
   "outputs": [],
   "source": [
    "from scipy.stats import sem\n",
    "from matplotlib import pyplot as plt\n",
    "import matplotlib.style as style\n",
    "\n",
    "style.use('default')\n",
    "# plot_file = 'figures/' + foldername + '_svae_' + feat_type + '_dim_' + str(latent_dim) +'_' + sub_type\n",
    "\n",
    "fontsize = 12\n",
    "labels = ['Baseline LDA','Noisy LDA','Aligned LDA','VAE']\n",
    "x1 = np.arange(len(labels))  # the label locations \n",
    "\n",
    "bar_width = 0.25\n",
    "# Set position of bar on X axis\n",
    "x2 = [x + bar_width for x in x1]\n",
    "x3 = [x + bar_width for x in x2]\n",
    "\n",
    "fig = plt.figure() \n",
    "ax = fig.add_axes([0,0,1,1])\n",
    "acc_all_mean = np.mean(acc_all[:,[2,3,1,0]],axis=0)*100\n",
    "acc_all_se = sem(acc_all[:,[2,3,1,0]],axis=0)*100\n",
    "acc_clean_mean = np.mean(acc_clean[:,[2,3,1,0]],axis=0)*100\n",
    "acc_clean_se = sem(acc_clean[:,[2,3,1,0]],axis=0)*100\n",
    "acc_noise_mean = np.mean(acc_noise[:,[2,3,1,0]],axis=0)*100\n",
    "acc_noise_se = sem(acc_noise[:,[2,3,1,0]],axis=0)*100\n",
    "\n",
    "ax.bar(x1,acc_all_mean,width=bar_width,label='All',linewidth=1,yerr=acc_all_se,edgecolor='black')\n",
    "ax.bar(x2,acc_clean_mean,width=bar_width,label='Clean',linewidth=1,yerr=acc_clean_se,edgecolor='black')\n",
    "ax.bar(x3,acc_noise_mean,width=bar_width,label='Noisy',linewidth=1,yerr=acc_noise_se,edgecolor='black')\n",
    "\n",
    "ax.set_ylabel('Accuracy')\n",
    "ax.set_ylim((0,100))\n",
    "ax.set_xticks(x2)\n",
    "ax.set_xticklabels(labels)\n",
    "# ax.errorbar(['VAE','Aligned','LDA','LDA Corrupt'],acc_all_mean,acc_all_se,fmt='none',ecolor='black')\n",
    "plt.rcParams.update({'font.size': fontsize})\n",
    "# plt.savefig(plot_file + '.svg',dpi=300)\n",
    "# plt.box(on=None)\n",
    "# for i, v in enumerate(temp):\n",
    "#     ax.text(i-.24, v-8, \"%.2f\" % v, color='black',fontsize=18)\n",
    "\n",
    "x = np.zeros([4,3])\n",
    "x[0,:] = np.arange(3)  # the label locations\n",
    "\n",
    "bar_width = 0.2\n",
    "# Set position of bar on X axis\n",
    "for i in range(0,3):\n",
    "    x[i+1,:] = [xi + bar_width for xi in x[i,:]]\n",
    "xmid = x[1]+x[2]\n",
    "\n",
    "\n",
    "fig = plt.figure(figsize=(5,2.5))\n",
    "ax = fig.add_axes([0,0,1,1])\n",
    "\n",
    "for i in range(0,4):\n",
    "    ax.bar(x[i,:],[acc_all_mean[i],acc_clean_mean[i],acc_noise_mean[i]],label=labels[i],width=bar_width,linewidth=.5,yerr=[acc_all_se[i],acc_clean_se[i],acc_noise_se[i]],edgecolor='white')\n",
    "\n",
    "ax.set_ylabel('Accuracy')\n",
    "ax.set_ylim((0,100))\n",
    "ax.set_xticks([i/2 for i in np.add(x[1,:],x[2,:])])\n",
    "ax.set_xticklabels(['Full','Clean','Corrupted'])\n",
    "# ax.errorbar(['VAE','Aligned','LDA','LDA Corrupt'],acc_all_mean,acc_all_se,fmt='none',ecolor='black')\n",
    "plt.rcParams.update({'font.size': fontsize})\n",
    "# plt.savefig(plot_file + '_2.svg',dpi=300)\n",
    "\n",
    "fig = plt.figure()\n",
    "ax = fig.add_axes([0,0,1,1])\n",
    "temp = np.mean(acc_clean[:,:],axis=0)*100\n",
    "se = sem(acc_clean,axis=0)*100\n",
    "ax.bar(['VAE','Aligned','LDA','LDA Corrupt'],temp)\n",
    "ax.set_ylabel('Accuracy')\n",
    "ax.set_ylim((0,100))\n",
    "ax.errorbar(['VAE','Aligned','LDA','LDA Corrupt'],temp,se,fmt='none',ecolor='black')\n",
    "plt.rcParams.update({'font.size': fontsize})\n",
    "# plt.box(on=None)\n",
    "for i, v in enumerate(temp):\n",
    "    ax.text(i-.24, v-8, \"%.2f\" % v, color='black',fontsize=18)\n",
    "\n",
    "fig = plt.figure()\n",
    "ax = fig.add_axes([0,0,1,1])\n",
    "temp = np.mean(acc_noise[:,:],axis=0)*100\n",
    "se = sem(acc_noise,axis=0)*100\n",
    "ax.bar(['VAE','Aligned','LDA','LDA Corrupt'],temp)\n",
    "ax.set_ylabel('Accuracy')\n",
    "ax.set_ylim((0,100))\n",
    "ax.errorbar(['VAE','Aligned','LDA','LDA Corrupt'],temp,se,fmt='none',ecolor='black')\n",
    "plt.rcParams.update({'font.size': fontsize})\n",
    "# plt.box(on=None)\n",
    "for i, v in enumerate(temp):\n",
    "    ax.text(i-.24, v-8, \"%.2f\" % v, color='black',fontsize=18)"
   ]
  },
  {
   "source": [
    "## Old loop"
   ],
   "cell_type": "markdown",
   "metadata": {}
  },
  {
   "cell_type": "code",
   "execution_count": null,
   "metadata": {},
   "outputs": [],
   "source": [
    "import tensorflow as tf\n",
    "import numpy as np\n",
    "import tensorflow.keras\n",
    "import os\n",
    "import pickle\n",
    "\n",
    "from sklearn.model_selection import train_test_split\n",
    "from sklearn.preprocessing import MinMaxScaler\n",
    "import sVAE_utils as svae\n",
    "import process_data as prd\n",
    "from lda import train_lda, predict, eval_lda\n",
    "from gpu import set_gpu\n",
    "from matplotlib import pyplot as plt\n",
    "import loop as lp\n",
    "\n",
    "set_gpu()"
   ]
  },
  {
   "cell_type": "code",
   "execution_count": null,
   "metadata": {},
   "outputs": [],
   "source": [
    "sub_type = 'AB'\n",
    "## LOAD DATA\n",
    "# Load raw EMG data\n",
    "feat,params,daq = prd.load_train_data('train_data_raw_'+ sub_type + '.mat')\n",
    "raw = prd.process_daq(daq,params)\n",
    "\n",
    "if sub_type == 'AB':\n",
    "    # Remove position 5\n",
    "    rem_ind = params[:,5]!=5\n",
    "    feat = feat[rem_ind,:]\n",
    "    raw = raw[:,:,rem_ind]\n",
    "    params = params[rem_ind,:]\n",
    "\n",
    "    # Remove load 2\n",
    "    rem_ind = params[:,3]!=5\n",
    "    feat = feat[rem_ind,:]\n",
    "    raw = raw[:,:,rem_ind]\n",
    "    params = params[rem_ind,:]\n",
    "    params[params[:,3]==6,3] = 5 \n",
    "\n",
    "# Reshape data for CNN architecture\n",
    "raw = raw[::2,:,:].transpose(2,1,0)\n",
    "feat_sq = feat.reshape(feat.shape[0],6,10)"
   ]
  },
  {
   "cell_type": "code",
   "execution_count": null,
   "metadata": {},
   "outputs": [],
   "source": [
    "# VAE hyperparameters\n",
    "batch_size = 128\n",
    "latent_dim = 3\n",
    "epochs = 30\n",
    "n_scale = 5\n",
    "n_type = 'gauss'\n",
    "feat_type = 'feat'\n",
    "# data_in = norm_sub(feat_sq, params)\n",
    "\n",
    "# initialize variable to collect accuracies\n",
    "acc_all = np.zeros([np.max(params[:,0]),4])\n",
    "acc_clean = np.zeros([np.max(params[:,0]),4])\n",
    "acc_noise = np.zeros([np.max(params[:,0]),4])\n",
    "\n",
    "# Loop through subjects\n",
    "for sub in range(1,2):#np.max(params[:,0])+1):\n",
    "    # Loop through training groups\n",
    "    for train_grp in range(2,3):#np.max(params[:,3])+1):\n",
    "        ind = (params[:,0] == sub) & (params[:,3] == train_grp)\n",
    "\n",
    "        # Check if training data exists\n",
    "        if np.sum(ind):\n",
    "            print('Running sub ' + str(sub) + ', model ' + str(train_grp))\n",
    "            # Set folder and file names\n",
    "            foldername = 'models' + '_' + str(train_grp)\n",
    "            if not os.path.exists(foldername):\n",
    "                os.makedirs(foldername)\n",
    "            filename = foldername + '/svae_' + n_type + '_' + str(n_scale) + '_' + feat_type + '_dim_' + str(latent_dim) + '_ep_' + str(epochs) + '_' + sub_type + str(sub)\n",
    "\n",
    "            # Split training and testing data\n",
    "            x_train, x_test, p_train, p_test = train_test_split(raw[ind,:,:], params[ind,:], test_size = 0.33, stratify=params[ind,4])\n",
    "\n",
    "            # # Initialize scaler\n",
    "            scaler = MinMaxScaler(feature_range=(-1,1))\n",
    "\n",
    "            # Load saved data\n",
    "            with open(filename + '.p', 'rb') as f:\n",
    "                scaler, vae_w, enc_w, dec_w, clf_w, w, c, w_aligned, c_aligned, x_train, x_test, p_train, p_test = pickle.load(f)   \n",
    "            \n",
    "            # # Get ground truth\n",
    "            y_train = p_train[:,4]\n",
    "            y_test = p_test[:,4]\n",
    "\n",
    "            # # Add noise and index EMG data\n",
    "            x_train_noise, x_train_clean, y_train_clean = prd.add_noise(x_train, p_train, sub, n_type,n_scale)\n",
    "            x_test_noise, x_test_clean, y_test_clean = prd.add_noise(x_test, p_test, sub, n_type,n_scale)\n",
    "\n",
    "            x_train_noise_temp = prd.extract_feats(x_train_noise).reshape((x_train_noise.shape[0],6,-1))[...,np.newaxis]\n",
    "            x_test_noise_temp = prd.extract_feats(x_test_noise).reshape((x_test_noise.shape[0],6,-1))[...,np.newaxis]\n",
    "            x_train_clean_temp = prd.extract_feats(x_train_clean).reshape((x_train_clean.shape[0],6,-1))[...,np.newaxis]\n",
    "            x_test_clean_temp = prd.extract_feats(x_test_clean).reshape((x_test_clean.shape[0],6,-1))[...,np.newaxis]\n",
    "            clean_size = int(np.size(x_test_clean,axis=0)/(np.size(x_test_clean,axis=1)+1))\n",
    "\n",
    "            ## SUBJECT SPECIFIC SUPERVISED VAE\n",
    "            # Scale data\n",
    "            x_train_noise_vae = scaler.fit_transform(x_train_noise_temp.reshape(x_train_noise_temp.shape[0],-1)).reshape(x_train_noise_temp.shape)\n",
    "            x_train_vae = scaler.transform(x_train_clean_temp.reshape(x_train_clean_temp.shape[0],-1)).reshape(x_train_clean_temp.shape)\n",
    "            x_test_vae = scaler.transform(x_test_noise_temp.reshape(x_test_noise_temp.shape[0],-1)).reshape(x_test_noise_temp.shape)\n",
    "\n",
    "            # # Build VAE\n",
    "            vae, encoder, decoder,clf = svae.build_svae_corrupt(latent_dim, y_train_clean.shape[1], input_type=feat_type)\n",
    "            # vae, encoder, decoder = svae.build_vae_corrupt(latent_dim, input_type=feat_type)\n",
    "\n",
    "            # # Fit VAE and get weights\n",
    "            # vae.fit(x_train_noise_vae, [x_train_vae,y_train_clean],epochs=epochs,batch_size=batch_size)\n",
    "            # vae.fit(x_train_noise_vae, x_train_vae, epochs=epochs, batch_size = batch_size)\n",
    "            \n",
    "            vae_w = vae.get_weights()\n",
    "            enc_w = encoder.get_weights()\n",
    "            dec_w = decoder.get_weights()\n",
    "            clf_w = clf.get_weights()\n",
    "\n",
    "            # Load and set weights             \n",
    "            vae.set_weights(vae_w)\n",
    "            encoder.set_weights(enc_w)\n",
    "            decoder.set_weights(dec_w)\n",
    "            clf.set_weights(clf_w)\n",
    "\n",
    "            # Test full VAE\n",
    "            y_pred, acc_all[sub-1,0] = svae.eval_vae(vae, x_test_vae, y_test_clean)\n",
    "            _, acc_noise[sub-1,0] = svae.eval_vae(vae,x_test_vae[clean_size:,:,:,:], y_test_clean[clean_size:,:])\n",
    "            _, acc_clean[sub-1,0] = svae.eval_vae(vae,x_test_vae[:clean_size,:,:,:], y_test_clean[:clean_size,:])\n",
    "\n",
    "            # Test encoder-LDA combo\n",
    "            _, _, x_train_aligned = encoder.predict(x_train_noise_vae)\n",
    "            _,_, x_test_aligned = encoder.predict(x_test_vae)\n",
    "            y_train_aligned = np.argmax(y_train_clean, axis=1)[...,np.newaxis]\n",
    "            y_test_aligned = np.argmax(y_test_clean, axis=1)[...,np.newaxis]\n",
    "            w_aligned, c_aligned = train_lda(x_train_aligned,y_train_aligned)\n",
    "            acc_all[sub-1,1] = eval_lda(w_aligned, c_aligned, x_test_aligned, y_test_aligned)\n",
    "            acc_noise[sub-1,1] = eval_lda(w_aligned, c_aligned, x_test_aligned[clean_size:,:], y_test_aligned[clean_size:,:])\n",
    "            acc_clean[sub-1,1] = eval_lda(w_aligned, c_aligned, x_test_aligned[:clean_size,:], y_test_aligned[:clean_size,:])\n",
    "\n",
    "            # Baseline LDA\n",
    "            x_train_lda = prd.extract_feats(x_train)\n",
    "            x_test_lda = prd.extract_feats(x_test_noise)\n",
    "            # x_test_lda = x_test_noise.reshape((x_test_noise.shape[0], x_test_noise.shape[1]*x_test_noise.shape[2]))\n",
    "            y_train_lda = y_train[...,np.newaxis] - 1\n",
    "            # y_test_lda = y_train[...,np.newaxis] - 1\n",
    "            y_test_lda = np.argmax(y_test_clean, axis=1)[...,np.newaxis]\n",
    "            w,c = train_lda(x_train_lda,y_train_lda)\n",
    "            acc_all[sub-1,2] = eval_lda(w, c, x_test_lda, y_test_lda)\n",
    "            acc_noise[sub-1,2] = eval_lda(w, c, x_test_lda[clean_size:,:], y_test_lda[clean_size:,:])\n",
    "            acc_clean[sub-1,2] = eval_lda(w, c, x_test_lda[:clean_size,:], y_test_lda[:clean_size,:])\n",
    "\n",
    "            # LDA trained with corrupted data\n",
    "            x_train_lda2 = prd.extract_feats(x_train_noise)\n",
    "            # x_train_lda2 = x_train_noise.reshape((x_train_noise.shape[0], x_train_noise.shape[1]*x_train_noise.shape[2]))\n",
    "            y_train_lda2 = np.argmax(y_train_clean, axis=1)[...,np.newaxis]\n",
    "            w,c = train_lda(x_train_lda2,y_train_lda2)\n",
    "            acc_all[sub-1,3] = eval_lda(w, c, x_test_lda, y_test_lda)\n",
    "            acc_noise[sub-1,3] = eval_lda(w, c, x_test_lda[clean_size:,:], y_test_lda[clean_size:,:])\n",
    "            acc_clean[sub-1,3] = eval_lda(w, c, x_test_lda[:clean_size,:], y_test_lda[:clean_size,:])\n",
    "\n",
    "            # Pickle variables\n",
    "            with open(filename  + '.p', 'wb') as f:\n",
    "                pickle.dump([scaler, vae_w, enc_w, dec_w, clf_w, w, c, w_aligned,c_aligned, x_train, x_test, p_train, p_test],f)"
   ]
  },
  {
   "cell_type": "code",
   "execution_count": null,
   "metadata": {},
   "outputs": [],
   "source": [
    "acc_all = acc_all[~np.all(acc_all == 0, axis=1)]\n",
    "acc_clean = acc_clean[~np.all(acc_clean == 0, axis=1)]\n",
    "acc_noise = acc_noise[~np.all(acc_noise == 0, axis=1)]\n",
    "\n",
    "ave_all = np.mean(acc_all,axis=0)\n",
    "ave_clean = np.mean(acc_clean,axis=0)\n",
    "ave_noise = np.mean(acc_noise,axis=0)\n",
    "\n",
    "# results_file = foldername + '/svae_' + feat_type + '_dim_' + str(latent_dim) +'_' + sub_type\n",
    "results_file = foldername + '/svae_' + n_type + '_' + str(n_scale) + '_' + feat_type + '_dim_' + str(latent_dim) + '_ep_' + str(epochs) + '_' + sub_type + str(sub)\n",
    "\n",
    "# Pickle variables\n",
    "with open(results_file  + '_results.p', 'wb') as f:\n",
    "    pickle.dump([acc_all, acc_clean, acc_noise, ave_all, ave_clean, ave_noise],f)"
   ]
  },
  {
   "source": [
    "# Denoising VAE Loop"
   ],
   "cell_type": "markdown",
   "metadata": {}
  },
  {
   "cell_type": "code",
   "execution_count": null,
   "metadata": {},
   "outputs": [],
   "source": [
    "test = x_train_noise.reshape((x_train_noise.shape[0],6,-1))[...,np.newaxis]"
   ]
  },
  {
   "cell_type": "code",
   "execution_count": null,
   "metadata": {
    "tags": []
   },
   "outputs": [],
   "source": [
    "## INITIALIZE VARIABLES ##\n",
    "\n",
    "# VAE hyperparameters\n",
    "batch_size = 128\n",
    "latent_dim = 5\n",
    "epochs = 30\n",
    "feat_type = 'raw'\n",
    "# data_in = norm_sub(feat_sq, params)\n",
    "\n",
    "# initialize variable to collect accuracies\n",
    "acc_all = np.zeros([np.max(params[:,0]),4])\n",
    "\n",
    "# Loop through subjects\n",
    "for sub in range(1,np.max(params[:,0])+1):\n",
    "    # Loop through training groups\n",
    "    for train_grp in range(2,3):#np.max(params[:,3])+1):\n",
    "        ind = (params[:,0] == sub) & (params[:,3] == train_grp)\n",
    "\n",
    "        # Check if training data exists\n",
    "        if np.sum(ind):\n",
    "            print('Running sub ' + str(sub) + ', model ' + str(train_grp))\n",
    "            # Set folder and file names\n",
    "            foldername = 'models' + '_' + str(train_grp)\n",
    "            if not os.path.exists(foldername):\n",
    "                os.makedirs(foldername)\n",
    "            filename = foldername + '/denoise_vae' + feat_type + '_' + sub_type + str(sub)\n",
    "\n",
    "            # Split training and testing data\n",
    "            x_train, x_test, p_train, p_test = train_test_split(raw[ind,:,:], params[ind,:], test_size = 0.33, stratify=params[ind,4])\n",
    "            y_train = p_train[:,4]\n",
    "            y_test = p_test[:,4]\n",
    "\n",
    "            # Add noise and index EMG data\n",
    "            x_train_noise, x_train_clean, y_train_clean = prd.add_noise(x_train, p_train, sub)\n",
    "            x_test_noise, x_test_clean, y_test_clean = prd.add_noise(x_test, p_test, sub)\n",
    "\n",
    "            # x_train_noise = extract_feats(x_train_noise)\n",
    "            # x_test_noise = extract_feats(x_test_noise)\n",
    "            # x_train_clean = extract_feats(x_train_clean)\n",
    "            # x_test_clean = extract_feats(x_test_clean)\n",
    "\n",
    "            ## SUBJECT SPECIFIC SUPERVISED VAE\n",
    "            # Scale data\n",
    "            scaler = MinMaxScaler(feature_range=(-1,1))\n",
    "            x_train_noise_vae = scaler.fit_transform(x_train_noise.reshape(x_train_noise.shape[0],-1)).reshape(x_train_noise.shape)\n",
    "            x_train_vae = scaler.transform(x_train_clean.reshape(x_train_clean.shape[0],-1)).reshape(x_train_clean.shape)\n",
    "            x_test_vae = scaler.transform(x_test_noise.reshape(x_test_noise.shape[0],-1)).reshape(x_test_noise.shape)\n",
    "\n",
    "            # Build VAE\n",
    "            vae, encoder, decoder = svae.build_vae_corrupt(latent_dim, input_type=feat_type)\n",
    "\n",
    "            # Fit VAE and get weights\n",
    "            vae.fit(x_train_noise_vae, x_train_vae,epochs=epochs,batch_size=batch_size)\n",
    "            \n",
    "            vae_w = vae.get_weights()\n",
    "            enc_w = encoder.get_weights()\n",
    "            dec_w = decoder.get_weights()\n",
    "\n",
    "            # Load and set weights \n",
    "            # with open(filename + '.p', 'rb') as f:\n",
    "            #     scaler, vae_w, enc_w, dec_w, w, c, w_aligned,c_aligned, w_recon, c_recon = pickle.load(f)               \n",
    "            # vae.set_weights(vae_w)\n",
    "            # encoder.set_weights(enc_w)\n",
    "            # decoder.set_weights(dec_w)\n",
    "\n",
    "            # Test VAE-LDA combo\n",
    "            x_train_recon = prd.extract_feats(vae.predict(x=x_train_noise_vae))\n",
    "            x_test_recon = prd.extract_feats(vae.predict(x=x_test_vae))\n",
    "            y_train_recon = np.argmax(y_train_clean, axis=1)[...,np.newaxis]\n",
    "            y_test_recon = np.argmax(y_test_clean, axis=1)[...,np.newaxis]\n",
    "            w_recon, c_recon = train_lda(x_train_recon,y_train_recon)\n",
    "            acc_all[sub-1,0] = eval_lda(w_recon, c_recon, x_test_recon, y_test_recon)\n",
    "\n",
    "            # Test encoder-LDA combo\n",
    "            _, _, x_train_aligned = encoder.predict(x_train_noise_vae)\n",
    "            _,_, x_test_aligned = encoder.predict(x_test_vae)\n",
    "            y_train_aligned = np.argmax(y_train_clean, axis=1)[...,np.newaxis]\n",
    "            y_test_aligned = np.argmax(y_test_clean, axis=1)[...,np.newaxis]\n",
    "            w_aligned, c_aligned = train_lda(x_train_aligned,y_train_aligned)\n",
    "            acc_all[sub-1,1] = eval_lda(w_aligned, c_aligned, x_test_aligned, y_test_aligned)\n",
    "\n",
    "            # Baseline LDA\n",
    "            x_train_lda = prd.extract_feats(x_train)\n",
    "            x_test_lda = prd.extract_feats(x_test_noise)\n",
    "            y_train_lda = y_train[...,np.newaxis] - 1\n",
    "            y_test_lda = np.argmax(y_test_clean, axis=1)[...,np.newaxis]\n",
    "            w,c = train_lda(x_train_lda,y_train_lda)\n",
    "            acc_all[sub-1,2] = eval_lda(w, c, x_test_lda, y_test_lda)\n",
    "\n",
    "            # LDA trained with corrupted data\n",
    "            x_train_lda2 = prd.extract_feats(x_train_noise_vae)\n",
    "            x_test_lda2 = prd.extract_feats(x_test_vae)\n",
    "            y_train_lda2 = np.argmax(y_train_clean, axis=1)[...,np.newaxis]\n",
    "            w,c = train_lda(x_train_lda2,y_train_lda2)\n",
    "            acc_all[sub-1,3] = eval_lda(w, c, x_test_lda2, y_test_lda)\n",
    "\n",
    "            # Pickle variables\n",
    "            with open(filename  + '.p', 'wb') as f:\n",
    "                pickle.dump([scaler, vae_w, enc_w, dec_w, w, c, w_aligned,c_aligned, w_recon, c_recon],f)"
   ]
  },
  {
   "cell_type": "code",
   "execution_count": null,
   "metadata": {},
   "outputs": [],
   "source": [
    "from scipy.stats import sem\n",
    "from matplotlib import pyplot as plt\n",
    "\n",
    "fig = plt.figure()\n",
    "ax = fig.add_axes([0,0,1,1])\n",
    "temp = np.mean(acc_all[:,:],axis=0)*100\n",
    "ax.bar(['VAE','Aligned','LDA','LDA Corrupt'],temp)\n",
    "ax.set_ylabel('Accuracy')\n",
    "ax.set_ylim((0,100))\n",
    "plt.box(on=None)\n",
    "for i, v in enumerate(temp):\n",
    "    ax.text(i-.15, v+.4, str(round(v,2)), color='black',fontsize=12)"
   ]
  },
  {
   "source": [
    "# Reconstruction"
   ],
   "cell_type": "markdown",
   "metadata": {}
  },
  {
   "cell_type": "code",
   "execution_count": null,
   "metadata": {},
   "outputs": [],
   "source": [
    "train_grp = 2\n",
    "# sub = 1\n",
    "feat_type = 'feat'\n",
    "foldername = 'models' + '_' + str(train_grp)\n",
    "filename = foldername + '/svae' + feat_type + '_' + sub_type + str(sub)\n",
    "with open(filename + '.p', 'rb') as f:\n",
    "    # scaler, vae_w, enc_w, dec_w, w, c, w_aligned,c_aligned, w_recon, c_recon = pickle.load(f)\n",
    "    scaler, vae_w, enc_w, dec_w, clf_w, w, c, w_aligned,c_aligned = pickle.load(f)\n",
    "\n",
    "vae, encoder, decoder,clf = svae.build_svae_corrupt(latent_dim, y_train_clean.shape[1], input_type=feat_type)\n",
    "vae.set_weights(vae_w)\n",
    "encoder.set_weights(enc_w)\n",
    "decoder.set_weights(dec_w)\n",
    "clf.set_weights(clf_w)\n",
    "x_noise = scaler.transform(x_train_noise.reshape(x_train_noise.shape[0],-1)).reshape(x_train_noise.shape)\n",
    "x_clean = scaler.transform(x_train_clean.reshape(x_train_clean.shape[0],-1)).reshape(x_train_clean.shape)\n",
    "x_t_noise = scaler.transform(x_test_noise.reshape(x_test_noise.shape[0],-1)).reshape(x_test_noise.shape)\n",
    "x_t_clean = scaler.transform(x_test_clean.reshape(x_test_clean.shape[0],-1)).reshape(x_test_clean.shape)\n",
    "recon = vae.predict(x_t_noise)[0]"
   ]
  },
  {
   "cell_type": "code",
   "execution_count": null,
   "metadata": {},
   "outputs": [],
   "source": [
    "i +=1\n",
    "while (np.sum(np.abs(x_t_noise[i,:,:] - x_t_clean[i,:,:])<1e-7) == 24) | (np.argmax(y_train_clean[i,:]) == 0):    \n",
    "    i+=1\n",
    "i \n"
   ]
  },
  {
   "cell_type": "code",
   "execution_count": null,
   "metadata": {},
   "outputs": [],
   "source": [
    "test3 = np.squeeze(np.abs(x_t_noise[i,:,:] - x_t_clean[i,:,:]))"
   ]
  },
  {
   "cell_type": "code",
   "execution_count": null,
   "metadata": {},
   "outputs": [],
   "source": [
    "test1 = np.squeeze(x_t_clean[i,:,:])\n",
    "test2 = np.squeeze(x_t_noise[i,:,:])"
   ]
  },
  {
   "cell_type": "code",
   "execution_count": null,
   "metadata": {},
   "outputs": [],
   "source": [
    "for ch in range(0,6):\n",
    "    plt.subplot(6,1,ch+1)\n",
    "    plt.plot(x_test_clean[i,ch,:])\n",
    "    plt.plot(x_test_noise[i,ch,:])\n",
    "    # plt.plot(x_noise[i,ch,:])\n",
    "    # plt.ylim(-1,1)\n",
    "\n",
    "\n",
    "# plt.subplot(x_test_vae[0,0,:])"
   ]
  },
  {
   "cell_type": "code",
   "execution_count": null,
   "metadata": {},
   "outputs": [],
   "source": [
    "for ch in range(0,6):\n",
    "    plt.subplot(6,1,ch+1)\n",
    "    plt.plot(x_t_clean[i,ch,:])\n",
    "    plt.plot(x_t_noise[i,ch,:])\n",
    "    plt.ylim(-1,1)\n"
   ]
  },
  {
   "cell_type": "code",
   "execution_count": null,
   "metadata": {},
   "outputs": [],
   "source": [
    "# recon_inv = scaler.inverse_transform(recon.reshape(recon.shape[0],-1)).reshape(recon.shape)\n",
    "for ch in range(0,6):\n",
    "    plt.subplot(6,1,ch+1)\n",
    "    plt.plot(x_t_clean[i,ch,:])\n",
    "    plt.plot(recon[i,ch,:])\n",
    "    # plt.plot(x_t_noise[i,ch,:])\n",
    "    plt.ylim(-1,1)"
   ]
  },
  {
   "cell_type": "code",
   "execution_count": null,
   "metadata": {},
   "outputs": [],
   "source": [
    "bool = recon[3500,1,:] == x_1[3500,1,:]"
   ]
  },
  {
   "source": [
    "# Transfer Learning"
   ],
   "cell_type": "markdown",
   "metadata": {}
  },
  {
   "cell_type": "code",
   "execution_count": null,
   "metadata": {
    "tags": [
     "outputPrepend"
    ]
   },
   "outputs": [],
   "source": [
    "## INITIALIZE VARIABLES ##\n",
    "\n",
    "# VAE hyperparameters\n",
    "batch_size = 128\n",
    "latent_dim = 12\n",
    "epochs = 25\n",
    "feat_type = 'feat'\n",
    "# data_in = norm_sub(feat_sq, params)\n",
    "\n",
    "loo = np.ones([np.max(params[:,0]),1])\n",
    "# loo[1,0] = 1\n",
    "\n",
    "for sub in range(1,np.max(params[:,0])+1):\n",
    "    for train_grp in range(3,4):#np.max(params[:,3])+1):\n",
    "        foldername = 'models' + '_' + str(train_grp)\n",
    "\n",
    "        if not os.path.exists(foldername):\n",
    "            os.makedirs(foldername)\n",
    "\n",
    "\n",
    "        filename = foldername + '/vae_grp4_lin_' + feat_type + '_AB' + str(sub)\n",
    "\n",
    "        # Index EMG data\n",
    "        x_train, y_train = sub_split(data_in,params,sub,train_grp)\n",
    "        x_train_loo, y_train_loo = sub_split_loo(data_in,params,sub,train_grp)\n",
    "        x_train, y_train = sub_split_stat(data_in,params,sub,train_grp)\n",
    "\n",
    "        # Check if training data exists\n",
    "        if (type(x_train) == np.ndarray) & (type(x_train_loo) == np.ndarray):\n",
    "            print('Running sub ' + str(sub) + ', model ' + str(train_grp))\n",
    "            \n",
    "            ## SUBJECT SPECIFIC SUPERVISED VAE\n",
    "            # Scale data\n",
    "            scaler = MinMaxScaler(feature_range=(-1,1))\n",
    "            x_train = scaler.fit_transform(x_train.reshape(x_train.shape[0],-1)).reshape(x_train.shape)\n",
    "\n",
    "            # Build VAE\n",
    "            vae, encoder, decoder, clf = build_vae(latent_dim, input_type=feat_type)\n",
    "\n",
    "            # # Fit and save VAE\n",
    "            vae.fit(x_train, {'clf': y_train},epochs=epochs,batch_size=batch_size)\n",
    "            vae_w = vae.get_weights()\n",
    "            enc_w = encoder.get_weights()\n",
    "            dec_w = decoder.get_weights()\n",
    "            clf_w = clf.get_weights()\n",
    "\n",
    "            ## LEAVE ONE OUT SUPERVISED VAE\n",
    "            if loo[sub-1,0]:\n",
    "                # Scale data\n",
    "                scaler_loo = MinMaxScaler(feature_range=(-1,1))\n",
    "                x_train_loo = scaler_loo.fit_transform(x_train_loo.reshape(x_train_loo.shape[0],-1)).reshape(x_train_loo.shape)\n",
    "\n",
    "                # Build VAE\n",
    "                vae_loo, encoder_loo, decoder_loo, clf_loo = build_vae(latent_dim, input_type=feat_type)\n",
    "\n",
    "                # # Fit and save VAE\n",
    "                vae_loo.fit(x_train_loo, {'clf': y_train_loo},epochs=epochs,batch_size=batch_size)\n",
    "                vae_loo_w = vae_loo.get_weights()\n",
    "                enc_loo_w = encoder_loo.get_weights()\n",
    "                dec_loo_w = decoder_loo.get_weights()\n",
    "                clf_loo_w = clf_loo.get_weights()\n",
    "\n",
    "                loo[sub-1,0] = 0\n",
    "            else:\n",
    "                loo_file = 'models_3/vae_grp4_lin_' + feat_type + '_AB2'# + str(sub)\n",
    "                with open(loo_file + '.p', 'rb') as f:\n",
    "                    _, _, _, _, _, scaler_loo, vae_loo_w, enc_loo_w, dec_loo_w, clf_loo_w, _, _, _, _, _, _, _, _, _, _ = pickle.load(f)\n",
    "\n",
    "            ## BASELINE LDA\n",
    "            # Train LDA classifier\n",
    "            x_train_lda, y_train_lda = sub_split(feat, params, sub, train_grp)\n",
    "            x_train_lda, y_train_lda = sub_split_stat(feat, params, sub, train_grp)\n",
    "            w,c = train_lda(x_train_lda,y_train_lda)\n",
    "\n",
    "            ## SUPERVISED VAE ALIGNED\n",
    "            # Align\n",
    "            # with open(filename + '.p', 'rb') as f:\n",
    "            #     scaler, vae_w, enc_w, dec_w, clf_w, scaler_loo, vae_loo_w, enc_loo_w, dec_loo_w, clf_loo_w, w, c, w_aligned, c_aligned = pickle.load(f)\n",
    "\n",
    "            # encoder.set_weights(enc_w)\n",
    "            _, _, x_train_aligned = encoder.predict(x_train)\n",
    "            y_train_aligned = np.argmax(y_train, axis=1)[...,np.newaxis]\n",
    "            w_aligned, c_aligned = train_lda(x_train_aligned,y_train_aligned)\n",
    "\n",
    "            ## PNN TEST\n",
    "            vae_t, encoder_t, decoder_t, clf_t = build_pnn(vae_loo_w, latent_dim, input_type=feat_type)\n",
    "            vae_t.fit(x_train, {'t_clf': y_train}, epochs=25,batch_size=batch_size)\n",
    "            vae_t_w = vae_t.get_weights()\n",
    "            enc_t_w = encoder_t.get_weights()\n",
    "            dec_t_w = decoder_t.get_weights()\n",
    "            clf_t_w = clf_t.get_weights()\n",
    "\n",
    "            ## PNN ALIGNED\n",
    "            _, _, x_train_aligned = encoder_t.predict(x_train)\n",
    "            y_train_aligned = np.argmax(y_train, axis=1)[...,np.newaxis]\n",
    "            w_t, c_t = train_lda(x_train_aligned,y_train_aligned)\n",
    "\n",
    "            # Pickle variables\n",
    "            with open(filename  + '.p', 'wb') as f:\n",
    "                pickle.dump([scaler, vae_w, enc_w, dec_w, clf_w, scaler_loo, vae_loo_w, enc_loo_w, dec_loo_w, clf_loo_w, vae_t_w, enc_t_w, dec_t_w, clf_t_w, w, c, w_aligned,c_aligned, w_t, c_t],f)"
   ]
  },
  {
   "cell_type": "code",
   "execution_count": null,
   "metadata": {
    "tags": []
   },
   "outputs": [],
   "source": [
    "## INITIALIZE VARIABLES ##\n",
    "\n",
    "# VAE hyperparameters\n",
    "batch_size = 128\n",
    "latent_dim = 12\n",
    "epochs = 50\n",
    "\n",
    "feat_type = 'feat'\n",
    "data_in = feat_sq\n",
    "# data_in = norm_sub(feat_sq,params)\n",
    "\n",
    "sub_ave = np.zeros([6,1])\n",
    "for sub in range(1,np.max(params[:,0])+1):\n",
    "    for train_grp in range(3,4):#np.max(params[:,3])+1):\n",
    "        foldername = 'models' + '_' + str(train_grp)\n",
    "        filename = foldername + '/vae_grp4_lin_' + feat_type + '_AB' + str(sub)\n",
    "\n",
    "        # Check if training data exists\n",
    "        if os.path.exists(filename + '.p'):\n",
    "            print('Running sub ' + str(sub) + ', model ' + str(train_grp))\n",
    "            with open(filename + '.p', 'rb') as f:\n",
    "                scaler, vae_w, enc_w, dec_w, clf_w, scaler_loo, vae_loo_w, enc_loo_w, dec_loo_w, clf_loo_w, vae_t_w, enc_t_w, dec_t_w, clf_t_w, w, c, w_aligned, c_aligned, w_t, c_t = pickle.load(f)\n",
    "            # Build VAE\n",
    "            vae, encoder, decoder, clf = build_vae(latent_dim, input_type=feat_type)\n",
    "            vae_loo, encoder_loo, decoder_loo, clf_loo = build_vae(latent_dim, input_type=feat_type)\n",
    "            vae_t, encoder_t, decoder_t, clf_t = build_pnn(vae_loo_w, latent_dim, input_type=feat_type)\n",
    "\n",
    "            ave_all = np.zeros([6,1])\n",
    "            ave_count = 0\n",
    "            for test_grp in range(3,4):#np.max(params[:,3])+1):\n",
    "                # Index and scale test data\n",
    "                x_test_raw, y_test = sub_split(data_in, params, sub, test_grp)\n",
    "                if type(x_test_raw) == np.ndarray:\n",
    "                    x_test = scaler.transform(x_test_raw.reshape(x_test_raw.shape[0],-1)).reshape(x_test_raw.shape)\n",
    "                    x_test_loo = scaler_loo.transform(x_test_raw.reshape(x_test_raw.shape[0],-1)).reshape(x_test_raw.shape)\n",
    "\n",
    "                    # Evaluate VAE predictions\n",
    "                    vae.set_weights(vae_w)\n",
    "                    y_pred, acc_vae = eval_vae(vae, x_test, y_test)\n",
    "\n",
    "                    # Evaluate LDA predictions\n",
    "                    x_test_lda, y_test_lda = sub_split(feat, params, sub, test_grp)\n",
    "                    acc_lda = eval_lda(w, c, x_test_lda, y_test_lda)\n",
    "\n",
    "                    # Evaluate LDA aligned predictions\n",
    "                    encoder.set_weights(enc_w)\n",
    "                    _, _, x_test_aligned = encoder.predict(x_test)\n",
    "                    y_test_aligned = np.argmax(y_test, axis=1)[...,np.newaxis]\n",
    "                    acc_lda_aligned = eval_lda(w_aligned, c_aligned, x_test_aligned, y_test_aligned)\n",
    "\n",
    "                    # Evaluate VAE-LOO predictions\n",
    "                    vae_loo.set_weights(vae_loo_w)\n",
    "                    y_pred, acc_vae_loo = eval_vae(vae_loo, x_test_loo, y_test)\n",
    "\n",
    "                    # Evaluate PNN predictions\n",
    "                    vae_t.set_weights(vae_t_w)\n",
    "                    y_pred, acc_vae_t = eval_vae(vae_t, x_test, y_test)\n",
    "\n",
    "                    # Evaluate PNN-LDA aligned predictions\n",
    "                    encoder_t.set_weights(enc_t_w)\n",
    "                    _, _, x_test_aligned = encoder_t.predict(x_test)\n",
    "                    y_test_aligned = np.argmax(y_test, axis=1)[...,np.newaxis]\n",
    "                    acc_pnn_aligned = eval_lda(w_t, c_t, x_test_aligned, y_test_aligned)\n",
    "                    \n",
    "                    if (test_grp == 4) or (test_grp == 2):\n",
    "                        ave_all += np.array([acc_vae, acc_lda, acc_lda_aligned, acc_vae_loo, acc_vae_t, acc_pnn_aligned]).reshape(6,1)\n",
    "                        ave_count += 1\n",
    "                    # print(ave_all)\n",
    "                    print(str(test_grp) + ': vae - ' + \"%.2f\" % acc_vae + ', lda - ' + \"%.2f\" % acc_lda + ', lda aligned - ' \n",
    "                    + \"%.2f\" % acc_lda_aligned + ', vae loo - ' + \"%.2f\" % acc_vae_loo + ', pnn - ' + \"%.2f\" % acc_vae_t + ', pnn aligned - ' + \"%.2f\" % acc_pnn_aligned)\n",
    "                    # print(str(test_grp) + ': lda - ' + \"%.2f\" % acc_lda + ', pnn - ' + \"%.2f\" % acc_vae_t + ', pnn aligned - ' + \"%.2f\" % acc_pnn_aligned)\n",
    "            ave_all /= ave_count\n",
    "            sub_ave += ave_all\n",
    "sub_ave /=8\n",
    "print(sub_ave)"
   ]
  },
  {
   "cell_type": "code",
   "execution_count": null,
   "metadata": {
    "tags": []
   },
   "outputs": [],
   "source": [
    "sub_ave*= 8\n",
    "sub_ave/= 13\n",
    "print(sub_ave)"
   ]
  },
  {
   "cell_type": "code",
   "execution_count": null,
   "metadata": {
    "tags": []
   },
   "outputs": [],
   "source": [
    "sub = 2\n",
    "train_grp = 4\n",
    "data_in = feat_sq\n",
    "feat_type = 'feat'\n",
    "latent_dim = 10\n",
    "batch_size = 128\n",
    "\n",
    "x_train_loo, y_train_loo = sub_split_loo(data_in,params,sub,train_grp)\n",
    "scaler_loo = MinMaxScaler(feature_range=(-1,1))\n",
    "x_train_loo = scaler_loo.fit_transform(x_train_loo.reshape(x_train_loo.shape[0],-1)).reshape(x_train_loo.shape)\n",
    "\n",
    "# Build VAE\n",
    "vae_loo, encoder_loo, decoder_loo, clf_loo = build_vae(latent_dim, input_type=feat_type)\n",
    "\n",
    "# # Fit and save VAE\n",
    "vae_loo.fit(x_train_loo, {'clf': y_train_loo},epochs=100,batch_size=batch_size, validation_split = .1)\n",
    "vae_loo_w = vae_loo.get_weights()\n",
    "enc_loo_w = encoder_loo.get_weights()\n",
    "dec_loo_w = decoder_loo.get_weights()\n",
    "clf_loo_w = clf_loo.get_weights()\n",
    "\n",
    "x_test_raw, y_test = sub_split(data_in, params, sub, train_grp)\n",
    "x_test_loo = scaler_loo.transform(x_test_raw.reshape(x_test_raw.shape[0],-1)).reshape(x_test_raw.shape)\n",
    "y_pred, acc_vae_loo = eval_vae(vae_loo, x_test_loo, y_train_loo)"
   ]
  },
  {
   "cell_type": "code",
   "execution_count": null,
   "metadata": {},
   "outputs": [],
   "source": [
    "y_pred, acc_vae_loo = eval_vae(vae_loo, x_test_loo, y_test)\n",
    "acc_vae_loo"
   ]
  },
  {
   "cell_type": "code",
   "execution_count": null,
   "metadata": {},
   "outputs": [],
   "source": [
    "ave_all = np.zeros([6,1])\n",
    "ave_all += np.array([1,2,3,4,5,6]).reshape(6,1)"
   ]
  },
  {
   "cell_type": "code",
   "execution_count": null,
   "metadata": {},
   "outputs": [],
   "source": [
    "sub_ave*=14\n",
    "sub_ave/=13\n",
    "print()"
   ]
  },
  {
   "cell_type": "code",
   "execution_count": null,
   "metadata": {
    "tags": []
   },
   "outputs": [],
   "source": [
    "print(sub_ave)"
   ]
  },
  {
   "cell_type": "code",
   "execution_count": null,
   "metadata": {},
   "outputs": [],
   "source": [
    "vae, encoder, decoder, clf = build_vae(12, input_type='feat')\n"
   ]
  },
  {
   "cell_type": "code",
   "execution_count": null,
   "metadata": {},
   "outputs": [],
   "source": [
    "from tensorflow.keras.utils import plot_model\n",
    "\n",
    "plot_model(vae, to_file='vae.png', show_shapes=True)\n"
   ]
  },
  {
   "source": [
    "# Segment"
   ],
   "cell_type": "markdown",
   "metadata": {}
  },
  {
   "cell_type": "code",
   "execution_count": null,
   "metadata": {},
   "outputs": [],
   "source": [
    "## INITIALIZE VARIABLES ##\n",
    "# Data variables\n",
    "sub = 14\n",
    "train_grp = 2\n",
    "test_grp = 3\n",
    "\n",
    "# VAE hyperparameters\n",
    "batch_size = 64\n",
    "latent_dim = 10\n",
    "epochs = 10\n",
    "filename = 'vae_raw.h5'"
   ]
  },
  {
   "cell_type": "code",
   "execution_count": null,
   "metadata": {},
   "outputs": [],
   "source": [
    "out, orig, sub_params = add_noise(raw,params,1)"
   ]
  },
  {
   "cell_type": "code",
   "execution_count": null,
   "metadata": {},
   "outputs": [],
   "source": [
    "# Index EMG data\n",
    "x_train, y_train, x_test, y_test = sub_train_test(raw,params,sub,train_grp,test_grp)\n",
    "\n",
    "# Scale data\n",
    "scaler = MinMaxScaler(feature_range=(-1,1))\n",
    "x_train = scaler.fit_transform(x_train.reshape(x_train.shape[0],-1)).reshape(x_train.shape)\n",
    "x_test = scaler.transform(x_test.reshape(x_test.shape[0],-1)).reshape(x_test.shape)\n",
    "\n",
    "# Build VAE\n",
    "vae, encoder, decoder, clf = build_vae(latent_dim, input_type='raw')\n",
    "\n",
    "# Fit and save VAE\n",
    "vae.fit(x_train, {'clf': y_train},epochs=epochs,batch_size=batch_size)\n",
    "vae.save_weights(filename)"
   ]
  },
  {
   "cell_type": "code",
   "execution_count": null,
   "metadata": {},
   "outputs": [],
   "source": [
    "# Index and scale test data\n",
    "x_test, y_test = sub_split(raw, params, sub, test_grp)\n",
    "x_test = scaler.transform(x_test.reshape(x_test.shape[0],-1)).reshape(x_test.shape)\n",
    "\n",
    "# Evaluate VAE predictions\n",
    "y_pred, acc = eval_vae(vae, x_test, y_test)\n",
    "print(acc)"
   ]
  },
  {
   "cell_type": "code",
   "execution_count": null,
   "metadata": {},
   "outputs": [],
   "source": [
    "# Train LDA classifier\n",
    "x_train_lda, y_train_lda, x_test_lda, y_test_lda = sub_train_test(feat, params, sub, train_grp, test_grp)\n",
    "w,c = train_lda(x_train_lda,y_train_lda)"
   ]
  },
  {
   "cell_type": "code",
   "execution_count": null,
   "metadata": {},
   "outputs": [],
   "source": [
    "# Evaluate LDA predictions\n",
    "x_test_lda, y_test_lda = sub_split(feat, params, sub, test_grp)\n",
    "out = predict(x_test_lda,w,c)\n",
    "np.sum(out.reshape(y_test_lda.shape) == y_test_lda)/y_test_lda.shape[0]"
   ]
  }
 ]
}